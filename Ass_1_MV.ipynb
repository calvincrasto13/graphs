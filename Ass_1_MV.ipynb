{
  "cells": [
    {
      "cell_type": "markdown",
      "metadata": {
        "id": "view-in-github",
        "colab_type": "text"
      },
      "source": [
        "<a href=\"https://colab.research.google.com/github/calvincrasto13/graphs/blob/main/Ass_1_MV.ipynb\" target=\"_parent\"><img src=\"https://colab.research.google.com/assets/colab-badge.svg\" alt=\"Open In Colab\"/></a>"
      ]
    },
    {
      "cell_type": "code",
      "source": [
        "!wget https://developer.download.nvidia.com/compute/cuda/11.3.0/local_installers/cuda_11.3.0_465.19.01_linux.run\n",
        "!chmod +x cuda_11.3.0_465.19.01_linux.run\n",
        "!./cuda_11.3.0_465.19.01_linux.run --silent --override --toolkit\n",
        "import os\n",
        "os.environ['PATH'] += ':/usr/local/cuda-11.3/bin'\n",
        "os.environ['LD_LIBRARY_PATH'] += ':/usr/local/cuda-11.3/lib64'"
      ],
      "metadata": {
        "colab": {
          "base_uri": "https://localhost:8080/"
        },
        "id": "s30V0G466GTL",
        "outputId": "b2df808d-26a4-4ed8-863a-4dd60486adc4"
      },
      "execution_count": null,
      "outputs": [
        {
          "output_type": "stream",
          "name": "stdout",
          "text": [
            "--2024-02-17 18:27:23--  https://developer.download.nvidia.com/compute/cuda/11.3.0/local_installers/cuda_11.3.0_465.19.01_linux.run\n",
            "Resolving developer.download.nvidia.com (developer.download.nvidia.com)... 152.195.19.142\n",
            "Connecting to developer.download.nvidia.com (developer.download.nvidia.com)|152.195.19.142|:443... connected.\n",
            "HTTP request sent, awaiting response... 200 OK\n",
            "Length: 3029622552 (2.8G) [application/octet-stream]\n",
            "Saving to: ‘cuda_11.3.0_465.19.01_linux.run’\n",
            "\n",
            "cuda_11.3.0_465.19. 100%[===================>]   2.82G   240MB/s    in 12s     \n",
            "\n",
            "2024-02-17 18:27:35 (242 MB/s) - ‘cuda_11.3.0_465.19.01_linux.run’ saved [3029622552/3029622552]\n",
            "\n"
          ]
        }
      ]
    },
    {
      "cell_type": "code",
      "source": [
        "!sudo apt-get -y install cuda-11-3"
      ],
      "metadata": {
        "colab": {
          "base_uri": "https://localhost:8080/"
        },
        "id": "7mZWGPwm6NO4",
        "outputId": "b44d3a62-4e18-4e23-9f57-38d2b865204d"
      },
      "execution_count": null,
      "outputs": [
        {
          "output_type": "stream",
          "name": "stdout",
          "text": [
            "Reading package lists... Done\n",
            "Building dependency tree... Done\n",
            "Reading state information... Done\n",
            "E: Unable to locate package cuda-11-3\n"
          ]
        }
      ]
    },
    {
      "cell_type": "code",
      "execution_count": null,
      "metadata": {
        "colab": {
          "base_uri": "https://localhost:8080/"
        },
        "id": "kUI-G2fEK2hj",
        "outputId": "e4f4444e-e64d-4289-ef3b-6c4dbf80f206"
      },
      "outputs": [
        {
          "output_type": "stream",
          "name": "stdout",
          "text": [
            "Looking in links: https://download.pytorch.org/whl/cu117/torch_stable.html\n",
            "Collecting torch==1.13.1+cu117\n",
            "  Downloading https://download.pytorch.org/whl/cu117/torch-1.13.1%2Bcu117-cp310-cp310-linux_x86_64.whl (1801.8 MB)\n",
            "\u001b[2K     \u001b[90m━━━━━━━━━━━━━━━━━━━━━━━━━━━━━━━━━━━━━━━━\u001b[0m \u001b[32m1.8/1.8 GB\u001b[0m \u001b[31m693.3 kB/s\u001b[0m eta \u001b[36m0:00:00\u001b[0m\n",
            "\u001b[?25hRequirement already satisfied: typing-extensions in /usr/local/lib/python3.10/dist-packages (from torch==1.13.1+cu117) (4.9.0)\n",
            "Installing collected packages: torch\n",
            "  Attempting uninstall: torch\n",
            "    Found existing installation: torch 2.1.0+cu121\n",
            "    Uninstalling torch-2.1.0+cu121:\n",
            "      Successfully uninstalled torch-2.1.0+cu121\n",
            "\u001b[31mERROR: pip's dependency resolver does not currently take into account all the packages that are installed. This behaviour is the source of the following dependency conflicts.\n",
            "torchaudio 2.1.0+cu121 requires torch==2.1.0, but you have torch 1.13.1+cu117 which is incompatible.\n",
            "torchdata 0.7.0 requires torch==2.1.0, but you have torch 1.13.1+cu117 which is incompatible.\n",
            "torchtext 0.16.0 requires torch==2.1.0, but you have torch 1.13.1+cu117 which is incompatible.\n",
            "torchvision 0.16.0+cu121 requires torch==2.1.0, but you have torch 1.13.1+cu117 which is incompatible.\u001b[0m\u001b[31m\n",
            "\u001b[0mSuccessfully installed torch-1.13.1+cu117\n"
          ]
        }
      ],
      "source": [
        "!pip install torch==1.13.1+cu117 -f https://download.pytorch.org/whl/cu117/torch_stable.html"
      ]
    },
    {
      "cell_type": "code",
      "execution_count": null,
      "metadata": {
        "colab": {
          "base_uri": "https://localhost:8080/"
        },
        "id": "CI_aecyghUIn",
        "outputId": "445abaa6-3bc0-44ac-df26-6015654fece3"
      },
      "outputs": [
        {
          "output_type": "stream",
          "name": "stdout",
          "text": [
            "Looking in links: https://download.pytorch.org/whl/cu117/torch_stable.html\n",
            "Collecting torchvision==0.14.1+cu117\n",
            "  Downloading https://download.pytorch.org/whl/cu117/torchvision-0.14.1%2Bcu117-cp310-cp310-linux_x86_64.whl (24.3 MB)\n",
            "\u001b[2K     \u001b[90m━━━━━━━━━━━━━━━━━━━━━━━━━━━━━━━━━━━━━━━━\u001b[0m \u001b[32m24.3/24.3 MB\u001b[0m \u001b[31m11.2 MB/s\u001b[0m eta \u001b[36m0:00:00\u001b[0m\n",
            "\u001b[?25hRequirement already satisfied: typing-extensions in /usr/local/lib/python3.10/dist-packages (from torchvision==0.14.1+cu117) (4.9.0)\n",
            "Requirement already satisfied: numpy in /usr/local/lib/python3.10/dist-packages (from torchvision==0.14.1+cu117) (1.25.2)\n",
            "Requirement already satisfied: requests in /usr/local/lib/python3.10/dist-packages (from torchvision==0.14.1+cu117) (2.31.0)\n",
            "Requirement already satisfied: torch==1.13.1 in /usr/local/lib/python3.10/dist-packages (from torchvision==0.14.1+cu117) (1.13.1+cu117)\n",
            "Requirement already satisfied: pillow!=8.3.*,>=5.3.0 in /usr/local/lib/python3.10/dist-packages (from torchvision==0.14.1+cu117) (9.4.0)\n",
            "Requirement already satisfied: charset-normalizer<4,>=2 in /usr/local/lib/python3.10/dist-packages (from requests->torchvision==0.14.1+cu117) (3.3.2)\n",
            "Requirement already satisfied: idna<4,>=2.5 in /usr/local/lib/python3.10/dist-packages (from requests->torchvision==0.14.1+cu117) (3.6)\n",
            "Requirement already satisfied: urllib3<3,>=1.21.1 in /usr/local/lib/python3.10/dist-packages (from requests->torchvision==0.14.1+cu117) (2.0.7)\n",
            "Requirement already satisfied: certifi>=2017.4.17 in /usr/local/lib/python3.10/dist-packages (from requests->torchvision==0.14.1+cu117) (2024.2.2)\n",
            "Installing collected packages: torchvision\n",
            "  Attempting uninstall: torchvision\n",
            "    Found existing installation: torchvision 0.16.0+cu121\n",
            "    Uninstalling torchvision-0.16.0+cu121:\n",
            "      Successfully uninstalled torchvision-0.16.0+cu121\n",
            "Successfully installed torchvision-0.14.1+cu117\n"
          ]
        }
      ],
      "source": [
        "!pip install torchvision==0.14.1+cu117 -f https://download.pytorch.org/whl/cu117/torch_stable.html"
      ]
    },
    {
      "cell_type": "code",
      "execution_count": null,
      "metadata": {
        "colab": {
          "base_uri": "https://localhost:8080/"
        },
        "id": "TTzL74vVLDIl",
        "outputId": "00546697-b8c1-4150-f832-9bb7c302e459"
      },
      "outputs": [
        {
          "output_type": "stream",
          "name": "stdout",
          "text": [
            "Cloning into 'mmpretrain'...\n",
            "remote: Enumerating objects: 17495, done.\u001b[K\n",
            "remote: Counting objects: 100% (152/152), done.\u001b[K\n",
            "remote: Compressing objects: 100% (97/97), done.\u001b[K\n",
            "remote: Total 17495 (delta 62), reused 118 (delta 53), pack-reused 17343\u001b[K\n",
            "Receiving objects: 100% (17495/17495), 13.82 MiB | 16.99 MiB/s, done.\n",
            "Resolving deltas: 100% (12140/12140), done.\n",
            "Collecting openmim\n",
            "  Downloading openmim-0.3.9-py2.py3-none-any.whl (52 kB)\n",
            "\u001b[2K     \u001b[90m━━━━━━━━━━━━━━━━━━━━━━━━━━━━━━━━━━━━━━━━\u001b[0m \u001b[32m52.7/52.7 kB\u001b[0m \u001b[31m1.5 MB/s\u001b[0m eta \u001b[36m0:00:00\u001b[0m\n",
            "\u001b[?25hRequirement already satisfied: Click in /usr/local/lib/python3.10/dist-packages (from openmim) (8.1.7)\n",
            "Collecting colorama (from openmim)\n",
            "  Downloading colorama-0.4.6-py2.py3-none-any.whl (25 kB)\n",
            "Collecting model-index (from openmim)\n",
            "  Downloading model_index-0.1.11-py3-none-any.whl (34 kB)\n",
            "Collecting opendatalab (from openmim)\n",
            "  Downloading opendatalab-0.0.10-py3-none-any.whl (29 kB)\n",
            "Requirement already satisfied: pandas in /usr/local/lib/python3.10/dist-packages (from openmim) (1.5.3)\n",
            "Requirement already satisfied: pip>=19.3 in /usr/local/lib/python3.10/dist-packages (from openmim) (23.1.2)\n",
            "Requirement already satisfied: requests in /usr/local/lib/python3.10/dist-packages (from openmim) (2.31.0)\n",
            "Requirement already satisfied: rich in /usr/local/lib/python3.10/dist-packages (from openmim) (13.7.0)\n",
            "Requirement already satisfied: tabulate in /usr/local/lib/python3.10/dist-packages (from openmim) (0.9.0)\n",
            "Requirement already satisfied: pyyaml in /usr/local/lib/python3.10/dist-packages (from model-index->openmim) (6.0.1)\n",
            "Requirement already satisfied: markdown in /usr/local/lib/python3.10/dist-packages (from model-index->openmim) (3.5.2)\n",
            "Collecting ordered-set (from model-index->openmim)\n",
            "  Downloading ordered_set-4.1.0-py3-none-any.whl (7.6 kB)\n",
            "Collecting pycryptodome (from opendatalab->openmim)\n",
            "  Downloading pycryptodome-3.20.0-cp35-abi3-manylinux_2_17_x86_64.manylinux2014_x86_64.whl (2.1 MB)\n",
            "\u001b[2K     \u001b[90m━━━━━━━━━━━━━━━━━━━━━━━━━━━━━━━━━━━━━━━━\u001b[0m \u001b[32m2.1/2.1 MB\u001b[0m \u001b[31m10.1 MB/s\u001b[0m eta \u001b[36m0:00:00\u001b[0m\n",
            "\u001b[?25hRequirement already satisfied: tqdm in /usr/local/lib/python3.10/dist-packages (from opendatalab->openmim) (4.66.2)\n",
            "Collecting openxlab (from opendatalab->openmim)\n",
            "  Downloading openxlab-0.0.34-py3-none-any.whl (299 kB)\n",
            "\u001b[2K     \u001b[90m━━━━━━━━━━━━━━━━━━━━━━━━━━━━━━━━━━━━━━━━\u001b[0m \u001b[32m299.2/299.2 kB\u001b[0m \u001b[31m12.2 MB/s\u001b[0m eta \u001b[36m0:00:00\u001b[0m\n",
            "\u001b[?25hRequirement already satisfied: charset-normalizer<4,>=2 in /usr/local/lib/python3.10/dist-packages (from requests->openmim) (3.3.2)\n",
            "Requirement already satisfied: idna<4,>=2.5 in /usr/local/lib/python3.10/dist-packages (from requests->openmim) (3.6)\n",
            "Requirement already satisfied: urllib3<3,>=1.21.1 in /usr/local/lib/python3.10/dist-packages (from requests->openmim) (2.0.7)\n",
            "Requirement already satisfied: certifi>=2017.4.17 in /usr/local/lib/python3.10/dist-packages (from requests->openmim) (2024.2.2)\n",
            "Requirement already satisfied: python-dateutil>=2.8.1 in /usr/local/lib/python3.10/dist-packages (from pandas->openmim) (2.8.2)\n",
            "Requirement already satisfied: pytz>=2020.1 in /usr/local/lib/python3.10/dist-packages (from pandas->openmim) (2023.4)\n",
            "Requirement already satisfied: numpy>=1.21.0 in /usr/local/lib/python3.10/dist-packages (from pandas->openmim) (1.25.2)\n",
            "Requirement already satisfied: markdown-it-py>=2.2.0 in /usr/local/lib/python3.10/dist-packages (from rich->openmim) (3.0.0)\n",
            "Requirement already satisfied: pygments<3.0.0,>=2.13.0 in /usr/local/lib/python3.10/dist-packages (from rich->openmim) (2.16.1)\n",
            "Requirement already satisfied: mdurl~=0.1 in /usr/local/lib/python3.10/dist-packages (from markdown-it-py>=2.2.0->rich->openmim) (0.1.2)\n",
            "Requirement already satisfied: six>=1.5 in /usr/local/lib/python3.10/dist-packages (from python-dateutil>=2.8.1->pandas->openmim) (1.16.0)\n",
            "Collecting oss2~=2.17.0 (from openxlab->opendatalab->openmim)\n",
            "  Downloading oss2-2.17.0.tar.gz (259 kB)\n",
            "\u001b[2K     \u001b[90m━━━━━━━━━━━━━━━━━━━━━━━━━━━━━━━━━━━━━━━━\u001b[0m \u001b[32m259.5/259.5 kB\u001b[0m \u001b[31m9.5 MB/s\u001b[0m eta \u001b[36m0:00:00\u001b[0m\n",
            "\u001b[?25h  Preparing metadata (setup.py) ... \u001b[?25l\u001b[?25hdone\n",
            "Collecting requests (from openmim)\n",
            "  Downloading requests-2.28.2-py3-none-any.whl (62 kB)\n",
            "\u001b[2K     \u001b[90m━━━━━━━━━━━━━━━━━━━━━━━━━━━━━━━━━━━━━━━━\u001b[0m \u001b[32m62.8/62.8 kB\u001b[0m \u001b[31m9.4 MB/s\u001b[0m eta \u001b[36m0:00:00\u001b[0m\n",
            "\u001b[?25hCollecting rich (from openmim)\n",
            "  Downloading rich-13.4.2-py3-none-any.whl (239 kB)\n",
            "\u001b[2K     \u001b[90m━━━━━━━━━━━━━━━━━━━━━━━━━━━━━━━━━━━━━━━━\u001b[0m \u001b[32m239.4/239.4 kB\u001b[0m \u001b[31m14.7 MB/s\u001b[0m eta \u001b[36m0:00:00\u001b[0m\n",
            "\u001b[?25hCollecting setuptools~=60.2.0 (from openxlab->opendatalab->openmim)\n",
            "  Downloading setuptools-60.2.0-py3-none-any.whl (953 kB)\n",
            "\u001b[2K     \u001b[90m━━━━━━━━━━━━━━━━━━━━━━━━━━━━━━━━━━━━━━━━\u001b[0m \u001b[32m953.1/953.1 kB\u001b[0m \u001b[31m22.5 MB/s\u001b[0m eta \u001b[36m0:00:00\u001b[0m\n",
            "\u001b[?25hCollecting tqdm (from opendatalab->openmim)\n",
            "  Downloading tqdm-4.65.2-py3-none-any.whl (77 kB)\n",
            "\u001b[2K     \u001b[90m━━━━━━━━━━━━━━━━━━━━━━━━━━━━━━━━━━━━━━━━\u001b[0m \u001b[32m77.1/77.1 kB\u001b[0m \u001b[31m6.8 MB/s\u001b[0m eta \u001b[36m0:00:00\u001b[0m\n",
            "\u001b[?25hCollecting urllib3<1.27,>=1.21.1 (from requests->openmim)\n",
            "  Downloading urllib3-1.26.18-py2.py3-none-any.whl (143 kB)\n",
            "\u001b[2K     \u001b[90m━━━━━━━━━━━━━━━━━━━━━━━━━━━━━━━━━━━━━━━━\u001b[0m \u001b[32m143.8/143.8 kB\u001b[0m \u001b[31m13.3 MB/s\u001b[0m eta \u001b[36m0:00:00\u001b[0m\n",
            "\u001b[?25hCollecting crcmod>=1.7 (from oss2~=2.17.0->openxlab->opendatalab->openmim)\n",
            "  Downloading crcmod-1.7.tar.gz (89 kB)\n",
            "\u001b[2K     \u001b[90m━━━━━━━━━━━━━━━━━━━━━━━━━━━━━━━━━━━━━━━━\u001b[0m \u001b[32m89.7/89.7 kB\u001b[0m \u001b[31m13.8 MB/s\u001b[0m eta \u001b[36m0:00:00\u001b[0m\n",
            "\u001b[?25h  Preparing metadata (setup.py) ... \u001b[?25l\u001b[?25hdone\n",
            "Collecting aliyun-python-sdk-kms>=2.4.1 (from oss2~=2.17.0->openxlab->opendatalab->openmim)\n",
            "  Downloading aliyun_python_sdk_kms-2.16.2-py2.py3-none-any.whl (94 kB)\n",
            "\u001b[2K     \u001b[90m━━━━━━━━━━━━━━━━━━━━━━━━━━━━━━━━━━━━━━━━\u001b[0m \u001b[32m94.0/94.0 kB\u001b[0m \u001b[31m6.6 MB/s\u001b[0m eta \u001b[36m0:00:00\u001b[0m\n",
            "\u001b[?25hCollecting aliyun-python-sdk-core>=2.13.12 (from oss2~=2.17.0->openxlab->opendatalab->openmim)\n",
            "  Downloading aliyun-python-sdk-core-2.14.0.tar.gz (443 kB)\n",
            "\u001b[2K     \u001b[90m━━━━━━━━━━━━━━━━━━━━━━━━━━━━━━━━━━━━━━━━\u001b[0m \u001b[32m443.0/443.0 kB\u001b[0m \u001b[31m21.3 MB/s\u001b[0m eta \u001b[36m0:00:00\u001b[0m\n",
            "\u001b[?25h  Preparing metadata (setup.py) ... \u001b[?25l\u001b[?25hdone\n",
            "Collecting jmespath<1.0.0,>=0.9.3 (from aliyun-python-sdk-core>=2.13.12->oss2~=2.17.0->openxlab->opendatalab->openmim)\n",
            "  Downloading jmespath-0.10.0-py2.py3-none-any.whl (24 kB)\n",
            "Requirement already satisfied: cryptography>=2.6.0 in /usr/local/lib/python3.10/dist-packages (from aliyun-python-sdk-core>=2.13.12->oss2~=2.17.0->openxlab->opendatalab->openmim) (42.0.2)\n",
            "Requirement already satisfied: cffi>=1.12 in /usr/local/lib/python3.10/dist-packages (from cryptography>=2.6.0->aliyun-python-sdk-core>=2.13.12->oss2~=2.17.0->openxlab->opendatalab->openmim) (1.16.0)\n",
            "Requirement already satisfied: pycparser in /usr/local/lib/python3.10/dist-packages (from cffi>=1.12->cryptography>=2.6.0->aliyun-python-sdk-core>=2.13.12->oss2~=2.17.0->openxlab->opendatalab->openmim) (2.21)\n",
            "Building wheels for collected packages: oss2, aliyun-python-sdk-core, crcmod\n",
            "  Building wheel for oss2 (setup.py) ... \u001b[?25l\u001b[?25hdone\n",
            "  Created wheel for oss2: filename=oss2-2.17.0-py3-none-any.whl size=112371 sha256=edbebf2e86826405d4fdb74e4ba89287795110874b5213da99b5623f35de943f\n",
            "  Stored in directory: /root/.cache/pip/wheels/87/04/7b/7e61b8157fdf211c5131375240d0d86ca82e2a88ead9672c88\n",
            "  Building wheel for aliyun-python-sdk-core (setup.py) ... \u001b[?25l\u001b[?25hdone\n",
            "  Created wheel for aliyun-python-sdk-core: filename=aliyun_python_sdk_core-2.14.0-py3-none-any.whl size=535289 sha256=41d6b71389defef69bb17df9e66b82f0b9a921c6f0392d674384cc55e37572be\n",
            "  Stored in directory: /root/.cache/pip/wheels/16/3c/68/b7eab618d9f1d5e7d386296f1e07e2cf36aaa1eb5161885038\n",
            "  Building wheel for crcmod (setup.py) ... \u001b[?25l\u001b[?25hdone\n",
            "  Created wheel for crcmod: filename=crcmod-1.7-cp310-cp310-linux_x86_64.whl size=31406 sha256=fb8840130d7772580b3d8484de2c473d9c66fc1ec4b9f1b114a0e7ddf2861b1e\n",
            "  Stored in directory: /root/.cache/pip/wheels/85/4c/07/72215c529bd59d67e3dac29711d7aba1b692f543c808ba9e86\n",
            "Successfully built oss2 aliyun-python-sdk-core crcmod\n",
            "Installing collected packages: crcmod, urllib3, tqdm, setuptools, pycryptodome, ordered-set, jmespath, colorama, rich, requests, model-index, aliyun-python-sdk-core, aliyun-python-sdk-kms, oss2, openxlab, opendatalab, openmim\n",
            "  Attempting uninstall: urllib3\n",
            "    Found existing installation: urllib3 2.0.7\n",
            "    Uninstalling urllib3-2.0.7:\n",
            "      Successfully uninstalled urllib3-2.0.7\n",
            "  Attempting uninstall: tqdm\n",
            "    Found existing installation: tqdm 4.66.2\n",
            "    Uninstalling tqdm-4.66.2:\n",
            "      Successfully uninstalled tqdm-4.66.2\n",
            "  Attempting uninstall: setuptools\n",
            "    Found existing installation: setuptools 67.7.2\n",
            "    Uninstalling setuptools-67.7.2:\n",
            "      Successfully uninstalled setuptools-67.7.2\n",
            "  Attempting uninstall: rich\n",
            "    Found existing installation: rich 13.7.0\n",
            "    Uninstalling rich-13.7.0:\n",
            "      Successfully uninstalled rich-13.7.0\n",
            "  Attempting uninstall: requests\n",
            "    Found existing installation: requests 2.31.0\n",
            "    Uninstalling requests-2.31.0:\n",
            "      Successfully uninstalled requests-2.31.0\n",
            "\u001b[31mERROR: pip's dependency resolver does not currently take into account all the packages that are installed. This behaviour is the source of the following dependency conflicts.\n",
            "ipython 7.34.0 requires jedi>=0.16, which is not installed.\n",
            "lida 0.0.10 requires fastapi, which is not installed.\n",
            "lida 0.0.10 requires kaleido, which is not installed.\n",
            "lida 0.0.10 requires python-multipart, which is not installed.\n",
            "lida 0.0.10 requires uvicorn, which is not installed.\n",
            "cvxpy 1.3.3 requires setuptools>65.5.1, but you have setuptools 60.2.0 which is incompatible.\n",
            "google-colab 1.0.0 requires requests==2.31.0, but you have requests 2.28.2 which is incompatible.\n",
            "torchdata 0.7.0 requires torch==2.1.0, but you have torch 1.13.1+cu117 which is incompatible.\n",
            "torchtext 0.16.0 requires torch==2.1.0, but you have torch 1.13.1+cu117 which is incompatible.\n",
            "yfinance 0.2.36 requires requests>=2.31, but you have requests 2.28.2 which is incompatible.\u001b[0m\u001b[31m\n",
            "\u001b[0mSuccessfully installed aliyun-python-sdk-core-2.14.0 aliyun-python-sdk-kms-2.16.2 colorama-0.4.6 crcmod-1.7 jmespath-0.10.0 model-index-0.1.11 opendatalab-0.0.10 openmim-0.3.9 openxlab-0.0.34 ordered-set-4.1.0 oss2-2.17.0 pycryptodome-3.20.0 requests-2.28.2 rich-13.4.2 setuptools-60.2.0 tqdm-4.65.2 urllib3-1.26.18\n",
            "Looking in links: https://download.openmmlab.com/mmcv/dist/cu117/torch1.13.0/index.html\n",
            "Obtaining file:///content/mmpretrain\n",
            "  Preparing metadata (setup.py) ... \u001b[?25l\u001b[?25hdone\n",
            "Collecting einops (from mmpretrain==1.2.0)\n",
            "  Downloading einops-0.7.0-py3-none-any.whl (44 kB)\n",
            "\u001b[2K     \u001b[90m━━━━━━━━━━━━━━━━━━━━━━━━━━━━━━━━━━━━━━━━\u001b[0m \u001b[32m44.6/44.6 kB\u001b[0m \u001b[31m1.8 MB/s\u001b[0m eta \u001b[36m0:00:00\u001b[0m\n",
            "\u001b[?25hRequirement already satisfied: importlib-metadata in /usr/local/lib/python3.10/dist-packages (from mmpretrain==1.2.0) (7.0.1)\n",
            "Collecting mat4py (from mmpretrain==1.2.0)\n",
            "  Downloading mat4py-0.6.0-py2.py3-none-any.whl (13 kB)\n",
            "Requirement already satisfied: matplotlib in /usr/local/lib/python3.10/dist-packages (from mmpretrain==1.2.0) (3.7.1)\n",
            "Collecting modelindex (from mmpretrain==1.2.0)\n",
            "  Downloading modelindex-0.0.2-py3-none-any.whl (2.1 kB)\n",
            "Requirement already satisfied: numpy in /usr/local/lib/python3.10/dist-packages (from mmpretrain==1.2.0) (1.25.2)\n",
            "Requirement already satisfied: rich in /usr/local/lib/python3.10/dist-packages (from mmpretrain==1.2.0) (13.4.2)\n",
            "Collecting mmcv<2.4.0,>=2.0.0 (from mmpretrain==1.2.0)\n",
            "  Downloading https://download.openmmlab.com/mmcv/dist/cu117/torch1.13.0/mmcv-2.1.0-cp310-cp310-manylinux1_x86_64.whl (97.4 MB)\n",
            "\u001b[2K     \u001b[90m━━━━━━━━━━━━━━━━━━━━━━━━━━━━━━━━━━━━━━━━\u001b[0m \u001b[32m97.4/97.4 MB\u001b[0m \u001b[31m5.3 MB/s\u001b[0m eta \u001b[36m0:00:00\u001b[0m\n",
            "\u001b[?25hCollecting mmengine<1.0.0,>=0.8.3 (from mmpretrain==1.2.0)\n",
            "  Downloading mmengine-0.10.3-py3-none-any.whl (451 kB)\n",
            "\u001b[2K     \u001b[90m━━━━━━━━━━━━━━━━━━━━━━━━━━━━━━━━━━━━━━━━\u001b[0m \u001b[32m451.7/451.7 kB\u001b[0m \u001b[31m17.3 MB/s\u001b[0m eta \u001b[36m0:00:00\u001b[0m\n",
            "\u001b[?25hCollecting addict (from mmcv<2.4.0,>=2.0.0->mmpretrain==1.2.0)\n",
            "  Downloading addict-2.4.0-py3-none-any.whl (3.8 kB)\n",
            "Requirement already satisfied: packaging in /usr/local/lib/python3.10/dist-packages (from mmcv<2.4.0,>=2.0.0->mmpretrain==1.2.0) (23.2)\n",
            "Requirement already satisfied: Pillow in /usr/local/lib/python3.10/dist-packages (from mmcv<2.4.0,>=2.0.0->mmpretrain==1.2.0) (9.4.0)\n",
            "Requirement already satisfied: pyyaml in /usr/local/lib/python3.10/dist-packages (from mmcv<2.4.0,>=2.0.0->mmpretrain==1.2.0) (6.0.1)\n",
            "Collecting yapf (from mmcv<2.4.0,>=2.0.0->mmpretrain==1.2.0)\n",
            "  Downloading yapf-0.40.2-py3-none-any.whl (254 kB)\n",
            "\u001b[2K     \u001b[90m━━━━━━━━━━━━━━━━━━━━━━━━━━━━━━━━━━━━━━━━\u001b[0m \u001b[32m254.7/254.7 kB\u001b[0m \u001b[31m30.1 MB/s\u001b[0m eta \u001b[36m0:00:00\u001b[0m\n",
            "\u001b[?25hRequirement already satisfied: opencv-python>=3 in /usr/local/lib/python3.10/dist-packages (from mmcv<2.4.0,>=2.0.0->mmpretrain==1.2.0) (4.8.0.76)\n",
            "Requirement already satisfied: termcolor in /usr/local/lib/python3.10/dist-packages (from mmengine<1.0.0,>=0.8.3->mmpretrain==1.2.0) (2.4.0)\n",
            "Requirement already satisfied: zipp>=0.5 in /usr/local/lib/python3.10/dist-packages (from importlib-metadata->mmpretrain==1.2.0) (3.17.0)\n",
            "Requirement already satisfied: contourpy>=1.0.1 in /usr/local/lib/python3.10/dist-packages (from matplotlib->mmpretrain==1.2.0) (1.2.0)\n",
            "Requirement already satisfied: cycler>=0.10 in /usr/local/lib/python3.10/dist-packages (from matplotlib->mmpretrain==1.2.0) (0.12.1)\n",
            "Requirement already satisfied: fonttools>=4.22.0 in /usr/local/lib/python3.10/dist-packages (from matplotlib->mmpretrain==1.2.0) (4.48.1)\n",
            "Requirement already satisfied: kiwisolver>=1.0.1 in /usr/local/lib/python3.10/dist-packages (from matplotlib->mmpretrain==1.2.0) (1.4.5)\n",
            "Requirement already satisfied: pyparsing>=2.3.1 in /usr/local/lib/python3.10/dist-packages (from matplotlib->mmpretrain==1.2.0) (3.1.1)\n",
            "Requirement already satisfied: python-dateutil>=2.7 in /usr/local/lib/python3.10/dist-packages (from matplotlib->mmpretrain==1.2.0) (2.8.2)\n",
            "Requirement already satisfied: model-index in /usr/local/lib/python3.10/dist-packages (from modelindex->mmpretrain==1.2.0) (0.1.11)\n",
            "Requirement already satisfied: markdown-it-py>=2.2.0 in /usr/local/lib/python3.10/dist-packages (from rich->mmpretrain==1.2.0) (3.0.0)\n",
            "Requirement already satisfied: pygments<3.0.0,>=2.13.0 in /usr/local/lib/python3.10/dist-packages (from rich->mmpretrain==1.2.0) (2.16.1)\n",
            "Requirement already satisfied: mdurl~=0.1 in /usr/local/lib/python3.10/dist-packages (from markdown-it-py>=2.2.0->rich->mmpretrain==1.2.0) (0.1.2)\n",
            "Requirement already satisfied: six>=1.5 in /usr/local/lib/python3.10/dist-packages (from python-dateutil>=2.7->matplotlib->mmpretrain==1.2.0) (1.16.0)\n",
            "Requirement already satisfied: markdown in /usr/local/lib/python3.10/dist-packages (from model-index->modelindex->mmpretrain==1.2.0) (3.5.2)\n",
            "Requirement already satisfied: ordered-set in /usr/local/lib/python3.10/dist-packages (from model-index->modelindex->mmpretrain==1.2.0) (4.1.0)\n",
            "Requirement already satisfied: click in /usr/local/lib/python3.10/dist-packages (from model-index->modelindex->mmpretrain==1.2.0) (8.1.7)\n",
            "Requirement already satisfied: platformdirs>=3.5.1 in /usr/local/lib/python3.10/dist-packages (from yapf->mmcv<2.4.0,>=2.0.0->mmpretrain==1.2.0) (4.2.0)\n",
            "Requirement already satisfied: tomli>=2.0.1 in /usr/local/lib/python3.10/dist-packages (from yapf->mmcv<2.4.0,>=2.0.0->mmpretrain==1.2.0) (2.0.1)\n",
            "Installing collected packages: mat4py, addict, einops, yapf, modelindex, mmengine, mmcv, mmpretrain\n",
            "  Running setup.py develop for mmpretrain\n",
            "Successfully installed addict-2.4.0 einops-0.7.0 mat4py-0.6.0 mmcv-2.1.0 mmengine-0.10.3 mmpretrain-1.2.0 modelindex-0.0.2 yapf-0.40.2\n"
          ]
        }
      ],
      "source": [
        "\n",
        "!git clone https://github.com/open-mmlab/mmpretrain.git\n",
        "!cd mmpretrain && pip install -U openmim && mim install -e ."
      ]
    },
    {
      "cell_type": "code",
      "execution_count": null,
      "metadata": {
        "colab": {
          "base_uri": "https://localhost:8080/"
        },
        "id": "MeUN_CIDO-JL",
        "outputId": "a07ab5d4-048f-4580-b835-ed6407f7eb19"
      },
      "outputs": [
        {
          "output_type": "stream",
          "name": "stdout",
          "text": [
            "/content/mmpretrain\n"
          ]
        }
      ],
      "source": [
        "%cd mmpretrain"
      ]
    },
    {
      "cell_type": "code",
      "execution_count": null,
      "metadata": {
        "colab": {
          "base_uri": "https://localhost:8080/"
        },
        "id": "4eiWz85DQ7I_",
        "outputId": "186bdd92-c986-4fd6-ac5a-139d2ba688a0"
      },
      "outputs": [
        {
          "output_type": "stream",
          "name": "stdout",
          "text": [
            "Loads checkpoint by http backend from path: https://download.openmmlab.com/mmclassification/v0/resnet/resnet18_8xb32_in1k_20210831-fbbb1da6.pth\n",
            "Downloading: \"https://download.openmmlab.com/mmclassification/v0/resnet/resnet18_8xb32_in1k_20210831-fbbb1da6.pth\" to /root/.cache/torch/hub/checkpoints/resnet18_8xb32_in1k_20210831-fbbb1da6.pth\n",
            "100% 44.7M/44.7M [00:08<00:00, 5.82MB/s]\n",
            "\u001b[2KInference \u001b[90m━━━━━━━━━━━━━━━━━━━━━━━━━━━━━━━━━━━━━━━━\u001b[0m \u001b[35m100%\u001b[0m \u001b[36m0:00:00\u001b[0m\n",
            "\u001b[?25h\u001b[1m{\u001b[0m\n",
            "  \u001b[1;34m\"pred_label\"\u001b[0m: \u001b[1;36m58\u001b[0m,\n",
            "  \u001b[1;34m\"pred_score\"\u001b[0m: \u001b[1;36m0.38102206587791443\u001b[0m,\n",
            "  \u001b[1;34m\"pred_class\"\u001b[0m: \u001b[32m\"water snake\"\u001b[0m\n",
            "\u001b[1m}\u001b[0m\n"
          ]
        }
      ],
      "source": [
        "!python demo/image_demo.py demo/demo.JPEG resnet18_8xb32_in1k --device cpu\n"
      ]
    },
    {
      "cell_type": "code",
      "execution_count": null,
      "metadata": {
        "colab": {
          "base_uri": "https://localhost:8080/"
        },
        "id": "XhQrcGp3RxWv",
        "outputId": "0b58b723-85f0-4091-93fb-d41993356e6d"
      },
      "outputs": [
        {
          "output_type": "stream",
          "name": "stdout",
          "text": [
            "Requirement already satisfied: openmim in /usr/local/lib/python3.10/dist-packages (0.3.9)\n",
            "Requirement already satisfied: Click in /usr/local/lib/python3.10/dist-packages (from openmim) (8.1.7)\n",
            "Requirement already satisfied: colorama in /usr/local/lib/python3.10/dist-packages (from openmim) (0.4.6)\n",
            "Requirement already satisfied: model-index in /usr/local/lib/python3.10/dist-packages (from openmim) (0.1.11)\n",
            "Requirement already satisfied: opendatalab in /usr/local/lib/python3.10/dist-packages (from openmim) (0.0.10)\n",
            "Requirement already satisfied: pandas in /usr/local/lib/python3.10/dist-packages (from openmim) (1.5.3)\n",
            "Requirement already satisfied: pip>=19.3 in /usr/local/lib/python3.10/dist-packages (from openmim) (23.1.2)\n",
            "Requirement already satisfied: requests in /usr/local/lib/python3.10/dist-packages (from openmim) (2.28.2)\n",
            "Requirement already satisfied: rich in /usr/local/lib/python3.10/dist-packages (from openmim) (13.4.2)\n",
            "Requirement already satisfied: tabulate in /usr/local/lib/python3.10/dist-packages (from openmim) (0.9.0)\n",
            "Requirement already satisfied: pyyaml in /usr/local/lib/python3.10/dist-packages (from model-index->openmim) (6.0.1)\n",
            "Requirement already satisfied: markdown in /usr/local/lib/python3.10/dist-packages (from model-index->openmim) (3.5.2)\n",
            "Requirement already satisfied: ordered-set in /usr/local/lib/python3.10/dist-packages (from model-index->openmim) (4.1.0)\n",
            "Requirement already satisfied: pycryptodome in /usr/local/lib/python3.10/dist-packages (from opendatalab->openmim) (3.20.0)\n",
            "Requirement already satisfied: tqdm in /usr/local/lib/python3.10/dist-packages (from opendatalab->openmim) (4.65.2)\n",
            "Requirement already satisfied: openxlab in /usr/local/lib/python3.10/dist-packages (from opendatalab->openmim) (0.0.34)\n",
            "Requirement already satisfied: charset-normalizer<4,>=2 in /usr/local/lib/python3.10/dist-packages (from requests->openmim) (3.3.2)\n",
            "Requirement already satisfied: idna<4,>=2.5 in /usr/local/lib/python3.10/dist-packages (from requests->openmim) (3.6)\n",
            "Requirement already satisfied: urllib3<1.27,>=1.21.1 in /usr/local/lib/python3.10/dist-packages (from requests->openmim) (1.26.18)\n",
            "Requirement already satisfied: certifi>=2017.4.17 in /usr/local/lib/python3.10/dist-packages (from requests->openmim) (2024.2.2)\n",
            "Requirement already satisfied: python-dateutil>=2.8.1 in /usr/local/lib/python3.10/dist-packages (from pandas->openmim) (2.8.2)\n",
            "Requirement already satisfied: pytz>=2020.1 in /usr/local/lib/python3.10/dist-packages (from pandas->openmim) (2023.4)\n",
            "Requirement already satisfied: numpy>=1.21.0 in /usr/local/lib/python3.10/dist-packages (from pandas->openmim) (1.25.2)\n",
            "Requirement already satisfied: markdown-it-py>=2.2.0 in /usr/local/lib/python3.10/dist-packages (from rich->openmim) (3.0.0)\n",
            "Requirement already satisfied: pygments<3.0.0,>=2.13.0 in /usr/local/lib/python3.10/dist-packages (from rich->openmim) (2.16.1)\n",
            "Requirement already satisfied: mdurl~=0.1 in /usr/local/lib/python3.10/dist-packages (from markdown-it-py>=2.2.0->rich->openmim) (0.1.2)\n",
            "Requirement already satisfied: six>=1.5 in /usr/local/lib/python3.10/dist-packages (from python-dateutil>=2.8.1->pandas->openmim) (1.16.0)\n",
            "Requirement already satisfied: oss2~=2.17.0 in /usr/local/lib/python3.10/dist-packages (from openxlab->opendatalab->openmim) (2.17.0)\n",
            "Requirement already satisfied: setuptools~=60.2.0 in /usr/local/lib/python3.10/dist-packages (from openxlab->opendatalab->openmim) (60.2.0)\n",
            "Requirement already satisfied: crcmod>=1.7 in /usr/local/lib/python3.10/dist-packages (from oss2~=2.17.0->openxlab->opendatalab->openmim) (1.7)\n",
            "Requirement already satisfied: aliyun-python-sdk-kms>=2.4.1 in /usr/local/lib/python3.10/dist-packages (from oss2~=2.17.0->openxlab->opendatalab->openmim) (2.16.2)\n",
            "Requirement already satisfied: aliyun-python-sdk-core>=2.13.12 in /usr/local/lib/python3.10/dist-packages (from oss2~=2.17.0->openxlab->opendatalab->openmim) (2.14.0)\n",
            "Requirement already satisfied: jmespath<1.0.0,>=0.9.3 in /usr/local/lib/python3.10/dist-packages (from aliyun-python-sdk-core>=2.13.12->oss2~=2.17.0->openxlab->opendatalab->openmim) (0.10.0)\n",
            "Requirement already satisfied: cryptography>=2.6.0 in /usr/local/lib/python3.10/dist-packages (from aliyun-python-sdk-core>=2.13.12->oss2~=2.17.0->openxlab->opendatalab->openmim) (42.0.2)\n",
            "Requirement already satisfied: cffi>=1.12 in /usr/local/lib/python3.10/dist-packages (from cryptography>=2.6.0->aliyun-python-sdk-core>=2.13.12->oss2~=2.17.0->openxlab->opendatalab->openmim) (1.16.0)\n",
            "Requirement already satisfied: pycparser in /usr/local/lib/python3.10/dist-packages (from cffi>=1.12->cryptography>=2.6.0->aliyun-python-sdk-core>=2.13.12->oss2~=2.17.0->openxlab->opendatalab->openmim) (2.21)\n",
            "Looking in links: https://download.openmmlab.com/mmcv/dist/cu117/torch1.13.0/index.html\n",
            "Requirement already satisfied: mmpretrain[multimodal]>=1.0.0rc8 in /content/mmpretrain (1.2.0)\n",
            "Requirement already satisfied: einops in /usr/local/lib/python3.10/dist-packages (from mmpretrain[multimodal]>=1.0.0rc8) (0.7.0)\n",
            "Requirement already satisfied: importlib-metadata in /usr/local/lib/python3.10/dist-packages (from mmpretrain[multimodal]>=1.0.0rc8) (7.0.1)\n",
            "Requirement already satisfied: mat4py in /usr/local/lib/python3.10/dist-packages (from mmpretrain[multimodal]>=1.0.0rc8) (0.6.0)\n",
            "Requirement already satisfied: matplotlib in /usr/local/lib/python3.10/dist-packages (from mmpretrain[multimodal]>=1.0.0rc8) (3.7.1)\n",
            "Requirement already satisfied: modelindex in /usr/local/lib/python3.10/dist-packages (from mmpretrain[multimodal]>=1.0.0rc8) (0.0.2)\n",
            "Requirement already satisfied: numpy in /usr/local/lib/python3.10/dist-packages (from mmpretrain[multimodal]>=1.0.0rc8) (1.25.2)\n",
            "Requirement already satisfied: rich in /usr/local/lib/python3.10/dist-packages (from mmpretrain[multimodal]>=1.0.0rc8) (13.4.2)\n",
            "Requirement already satisfied: pycocotools in /usr/local/lib/python3.10/dist-packages (from mmpretrain[multimodal]>=1.0.0rc8) (2.0.7)\n",
            "Requirement already satisfied: transformers>=4.28.0 in /usr/local/lib/python3.10/dist-packages (from mmpretrain[multimodal]>=1.0.0rc8) (4.35.2)\n",
            "Requirement already satisfied: mmcv<2.4.0,>=2.0.0 in /usr/local/lib/python3.10/dist-packages (from mmpretrain[multimodal]>=1.0.0rc8) (2.1.0)\n",
            "Requirement already satisfied: mmengine<1.0.0,>=0.8.3 in /usr/local/lib/python3.10/dist-packages (from mmpretrain[multimodal]>=1.0.0rc8) (0.10.3)\n",
            "Requirement already satisfied: addict in /usr/local/lib/python3.10/dist-packages (from mmcv<2.4.0,>=2.0.0->mmpretrain[multimodal]>=1.0.0rc8) (2.4.0)\n",
            "Requirement already satisfied: packaging in /usr/local/lib/python3.10/dist-packages (from mmcv<2.4.0,>=2.0.0->mmpretrain[multimodal]>=1.0.0rc8) (23.2)\n",
            "Requirement already satisfied: Pillow in /usr/local/lib/python3.10/dist-packages (from mmcv<2.4.0,>=2.0.0->mmpretrain[multimodal]>=1.0.0rc8) (9.4.0)\n",
            "Requirement already satisfied: pyyaml in /usr/local/lib/python3.10/dist-packages (from mmcv<2.4.0,>=2.0.0->mmpretrain[multimodal]>=1.0.0rc8) (6.0.1)\n",
            "Requirement already satisfied: yapf in /usr/local/lib/python3.10/dist-packages (from mmcv<2.4.0,>=2.0.0->mmpretrain[multimodal]>=1.0.0rc8) (0.40.2)\n",
            "Requirement already satisfied: opencv-python>=3 in /usr/local/lib/python3.10/dist-packages (from mmcv<2.4.0,>=2.0.0->mmpretrain[multimodal]>=1.0.0rc8) (4.8.0.76)\n",
            "Requirement already satisfied: termcolor in /usr/local/lib/python3.10/dist-packages (from mmengine<1.0.0,>=0.8.3->mmpretrain[multimodal]>=1.0.0rc8) (2.4.0)\n",
            "Requirement already satisfied: filelock in /usr/local/lib/python3.10/dist-packages (from transformers>=4.28.0->mmpretrain[multimodal]>=1.0.0rc8) (3.13.1)\n",
            "Requirement already satisfied: huggingface-hub<1.0,>=0.16.4 in /usr/local/lib/python3.10/dist-packages (from transformers>=4.28.0->mmpretrain[multimodal]>=1.0.0rc8) (0.20.3)\n",
            "Requirement already satisfied: regex!=2019.12.17 in /usr/local/lib/python3.10/dist-packages (from transformers>=4.28.0->mmpretrain[multimodal]>=1.0.0rc8) (2023.12.25)\n",
            "Requirement already satisfied: requests in /usr/local/lib/python3.10/dist-packages (from transformers>=4.28.0->mmpretrain[multimodal]>=1.0.0rc8) (2.28.2)\n",
            "Requirement already satisfied: tokenizers<0.19,>=0.14 in /usr/local/lib/python3.10/dist-packages (from transformers>=4.28.0->mmpretrain[multimodal]>=1.0.0rc8) (0.15.2)\n",
            "Requirement already satisfied: safetensors>=0.3.1 in /usr/local/lib/python3.10/dist-packages (from transformers>=4.28.0->mmpretrain[multimodal]>=1.0.0rc8) (0.4.2)\n",
            "Requirement already satisfied: tqdm>=4.27 in /usr/local/lib/python3.10/dist-packages (from transformers>=4.28.0->mmpretrain[multimodal]>=1.0.0rc8) (4.65.2)\n",
            "Requirement already satisfied: zipp>=0.5 in /usr/local/lib/python3.10/dist-packages (from importlib-metadata->mmpretrain[multimodal]>=1.0.0rc8) (3.17.0)\n",
            "Requirement already satisfied: contourpy>=1.0.1 in /usr/local/lib/python3.10/dist-packages (from matplotlib->mmpretrain[multimodal]>=1.0.0rc8) (1.2.0)\n",
            "Requirement already satisfied: cycler>=0.10 in /usr/local/lib/python3.10/dist-packages (from matplotlib->mmpretrain[multimodal]>=1.0.0rc8) (0.12.1)\n",
            "Requirement already satisfied: fonttools>=4.22.0 in /usr/local/lib/python3.10/dist-packages (from matplotlib->mmpretrain[multimodal]>=1.0.0rc8) (4.48.1)\n",
            "Requirement already satisfied: kiwisolver>=1.0.1 in /usr/local/lib/python3.10/dist-packages (from matplotlib->mmpretrain[multimodal]>=1.0.0rc8) (1.4.5)\n",
            "Requirement already satisfied: pyparsing>=2.3.1 in /usr/local/lib/python3.10/dist-packages (from matplotlib->mmpretrain[multimodal]>=1.0.0rc8) (3.1.1)\n",
            "Requirement already satisfied: python-dateutil>=2.7 in /usr/local/lib/python3.10/dist-packages (from matplotlib->mmpretrain[multimodal]>=1.0.0rc8) (2.8.2)\n",
            "Requirement already satisfied: model-index in /usr/local/lib/python3.10/dist-packages (from modelindex->mmpretrain[multimodal]>=1.0.0rc8) (0.1.11)\n",
            "Requirement already satisfied: markdown-it-py>=2.2.0 in /usr/local/lib/python3.10/dist-packages (from rich->mmpretrain[multimodal]>=1.0.0rc8) (3.0.0)\n",
            "Requirement already satisfied: pygments<3.0.0,>=2.13.0 in /usr/local/lib/python3.10/dist-packages (from rich->mmpretrain[multimodal]>=1.0.0rc8) (2.16.1)\n",
            "Requirement already satisfied: fsspec>=2023.5.0 in /usr/local/lib/python3.10/dist-packages (from huggingface-hub<1.0,>=0.16.4->transformers>=4.28.0->mmpretrain[multimodal]>=1.0.0rc8) (2023.6.0)\n",
            "Requirement already satisfied: typing-extensions>=3.7.4.3 in /usr/local/lib/python3.10/dist-packages (from huggingface-hub<1.0,>=0.16.4->transformers>=4.28.0->mmpretrain[multimodal]>=1.0.0rc8) (4.9.0)\n",
            "Requirement already satisfied: mdurl~=0.1 in /usr/local/lib/python3.10/dist-packages (from markdown-it-py>=2.2.0->rich->mmpretrain[multimodal]>=1.0.0rc8) (0.1.2)\n",
            "Requirement already satisfied: six>=1.5 in /usr/local/lib/python3.10/dist-packages (from python-dateutil>=2.7->matplotlib->mmpretrain[multimodal]>=1.0.0rc8) (1.16.0)\n",
            "Requirement already satisfied: markdown in /usr/local/lib/python3.10/dist-packages (from model-index->modelindex->mmpretrain[multimodal]>=1.0.0rc8) (3.5.2)\n",
            "Requirement already satisfied: ordered-set in /usr/local/lib/python3.10/dist-packages (from model-index->modelindex->mmpretrain[multimodal]>=1.0.0rc8) (4.1.0)\n",
            "Requirement already satisfied: click in /usr/local/lib/python3.10/dist-packages (from model-index->modelindex->mmpretrain[multimodal]>=1.0.0rc8) (8.1.7)\n",
            "Requirement already satisfied: charset-normalizer<4,>=2 in /usr/local/lib/python3.10/dist-packages (from requests->transformers>=4.28.0->mmpretrain[multimodal]>=1.0.0rc8) (3.3.2)\n",
            "Requirement already satisfied: idna<4,>=2.5 in /usr/local/lib/python3.10/dist-packages (from requests->transformers>=4.28.0->mmpretrain[multimodal]>=1.0.0rc8) (3.6)\n",
            "Requirement already satisfied: urllib3<1.27,>=1.21.1 in /usr/local/lib/python3.10/dist-packages (from requests->transformers>=4.28.0->mmpretrain[multimodal]>=1.0.0rc8) (1.26.18)\n",
            "Requirement already satisfied: certifi>=2017.4.17 in /usr/local/lib/python3.10/dist-packages (from requests->transformers>=4.28.0->mmpretrain[multimodal]>=1.0.0rc8) (2024.2.2)\n",
            "Requirement already satisfied: platformdirs>=3.5.1 in /usr/local/lib/python3.10/dist-packages (from yapf->mmcv<2.4.0,>=2.0.0->mmpretrain[multimodal]>=1.0.0rc8) (4.2.0)\n",
            "Requirement already satisfied: tomli>=2.0.1 in /usr/local/lib/python3.10/dist-packages (from yapf->mmcv<2.4.0,>=2.0.0->mmpretrain[multimodal]>=1.0.0rc8) (2.0.1)\n"
          ]
        }
      ],
      "source": [
        "# Install mmpretrain with multi-modality support\n",
        "!pip install -U openmim && mim install \"mmpretrain[multimodal]>=1.0.0rc8\"\n"
      ]
    },
    {
      "cell_type": "code",
      "execution_count": null,
      "metadata": {
        "colab": {
          "base_uri": "https://localhost:8080/"
        },
        "id": "02xRnI5Ap5Aq",
        "outputId": "3d08b8c7-0007-4eeb-8d01-238cc6a17847"
      },
      "outputs": [
        {
          "name": "stdout",
          "output_type": "stream",
          "text": [
            "Requirement already satisfied: mmpretrain in /content/mmpretrain (1.2.0)\n",
            "Requirement already satisfied: einops in /usr/local/lib/python3.10/dist-packages (from mmpretrain) (0.7.0)\n",
            "Requirement already satisfied: importlib-metadata in /usr/local/lib/python3.10/dist-packages (from mmpretrain) (7.0.1)\n",
            "Requirement already satisfied: mat4py in /usr/local/lib/python3.10/dist-packages (from mmpretrain) (0.6.0)\n",
            "Requirement already satisfied: matplotlib in /usr/local/lib/python3.10/dist-packages (from mmpretrain) (3.7.1)\n",
            "Requirement already satisfied: modelindex in /usr/local/lib/python3.10/dist-packages (from mmpretrain) (0.0.2)\n",
            "Requirement already satisfied: numpy in /usr/local/lib/python3.10/dist-packages (from mmpretrain) (1.25.2)\n",
            "Requirement already satisfied: rich in /usr/local/lib/python3.10/dist-packages (from mmpretrain) (13.4.2)\n",
            "Requirement already satisfied: zipp>=0.5 in /usr/local/lib/python3.10/dist-packages (from importlib-metadata->mmpretrain) (3.17.0)\n",
            "Requirement already satisfied: contourpy>=1.0.1 in /usr/local/lib/python3.10/dist-packages (from matplotlib->mmpretrain) (1.2.0)\n",
            "Requirement already satisfied: cycler>=0.10 in /usr/local/lib/python3.10/dist-packages (from matplotlib->mmpretrain) (0.12.1)\n",
            "Requirement already satisfied: fonttools>=4.22.0 in /usr/local/lib/python3.10/dist-packages (from matplotlib->mmpretrain) (4.48.1)\n",
            "Requirement already satisfied: kiwisolver>=1.0.1 in /usr/local/lib/python3.10/dist-packages (from matplotlib->mmpretrain) (1.4.5)\n",
            "Requirement already satisfied: packaging>=20.0 in /usr/local/lib/python3.10/dist-packages (from matplotlib->mmpretrain) (23.2)\n",
            "Requirement already satisfied: pillow>=6.2.0 in /usr/local/lib/python3.10/dist-packages (from matplotlib->mmpretrain) (9.4.0)\n",
            "Requirement already satisfied: pyparsing>=2.3.1 in /usr/local/lib/python3.10/dist-packages (from matplotlib->mmpretrain) (3.1.1)\n",
            "Requirement already satisfied: python-dateutil>=2.7 in /usr/local/lib/python3.10/dist-packages (from matplotlib->mmpretrain) (2.8.2)\n",
            "Requirement already satisfied: model-index in /usr/local/lib/python3.10/dist-packages (from modelindex->mmpretrain) (0.1.11)\n",
            "Requirement already satisfied: markdown-it-py>=2.2.0 in /usr/local/lib/python3.10/dist-packages (from rich->mmpretrain) (3.0.0)\n",
            "Requirement already satisfied: pygments<3.0.0,>=2.13.0 in /usr/local/lib/python3.10/dist-packages (from rich->mmpretrain) (2.16.1)\n",
            "Requirement already satisfied: mdurl~=0.1 in /usr/local/lib/python3.10/dist-packages (from markdown-it-py>=2.2.0->rich->mmpretrain) (0.1.2)\n",
            "Requirement already satisfied: six>=1.5 in /usr/local/lib/python3.10/dist-packages (from python-dateutil>=2.7->matplotlib->mmpretrain) (1.16.0)\n",
            "Requirement already satisfied: pyyaml in /usr/local/lib/python3.10/dist-packages (from model-index->modelindex->mmpretrain) (6.0.1)\n",
            "Requirement already satisfied: markdown in /usr/local/lib/python3.10/dist-packages (from model-index->modelindex->mmpretrain) (3.5.2)\n",
            "Requirement already satisfied: ordered-set in /usr/local/lib/python3.10/dist-packages (from model-index->modelindex->mmpretrain) (4.1.0)\n",
            "Requirement already satisfied: click in /usr/local/lib/python3.10/dist-packages (from model-index->modelindex->mmpretrain) (8.1.7)\n"
          ]
        }
      ],
      "source": [
        "!pip install mmpretrain"
      ]
    },
    {
      "cell_type": "code",
      "execution_count": null,
      "metadata": {
        "colab": {
          "base_uri": "https://localhost:8080/"
        },
        "id": "1NO8htORdEDz",
        "outputId": "6d044e23-fa88-4716-c943-6a3d5fd0a38b"
      },
      "outputs": [
        {
          "name": "stdout",
          "output_type": "stream",
          "text": [
            "CITATION.cff\t   demo     MANIFEST.in\t\t projects\t  requirements.txt  tests\n",
            "configs\t\t   docker   mmpretrain\t\t README.md\t  resources\t    tools\n",
            "CONTRIBUTING.md    docs     mmpretrain.egg-info  README_zh-CN.md  setup.cfg\n",
            "dataset-index.yml  LICENSE  model-index.yml\t requirements\t  setup.py\n"
          ]
        }
      ],
      "source": []
    },
    {
      "cell_type": "code",
      "execution_count": null,
      "metadata": {
        "colab": {
          "base_uri": "https://localhost:8080/"
        },
        "id": "Rm3cJ1JNYs1e",
        "outputId": "7d548a95-edd2-485e-8da3-48306e47cecd"
      },
      "outputs": [
        {
          "name": "stdout",
          "output_type": "stream",
          "text": [
            "data_preprocessor = \u001b[1;35mdict\u001b[0m\u001b[1m(\u001b[0m\n",
            "    \u001b[33mmean\u001b[0m=\u001b[1m[\u001b[0m\n",
            "        \u001b[1;36m129.304\u001b[0m,\n",
            "        \u001b[1;36m124.07\u001b[0m,\n",
            "        \u001b[1;36m112.434\u001b[0m,\n",
            "    \u001b[1m]\u001b[0m,\n",
            "    \u001b[33mnum_classes\u001b[0m=\u001b[1;36m100\u001b[0m,\n",
            "    \u001b[33mstd\u001b[0m=\u001b[1m[\u001b[0m\n",
            "        \u001b[1;36m68.17\u001b[0m,\n",
            "        \u001b[1;36m65.392\u001b[0m,\n",
            "        \u001b[1;36m70.418\u001b[0m,\n",
            "    \u001b[1m]\u001b[0m,\n",
            "    \u001b[33mto_rgb\u001b[0m=\u001b[3;91mFalse\u001b[0m\u001b[1m)\u001b[0m\n",
            "dataset_type = \u001b[32m'CIFAR100'\u001b[0m\n",
            "test_dataloader = \u001b[1;35mdict\u001b[0m\u001b[1m(\u001b[0m\n",
            "    \u001b[33mbatch_size\u001b[0m=\u001b[1;36m16\u001b[0m,\n",
            "    \u001b[33mdataset\u001b[0m=\u001b[1;35mdict\u001b[0m\u001b[1m(\u001b[0m\n",
            "        \u001b[33mdata_root\u001b[0m=\u001b[32m'data/cifar100/'\u001b[0m,\n",
            "        \u001b[33mpipeline\u001b[0m=\u001b[1m[\u001b[0m\n",
            "            \u001b[1;35mdict\u001b[0m\u001b[1m(\u001b[0m\u001b[33mtype\u001b[0m=\u001b[32m'PackInputs'\u001b[0m\u001b[1m)\u001b[0m,\n",
            "        \u001b[1m]\u001b[0m,\n",
            "        \u001b[33msplit\u001b[0m=\u001b[32m'test'\u001b[0m,\n",
            "        \u001b[33mtype\u001b[0m=\u001b[32m'CIFAR100'\u001b[0m\u001b[1m)\u001b[0m,\n",
            "    \u001b[33mnum_workers\u001b[0m=\u001b[1;36m2\u001b[0m,\n",
            "    \u001b[33msampler\u001b[0m=\u001b[1;35mdict\u001b[0m\u001b[1m(\u001b[0m\u001b[33mshuffle\u001b[0m=\u001b[3;91mFalse\u001b[0m, \u001b[33mtype\u001b[0m=\u001b[32m'DefaultSampler'\u001b[0m\u001b[1m)\u001b[0m\u001b[1m)\u001b[0m\n",
            "test_evaluator = \u001b[1;35mdict\u001b[0m\u001b[1m(\u001b[0m\u001b[33mtopk\u001b[0m=\u001b[1m(\u001b[0m\u001b[1;36m1\u001b[0m, \u001b[1m)\u001b[0m, \u001b[33mtype\u001b[0m=\u001b[32m'Accuracy'\u001b[0m\u001b[1m)\u001b[0m\n",
            "test_pipeline = \u001b[1m[\u001b[0m\n",
            "    \u001b[1;35mdict\u001b[0m\u001b[1m(\u001b[0m\u001b[33mtype\u001b[0m=\u001b[32m'PackInputs'\u001b[0m\u001b[1m)\u001b[0m,\n",
            "\u001b[1m]\u001b[0m\n",
            "train_dataloader = \u001b[1;35mdict\u001b[0m\u001b[1m(\u001b[0m\n",
            "    \u001b[33mbatch_size\u001b[0m=\u001b[1;36m16\u001b[0m,\n",
            "    \u001b[33mdataset\u001b[0m=\u001b[1;35mdict\u001b[0m\u001b[1m(\u001b[0m\n",
            "        \u001b[33mdata_root\u001b[0m=\u001b[32m'data/cifar100'\u001b[0m,\n",
            "        \u001b[33mpipeline\u001b[0m=\u001b[1m[\u001b[0m\n",
            "            \u001b[1;35mdict\u001b[0m\u001b[1m(\u001b[0m\u001b[33mcrop_size\u001b[0m=\u001b[1;36m32\u001b[0m, \u001b[33mpadding\u001b[0m=\u001b[1;36m4\u001b[0m, \u001b[33mtype\u001b[0m=\u001b[32m'RandomCrop'\u001b[0m\u001b[1m)\u001b[0m,\n",
            "            \u001b[1;35mdict\u001b[0m\u001b[1m(\u001b[0m\u001b[33mdirection\u001b[0m=\u001b[32m'horizontal'\u001b[0m, \u001b[33mprob\u001b[0m=\u001b[1;36m0\u001b[0m\u001b[1;36m.5\u001b[0m, \u001b[33mtype\u001b[0m=\u001b[32m'RandomFlip'\u001b[0m\u001b[1m)\u001b[0m,\n",
            "            \u001b[1;35mdict\u001b[0m\u001b[1m(\u001b[0m\u001b[33mtype\u001b[0m=\u001b[32m'PackInputs'\u001b[0m\u001b[1m)\u001b[0m,\n",
            "        \u001b[1m]\u001b[0m,\n",
            "        \u001b[33msplit\u001b[0m=\u001b[32m'train'\u001b[0m,\n",
            "        \u001b[33mtype\u001b[0m=\u001b[32m'CIFAR100'\u001b[0m\u001b[1m)\u001b[0m,\n",
            "    \u001b[33mnum_workers\u001b[0m=\u001b[1;36m2\u001b[0m,\n",
            "    \u001b[33msampler\u001b[0m=\u001b[1;35mdict\u001b[0m\u001b[1m(\u001b[0m\u001b[33mshuffle\u001b[0m=\u001b[3;92mTrue\u001b[0m, \u001b[33mtype\u001b[0m=\u001b[32m'DefaultSampler'\u001b[0m\u001b[1m)\u001b[0m\u001b[1m)\u001b[0m\n",
            "train_pipeline = \u001b[1m[\u001b[0m\n",
            "    \u001b[1;35mdict\u001b[0m\u001b[1m(\u001b[0m\u001b[33mcrop_size\u001b[0m=\u001b[1;36m32\u001b[0m, \u001b[33mpadding\u001b[0m=\u001b[1;36m4\u001b[0m, \u001b[33mtype\u001b[0m=\u001b[32m'RandomCrop'\u001b[0m\u001b[1m)\u001b[0m,\n",
            "    \u001b[1;35mdict\u001b[0m\u001b[1m(\u001b[0m\u001b[33mdirection\u001b[0m=\u001b[32m'horizontal'\u001b[0m, \u001b[33mprob\u001b[0m=\u001b[1;36m0\u001b[0m\u001b[1;36m.5\u001b[0m, \u001b[33mtype\u001b[0m=\u001b[32m'RandomFlip'\u001b[0m\u001b[1m)\u001b[0m,\n",
            "    \u001b[1;35mdict\u001b[0m\u001b[1m(\u001b[0m\u001b[33mtype\u001b[0m=\u001b[32m'PackInputs'\u001b[0m\u001b[1m)\u001b[0m,\n",
            "\u001b[1m]\u001b[0m\n",
            "val_dataloader = \u001b[1;35mdict\u001b[0m\u001b[1m(\u001b[0m\n",
            "    \u001b[33mbatch_size\u001b[0m=\u001b[1;36m16\u001b[0m,\n",
            "    \u001b[33mdataset\u001b[0m=\u001b[1;35mdict\u001b[0m\u001b[1m(\u001b[0m\n",
            "        \u001b[33mdata_root\u001b[0m=\u001b[32m'data/cifar100/'\u001b[0m,\n",
            "        \u001b[33mpipeline\u001b[0m=\u001b[1m[\u001b[0m\n",
            "            \u001b[1;35mdict\u001b[0m\u001b[1m(\u001b[0m\u001b[33mtype\u001b[0m=\u001b[32m'PackInputs'\u001b[0m\u001b[1m)\u001b[0m,\n",
            "        \u001b[1m]\u001b[0m,\n",
            "        \u001b[33msplit\u001b[0m=\u001b[32m'test'\u001b[0m,\n",
            "        \u001b[33mtype\u001b[0m=\u001b[32m'CIFAR100'\u001b[0m\u001b[1m)\u001b[0m,\n",
            "    \u001b[33mnum_workers\u001b[0m=\u001b[1;36m2\u001b[0m,\n",
            "    \u001b[33msampler\u001b[0m=\u001b[1;35mdict\u001b[0m\u001b[1m(\u001b[0m\u001b[33mshuffle\u001b[0m=\u001b[3;91mFalse\u001b[0m, \u001b[33mtype\u001b[0m=\u001b[32m'DefaultSampler'\u001b[0m\u001b[1m)\u001b[0m\u001b[1m)\u001b[0m\n",
            "val_evaluator = \u001b[1;35mdict\u001b[0m\u001b[1m(\u001b[0m\u001b[33mtopk\u001b[0m=\u001b[1m(\u001b[0m\u001b[1;36m1\u001b[0m, \u001b[1m)\u001b[0m, \u001b[33mtype\u001b[0m=\u001b[32m'Accuracy'\u001b[0m\u001b[1m)\u001b[0m\n",
            "\n"
          ]
        }
      ],
      "source": [
        "#%cd mmpretrain\n",
        "!python tools/misc/print_config.py /content/mmpretrain/configs/_base_/datasets/cifar100_bs16.py\n"
      ]
    },
    {
      "cell_type": "code",
      "execution_count": null,
      "metadata": {
        "colab": {
          "base_uri": "https://localhost:8080/"
        },
        "id": "TBYZKL7Rgq-9",
        "outputId": "a0a19f49-170d-445b-c1af-2a2f1f46dc96"
      },
      "outputs": [
        {
          "output_type": "stream",
          "name": "stdout",
          "text": [
            "\r0% [Working]\r            \rHit:1 https://cloud.r-project.org/bin/linux/ubuntu jammy-cran40/ InRelease\n",
            "\r0% [Connecting to archive.ubuntu.com (185.125.190.39)] [Connecting to security.ubuntu.com (91.189.91\r                                                                                                    \rGet:2 http://security.ubuntu.com/ubuntu jammy-security InRelease [110 kB]\n",
            "Hit:3 https://developer.download.nvidia.com/compute/cuda/repos/ubuntu2204/x86_64  InRelease\n",
            "Hit:4 http://archive.ubuntu.com/ubuntu jammy InRelease\n",
            "Get:5 http://archive.ubuntu.com/ubuntu jammy-updates InRelease [119 kB]\n",
            "Hit:6 https://ppa.launchpadcontent.net/c2d4u.team/c2d4u4.0+/ubuntu jammy InRelease\n",
            "Hit:7 https://ppa.launchpadcontent.net/deadsnakes/ppa/ubuntu jammy InRelease\n",
            "Hit:8 http://archive.ubuntu.com/ubuntu jammy-backports InRelease\n",
            "Hit:9 https://ppa.launchpadcontent.net/graphics-drivers/ppa/ubuntu jammy InRelease\n",
            "Hit:10 https://ppa.launchpadcontent.net/ubuntugis/ppa/ubuntu jammy InRelease\n",
            "Fetched 229 kB in 3s (68.7 kB/s)\n",
            "Reading package lists... Done\n",
            "Reading package lists... Done\n",
            "Building dependency tree... Done\n",
            "Reading state information... Done\n",
            "nvidia-driver-465 is already the newest version (470.223.02-0ubuntu0.22.04.1).\n",
            "0 upgraded, 0 newly installed, 0 to remove and 42 not upgraded.\n"
          ]
        }
      ],
      "source": [
        "\n",
        "!apt-get update\n",
        "!apt-get install -y nvidia-driver-465"
      ]
    },
    {
      "cell_type": "code",
      "execution_count": null,
      "metadata": {
        "colab": {
          "base_uri": "https://localhost:8080/"
        },
        "id": "54z2rW0zSbkr",
        "outputId": "0c3025a5-63b7-44ed-cf4d-17a3116713cd"
      },
      "outputs": [
        {
          "output_type": "stream",
          "name": "stdout",
          "text": [
            "Sat Feb 17 18:36:45 2024       \n",
            "+---------------------------------------------------------------------------------------+\n",
            "| NVIDIA-SMI 535.104.05             Driver Version: 535.104.05   CUDA Version: 12.2     |\n",
            "|-----------------------------------------+----------------------+----------------------+\n",
            "| GPU  Name                 Persistence-M | Bus-Id        Disp.A | Volatile Uncorr. ECC |\n",
            "| Fan  Temp   Perf          Pwr:Usage/Cap |         Memory-Usage | GPU-Util  Compute M. |\n",
            "|                                         |                      |               MIG M. |\n",
            "|=========================================+======================+======================|\n",
            "|   0  Tesla T4                       Off | 00000000:00:04.0 Off |                    0 |\n",
            "| N/A   39C    P8               9W /  70W |      0MiB / 15360MiB |      0%      Default |\n",
            "|                                         |                      |                  N/A |\n",
            "+-----------------------------------------+----------------------+----------------------+\n",
            "                                                                                         \n",
            "+---------------------------------------------------------------------------------------+\n",
            "| Processes:                                                                            |\n",
            "|  GPU   GI   CI        PID   Type   Process name                            GPU Memory |\n",
            "|        ID   ID                                                             Usage      |\n",
            "|=======================================================================================|\n",
            "|  No running processes found                                                           |\n",
            "+---------------------------------------------------------------------------------------+\n",
            "nvcc: NVIDIA (R) Cuda compiler driver\n",
            "Copyright (c) 2005-2021 NVIDIA Corporation\n",
            "Built on Sun_Mar_21_19:15:46_PDT_2021\n",
            "Cuda compilation tools, release 11.3, V11.3.58\n",
            "Build cuda_11.3.r11.3/compiler.29745058_0\n",
            "1.13.1+cu117\n",
            "True\n"
          ]
        }
      ],
      "source": [
        "!nvidia-smi\n",
        "!nvcc -V\n",
        "import torch, torchvision\n",
        "print(torch.__version__)\n",
        "print(torch.cuda.is_available())"
      ]
    },
    {
      "cell_type": "code",
      "execution_count": null,
      "metadata": {
        "colab": {
          "base_uri": "https://localhost:8080/"
        },
        "id": "bKCahOPFeESX",
        "outputId": "8c5e5dac-98ca-44b3-ca3f-ad29359e5404"
      },
      "outputs": [
        {
          "output_type": "stream",
          "name": "stdout",
          "text": [
            "Collecting timm\n",
            "  Downloading timm-0.9.12-py3-none-any.whl (2.2 MB)\n",
            "\u001b[2K     \u001b[90m━━━━━━━━━━━━━━━━━━━━━━━━━━━━━━━━━━━━━━━━\u001b[0m \u001b[32m2.2/2.2 MB\u001b[0m \u001b[31m14.9 MB/s\u001b[0m eta \u001b[36m0:00:00\u001b[0m\n",
            "\u001b[?25hRequirement already satisfied: torch>=1.7 in /usr/local/lib/python3.10/dist-packages (from timm) (1.13.1+cu117)\n",
            "Requirement already satisfied: torchvision in /usr/local/lib/python3.10/dist-packages (from timm) (0.14.1+cu117)\n",
            "Requirement already satisfied: pyyaml in /usr/local/lib/python3.10/dist-packages (from timm) (6.0.1)\n",
            "Requirement already satisfied: huggingface-hub in /usr/local/lib/python3.10/dist-packages (from timm) (0.20.3)\n",
            "Requirement already satisfied: safetensors in /usr/local/lib/python3.10/dist-packages (from timm) (0.4.2)\n",
            "Requirement already satisfied: typing-extensions in /usr/local/lib/python3.10/dist-packages (from torch>=1.7->timm) (4.9.0)\n",
            "Requirement already satisfied: filelock in /usr/local/lib/python3.10/dist-packages (from huggingface-hub->timm) (3.13.1)\n",
            "Requirement already satisfied: fsspec>=2023.5.0 in /usr/local/lib/python3.10/dist-packages (from huggingface-hub->timm) (2023.6.0)\n",
            "Requirement already satisfied: requests in /usr/local/lib/python3.10/dist-packages (from huggingface-hub->timm) (2.28.2)\n",
            "Requirement already satisfied: tqdm>=4.42.1 in /usr/local/lib/python3.10/dist-packages (from huggingface-hub->timm) (4.65.2)\n",
            "Requirement already satisfied: packaging>=20.9 in /usr/local/lib/python3.10/dist-packages (from huggingface-hub->timm) (23.2)\n",
            "Requirement already satisfied: numpy in /usr/local/lib/python3.10/dist-packages (from torchvision->timm) (1.25.2)\n",
            "Requirement already satisfied: pillow!=8.3.*,>=5.3.0 in /usr/local/lib/python3.10/dist-packages (from torchvision->timm) (9.4.0)\n",
            "Requirement already satisfied: charset-normalizer<4,>=2 in /usr/local/lib/python3.10/dist-packages (from requests->huggingface-hub->timm) (3.3.2)\n",
            "Requirement already satisfied: idna<4,>=2.5 in /usr/local/lib/python3.10/dist-packages (from requests->huggingface-hub->timm) (3.6)\n",
            "Requirement already satisfied: urllib3<1.27,>=1.21.1 in /usr/local/lib/python3.10/dist-packages (from requests->huggingface-hub->timm) (1.26.18)\n",
            "Requirement already satisfied: certifi>=2017.4.17 in /usr/local/lib/python3.10/dist-packages (from requests->huggingface-hub->timm) (2024.2.2)\n",
            "Installing collected packages: timm\n",
            "Successfully installed timm-0.9.12\n"
          ]
        }
      ],
      "source": [
        "!pip install timm"
      ]
    },
    {
      "cell_type": "code",
      "execution_count": null,
      "metadata": {
        "id": "GFTvT5g9RyPr"
      },
      "outputs": [],
      "source": [
        "\n",
        "# Step 1: Import Libraries\n",
        "import torch\n",
        "import torch.nn as nn\n",
        "import torch.optim as optim\n",
        "from torchvision import transforms\n",
        "from torchvision.datasets import ImageFolder\n",
        "from torch.utils.data import DataLoader\n",
        "from mmpretrain import get_model\n",
        "from google.colab import drive\n",
        "import timm\n",
        "import numpy as np\n",
        "\n"
      ]
    },
    {
      "cell_type": "code",
      "execution_count": null,
      "metadata": {
        "colab": {
          "base_uri": "https://localhost:8080/"
        },
        "id": "-3gDh8q7-0dY",
        "outputId": "8c205b60-bcd1-44bc-db96-8b360c8f4275"
      },
      "outputs": [
        {
          "output_type": "stream",
          "name": "stdout",
          "text": [
            "Mounted at /content/gdrive\n"
          ]
        }
      ],
      "source": [
        "# Step 3: Load Dataset\n",
        "drive.mount('/content/gdrive')\n",
        "\n",
        "# Define transformations\n",
        "transform = transforms.Compose([\n",
        "    transforms.Resize((224, 224)),\n",
        "    transforms.ToTensor(),\n",
        "])\n",
        "\n",
        "# Load the prepared Oxford Flowers dataset with defined transforms\n",
        "train_dataset = ImageFolder(\"/content/gdrive/My Drive/oxford_flowers/train_set\", transform=transform)\n",
        "val_dataset = ImageFolder(\"/content/gdrive/My Drive/oxford_flowers/val_set\", transform=transform)\n"
      ]
    },
    {
      "cell_type": "code",
      "execution_count": null,
      "metadata": {
        "colab": {
          "base_uri": "https://localhost:8080/"
        },
        "id": "NG-1ur56xxB8",
        "outputId": "8af87466-a608-4218-f58f-6c07cf09efb6"
      },
      "outputs": [
        {
          "output_type": "stream",
          "name": "stdout",
          "text": [
            "02/17 20:00:08 - mmengine - \u001b[4m\u001b[97mINFO\u001b[0m - \n",
            "------------------------------------------------------------\n",
            "System environment:\n",
            "    sys.platform: linux\n",
            "    Python: 3.10.12 (main, Nov 20 2023, 15:14:05) [GCC 11.4.0]\n",
            "    CUDA available: True\n",
            "    MUSA available: False\n",
            "    numpy_random_seed: 0\n",
            "    GPU 0: Tesla T4\n",
            "    CUDA_HOME: /usr/local/cuda\n",
            "    NVCC: Cuda compilation tools, release 11.3, V11.3.58\n",
            "    GCC: x86_64-linux-gnu-gcc (Ubuntu 11.4.0-1ubuntu1~22.04) 11.4.0\n",
            "    PyTorch: 1.13.1+cu117\n",
            "    PyTorch compiling details: PyTorch built with:\n",
            "  - GCC 9.3\n",
            "  - C++ Version: 201402\n",
            "  - Intel(R) Math Kernel Library Version 2020.0.0 Product Build 20191122 for Intel(R) 64 architecture applications\n",
            "  - Intel(R) MKL-DNN v2.6.0 (Git Hash 52b5f107dd9cf10910aaa19cb47f3abf9b349815)\n",
            "  - OpenMP 201511 (a.k.a. OpenMP 4.5)\n",
            "  - LAPACK is enabled (usually provided by MKL)\n",
            "  - NNPACK is enabled\n",
            "  - CPU capability usage: AVX2\n",
            "  - CUDA Runtime 11.7\n",
            "  - NVCC architecture flags: -gencode;arch=compute_37,code=sm_37;-gencode;arch=compute_50,code=sm_50;-gencode;arch=compute_60,code=sm_60;-gencode;arch=compute_70,code=sm_70;-gencode;arch=compute_75,code=sm_75;-gencode;arch=compute_80,code=sm_80;-gencode;arch=compute_86,code=sm_86\n",
            "  - CuDNN 8.5\n",
            "  - Magma 2.6.1\n",
            "  - Build settings: BLAS_INFO=mkl, BUILD_TYPE=Release, CUDA_VERSION=11.7, CUDNN_VERSION=8.5.0, CXX_COMPILER=/opt/rh/devtoolset-9/root/usr/bin/c++, CXX_FLAGS= -fabi-version=11 -Wno-deprecated -fvisibility-inlines-hidden -DUSE_PTHREADPOOL -fopenmp -DNDEBUG -DUSE_KINETO -DUSE_FBGEMM -DUSE_QNNPACK -DUSE_PYTORCH_QNNPACK -DUSE_XNNPACK -DSYMBOLICATE_MOBILE_DEBUG_HANDLE -DEDGE_PROFILER_USE_KINETO -O2 -fPIC -Wno-narrowing -Wall -Wextra -Werror=return-type -Werror=non-virtual-dtor -Wno-missing-field-initializers -Wno-type-limits -Wno-array-bounds -Wno-unknown-pragmas -Wunused-local-typedefs -Wno-unused-parameter -Wno-unused-function -Wno-unused-result -Wno-strict-overflow -Wno-strict-aliasing -Wno-error=deprecated-declarations -Wno-stringop-overflow -Wno-psabi -Wno-error=pedantic -Wno-error=redundant-decls -Wno-error=old-style-cast -fdiagnostics-color=always -faligned-new -Wno-unused-but-set-variable -Wno-maybe-uninitialized -fno-math-errno -fno-trapping-math -Werror=format -Werror=cast-function-type -Wno-stringop-overflow, LAPACK_INFO=mkl, PERF_WITH_AVX=1, PERF_WITH_AVX2=1, PERF_WITH_AVX512=1, TORCH_VERSION=1.13.1, USE_CUDA=ON, USE_CUDNN=ON, USE_EXCEPTION_PTR=1, USE_GFLAGS=OFF, USE_GLOG=OFF, USE_MKL=ON, USE_MKLDNN=ON, USE_MPI=OFF, USE_NCCL=ON, USE_NNPACK=ON, USE_OPENMP=ON, USE_ROCM=OFF, \n",
            "\n",
            "    TorchVision: 0.14.1+cu117\n",
            "    OpenCV: 4.8.0\n",
            "    MMEngine: 0.10.3\n",
            "\n",
            "Runtime environment:\n",
            "    dist_cfg: {'backend': 'nccl'}\n",
            "    seed: 0\n",
            "    deterministic: False\n",
            "    Distributed launcher: none\n",
            "    Distributed training: False\n",
            "    GPU number: 1\n",
            "------------------------------------------------------------\n",
            "\n",
            "02/17 20:00:09 - mmengine - \u001b[4m\u001b[97mINFO\u001b[0m - Config:\n",
            "data_preprocessor = dict(\n",
            "    mean=[\n",
            "        123.675,\n",
            "        116.28,\n",
            "        103.53,\n",
            "    ],\n",
            "    std=[\n",
            "        58.395,\n",
            "        57.12,\n",
            "        57.375,\n",
            "    ],\n",
            "    to_rgb=True)\n",
            "dataset_type = 'CustomDataset'\n",
            "default_hooks = dict(\n",
            "    checkpoint=dict(interval=10, type='CheckpointHook'),\n",
            "    logger=dict(interval=100, type='LoggerHook'),\n",
            "    param_scheduler=dict(type='ParamSchedulerHook'),\n",
            "    sampler_seed=dict(type='DistSamplerSeedHook'),\n",
            "    timer=dict(type='IterTimerHook'),\n",
            "    visualization=dict(enable=False, type='VisualizationHook'))\n",
            "default_scope = 'mmpretrain'\n",
            "launcher = 'none'\n",
            "log_level = 'INFO'\n",
            "model = dict(\n",
            "    backbone=dict(type='MobileNetV3'),\n",
            "    head=dict(\n",
            "        in_channels=576,\n",
            "        loss=dict(loss_weight=1.0, type='CrossEntropyLoss'),\n",
            "        num_classes=17,\n",
            "        topk=(\n",
            "            1,\n",
            "            5,\n",
            "        ),\n",
            "        type='LinearClsHead'),\n",
            "    neck=dict(type='GlobalAveragePooling'),\n",
            "    type='ImageClassifier')\n",
            "optim_wrapper = dict(\n",
            "    loss_scale='dynamic',\n",
            "    optimizer=dict(\n",
            "        betas=(\n",
            "            0.9,\n",
            "            0.95,\n",
            "        ), lr=0.0024, type='AdamW', weight_decay=0.05),\n",
            "    paramwise_cfg=dict(\n",
            "        custom_keys=dict(\n",
            "            bias=dict(decay_mult=0.0),\n",
            "            cls_token=dict(decay_mult=0.0),\n",
            "            ln=dict(decay_mult=0.0),\n",
            "            mask_token=dict(decay_mult=0.0),\n",
            "            pos_embed=dict(decay_mult=0.0))),\n",
            "    type='AmpOptimWrapper')\n",
            "param_scheduler = [\n",
            "    dict(\n",
            "        begin=0,\n",
            "        by_epoch=True,\n",
            "        convert_to_iter_based=True,\n",
            "        end=40,\n",
            "        start_factor=0.0001,\n",
            "        type='LinearLR'),\n",
            "    dict(\n",
            "        T_max=260,\n",
            "        begin=40,\n",
            "        by_epoch=True,\n",
            "        convert_to_iter_based=True,\n",
            "        end=300,\n",
            "        type='CosineAnnealingLR'),\n",
            "]\n",
            "randomness = dict(deterministic=False, seed=0)\n",
            "test_cfg = dict()\n",
            "test_dataloader = dict(\n",
            "    batch_size=32,\n",
            "    collate_fn=dict(type='default_collate'),\n",
            "    dataset=dict(\n",
            "        ann_file='',\n",
            "        data_prefix='val_set',\n",
            "        data_root='/content/gdrive/MyDrive/oxford_flowers',\n",
            "        pipeline=[\n",
            "            dict(type='LoadImageFromFile'),\n",
            "            dict(backend='pillow', edge='short', scale=256, type='ResizeEdge'),\n",
            "            dict(crop_size=224, type='CenterCrop'),\n",
            "            dict(type='PackInputs'),\n",
            "        ],\n",
            "        type='CustomDataset',\n",
            "        with_label=True),\n",
            "    num_workers=5,\n",
            "    persistent_workers=True,\n",
            "    pin_memory=True,\n",
            "    sampler=dict(shuffle=False, type='DefaultSampler'))\n",
            "test_evaluator = [\n",
            "    dict(type='AveragePrecision'),\n",
            "    dict(average='macro', type='MultiLabelMetric'),\n",
            "    dict(average='micro', type='MultiLabelMetric'),\n",
            "]\n",
            "test_pipeline = [\n",
            "    dict(type='LoadImageFromFile'),\n",
            "    dict(backend='pillow', edge='short', scale=256, type='ResizeEdge'),\n",
            "    dict(crop_size=224, type='CenterCrop'),\n",
            "    dict(type='PackInputs'),\n",
            "]\n",
            "train_cfg = dict(by_epoch=True, max_epochs=100, val_interval=1)\n",
            "train_dataloader = dict(\n",
            "    batch_size=32,\n",
            "    collate_fn=dict(type='default_collate'),\n",
            "    dataset=dict(\n",
            "        ann_file='',\n",
            "        data_prefix='train_set',\n",
            "        data_root='/content/gdrive/MyDrive/oxford_flowers',\n",
            "        pipeline=[\n",
            "            dict(type='LoadImageFromFile'),\n",
            "            dict(backend='pillow', scale=224, type='RandomResizedCrop'),\n",
            "            dict(direction='horizontal', prob=0.5, type='RandomFlip'),\n",
            "            dict(type='PackInputs'),\n",
            "        ],\n",
            "        type='CustomDataset',\n",
            "        with_label=True),\n",
            "    num_workers=5,\n",
            "    persistent_workers=True,\n",
            "    pin_memory=True,\n",
            "    sampler=dict(shuffle=True, type='DefaultSampler'))\n",
            "train_pipeline = [\n",
            "    dict(type='LoadImageFromFile'),\n",
            "    dict(backend='pillow', scale=224, type='RandomResizedCrop'),\n",
            "    dict(direction='horizontal', prob=0.5, type='RandomFlip'),\n",
            "    dict(type='PackInputs'),\n",
            "]\n",
            "val_cfg = dict()\n",
            "val_dataloader = dict(\n",
            "    batch_size=32,\n",
            "    collate_fn=dict(type='default_collate'),\n",
            "    dataset=dict(\n",
            "        ann_file='',\n",
            "        data_prefix='val_set',\n",
            "        data_root='/content/gdrive/MyDrive/oxford_flowers',\n",
            "        pipeline=[\n",
            "            dict(type='LoadImageFromFile'),\n",
            "            dict(backend='pillow', edge='short', scale=256, type='ResizeEdge'),\n",
            "            dict(crop_size=224, type='CenterCrop'),\n",
            "            dict(type='PackInputs'),\n",
            "        ],\n",
            "        type='CustomDataset',\n",
            "        with_label=True),\n",
            "    num_workers=5,\n",
            "    persistent_workers=True,\n",
            "    pin_memory=True,\n",
            "    sampler=dict(shuffle=False, type='DefaultSampler'))\n",
            "val_evaluator = [\n",
            "    dict(type='AveragePrecision'),\n",
            "    dict(average='macro', type='MultiLabelMetric'),\n",
            "    dict(average='micro', type='MultiLabelMetric'),\n",
            "]\n",
            "vis_backends = [\n",
            "    dict(type='LocalVisBackend'),\n",
            "]\n",
            "visualizer = dict(\n",
            "    name='visualizer',\n",
            "    type='UniversalVisualizer',\n",
            "    vis_backends=[\n",
            "        dict(type='LocalVisBackend'),\n",
            "    ])\n",
            "work_dir = 'content/log/config1'\n",
            "\n",
            "/usr/local/lib/python3.10/dist-packages/mmcv/cnn/bricks/hsigmoid.py:35: UserWarning: In MMCV v1.4.4, we modified the default value of args to align with PyTorch official. Previous Implementation: Hsigmoid(x) = min(max((x + 1) / 2, 0), 1). Current Implementation: Hsigmoid(x) = min(max((x + 3) / 6, 0), 1).\n",
            "  warnings.warn(\n",
            "02/17 20:00:12 - mmengine - \u001b[4m\u001b[97mINFO\u001b[0m - Distributed training is not used, all SyncBatchNorm (SyncBN) layers in the model will be automatically reverted to BatchNormXd layers if they are used.\n",
            "02/17 20:00:12 - mmengine - \u001b[4m\u001b[97mINFO\u001b[0m - Hooks will be executed in the following order:\n",
            "before_run:\n",
            "(VERY_HIGH   ) RuntimeInfoHook                    \n",
            "(BELOW_NORMAL) LoggerHook                         \n",
            " -------------------- \n",
            "before_train:\n",
            "(VERY_HIGH   ) RuntimeInfoHook                    \n",
            "(NORMAL      ) IterTimerHook                      \n",
            "(VERY_LOW    ) CheckpointHook                     \n",
            " -------------------- \n",
            "before_train_epoch:\n",
            "(VERY_HIGH   ) RuntimeInfoHook                    \n",
            "(NORMAL      ) IterTimerHook                      \n",
            "(NORMAL      ) DistSamplerSeedHook                \n",
            " -------------------- \n",
            "before_train_iter:\n",
            "(VERY_HIGH   ) RuntimeInfoHook                    \n",
            "(NORMAL      ) IterTimerHook                      \n",
            " -------------------- \n",
            "after_train_iter:\n",
            "(VERY_HIGH   ) RuntimeInfoHook                    \n",
            "(NORMAL      ) IterTimerHook                      \n",
            "(BELOW_NORMAL) LoggerHook                         \n",
            "(LOW         ) ParamSchedulerHook                 \n",
            "(VERY_LOW    ) CheckpointHook                     \n",
            " -------------------- \n",
            "after_train_epoch:\n",
            "(NORMAL      ) IterTimerHook                      \n",
            "(LOW         ) ParamSchedulerHook                 \n",
            "(VERY_LOW    ) CheckpointHook                     \n",
            " -------------------- \n",
            "before_val:\n",
            "(VERY_HIGH   ) RuntimeInfoHook                    \n",
            " -------------------- \n",
            "before_val_epoch:\n",
            "(NORMAL      ) IterTimerHook                      \n",
            " -------------------- \n",
            "before_val_iter:\n",
            "(NORMAL      ) IterTimerHook                      \n",
            " -------------------- \n",
            "after_val_iter:\n",
            "(NORMAL      ) IterTimerHook                      \n",
            "(NORMAL      ) VisualizationHook                  \n",
            "(BELOW_NORMAL) LoggerHook                         \n",
            " -------------------- \n",
            "after_val_epoch:\n",
            "(VERY_HIGH   ) RuntimeInfoHook                    \n",
            "(NORMAL      ) IterTimerHook                      \n",
            "(BELOW_NORMAL) LoggerHook                         \n",
            "(LOW         ) ParamSchedulerHook                 \n",
            "(VERY_LOW    ) CheckpointHook                     \n",
            " -------------------- \n",
            "after_val:\n",
            "(VERY_HIGH   ) RuntimeInfoHook                    \n",
            " -------------------- \n",
            "after_train:\n",
            "(VERY_HIGH   ) RuntimeInfoHook                    \n",
            "(VERY_LOW    ) CheckpointHook                     \n",
            " -------------------- \n",
            "before_test:\n",
            "(VERY_HIGH   ) RuntimeInfoHook                    \n",
            " -------------------- \n",
            "before_test_epoch:\n",
            "(NORMAL      ) IterTimerHook                      \n",
            " -------------------- \n",
            "before_test_iter:\n",
            "(NORMAL      ) IterTimerHook                      \n",
            " -------------------- \n",
            "after_test_iter:\n",
            "(NORMAL      ) IterTimerHook                      \n",
            "(NORMAL      ) VisualizationHook                  \n",
            "(BELOW_NORMAL) LoggerHook                         \n",
            " -------------------- \n",
            "after_test_epoch:\n",
            "(VERY_HIGH   ) RuntimeInfoHook                    \n",
            "(NORMAL      ) IterTimerHook                      \n",
            "(BELOW_NORMAL) LoggerHook                         \n",
            " -------------------- \n",
            "after_test:\n",
            "(VERY_HIGH   ) RuntimeInfoHook                    \n",
            " -------------------- \n",
            "after_run:\n",
            "(BELOW_NORMAL) LoggerHook                         \n",
            " -------------------- \n",
            "/usr/local/lib/python3.10/dist-packages/torch/utils/data/dataloader.py:554: UserWarning: This DataLoader will create 5 worker processes in total. Our suggested max number of worker in current system is 2, which is smaller than what this DataLoader is going to create. Please be aware that excessive worker creation might get DataLoader running slow or even freeze, lower the worker number to avoid potential slowness/freeze if necessary.\n",
            "  warnings.warn(_create_warning_msg(\n",
            "02/17 20:00:13 - mmengine - \u001b[4m\u001b[97mINFO\u001b[0m - paramwise_options -- backbone.layer0.bn.bias:lr=0.0024\n",
            "02/17 20:00:13 - mmengine - \u001b[4m\u001b[97mINFO\u001b[0m - paramwise_options -- backbone.layer0.bn.bias:weight_decay=0.0\n",
            "02/17 20:00:13 - mmengine - \u001b[4m\u001b[97mINFO\u001b[0m - paramwise_options -- backbone.layer0.bn.bias:decay_mult=0.0\n",
            "02/17 20:00:13 - mmengine - \u001b[4m\u001b[97mINFO\u001b[0m - paramwise_options -- backbone.layer1.depthwise_conv.bn.bias:lr=0.0024\n",
            "02/17 20:00:13 - mmengine - \u001b[4m\u001b[97mINFO\u001b[0m - paramwise_options -- backbone.layer1.depthwise_conv.bn.bias:weight_decay=0.0\n",
            "02/17 20:00:13 - mmengine - \u001b[4m\u001b[97mINFO\u001b[0m - paramwise_options -- backbone.layer1.depthwise_conv.bn.bias:decay_mult=0.0\n",
            "02/17 20:00:13 - mmengine - \u001b[4m\u001b[97mINFO\u001b[0m - paramwise_options -- backbone.layer1.se.conv1.conv.bias:lr=0.0024\n",
            "02/17 20:00:13 - mmengine - \u001b[4m\u001b[97mINFO\u001b[0m - paramwise_options -- backbone.layer1.se.conv1.conv.bias:weight_decay=0.0\n",
            "02/17 20:00:13 - mmengine - \u001b[4m\u001b[97mINFO\u001b[0m - paramwise_options -- backbone.layer1.se.conv1.conv.bias:decay_mult=0.0\n",
            "02/17 20:00:13 - mmengine - \u001b[4m\u001b[97mINFO\u001b[0m - paramwise_options -- backbone.layer1.se.conv2.conv.bias:lr=0.0024\n",
            "02/17 20:00:13 - mmengine - \u001b[4m\u001b[97mINFO\u001b[0m - paramwise_options -- backbone.layer1.se.conv2.conv.bias:weight_decay=0.0\n",
            "02/17 20:00:13 - mmengine - \u001b[4m\u001b[97mINFO\u001b[0m - paramwise_options -- backbone.layer1.se.conv2.conv.bias:decay_mult=0.0\n",
            "02/17 20:00:13 - mmengine - \u001b[4m\u001b[97mINFO\u001b[0m - paramwise_options -- backbone.layer1.linear_conv.bn.bias:lr=0.0024\n",
            "02/17 20:00:13 - mmengine - \u001b[4m\u001b[97mINFO\u001b[0m - paramwise_options -- backbone.layer1.linear_conv.bn.bias:weight_decay=0.0\n",
            "02/17 20:00:13 - mmengine - \u001b[4m\u001b[97mINFO\u001b[0m - paramwise_options -- backbone.layer1.linear_conv.bn.bias:decay_mult=0.0\n",
            "02/17 20:00:13 - mmengine - \u001b[4m\u001b[97mINFO\u001b[0m - paramwise_options -- backbone.layer2.expand_conv.bn.bias:lr=0.0024\n",
            "02/17 20:00:13 - mmengine - \u001b[4m\u001b[97mINFO\u001b[0m - paramwise_options -- backbone.layer2.expand_conv.bn.bias:weight_decay=0.0\n",
            "02/17 20:00:13 - mmengine - \u001b[4m\u001b[97mINFO\u001b[0m - paramwise_options -- backbone.layer2.expand_conv.bn.bias:decay_mult=0.0\n",
            "02/17 20:00:13 - mmengine - \u001b[4m\u001b[97mINFO\u001b[0m - paramwise_options -- backbone.layer2.depthwise_conv.bn.bias:lr=0.0024\n",
            "02/17 20:00:13 - mmengine - \u001b[4m\u001b[97mINFO\u001b[0m - paramwise_options -- backbone.layer2.depthwise_conv.bn.bias:weight_decay=0.0\n",
            "02/17 20:00:13 - mmengine - \u001b[4m\u001b[97mINFO\u001b[0m - paramwise_options -- backbone.layer2.depthwise_conv.bn.bias:decay_mult=0.0\n",
            "02/17 20:00:13 - mmengine - \u001b[4m\u001b[97mINFO\u001b[0m - paramwise_options -- backbone.layer2.linear_conv.bn.bias:lr=0.0024\n",
            "02/17 20:00:13 - mmengine - \u001b[4m\u001b[97mINFO\u001b[0m - paramwise_options -- backbone.layer2.linear_conv.bn.bias:weight_decay=0.0\n",
            "02/17 20:00:13 - mmengine - \u001b[4m\u001b[97mINFO\u001b[0m - paramwise_options -- backbone.layer2.linear_conv.bn.bias:decay_mult=0.0\n",
            "02/17 20:00:13 - mmengine - \u001b[4m\u001b[97mINFO\u001b[0m - paramwise_options -- backbone.layer3.expand_conv.bn.bias:lr=0.0024\n",
            "02/17 20:00:13 - mmengine - \u001b[4m\u001b[97mINFO\u001b[0m - paramwise_options -- backbone.layer3.expand_conv.bn.bias:weight_decay=0.0\n",
            "02/17 20:00:13 - mmengine - \u001b[4m\u001b[97mINFO\u001b[0m - paramwise_options -- backbone.layer3.expand_conv.bn.bias:decay_mult=0.0\n",
            "02/17 20:00:13 - mmengine - \u001b[4m\u001b[97mINFO\u001b[0m - paramwise_options -- backbone.layer3.depthwise_conv.bn.bias:lr=0.0024\n",
            "02/17 20:00:13 - mmengine - \u001b[4m\u001b[97mINFO\u001b[0m - paramwise_options -- backbone.layer3.depthwise_conv.bn.bias:weight_decay=0.0\n",
            "02/17 20:00:13 - mmengine - \u001b[4m\u001b[97mINFO\u001b[0m - paramwise_options -- backbone.layer3.depthwise_conv.bn.bias:decay_mult=0.0\n",
            "02/17 20:00:13 - mmengine - \u001b[4m\u001b[97mINFO\u001b[0m - paramwise_options -- backbone.layer3.linear_conv.bn.bias:lr=0.0024\n",
            "02/17 20:00:13 - mmengine - \u001b[4m\u001b[97mINFO\u001b[0m - paramwise_options -- backbone.layer3.linear_conv.bn.bias:weight_decay=0.0\n",
            "02/17 20:00:13 - mmengine - \u001b[4m\u001b[97mINFO\u001b[0m - paramwise_options -- backbone.layer3.linear_conv.bn.bias:decay_mult=0.0\n",
            "02/17 20:00:13 - mmengine - \u001b[4m\u001b[97mINFO\u001b[0m - paramwise_options -- backbone.layer4.expand_conv.bn.bias:lr=0.0024\n",
            "02/17 20:00:13 - mmengine - \u001b[4m\u001b[97mINFO\u001b[0m - paramwise_options -- backbone.layer4.expand_conv.bn.bias:weight_decay=0.0\n",
            "02/17 20:00:13 - mmengine - \u001b[4m\u001b[97mINFO\u001b[0m - paramwise_options -- backbone.layer4.expand_conv.bn.bias:decay_mult=0.0\n",
            "02/17 20:00:13 - mmengine - \u001b[4m\u001b[97mINFO\u001b[0m - paramwise_options -- backbone.layer4.depthwise_conv.bn.bias:lr=0.0024\n",
            "02/17 20:00:13 - mmengine - \u001b[4m\u001b[97mINFO\u001b[0m - paramwise_options -- backbone.layer4.depthwise_conv.bn.bias:weight_decay=0.0\n",
            "02/17 20:00:13 - mmengine - \u001b[4m\u001b[97mINFO\u001b[0m - paramwise_options -- backbone.layer4.depthwise_conv.bn.bias:decay_mult=0.0\n",
            "02/17 20:00:13 - mmengine - \u001b[4m\u001b[97mINFO\u001b[0m - paramwise_options -- backbone.layer4.se.conv1.conv.bias:lr=0.0024\n",
            "02/17 20:00:13 - mmengine - \u001b[4m\u001b[97mINFO\u001b[0m - paramwise_options -- backbone.layer4.se.conv1.conv.bias:weight_decay=0.0\n",
            "02/17 20:00:13 - mmengine - \u001b[4m\u001b[97mINFO\u001b[0m - paramwise_options -- backbone.layer4.se.conv1.conv.bias:decay_mult=0.0\n",
            "02/17 20:00:13 - mmengine - \u001b[4m\u001b[97mINFO\u001b[0m - paramwise_options -- backbone.layer4.se.conv2.conv.bias:lr=0.0024\n",
            "02/17 20:00:13 - mmengine - \u001b[4m\u001b[97mINFO\u001b[0m - paramwise_options -- backbone.layer4.se.conv2.conv.bias:weight_decay=0.0\n",
            "02/17 20:00:13 - mmengine - \u001b[4m\u001b[97mINFO\u001b[0m - paramwise_options -- backbone.layer4.se.conv2.conv.bias:decay_mult=0.0\n",
            "02/17 20:00:13 - mmengine - \u001b[4m\u001b[97mINFO\u001b[0m - paramwise_options -- backbone.layer4.linear_conv.bn.bias:lr=0.0024\n",
            "02/17 20:00:13 - mmengine - \u001b[4m\u001b[97mINFO\u001b[0m - paramwise_options -- backbone.layer4.linear_conv.bn.bias:weight_decay=0.0\n",
            "02/17 20:00:13 - mmengine - \u001b[4m\u001b[97mINFO\u001b[0m - paramwise_options -- backbone.layer4.linear_conv.bn.bias:decay_mult=0.0\n",
            "02/17 20:00:13 - mmengine - \u001b[4m\u001b[97mINFO\u001b[0m - paramwise_options -- backbone.layer5.expand_conv.bn.bias:lr=0.0024\n",
            "02/17 20:00:13 - mmengine - \u001b[4m\u001b[97mINFO\u001b[0m - paramwise_options -- backbone.layer5.expand_conv.bn.bias:weight_decay=0.0\n",
            "02/17 20:00:13 - mmengine - \u001b[4m\u001b[97mINFO\u001b[0m - paramwise_options -- backbone.layer5.expand_conv.bn.bias:decay_mult=0.0\n",
            "02/17 20:00:13 - mmengine - \u001b[4m\u001b[97mINFO\u001b[0m - paramwise_options -- backbone.layer5.depthwise_conv.bn.bias:lr=0.0024\n",
            "02/17 20:00:13 - mmengine - \u001b[4m\u001b[97mINFO\u001b[0m - paramwise_options -- backbone.layer5.depthwise_conv.bn.bias:weight_decay=0.0\n",
            "02/17 20:00:13 - mmengine - \u001b[4m\u001b[97mINFO\u001b[0m - paramwise_options -- backbone.layer5.depthwise_conv.bn.bias:decay_mult=0.0\n",
            "02/17 20:00:13 - mmengine - \u001b[4m\u001b[97mINFO\u001b[0m - paramwise_options -- backbone.layer5.se.conv1.conv.bias:lr=0.0024\n",
            "02/17 20:00:13 - mmengine - \u001b[4m\u001b[97mINFO\u001b[0m - paramwise_options -- backbone.layer5.se.conv1.conv.bias:weight_decay=0.0\n",
            "02/17 20:00:13 - mmengine - \u001b[4m\u001b[97mINFO\u001b[0m - paramwise_options -- backbone.layer5.se.conv1.conv.bias:decay_mult=0.0\n",
            "02/17 20:00:13 - mmengine - \u001b[4m\u001b[97mINFO\u001b[0m - paramwise_options -- backbone.layer5.se.conv2.conv.bias:lr=0.0024\n",
            "02/17 20:00:13 - mmengine - \u001b[4m\u001b[97mINFO\u001b[0m - paramwise_options -- backbone.layer5.se.conv2.conv.bias:weight_decay=0.0\n",
            "02/17 20:00:13 - mmengine - \u001b[4m\u001b[97mINFO\u001b[0m - paramwise_options -- backbone.layer5.se.conv2.conv.bias:decay_mult=0.0\n",
            "02/17 20:00:13 - mmengine - \u001b[4m\u001b[97mINFO\u001b[0m - paramwise_options -- backbone.layer5.linear_conv.bn.bias:lr=0.0024\n",
            "02/17 20:00:13 - mmengine - \u001b[4m\u001b[97mINFO\u001b[0m - paramwise_options -- backbone.layer5.linear_conv.bn.bias:weight_decay=0.0\n",
            "02/17 20:00:13 - mmengine - \u001b[4m\u001b[97mINFO\u001b[0m - paramwise_options -- backbone.layer5.linear_conv.bn.bias:decay_mult=0.0\n",
            "02/17 20:00:13 - mmengine - \u001b[4m\u001b[97mINFO\u001b[0m - paramwise_options -- backbone.layer6.expand_conv.bn.bias:lr=0.0024\n",
            "02/17 20:00:13 - mmengine - \u001b[4m\u001b[97mINFO\u001b[0m - paramwise_options -- backbone.layer6.expand_conv.bn.bias:weight_decay=0.0\n",
            "02/17 20:00:13 - mmengine - \u001b[4m\u001b[97mINFO\u001b[0m - paramwise_options -- backbone.layer6.expand_conv.bn.bias:decay_mult=0.0\n",
            "02/17 20:00:13 - mmengine - \u001b[4m\u001b[97mINFO\u001b[0m - paramwise_options -- backbone.layer6.depthwise_conv.bn.bias:lr=0.0024\n",
            "02/17 20:00:13 - mmengine - \u001b[4m\u001b[97mINFO\u001b[0m - paramwise_options -- backbone.layer6.depthwise_conv.bn.bias:weight_decay=0.0\n",
            "02/17 20:00:13 - mmengine - \u001b[4m\u001b[97mINFO\u001b[0m - paramwise_options -- backbone.layer6.depthwise_conv.bn.bias:decay_mult=0.0\n",
            "02/17 20:00:13 - mmengine - \u001b[4m\u001b[97mINFO\u001b[0m - paramwise_options -- backbone.layer6.se.conv1.conv.bias:lr=0.0024\n",
            "02/17 20:00:13 - mmengine - \u001b[4m\u001b[97mINFO\u001b[0m - paramwise_options -- backbone.layer6.se.conv1.conv.bias:weight_decay=0.0\n",
            "02/17 20:00:13 - mmengine - \u001b[4m\u001b[97mINFO\u001b[0m - paramwise_options -- backbone.layer6.se.conv1.conv.bias:decay_mult=0.0\n",
            "02/17 20:00:13 - mmengine - \u001b[4m\u001b[97mINFO\u001b[0m - paramwise_options -- backbone.layer6.se.conv2.conv.bias:lr=0.0024\n",
            "02/17 20:00:13 - mmengine - \u001b[4m\u001b[97mINFO\u001b[0m - paramwise_options -- backbone.layer6.se.conv2.conv.bias:weight_decay=0.0\n",
            "02/17 20:00:13 - mmengine - \u001b[4m\u001b[97mINFO\u001b[0m - paramwise_options -- backbone.layer6.se.conv2.conv.bias:decay_mult=0.0\n",
            "02/17 20:00:13 - mmengine - \u001b[4m\u001b[97mINFO\u001b[0m - paramwise_options -- backbone.layer6.linear_conv.bn.bias:lr=0.0024\n",
            "02/17 20:00:13 - mmengine - \u001b[4m\u001b[97mINFO\u001b[0m - paramwise_options -- backbone.layer6.linear_conv.bn.bias:weight_decay=0.0\n",
            "02/17 20:00:13 - mmengine - \u001b[4m\u001b[97mINFO\u001b[0m - paramwise_options -- backbone.layer6.linear_conv.bn.bias:decay_mult=0.0\n",
            "02/17 20:00:13 - mmengine - \u001b[4m\u001b[97mINFO\u001b[0m - paramwise_options -- backbone.layer7.expand_conv.bn.bias:lr=0.0024\n",
            "02/17 20:00:13 - mmengine - \u001b[4m\u001b[97mINFO\u001b[0m - paramwise_options -- backbone.layer7.expand_conv.bn.bias:weight_decay=0.0\n",
            "02/17 20:00:13 - mmengine - \u001b[4m\u001b[97mINFO\u001b[0m - paramwise_options -- backbone.layer7.expand_conv.bn.bias:decay_mult=0.0\n",
            "02/17 20:00:13 - mmengine - \u001b[4m\u001b[97mINFO\u001b[0m - paramwise_options -- backbone.layer7.depthwise_conv.bn.bias:lr=0.0024\n",
            "02/17 20:00:13 - mmengine - \u001b[4m\u001b[97mINFO\u001b[0m - paramwise_options -- backbone.layer7.depthwise_conv.bn.bias:weight_decay=0.0\n",
            "02/17 20:00:13 - mmengine - \u001b[4m\u001b[97mINFO\u001b[0m - paramwise_options -- backbone.layer7.depthwise_conv.bn.bias:decay_mult=0.0\n",
            "02/17 20:00:13 - mmengine - \u001b[4m\u001b[97mINFO\u001b[0m - paramwise_options -- backbone.layer7.se.conv1.conv.bias:lr=0.0024\n",
            "02/17 20:00:13 - mmengine - \u001b[4m\u001b[97mINFO\u001b[0m - paramwise_options -- backbone.layer7.se.conv1.conv.bias:weight_decay=0.0\n",
            "02/17 20:00:13 - mmengine - \u001b[4m\u001b[97mINFO\u001b[0m - paramwise_options -- backbone.layer7.se.conv1.conv.bias:decay_mult=0.0\n",
            "02/17 20:00:13 - mmengine - \u001b[4m\u001b[97mINFO\u001b[0m - paramwise_options -- backbone.layer7.se.conv2.conv.bias:lr=0.0024\n",
            "02/17 20:00:13 - mmengine - \u001b[4m\u001b[97mINFO\u001b[0m - paramwise_options -- backbone.layer7.se.conv2.conv.bias:weight_decay=0.0\n",
            "02/17 20:00:13 - mmengine - \u001b[4m\u001b[97mINFO\u001b[0m - paramwise_options -- backbone.layer7.se.conv2.conv.bias:decay_mult=0.0\n",
            "02/17 20:00:13 - mmengine - \u001b[4m\u001b[97mINFO\u001b[0m - paramwise_options -- backbone.layer7.linear_conv.bn.bias:lr=0.0024\n",
            "02/17 20:00:13 - mmengine - \u001b[4m\u001b[97mINFO\u001b[0m - paramwise_options -- backbone.layer7.linear_conv.bn.bias:weight_decay=0.0\n",
            "02/17 20:00:13 - mmengine - \u001b[4m\u001b[97mINFO\u001b[0m - paramwise_options -- backbone.layer7.linear_conv.bn.bias:decay_mult=0.0\n",
            "02/17 20:00:13 - mmengine - \u001b[4m\u001b[97mINFO\u001b[0m - paramwise_options -- backbone.layer8.expand_conv.bn.bias:lr=0.0024\n",
            "02/17 20:00:13 - mmengine - \u001b[4m\u001b[97mINFO\u001b[0m - paramwise_options -- backbone.layer8.expand_conv.bn.bias:weight_decay=0.0\n",
            "02/17 20:00:13 - mmengine - \u001b[4m\u001b[97mINFO\u001b[0m - paramwise_options -- backbone.layer8.expand_conv.bn.bias:decay_mult=0.0\n",
            "02/17 20:00:13 - mmengine - \u001b[4m\u001b[97mINFO\u001b[0m - paramwise_options -- backbone.layer8.depthwise_conv.bn.bias:lr=0.0024\n",
            "02/17 20:00:13 - mmengine - \u001b[4m\u001b[97mINFO\u001b[0m - paramwise_options -- backbone.layer8.depthwise_conv.bn.bias:weight_decay=0.0\n",
            "02/17 20:00:13 - mmengine - \u001b[4m\u001b[97mINFO\u001b[0m - paramwise_options -- backbone.layer8.depthwise_conv.bn.bias:decay_mult=0.0\n",
            "02/17 20:00:13 - mmengine - \u001b[4m\u001b[97mINFO\u001b[0m - paramwise_options -- backbone.layer8.se.conv1.conv.bias:lr=0.0024\n",
            "02/17 20:00:13 - mmengine - \u001b[4m\u001b[97mINFO\u001b[0m - paramwise_options -- backbone.layer8.se.conv1.conv.bias:weight_decay=0.0\n",
            "02/17 20:00:13 - mmengine - \u001b[4m\u001b[97mINFO\u001b[0m - paramwise_options -- backbone.layer8.se.conv1.conv.bias:decay_mult=0.0\n",
            "02/17 20:00:13 - mmengine - \u001b[4m\u001b[97mINFO\u001b[0m - paramwise_options -- backbone.layer8.se.conv2.conv.bias:lr=0.0024\n",
            "02/17 20:00:13 - mmengine - \u001b[4m\u001b[97mINFO\u001b[0m - paramwise_options -- backbone.layer8.se.conv2.conv.bias:weight_decay=0.0\n",
            "02/17 20:00:13 - mmengine - \u001b[4m\u001b[97mINFO\u001b[0m - paramwise_options -- backbone.layer8.se.conv2.conv.bias:decay_mult=0.0\n",
            "02/17 20:00:13 - mmengine - \u001b[4m\u001b[97mINFO\u001b[0m - paramwise_options -- backbone.layer8.linear_conv.bn.bias:lr=0.0024\n",
            "02/17 20:00:13 - mmengine - \u001b[4m\u001b[97mINFO\u001b[0m - paramwise_options -- backbone.layer8.linear_conv.bn.bias:weight_decay=0.0\n",
            "02/17 20:00:13 - mmengine - \u001b[4m\u001b[97mINFO\u001b[0m - paramwise_options -- backbone.layer8.linear_conv.bn.bias:decay_mult=0.0\n",
            "02/17 20:00:13 - mmengine - \u001b[4m\u001b[97mINFO\u001b[0m - paramwise_options -- backbone.layer9.expand_conv.bn.bias:lr=0.0024\n",
            "02/17 20:00:13 - mmengine - \u001b[4m\u001b[97mINFO\u001b[0m - paramwise_options -- backbone.layer9.expand_conv.bn.bias:weight_decay=0.0\n",
            "02/17 20:00:13 - mmengine - \u001b[4m\u001b[97mINFO\u001b[0m - paramwise_options -- backbone.layer9.expand_conv.bn.bias:decay_mult=0.0\n",
            "02/17 20:00:13 - mmengine - \u001b[4m\u001b[97mINFO\u001b[0m - paramwise_options -- backbone.layer9.depthwise_conv.bn.bias:lr=0.0024\n",
            "02/17 20:00:13 - mmengine - \u001b[4m\u001b[97mINFO\u001b[0m - paramwise_options -- backbone.layer9.depthwise_conv.bn.bias:weight_decay=0.0\n",
            "02/17 20:00:13 - mmengine - \u001b[4m\u001b[97mINFO\u001b[0m - paramwise_options -- backbone.layer9.depthwise_conv.bn.bias:decay_mult=0.0\n",
            "02/17 20:00:13 - mmengine - \u001b[4m\u001b[97mINFO\u001b[0m - paramwise_options -- backbone.layer9.se.conv1.conv.bias:lr=0.0024\n",
            "02/17 20:00:13 - mmengine - \u001b[4m\u001b[97mINFO\u001b[0m - paramwise_options -- backbone.layer9.se.conv1.conv.bias:weight_decay=0.0\n",
            "02/17 20:00:13 - mmengine - \u001b[4m\u001b[97mINFO\u001b[0m - paramwise_options -- backbone.layer9.se.conv1.conv.bias:decay_mult=0.0\n",
            "02/17 20:00:13 - mmengine - \u001b[4m\u001b[97mINFO\u001b[0m - paramwise_options -- backbone.layer9.se.conv2.conv.bias:lr=0.0024\n",
            "02/17 20:00:13 - mmengine - \u001b[4m\u001b[97mINFO\u001b[0m - paramwise_options -- backbone.layer9.se.conv2.conv.bias:weight_decay=0.0\n",
            "02/17 20:00:13 - mmengine - \u001b[4m\u001b[97mINFO\u001b[0m - paramwise_options -- backbone.layer9.se.conv2.conv.bias:decay_mult=0.0\n",
            "02/17 20:00:13 - mmengine - \u001b[4m\u001b[97mINFO\u001b[0m - paramwise_options -- backbone.layer9.linear_conv.bn.bias:lr=0.0024\n",
            "02/17 20:00:13 - mmengine - \u001b[4m\u001b[97mINFO\u001b[0m - paramwise_options -- backbone.layer9.linear_conv.bn.bias:weight_decay=0.0\n",
            "02/17 20:00:13 - mmengine - \u001b[4m\u001b[97mINFO\u001b[0m - paramwise_options -- backbone.layer9.linear_conv.bn.bias:decay_mult=0.0\n",
            "02/17 20:00:13 - mmengine - \u001b[4m\u001b[97mINFO\u001b[0m - paramwise_options -- backbone.layer10.expand_conv.bn.bias:lr=0.0024\n",
            "02/17 20:00:13 - mmengine - \u001b[4m\u001b[97mINFO\u001b[0m - paramwise_options -- backbone.layer10.expand_conv.bn.bias:weight_decay=0.0\n",
            "02/17 20:00:13 - mmengine - \u001b[4m\u001b[97mINFO\u001b[0m - paramwise_options -- backbone.layer10.expand_conv.bn.bias:decay_mult=0.0\n",
            "02/17 20:00:13 - mmengine - \u001b[4m\u001b[97mINFO\u001b[0m - paramwise_options -- backbone.layer10.depthwise_conv.bn.bias:lr=0.0024\n",
            "02/17 20:00:13 - mmengine - \u001b[4m\u001b[97mINFO\u001b[0m - paramwise_options -- backbone.layer10.depthwise_conv.bn.bias:weight_decay=0.0\n",
            "02/17 20:00:13 - mmengine - \u001b[4m\u001b[97mINFO\u001b[0m - paramwise_options -- backbone.layer10.depthwise_conv.bn.bias:decay_mult=0.0\n",
            "02/17 20:00:13 - mmengine - \u001b[4m\u001b[97mINFO\u001b[0m - paramwise_options -- backbone.layer10.se.conv1.conv.bias:lr=0.0024\n",
            "02/17 20:00:13 - mmengine - \u001b[4m\u001b[97mINFO\u001b[0m - paramwise_options -- backbone.layer10.se.conv1.conv.bias:weight_decay=0.0\n",
            "02/17 20:00:13 - mmengine - \u001b[4m\u001b[97mINFO\u001b[0m - paramwise_options -- backbone.layer10.se.conv1.conv.bias:decay_mult=0.0\n",
            "02/17 20:00:13 - mmengine - \u001b[4m\u001b[97mINFO\u001b[0m - paramwise_options -- backbone.layer10.se.conv2.conv.bias:lr=0.0024\n",
            "02/17 20:00:13 - mmengine - \u001b[4m\u001b[97mINFO\u001b[0m - paramwise_options -- backbone.layer10.se.conv2.conv.bias:weight_decay=0.0\n",
            "02/17 20:00:13 - mmengine - \u001b[4m\u001b[97mINFO\u001b[0m - paramwise_options -- backbone.layer10.se.conv2.conv.bias:decay_mult=0.0\n",
            "02/17 20:00:13 - mmengine - \u001b[4m\u001b[97mINFO\u001b[0m - paramwise_options -- backbone.layer10.linear_conv.bn.bias:lr=0.0024\n",
            "02/17 20:00:13 - mmengine - \u001b[4m\u001b[97mINFO\u001b[0m - paramwise_options -- backbone.layer10.linear_conv.bn.bias:weight_decay=0.0\n",
            "02/17 20:00:13 - mmengine - \u001b[4m\u001b[97mINFO\u001b[0m - paramwise_options -- backbone.layer10.linear_conv.bn.bias:decay_mult=0.0\n",
            "02/17 20:00:13 - mmengine - \u001b[4m\u001b[97mINFO\u001b[0m - paramwise_options -- backbone.layer11.expand_conv.bn.bias:lr=0.0024\n",
            "02/17 20:00:13 - mmengine - \u001b[4m\u001b[97mINFO\u001b[0m - paramwise_options -- backbone.layer11.expand_conv.bn.bias:weight_decay=0.0\n",
            "02/17 20:00:13 - mmengine - \u001b[4m\u001b[97mINFO\u001b[0m - paramwise_options -- backbone.layer11.expand_conv.bn.bias:decay_mult=0.0\n",
            "02/17 20:00:13 - mmengine - \u001b[4m\u001b[97mINFO\u001b[0m - paramwise_options -- backbone.layer11.depthwise_conv.bn.bias:lr=0.0024\n",
            "02/17 20:00:13 - mmengine - \u001b[4m\u001b[97mINFO\u001b[0m - paramwise_options -- backbone.layer11.depthwise_conv.bn.bias:weight_decay=0.0\n",
            "02/17 20:00:13 - mmengine - \u001b[4m\u001b[97mINFO\u001b[0m - paramwise_options -- backbone.layer11.depthwise_conv.bn.bias:decay_mult=0.0\n",
            "02/17 20:00:13 - mmengine - \u001b[4m\u001b[97mINFO\u001b[0m - paramwise_options -- backbone.layer11.se.conv1.conv.bias:lr=0.0024\n",
            "02/17 20:00:13 - mmengine - \u001b[4m\u001b[97mINFO\u001b[0m - paramwise_options -- backbone.layer11.se.conv1.conv.bias:weight_decay=0.0\n",
            "02/17 20:00:13 - mmengine - \u001b[4m\u001b[97mINFO\u001b[0m - paramwise_options -- backbone.layer11.se.conv1.conv.bias:decay_mult=0.0\n",
            "02/17 20:00:13 - mmengine - \u001b[4m\u001b[97mINFO\u001b[0m - paramwise_options -- backbone.layer11.se.conv2.conv.bias:lr=0.0024\n",
            "02/17 20:00:13 - mmengine - \u001b[4m\u001b[97mINFO\u001b[0m - paramwise_options -- backbone.layer11.se.conv2.conv.bias:weight_decay=0.0\n",
            "02/17 20:00:13 - mmengine - \u001b[4m\u001b[97mINFO\u001b[0m - paramwise_options -- backbone.layer11.se.conv2.conv.bias:decay_mult=0.0\n",
            "02/17 20:00:13 - mmengine - \u001b[4m\u001b[97mINFO\u001b[0m - paramwise_options -- backbone.layer11.linear_conv.bn.bias:lr=0.0024\n",
            "02/17 20:00:13 - mmengine - \u001b[4m\u001b[97mINFO\u001b[0m - paramwise_options -- backbone.layer11.linear_conv.bn.bias:weight_decay=0.0\n",
            "02/17 20:00:13 - mmengine - \u001b[4m\u001b[97mINFO\u001b[0m - paramwise_options -- backbone.layer11.linear_conv.bn.bias:decay_mult=0.0\n",
            "02/17 20:00:13 - mmengine - \u001b[4m\u001b[97mINFO\u001b[0m - paramwise_options -- backbone.layer12.bn.bias:lr=0.0024\n",
            "02/17 20:00:13 - mmengine - \u001b[4m\u001b[97mINFO\u001b[0m - paramwise_options -- backbone.layer12.bn.bias:weight_decay=0.0\n",
            "02/17 20:00:13 - mmengine - \u001b[4m\u001b[97mINFO\u001b[0m - paramwise_options -- backbone.layer12.bn.bias:decay_mult=0.0\n",
            "02/17 20:00:13 - mmengine - \u001b[4m\u001b[97mINFO\u001b[0m - paramwise_options -- head.fc.bias:lr=0.0024\n",
            "02/17 20:00:13 - mmengine - \u001b[4m\u001b[97mINFO\u001b[0m - paramwise_options -- head.fc.bias:weight_decay=0.0\n",
            "02/17 20:00:13 - mmengine - \u001b[4m\u001b[97mINFO\u001b[0m - paramwise_options -- head.fc.bias:decay_mult=0.0\n",
            "02/17 20:00:13 - mmengine - \u001b[5m\u001b[4m\u001b[33mWARNING\u001b[0m - Neither thr nor k is given, set thr as 0.5 by default.\n",
            "02/17 20:00:13 - mmengine - \u001b[5m\u001b[4m\u001b[33mWARNING\u001b[0m - \"FileClient\" will be deprecated in future. Please use io functions in https://mmengine.readthedocs.io/en/latest/api/fileio.html#file-io\n",
            "02/17 20:00:13 - mmengine - \u001b[5m\u001b[4m\u001b[33mWARNING\u001b[0m - \"HardDiskBackend\" is the alias of \"LocalBackend\" and the former will be deprecated in future.\n",
            "02/17 20:00:13 - mmengine - \u001b[4m\u001b[97mINFO\u001b[0m - Checkpoints will be saved to /content/log/config1.\n",
            "/usr/local/lib/python3.10/dist-packages/torch/utils/data/dataloader.py:554: UserWarning: This DataLoader will create 5 worker processes in total. Our suggested max number of worker in current system is 2, which is smaller than what this DataLoader is going to create. Please be aware that excessive worker creation might get DataLoader running slow or even freeze, lower the worker number to avoid potential slowness/freeze if necessary.\n",
            "  warnings.warn(_create_warning_msg(\n",
            "02/17 20:00:27 - mmengine - \u001b[4m\u001b[97mINFO\u001b[0m - Exp name: config2_20240217_200008\n",
            "02/17 20:00:27 - mmengine - \u001b[4m\u001b[97mINFO\u001b[0m - Epoch(train)   [1][34/34]  base_lr: 5.8512e-05 lr: 5.8512e-05  eta: 0:23:22  time: 0.3296  data_time: 0.1079  memory: 292  loss: 2.8306\n",
            "02/17 20:00:30 - mmengine - \u001b[4m\u001b[97mINFO\u001b[0m - Epoch(val) [1][9/9]    multi-label/mAP: 14.2016  multi-label/precision: 0.0000  multi-label/recall: 0.0000  multi-label/f1-score: 0.0000  multi-label/precision_micro: 0.0000  multi-label/recall_micro: 0.0000  multi-label/f1-score_micro: 0.0000  data_time: 0.2480  time: 0.2904\n",
            "02/17 20:00:42 - mmengine - \u001b[4m\u001b[97mINFO\u001b[0m - Exp name: config2_20240217_200008\n",
            "02/17 20:00:42 - mmengine - \u001b[4m\u001b[97mINFO\u001b[0m - Epoch(train)   [2][34/34]  base_lr: 1.1855e-04 lr: 1.1855e-04  eta: 0:21:43  time: 0.1860  data_time: 0.0494  memory: 292  loss: 2.7611\n",
            "02/17 20:00:45 - mmengine - \u001b[4m\u001b[97mINFO\u001b[0m - Epoch(val) [2][9/9]    multi-label/mAP: 9.4586  multi-label/precision: 0.0000  multi-label/recall: 0.0000  multi-label/f1-score: 0.0000  multi-label/precision_micro: 0.0000  multi-label/recall_micro: 0.0000  multi-label/f1-score_micro: 0.0000  data_time: 0.2022  time: 0.2483\n",
            "02/17 20:00:57 - mmengine - \u001b[4m\u001b[97mINFO\u001b[0m - Exp name: config2_20240217_200008\n",
            "02/17 20:00:57 - mmengine - \u001b[4m\u001b[97mINFO\u001b[0m - Epoch(train)   [3][34/34]  base_lr: 1.7859e-04 lr: 1.7859e-04  eta: 0:21:00  time: 0.1941  data_time: 0.0433  memory: 292  loss: 2.5338\n",
            "02/17 20:00:59 - mmengine - \u001b[4m\u001b[97mINFO\u001b[0m - Epoch(val) [3][9/9]    multi-label/mAP: 10.9827  multi-label/precision: 0.0000  multi-label/recall: 0.0000  multi-label/f1-score: 0.0000  multi-label/precision_micro: 0.0000  multi-label/recall_micro: 0.0000  multi-label/f1-score_micro: 0.0000  data_time: 0.1717  time: 0.2239\n",
            "02/17 20:01:12 - mmengine - \u001b[4m\u001b[97mINFO\u001b[0m - Exp name: config2_20240217_200008\n",
            "02/17 20:01:12 - mmengine - \u001b[4m\u001b[97mINFO\u001b[0m - Epoch(train)   [4][34/34]  base_lr: 2.3863e-04 lr: 2.3863e-04  eta: 0:20:34  time: 0.2074  data_time: 0.0570  memory: 292  loss: 2.2239\n",
            "02/17 20:01:14 - mmengine - \u001b[4m\u001b[97mINFO\u001b[0m - Epoch(val) [4][9/9]    multi-label/mAP: 10.1583  multi-label/precision: 0.0000  multi-label/recall: 0.0000  multi-label/f1-score: 0.0000  multi-label/precision_micro: 0.0000  multi-label/recall_micro: 0.0000  multi-label/f1-score_micro: 0.0000  data_time: 0.1875  time: 0.2316\n",
            "02/17 20:01:28 - mmengine - \u001b[4m\u001b[97mINFO\u001b[0m - Exp name: config2_20240217_200008\n",
            "02/17 20:01:28 - mmengine - \u001b[4m\u001b[97mINFO\u001b[0m - Epoch(train)   [5][34/34]  base_lr: 2.9866e-04 lr: 2.9866e-04  eta: 0:20:33  time: 0.3251  data_time: 0.0831  memory: 292  loss: 2.1177\n",
            "02/17 20:01:30 - mmengine - \u001b[4m\u001b[97mINFO\u001b[0m - Epoch(val) [5][9/9]    multi-label/mAP: 9.9669  multi-label/precision: 0.0000  multi-label/recall: 0.0000  multi-label/f1-score: 0.0000  multi-label/precision_micro: 0.0000  multi-label/recall_micro: 0.0000  multi-label/f1-score_micro: 0.0000  data_time: 0.2332  time: 0.2691\n",
            "02/17 20:01:43 - mmengine - \u001b[4m\u001b[97mINFO\u001b[0m - Exp name: config2_20240217_200008\n",
            "02/17 20:01:43 - mmengine - \u001b[4m\u001b[97mINFO\u001b[0m - Epoch(train)   [6][34/34]  base_lr: 3.5870e-04 lr: 3.5870e-04  eta: 0:20:14  time: 0.2046  data_time: 0.0524  memory: 292  loss: 2.0694\n",
            "02/17 20:01:45 - mmengine - \u001b[4m\u001b[97mINFO\u001b[0m - Epoch(val) [6][9/9]    multi-label/mAP: 10.4304  multi-label/precision: 0.0000  multi-label/recall: 0.0000  multi-label/f1-score: 0.0000  multi-label/precision_micro: 0.0000  multi-label/recall_micro: 0.0000  multi-label/f1-score_micro: 0.0000  data_time: 0.1858  time: 0.2325\n",
            "02/17 20:01:58 - mmengine - \u001b[4m\u001b[97mINFO\u001b[0m - Exp name: config2_20240217_200008\n",
            "02/17 20:01:58 - mmengine - \u001b[4m\u001b[97mINFO\u001b[0m - Epoch(train)   [7][34/34]  base_lr: 4.1874e-04 lr: 4.1874e-04  eta: 0:19:54  time: 0.1852  data_time: 0.0570  memory: 292  loss: 1.9581\n",
            "02/17 20:02:00 - mmengine - \u001b[4m\u001b[97mINFO\u001b[0m - Epoch(val) [7][9/9]    multi-label/mAP: 11.4055  multi-label/precision: 0.0000  multi-label/recall: 0.0000  multi-label/f1-score: 0.0000  multi-label/precision_micro: 0.0000  multi-label/recall_micro: 0.0000  multi-label/f1-score_micro: 0.0000  data_time: 0.1855  time: 0.2358\n",
            "02/17 20:02:12 - mmengine - \u001b[4m\u001b[97mINFO\u001b[0m - Exp name: config2_20240217_200008\n",
            "02/17 20:02:12 - mmengine - \u001b[4m\u001b[97mINFO\u001b[0m - Epoch(train)   [8][34/34]  base_lr: 4.7878e-04 lr: 4.7878e-04  eta: 0:19:34  time: 0.1888  data_time: 0.0364  memory: 292  loss: 1.9022\n",
            "02/17 20:02:16 - mmengine - \u001b[4m\u001b[97mINFO\u001b[0m - Epoch(val) [8][9/9]    multi-label/mAP: 17.4243  multi-label/precision: 0.0000  multi-label/recall: 0.0000  multi-label/f1-score: 0.0000  multi-label/precision_micro: 0.0000  multi-label/recall_micro: 0.0000  multi-label/f1-score_micro: 0.0000  data_time: 0.2372  time: 0.3076\n",
            "02/17 20:02:27 - mmengine - \u001b[4m\u001b[97mINFO\u001b[0m - Exp name: config2_20240217_200008\n",
            "02/17 20:02:27 - mmengine - \u001b[4m\u001b[97mINFO\u001b[0m - Epoch(train)   [9][34/34]  base_lr: 5.3882e-04 lr: 5.3882e-04  eta: 0:19:11  time: 0.2348  data_time: 0.0752  memory: 292  loss: 1.8150\n",
            "02/17 20:02:31 - mmengine - \u001b[4m\u001b[97mINFO\u001b[0m - Epoch(val) [9][9/9]    multi-label/mAP: 18.1945  multi-label/precision: 0.0000  multi-label/recall: 0.0000  multi-label/f1-score: 0.0000  multi-label/precision_micro: 0.0000  multi-label/recall_micro: 0.0000  multi-label/f1-score_micro: 0.0000  data_time: 0.3251  time: 0.3829\n",
            "02/17 20:02:43 - mmengine - \u001b[4m\u001b[97mINFO\u001b[0m - Exp name: config2_20240217_200008\n",
            "02/17 20:02:43 - mmengine - \u001b[4m\u001b[97mINFO\u001b[0m - Epoch(train)  [10][34/34]  base_lr: 5.9886e-04 lr: 5.9886e-04  eta: 0:18:48  time: 0.2828  data_time: 0.1021  memory: 292  loss: 1.6684\n",
            "02/17 20:02:43 - mmengine - \u001b[4m\u001b[97mINFO\u001b[0m - Saving checkpoint at 10 epochs\n",
            "02/17 20:02:46 - mmengine - \u001b[4m\u001b[97mINFO\u001b[0m - Epoch(val) [10][9/9]    multi-label/mAP: 22.7764  multi-label/precision: 0.0000  multi-label/recall: 0.0000  multi-label/f1-score: 0.0000  multi-label/precision_micro: 0.0000  multi-label/recall_micro: 0.0000  multi-label/f1-score_micro: 0.0000  data_time: 0.2731  time: 0.3235\n",
            "02/17 20:02:59 - mmengine - \u001b[4m\u001b[97mINFO\u001b[0m - Exp name: config2_20240217_200008\n",
            "02/17 20:02:59 - mmengine - \u001b[4m\u001b[97mINFO\u001b[0m - Epoch(train)  [11][34/34]  base_lr: 6.5889e-04 lr: 6.5889e-04  eta: 0:18:36  time: 0.3359  data_time: 0.1402  memory: 292  loss: 1.6316\n",
            "02/17 20:03:01 - mmengine - \u001b[4m\u001b[97mINFO\u001b[0m - Epoch(val) [11][9/9]    multi-label/mAP: 26.0689  multi-label/precision: 0.0000  multi-label/recall: 0.0000  multi-label/f1-score: 0.0000  multi-label/precision_micro: 0.0000  multi-label/recall_micro: 0.0000  multi-label/f1-score_micro: 0.0000  data_time: 0.1855  time: 0.2204\n",
            "02/17 20:03:13 - mmengine - \u001b[4m\u001b[97mINFO\u001b[0m - Exp name: config2_20240217_200008\n",
            "02/17 20:03:13 - mmengine - \u001b[4m\u001b[97mINFO\u001b[0m - Epoch(train)  [12][34/34]  base_lr: 7.1893e-04 lr: 7.1893e-04  eta: 0:18:22  time: 0.3184  data_time: 0.1046  memory: 292  loss: 1.6112\n",
            "02/17 20:03:16 - mmengine - \u001b[4m\u001b[97mINFO\u001b[0m - Epoch(val) [12][9/9]    multi-label/mAP: 23.5727  multi-label/precision: 0.0000  multi-label/recall: 0.0000  multi-label/f1-score: 0.0000  multi-label/precision_micro: 0.0000  multi-label/recall_micro: 0.0000  multi-label/f1-score_micro: 0.0000  data_time: 0.1910  time: 0.2318\n",
            "02/17 20:03:28 - mmengine - \u001b[4m\u001b[97mINFO\u001b[0m - Exp name: config2_20240217_200008\n",
            "02/17 20:03:28 - mmengine - \u001b[4m\u001b[97mINFO\u001b[0m - Epoch(train)  [13][34/34]  base_lr: 7.7897e-04 lr: 7.7897e-04  eta: 0:18:08  time: 0.2246  data_time: 0.0529  memory: 292  loss: 1.6074\n",
            "02/17 20:03:30 - mmengine - \u001b[4m\u001b[97mINFO\u001b[0m - Epoch(val) [13][9/9]    multi-label/mAP: 28.8420  multi-label/precision: 0.0000  multi-label/recall: 0.0000  multi-label/f1-score: 0.0000  multi-label/precision_micro: 0.0000  multi-label/recall_micro: 0.0000  multi-label/f1-score_micro: 0.0000  data_time: 0.1908  time: 0.2270\n",
            "02/17 20:03:44 - mmengine - \u001b[4m\u001b[97mINFO\u001b[0m - Exp name: config2_20240217_200008\n",
            "02/17 20:03:44 - mmengine - \u001b[4m\u001b[97mINFO\u001b[0m - Epoch(train)  [14][34/34]  base_lr: 8.3901e-04 lr: 8.3901e-04  eta: 0:18:05  time: 0.2286  data_time: 0.0459  memory: 292  loss: 1.4387\n",
            "02/17 20:03:47 - mmengine - \u001b[4m\u001b[97mINFO\u001b[0m - Epoch(val) [14][9/9]    multi-label/mAP: 34.5727  multi-label/precision: 0.0000  multi-label/recall: 0.0000  multi-label/f1-score: 0.0000  multi-label/precision_micro: 0.0000  multi-label/recall_micro: 0.0000  multi-label/f1-score_micro: 0.0000  data_time: 0.1955  time: 0.2368\n",
            "02/17 20:03:59 - mmengine - \u001b[4m\u001b[97mINFO\u001b[0m - Exp name: config2_20240217_200008\n",
            "02/17 20:03:59 - mmengine - \u001b[4m\u001b[97mINFO\u001b[0m - Epoch(train)  [15][34/34]  base_lr: 8.9905e-04 lr: 8.9905e-04  eta: 0:17:51  time: 0.1889  data_time: 0.0351  memory: 292  loss: 1.3367\n",
            "02/17 20:04:02 - mmengine - \u001b[4m\u001b[97mINFO\u001b[0m - Epoch(val) [15][9/9]    multi-label/mAP: 46.1868  multi-label/precision: 24.4079  multi-label/recall: 5.5147  multi-label/f1-score: 8.2270  multi-label/precision_micro: 50.0000  multi-label/recall_micro: 5.5147  multi-label/f1-score_micro: 9.9338  data_time: 0.1831  time: 0.2249\n",
            "02/17 20:04:14 - mmengine - \u001b[4m\u001b[97mINFO\u001b[0m - Exp name: config2_20240217_200008\n",
            "02/17 20:04:14 - mmengine - \u001b[4m\u001b[97mINFO\u001b[0m - Epoch(train)  [16][34/34]  base_lr: 9.5908e-04 lr: 9.5908e-04  eta: 0:17:38  time: 0.2050  data_time: 0.0435  memory: 292  loss: 1.3264\n",
            "02/17 20:04:16 - mmengine - \u001b[4m\u001b[97mINFO\u001b[0m - Epoch(val) [16][9/9]    multi-label/mAP: 50.8498  multi-label/precision: 51.0068  multi-label/recall: 26.8382  multi-label/f1-score: 29.3843  multi-label/precision_micro: 55.7252  multi-label/recall_micro: 26.8382  multi-label/f1-score_micro: 36.2283  data_time: 0.1823  time: 0.2307\n",
            "02/17 20:04:29 - mmengine - \u001b[4m\u001b[97mINFO\u001b[0m - Exp name: config2_20240217_200008\n",
            "02/17 20:04:29 - mmengine - \u001b[4m\u001b[97mINFO\u001b[0m - Epoch(train)  [17][34/34]  base_lr: 1.0191e-03 lr: 1.0191e-03  eta: 0:17:25  time: 0.2249  data_time: 0.0738  memory: 292  loss: 1.2415\n",
            "02/17 20:04:31 - mmengine - \u001b[4m\u001b[97mINFO\u001b[0m - Epoch(val) [17][9/9]    multi-label/mAP: 52.6499  multi-label/precision: 52.2222  multi-label/recall: 32.3529  multi-label/f1-score: 34.1486  multi-label/precision_micro: 46.3158  multi-label/recall_micro: 32.3529  multi-label/f1-score_micro: 38.0952  data_time: 0.1950  time: 0.2265\n",
            "02/17 20:04:44 - mmengine - \u001b[4m\u001b[97mINFO\u001b[0m - Exp name: config2_20240217_200008\n",
            "02/17 20:04:44 - mmengine - \u001b[4m\u001b[97mINFO\u001b[0m - Epoch(train)  [18][34/34]  base_lr: 1.0792e-03 lr: 1.0792e-03  eta: 0:17:12  time: 0.2059  data_time: 0.0628  memory: 292  loss: 1.3285\n",
            "02/17 20:04:46 - mmengine - \u001b[4m\u001b[97mINFO\u001b[0m - Epoch(val) [18][9/9]    multi-label/mAP: 49.7919  multi-label/precision: 45.9571  multi-label/recall: 36.0294  multi-label/f1-score: 34.4026  multi-label/precision_micro: 44.1441  multi-label/recall_micro: 36.0294  multi-label/f1-score_micro: 39.6761  data_time: 0.1861  time: 0.2327\n",
            "02/17 20:04:58 - mmengine - \u001b[4m\u001b[97mINFO\u001b[0m - Exp name: config2_20240217_200008\n",
            "02/17 20:04:58 - mmengine - \u001b[4m\u001b[97mINFO\u001b[0m - Epoch(train)  [19][34/34]  base_lr: 1.1392e-03 lr: 1.1392e-03  eta: 0:16:59  time: 0.1994  data_time: 0.0573  memory: 292  loss: 1.2930\n",
            "02/17 20:05:01 - mmengine - \u001b[4m\u001b[97mINFO\u001b[0m - Epoch(val) [19][9/9]    multi-label/mAP: 56.0497  multi-label/precision: 62.7114  multi-label/recall: 37.1324  multi-label/f1-score: 35.9278  multi-label/precision_micro: 43.9130  multi-label/recall_micro: 37.1324  multi-label/f1-score_micro: 40.2390  data_time: 0.1774  time: 0.2313\n",
            "02/17 20:05:13 - mmengine - \u001b[4m\u001b[97mINFO\u001b[0m - Exp name: config2_20240217_200008\n",
            "02/17 20:05:13 - mmengine - \u001b[4m\u001b[97mINFO\u001b[0m - Epoch(train)  [20][34/34]  base_lr: 1.1992e-03 lr: 1.1992e-03  eta: 0:16:45  time: 0.1989  data_time: 0.0547  memory: 292  loss: 1.2667\n",
            "02/17 20:05:13 - mmengine - \u001b[4m\u001b[97mINFO\u001b[0m - Saving checkpoint at 20 epochs\n",
            "02/17 20:05:17 - mmengine - \u001b[4m\u001b[97mINFO\u001b[0m - Epoch(val) [20][9/9]    multi-label/mAP: 62.3690  multi-label/precision: 56.6982  multi-label/recall: 45.2206  multi-label/f1-score: 45.3713  multi-label/precision_micro: 57.4766  multi-label/recall_micro: 45.2206  multi-label/f1-score_micro: 50.6173  data_time: 0.2497  time: 0.3182\n",
            "02/17 20:05:28 - mmengine - \u001b[4m\u001b[97mINFO\u001b[0m - Exp name: config2_20240217_200008\n",
            "02/17 20:05:28 - mmengine - \u001b[4m\u001b[97mINFO\u001b[0m - Epoch(train)  [21][34/34]  base_lr: 1.2593e-03 lr: 1.2593e-03  eta: 0:16:29  time: 0.2317  data_time: 0.0641  memory: 292  loss: 1.2386\n",
            "02/17 20:05:32 - mmengine - \u001b[4m\u001b[97mINFO\u001b[0m - Epoch(val) [21][9/9]    multi-label/mAP: 60.3354  multi-label/precision: 62.7257  multi-label/recall: 50.3676  multi-label/f1-score: 49.3537  multi-label/precision_micro: 54.3651  multi-label/recall_micro: 50.3676  multi-label/f1-score_micro: 52.2901  data_time: 0.3006  time: 0.3873\n",
            "02/17 20:05:44 - mmengine - \u001b[4m\u001b[97mINFO\u001b[0m - Exp name: config2_20240217_200008\n",
            "02/17 20:05:44 - mmengine - \u001b[4m\u001b[97mINFO\u001b[0m - Epoch(train)  [22][34/34]  base_lr: 1.3193e-03 lr: 1.3193e-03  eta: 0:16:13  time: 0.2726  data_time: 0.1124  memory: 292  loss: 1.3080\n",
            "02/17 20:05:48 - mmengine - \u001b[4m\u001b[97mINFO\u001b[0m - Epoch(val) [22][9/9]    multi-label/mAP: 61.9617  multi-label/precision: 65.5783  multi-label/recall: 50.0000  multi-label/f1-score: 50.2200  multi-label/precision_micro: 59.6491  multi-label/recall_micro: 50.0000  multi-label/f1-score_micro: 54.4000  data_time: 0.3671  time: 0.4411\n",
            "02/17 20:06:01 - mmengine - \u001b[4m\u001b[97mINFO\u001b[0m - Exp name: config2_20240217_200008\n",
            "02/17 20:06:01 - mmengine - \u001b[4m\u001b[97mINFO\u001b[0m - Epoch(train)  [23][34/34]  base_lr: 1.3794e-03 lr: 1.3794e-03  eta: 0:16:02  time: 0.3467  data_time: 0.1452  memory: 292  loss: 1.2872\n",
            "02/17 20:06:03 - mmengine - \u001b[4m\u001b[97mINFO\u001b[0m - Epoch(val) [23][9/9]    multi-label/mAP: 54.4748  multi-label/precision: 58.2264  multi-label/recall: 43.3824  multi-label/f1-score: 40.6238  multi-label/precision_micro: 45.5598  multi-label/recall_micro: 43.3824  multi-label/f1-score_micro: 44.4444  data_time: 0.1830  time: 0.2313\n",
            "02/17 20:06:16 - mmengine - \u001b[4m\u001b[97mINFO\u001b[0m - Exp name: config2_20240217_200008\n",
            "02/17 20:06:16 - mmengine - \u001b[4m\u001b[97mINFO\u001b[0m - Epoch(train)  [24][34/34]  base_lr: 1.4394e-03 lr: 1.4394e-03  eta: 0:15:50  time: 0.2976  data_time: 0.1033  memory: 292  loss: 1.1053\n",
            "02/17 20:06:18 - mmengine - \u001b[4m\u001b[97mINFO\u001b[0m - Epoch(val) [24][9/9]    multi-label/mAP: 63.4011  multi-label/precision: 64.4097  multi-label/recall: 47.7941  multi-label/f1-score: 45.2324  multi-label/precision_micro: 53.0612  multi-label/recall_micro: 47.7941  multi-label/f1-score_micro: 50.2901  data_time: 0.1867  time: 0.2330\n",
            "02/17 20:06:31 - mmengine - \u001b[4m\u001b[97mINFO\u001b[0m - Exp name: config2_20240217_200008\n",
            "02/17 20:06:31 - mmengine - \u001b[4m\u001b[97mINFO\u001b[0m - Epoch(train)  [25][34/34]  base_lr: 1.4994e-03 lr: 1.4994e-03  eta: 0:15:37  time: 0.2501  data_time: 0.0583  memory: 292  loss: 1.2185\n",
            "02/17 20:06:33 - mmengine - \u001b[4m\u001b[97mINFO\u001b[0m - Epoch(val) [25][9/9]    multi-label/mAP: 63.7538  multi-label/precision: 64.9913  multi-label/recall: 43.7500  multi-label/f1-score: 44.5878  multi-label/precision_micro: 50.6383  multi-label/recall_micro: 43.7500  multi-label/f1-score_micro: 46.9428  data_time: 0.1777  time: 0.2238\n",
            "02/17 20:06:46 - mmengine - \u001b[4m\u001b[97mINFO\u001b[0m - Exp name: config2_20240217_200008\n",
            "02/17 20:06:46 - mmengine - \u001b[4m\u001b[97mINFO\u001b[0m - Epoch(train)  [26][34/34]  base_lr: 1.5595e-03 lr: 1.5595e-03  eta: 0:15:25  time: 0.1967  data_time: 0.0469  memory: 292  loss: 0.9845\n",
            "02/17 20:06:48 - mmengine - \u001b[4m\u001b[97mINFO\u001b[0m - Epoch(val) [26][9/9]    multi-label/mAP: 52.6998  multi-label/precision: 53.1067  multi-label/recall: 37.5000  multi-label/f1-score: 34.9786  multi-label/precision_micro: 42.6778  multi-label/recall_micro: 37.5000  multi-label/f1-score_micro: 39.9217  data_time: 0.1919  time: 0.2279\n",
            "02/17 20:07:00 - mmengine - \u001b[4m\u001b[97mINFO\u001b[0m - Exp name: config2_20240217_200008\n",
            "02/17 20:07:00 - mmengine - \u001b[4m\u001b[97mINFO\u001b[0m - Epoch(train)  [27][34/34]  base_lr: 1.6195e-03 lr: 1.6195e-03  eta: 0:15:12  time: 0.1957  data_time: 0.0229  memory: 292  loss: 1.0545\n",
            "02/17 20:07:03 - mmengine - \u001b[4m\u001b[97mINFO\u001b[0m - Epoch(val) [27][9/9]    multi-label/mAP: 71.9407  multi-label/precision: 63.6286  multi-label/recall: 60.6618  multi-label/f1-score: 57.7394  multi-label/precision_micro: 64.7059  multi-label/recall_micro: 60.6618  multi-label/f1-score_micro: 62.6186  data_time: 0.1754  time: 0.2296\n",
            "02/17 20:07:15 - mmengine - \u001b[4m\u001b[97mINFO\u001b[0m - Exp name: config2_20240217_200008\n",
            "02/17 20:07:15 - mmengine - \u001b[4m\u001b[97mINFO\u001b[0m - Epoch(train)  [28][34/34]  base_lr: 1.6795e-03 lr: 1.6795e-03  eta: 0:14:59  time: 0.2168  data_time: 0.0540  memory: 292  loss: 1.1310\n",
            "02/17 20:07:17 - mmengine - \u001b[4m\u001b[97mINFO\u001b[0m - Epoch(val) [28][9/9]    multi-label/mAP: 68.2894  multi-label/precision: 69.5797  multi-label/recall: 53.6765  multi-label/f1-score: 52.4106  multi-label/precision_micro: 57.9365  multi-label/recall_micro: 53.6765  multi-label/f1-score_micro: 55.7252  data_time: 0.1867  time: 0.2303\n",
            "02/17 20:07:30 - mmengine - \u001b[4m\u001b[97mINFO\u001b[0m - Exp name: config2_20240217_200008\n",
            "02/17 20:07:30 - mmengine - \u001b[4m\u001b[97mINFO\u001b[0m - Epoch(train)  [29][34/34]  base_lr: 1.7396e-03 lr: 1.7396e-03  eta: 0:14:47  time: 0.2112  data_time: 0.0354  memory: 292  loss: 1.1579\n",
            "02/17 20:07:32 - mmengine - \u001b[4m\u001b[97mINFO\u001b[0m - Epoch(val) [29][9/9]    multi-label/mAP: 61.8513  multi-label/precision: 68.8665  multi-label/recall: 50.7353  multi-label/f1-score: 52.4154  multi-label/precision_micro: 55.2000  multi-label/recall_micro: 50.7353  multi-label/f1-score_micro: 52.8736  data_time: 0.1768  time: 0.2239\n",
            "02/17 20:07:39 - mmengine - \u001b[4m\u001b[97mINFO\u001b[0m - Exp name: config2_20240217_200008\n",
            "02/17 20:07:44 - mmengine - \u001b[4m\u001b[97mINFO\u001b[0m - Exp name: config2_20240217_200008\n",
            "02/17 20:07:44 - mmengine - \u001b[4m\u001b[97mINFO\u001b[0m - Epoch(train)  [30][34/34]  base_lr: 1.7996e-03 lr: 1.7996e-03  eta: 0:14:33  time: 0.2258  data_time: 0.0634  memory: 292  loss: 0.9754\n",
            "02/17 20:07:44 - mmengine - \u001b[4m\u001b[97mINFO\u001b[0m - Saving checkpoint at 30 epochs\n",
            "02/17 20:07:47 - mmengine - \u001b[4m\u001b[97mINFO\u001b[0m - Epoch(val) [30][9/9]    multi-label/mAP: 69.0572  multi-label/precision: 58.8752  multi-label/recall: 55.8824  multi-label/f1-score: 53.2668  multi-label/precision_micro: 61.5385  multi-label/recall_micro: 55.8824  multi-label/f1-score_micro: 58.5742  data_time: 0.1828  time: 0.2261\n",
            "02/17 20:08:01 - mmengine - \u001b[4m\u001b[97mINFO\u001b[0m - Exp name: config2_20240217_200008\n",
            "02/17 20:08:01 - mmengine - \u001b[4m\u001b[97mINFO\u001b[0m - Epoch(train)  [31][34/34]  base_lr: 1.8597e-03 lr: 1.8597e-03  eta: 0:14:25  time: 0.2099  data_time: 0.0579  memory: 292  loss: 0.9418\n",
            "02/17 20:08:05 - mmengine - \u001b[4m\u001b[97mINFO\u001b[0m - Epoch(val) [31][9/9]    multi-label/mAP: 79.2724  multi-label/precision: 68.6259  multi-label/recall: 61.3971  multi-label/f1-score: 58.1212  multi-label/precision_micro: 63.4981  multi-label/recall_micro: 61.3971  multi-label/f1-score_micro: 62.4299  data_time: 0.2883  time: 0.3555\n",
            "02/17 20:08:16 - mmengine - \u001b[4m\u001b[97mINFO\u001b[0m - Exp name: config2_20240217_200008\n",
            "02/17 20:08:16 - mmengine - \u001b[4m\u001b[97mINFO\u001b[0m - Epoch(train)  [32][34/34]  base_lr: 1.9197e-03 lr: 1.9197e-03  eta: 0:14:10  time: 0.2507  data_time: 0.0721  memory: 292  loss: 1.0835\n",
            "02/17 20:08:20 - mmengine - \u001b[4m\u001b[97mINFO\u001b[0m - Epoch(val) [32][9/9]    multi-label/mAP: 71.2335  multi-label/precision: 69.7366  multi-label/recall: 53.3088  multi-label/f1-score: 52.3884  multi-label/precision_micro: 60.4167  multi-label/recall_micro: 53.3088  multi-label/f1-score_micro: 56.6406  data_time: 0.3023  time: 0.3492\n",
            "02/17 20:08:32 - mmengine - \u001b[4m\u001b[97mINFO\u001b[0m - Exp name: config2_20240217_200008\n",
            "02/17 20:08:32 - mmengine - \u001b[4m\u001b[97mINFO\u001b[0m - Epoch(train)  [33][34/34]  base_lr: 1.9797e-03 lr: 1.9797e-03  eta: 0:13:57  time: 0.3303  data_time: 0.0997  memory: 292  loss: 0.9890\n",
            "02/17 20:08:34 - mmengine - \u001b[4m\u001b[97mINFO\u001b[0m - Epoch(val) [33][9/9]    multi-label/mAP: 69.8192  multi-label/precision: 67.2047  multi-label/recall: 57.3529  multi-label/f1-score: 56.8353  multi-label/precision_micro: 61.1765  multi-label/recall_micro: 57.3529  multi-label/f1-score_micro: 59.2030  data_time: 0.1993  time: 0.2526\n",
            "02/17 20:08:47 - mmengine - \u001b[4m\u001b[97mINFO\u001b[0m - Exp name: config2_20240217_200008\n",
            "02/17 20:08:47 - mmengine - \u001b[4m\u001b[97mINFO\u001b[0m - Epoch(train)  [34][34/34]  base_lr: 2.0398e-03 lr: 2.0398e-03  eta: 0:13:44  time: 0.3312  data_time: 0.0677  memory: 292  loss: 0.8392\n",
            "02/17 20:08:49 - mmengine - \u001b[4m\u001b[97mINFO\u001b[0m - Epoch(val) [34][9/9]    multi-label/mAP: 83.2601  multi-label/precision: 77.4428  multi-label/recall: 69.1176  multi-label/f1-score: 69.5376  multi-label/precision_micro: 72.8682  multi-label/recall_micro: 69.1176  multi-label/f1-score_micro: 70.9434  data_time: 0.1838  time: 0.2331\n",
            "02/17 20:09:02 - mmengine - \u001b[4m\u001b[97mINFO\u001b[0m - Exp name: config2_20240217_200008\n",
            "02/17 20:09:02 - mmengine - \u001b[4m\u001b[97mINFO\u001b[0m - Epoch(train)  [35][34/34]  base_lr: 2.0998e-03 lr: 2.0998e-03  eta: 0:13:32  time: 0.2963  data_time: 0.1005  memory: 292  loss: 0.9490\n",
            "02/17 20:09:04 - mmengine - \u001b[4m\u001b[97mINFO\u001b[0m - Epoch(val) [35][9/9]    multi-label/mAP: 74.5261  multi-label/precision: 72.7159  multi-label/recall: 58.0882  multi-label/f1-score: 58.6117  multi-label/precision_micro: 61.7188  multi-label/recall_micro: 58.0882  multi-label/f1-score_micro: 59.8485  data_time: 0.2006  time: 0.2248\n",
            "02/17 20:09:16 - mmengine - \u001b[4m\u001b[97mINFO\u001b[0m - Exp name: config2_20240217_200008\n",
            "02/17 20:09:16 - mmengine - \u001b[4m\u001b[97mINFO\u001b[0m - Epoch(train)  [36][34/34]  base_lr: 2.1598e-03 lr: 2.1598e-03  eta: 0:13:19  time: 0.1982  data_time: 0.0445  memory: 292  loss: 0.8329\n",
            "02/17 20:09:19 - mmengine - \u001b[4m\u001b[97mINFO\u001b[0m - Epoch(val) [36][9/9]    multi-label/mAP: 79.2401  multi-label/precision: 77.6079  multi-label/recall: 66.9118  multi-label/f1-score: 69.1982  multi-label/precision_micro: 75.2066  multi-label/recall_micro: 66.9118  multi-label/f1-score_micro: 70.8171  data_time: 0.1771  time: 0.2256\n",
            "02/17 20:09:31 - mmengine - \u001b[4m\u001b[97mINFO\u001b[0m - Exp name: config2_20240217_200008\n",
            "02/17 20:09:31 - mmengine - \u001b[4m\u001b[97mINFO\u001b[0m - Epoch(train)  [37][34/34]  base_lr: 2.2199e-03 lr: 2.2199e-03  eta: 0:13:06  time: 0.1954  data_time: 0.0579  memory: 292  loss: 0.9363\n",
            "02/17 20:09:33 - mmengine - \u001b[4m\u001b[97mINFO\u001b[0m - Epoch(val) [37][9/9]    multi-label/mAP: 41.3993  multi-label/precision: 48.3112  multi-label/recall: 23.8971  multi-label/f1-score: 22.6134  multi-label/precision_micro: 24.6212  multi-label/recall_micro: 23.8971  multi-label/f1-score_micro: 24.2537  data_time: 0.1818  time: 0.2263\n",
            "02/17 20:09:45 - mmengine - \u001b[4m\u001b[97mINFO\u001b[0m - Exp name: config2_20240217_200008\n",
            "02/17 20:09:45 - mmengine - \u001b[4m\u001b[97mINFO\u001b[0m - Epoch(train)  [38][34/34]  base_lr: 2.2799e-03 lr: 2.2799e-03  eta: 0:12:53  time: 0.1877  data_time: 0.0614  memory: 292  loss: 0.7425\n",
            "02/17 20:09:48 - mmengine - \u001b[4m\u001b[97mINFO\u001b[0m - Epoch(val) [38][9/9]    multi-label/mAP: 78.0987  multi-label/precision: 69.4280  multi-label/recall: 59.9265  multi-label/f1-score: 60.3402  multi-label/precision_micro: 67.6349  multi-label/recall_micro: 59.9265  multi-label/f1-score_micro: 63.5478  data_time: 0.1904  time: 0.2225\n",
            "02/17 20:10:00 - mmengine - \u001b[4m\u001b[97mINFO\u001b[0m - Exp name: config2_20240217_200008\n",
            "02/17 20:10:00 - mmengine - \u001b[4m\u001b[97mINFO\u001b[0m - Epoch(train)  [39][34/34]  base_lr: 2.3400e-03 lr: 2.3400e-03  eta: 0:12:40  time: 0.2127  data_time: 0.0613  memory: 292  loss: 0.8756\n",
            "02/17 20:10:02 - mmengine - \u001b[4m\u001b[97mINFO\u001b[0m - Epoch(val) [39][9/9]    multi-label/mAP: 79.6460  multi-label/precision: 78.5344  multi-label/recall: 61.3971  multi-label/f1-score: 62.3844  multi-label/precision_micro: 67.0683  multi-label/recall_micro: 61.3971  multi-label/f1-score_micro: 64.1075  data_time: 0.2059  time: 0.2468\n",
            "02/17 20:10:16 - mmengine - \u001b[4m\u001b[97mINFO\u001b[0m - Exp name: config2_20240217_200008\n",
            "02/17 20:10:16 - mmengine - \u001b[4m\u001b[97mINFO\u001b[0m - Epoch(train)  [40][34/34]  base_lr: 2.4000e-03 lr: 2.4000e-03  eta: 0:12:30  time: 0.2051  data_time: 0.0485  memory: 292  loss: 0.8450\n",
            "02/17 20:10:16 - mmengine - \u001b[4m\u001b[97mINFO\u001b[0m - Saving checkpoint at 40 epochs\n",
            "02/17 20:10:19 - mmengine - \u001b[4m\u001b[97mINFO\u001b[0m - Epoch(val) [40][9/9]    multi-label/mAP: 70.9897  multi-label/precision: 70.1339  multi-label/recall: 54.4118  multi-label/f1-score: 52.2889  multi-label/precision_micro: 56.2738  multi-label/recall_micro: 54.4118  multi-label/f1-score_micro: 55.3271  data_time: 0.1863  time: 0.2202\n",
            "02/17 20:10:31 - mmengine - \u001b[4m\u001b[97mINFO\u001b[0m - Exp name: config2_20240217_200008\n",
            "02/17 20:10:31 - mmengine - \u001b[4m\u001b[97mINFO\u001b[0m - Epoch(train)  [41][34/34]  base_lr: 2.3999e-03 lr: 2.3999e-03  eta: 0:12:17  time: 0.1960  data_time: 0.0451  memory: 292  loss: 0.6496\n",
            "02/17 20:10:34 - mmengine - \u001b[4m\u001b[97mINFO\u001b[0m - Epoch(val) [41][9/9]    multi-label/mAP: 85.4411  multi-label/precision: 79.9240  multi-label/recall: 71.6912  multi-label/f1-score: 72.3369  multi-label/precision_micro: 73.5849  multi-label/recall_micro: 71.6912  multi-label/f1-score_micro: 72.6257  data_time: 0.2060  time: 0.2467\n",
            "02/17 20:10:46 - mmengine - \u001b[4m\u001b[97mINFO\u001b[0m - Exp name: config2_20240217_200008\n",
            "02/17 20:10:46 - mmengine - \u001b[4m\u001b[97mINFO\u001b[0m - Epoch(train)  [42][34/34]  base_lr: 2.3997e-03 lr: 2.3997e-03  eta: 0:12:04  time: 0.2207  data_time: 0.0609  memory: 292  loss: 0.8292\n",
            "02/17 20:10:49 - mmengine - \u001b[4m\u001b[97mINFO\u001b[0m - Epoch(val) [42][9/9]    multi-label/mAP: 68.6263  multi-label/precision: 57.3692  multi-label/recall: 54.0441  multi-label/f1-score: 51.6699  multi-label/precision_micro: 58.5657  multi-label/recall_micro: 54.0441  multi-label/f1-score_micro: 56.2142  data_time: 0.2483  time: 0.3128\n",
            "02/17 20:11:00 - mmengine - \u001b[4m\u001b[97mINFO\u001b[0m - Exp name: config2_20240217_200008\n",
            "02/17 20:11:00 - mmengine - \u001b[4m\u001b[97mINFO\u001b[0m - Epoch(train)  [43][34/34]  base_lr: 2.3992e-03 lr: 2.3992e-03  eta: 0:11:50  time: 0.1859  data_time: 0.0381  memory: 292  loss: 0.7404\n",
            "02/17 20:11:04 - mmengine - \u001b[4m\u001b[97mINFO\u001b[0m - Epoch(val) [43][9/9]    multi-label/mAP: 81.2099  multi-label/precision: 73.4227  multi-label/recall: 63.2353  multi-label/f1-score: 61.4021  multi-label/precision_micro: 66.6667  multi-label/recall_micro: 63.2353  multi-label/f1-score_micro: 64.9057  data_time: 0.3169  time: 0.3981\n",
            "02/17 20:11:16 - mmengine - \u001b[4m\u001b[97mINFO\u001b[0m - Exp name: config2_20240217_200008\n",
            "02/17 20:11:16 - mmengine - \u001b[4m\u001b[97mINFO\u001b[0m - Epoch(train)  [44][34/34]  base_lr: 2.3986e-03 lr: 2.3986e-03  eta: 0:11:37  time: 0.2438  data_time: 0.0373  memory: 292  loss: 0.6231\n",
            "02/17 20:11:19 - mmengine - \u001b[4m\u001b[97mINFO\u001b[0m - Epoch(val) [44][9/9]    multi-label/mAP: 79.2569  multi-label/precision: 78.1646  multi-label/recall: 68.0147  multi-label/f1-score: 69.0496  multi-label/precision_micro: 73.7052  multi-label/recall_micro: 68.0147  multi-label/f1-score_micro: 70.7457  data_time: 0.2512  time: 0.3155\n",
            "02/17 20:11:31 - mmengine - \u001b[4m\u001b[97mINFO\u001b[0m - Exp name: config2_20240217_200008\n",
            "02/17 20:11:31 - mmengine - \u001b[4m\u001b[97mINFO\u001b[0m - Epoch(train)  [45][34/34]  base_lr: 2.3978e-03 lr: 2.3978e-03  eta: 0:11:24  time: 0.3160  data_time: 0.0618  memory: 292  loss: 0.9463\n",
            "02/17 20:11:34 - mmengine - \u001b[4m\u001b[97mINFO\u001b[0m - Epoch(val) [45][9/9]    multi-label/mAP: 84.8626  multi-label/precision: 81.0051  multi-label/recall: 71.3235  multi-label/f1-score: 70.8771  multi-label/precision_micro: 75.4864  multi-label/recall_micro: 71.3235  multi-label/f1-score_micro: 73.3459  data_time: 0.1932  time: 0.2460\n",
            "02/17 20:11:46 - mmengine - \u001b[4m\u001b[97mINFO\u001b[0m - Exp name: config2_20240217_200008\n",
            "02/17 20:11:46 - mmengine - \u001b[4m\u001b[97mINFO\u001b[0m - Epoch(train)  [46][34/34]  base_lr: 2.3969e-03 lr: 2.3969e-03  eta: 0:11:11  time: 0.3525  data_time: 0.1067  memory: 292  loss: 0.6884\n",
            "02/17 20:11:48 - mmengine - \u001b[4m\u001b[97mINFO\u001b[0m - Epoch(val) [46][9/9]    multi-label/mAP: 78.9206  multi-label/precision: 79.2749  multi-label/recall: 66.9118  multi-label/f1-score: 66.0788  multi-label/precision_micro: 70.0000  multi-label/recall_micro: 66.9118  multi-label/f1-score_micro: 68.4211  data_time: 0.1778  time: 0.2253\n",
            "02/17 20:12:01 - mmengine - \u001b[4m\u001b[97mINFO\u001b[0m - Exp name: config2_20240217_200008\n",
            "02/17 20:12:01 - mmengine - \u001b[4m\u001b[97mINFO\u001b[0m - Epoch(train)  [47][34/34]  base_lr: 2.3957e-03 lr: 2.3957e-03  eta: 0:10:59  time: 0.2501  data_time: 0.0743  memory: 292  loss: 0.6798\n",
            "02/17 20:12:03 - mmengine - \u001b[4m\u001b[97mINFO\u001b[0m - Epoch(val) [47][9/9]    multi-label/mAP: 73.7165  multi-label/precision: 78.8464  multi-label/recall: 65.4412  multi-label/f1-score: 66.8839  multi-label/precision_micro: 70.0787  multi-label/recall_micro: 65.4412  multi-label/f1-score_micro: 67.6806  data_time: 0.1846  time: 0.2141\n",
            "02/17 20:12:17 - mmengine - \u001b[4m\u001b[97mINFO\u001b[0m - Exp name: config2_20240217_200008\n",
            "02/17 20:12:17 - mmengine - \u001b[4m\u001b[97mINFO\u001b[0m - Epoch(train)  [48][34/34]  base_lr: 2.3944e-03 lr: 2.3944e-03  eta: 0:10:48  time: 0.3625  data_time: 0.1485  memory: 292  loss: 0.7540\n",
            "02/17 20:12:19 - mmengine - \u001b[4m\u001b[97mINFO\u001b[0m - Epoch(val) [48][9/9]    multi-label/mAP: 82.8530  multi-label/precision: 79.0465  multi-label/recall: 66.5441  multi-label/f1-score: 67.7137  multi-label/precision_micro: 71.2598  multi-label/recall_micro: 66.5441  multi-label/f1-score_micro: 68.8213  data_time: 0.1805  time: 0.2255\n",
            "02/17 20:12:31 - mmengine - \u001b[4m\u001b[97mINFO\u001b[0m - Exp name: config2_20240217_200008\n",
            "02/17 20:12:31 - mmengine - \u001b[4m\u001b[97mINFO\u001b[0m - Epoch(train)  [49][34/34]  base_lr: 2.3930e-03 lr: 2.3930e-03  eta: 0:10:35  time: 0.2352  data_time: 0.0622  memory: 292  loss: 0.8295\n",
            "02/17 20:12:34 - mmengine - \u001b[4m\u001b[97mINFO\u001b[0m - Epoch(val) [49][9/9]    multi-label/mAP: 88.3138  multi-label/precision: 85.8820  multi-label/recall: 77.2059  multi-label/f1-score: 79.2858  multi-label/precision_micro: 82.6772  multi-label/recall_micro: 77.2059  multi-label/f1-score_micro: 79.8479  data_time: 0.1855  time: 0.2242\n",
            "02/17 20:12:46 - mmengine - \u001b[4m\u001b[97mINFO\u001b[0m - Exp name: config2_20240217_200008\n",
            "02/17 20:12:46 - mmengine - \u001b[4m\u001b[97mINFO\u001b[0m - Epoch(train)  [50][34/34]  base_lr: 2.3913e-03 lr: 2.3913e-03  eta: 0:10:22  time: 0.2060  data_time: 0.0391  memory: 292  loss: 0.5896\n",
            "02/17 20:12:46 - mmengine - \u001b[4m\u001b[97mINFO\u001b[0m - Saving checkpoint at 50 epochs\n",
            "02/17 20:12:48 - mmengine - \u001b[4m\u001b[97mINFO\u001b[0m - Epoch(val) [50][9/9]    multi-label/mAP: 74.5658  multi-label/precision: 73.6574  multi-label/recall: 60.2941  multi-label/f1-score: 60.2066  multi-label/precision_micro: 66.6667  multi-label/recall_micro: 60.2941  multi-label/f1-score_micro: 63.3205  data_time: 0.1705  time: 0.2189\n",
            "02/17 20:13:01 - mmengine - \u001b[4m\u001b[97mINFO\u001b[0m - Exp name: config2_20240217_200008\n",
            "02/17 20:13:01 - mmengine - \u001b[4m\u001b[97mINFO\u001b[0m - Epoch(train)  [51][34/34]  base_lr: 2.3895e-03 lr: 2.3895e-03  eta: 0:10:10  time: 0.2325  data_time: 0.0771  memory: 292  loss: 0.6329\n",
            "02/17 20:13:03 - mmengine - \u001b[4m\u001b[97mINFO\u001b[0m - Epoch(val) [51][9/9]    multi-label/mAP: 86.3683  multi-label/precision: 82.3050  multi-label/recall: 72.0588  multi-label/f1-score: 74.8208  multi-label/precision_micro: 78.4000  multi-label/recall_micro: 72.0588  multi-label/f1-score_micro: 75.0958  data_time: 0.1764  time: 0.2214\n",
            "02/17 20:13:15 - mmengine - \u001b[4m\u001b[97mINFO\u001b[0m - Exp name: config2_20240217_200008\n",
            "02/17 20:13:15 - mmengine - \u001b[4m\u001b[97mINFO\u001b[0m - Epoch(train)  [52][34/34]  base_lr: 2.3875e-03 lr: 2.3875e-03  eta: 0:09:57  time: 0.1721  data_time: 0.0490  memory: 292  loss: 0.6223\n",
            "02/17 20:13:17 - mmengine - \u001b[4m\u001b[97mINFO\u001b[0m - Epoch(val) [52][9/9]    multi-label/mAP: 79.8685  multi-label/precision: 78.0897  multi-label/recall: 66.5441  multi-label/f1-score: 68.8040  multi-label/precision_micro: 72.4000  multi-label/recall_micro: 66.5441  multi-label/f1-score_micro: 69.3487  data_time: 0.1907  time: 0.2256\n",
            "02/17 20:13:29 - mmengine - \u001b[4m\u001b[97mINFO\u001b[0m - Exp name: config2_20240217_200008\n",
            "02/17 20:13:29 - mmengine - \u001b[4m\u001b[97mINFO\u001b[0m - Epoch(train)  [53][34/34]  base_lr: 2.3853e-03 lr: 2.3853e-03  eta: 0:09:45  time: 0.1954  data_time: 0.0748  memory: 292  loss: 0.6762\n",
            "02/17 20:13:32 - mmengine - \u001b[4m\u001b[97mINFO\u001b[0m - Epoch(val) [53][9/9]    multi-label/mAP: 83.4992  multi-label/precision: 76.4654  multi-label/recall: 66.9118  multi-label/f1-score: 65.0345  multi-label/precision_micro: 68.9394  multi-label/recall_micro: 66.9118  multi-label/f1-score_micro: 67.9104  data_time: 0.1802  time: 0.2207\n",
            "02/17 20:13:44 - mmengine - \u001b[4m\u001b[97mINFO\u001b[0m - Exp name: config2_20240217_200008\n",
            "02/17 20:13:44 - mmengine - \u001b[4m\u001b[97mINFO\u001b[0m - Epoch(train)  [54][34/34]  base_lr: 2.3829e-03 lr: 2.3829e-03  eta: 0:09:32  time: 0.2061  data_time: 0.0606  memory: 292  loss: 0.5690\n",
            "02/17 20:13:46 - mmengine - \u001b[4m\u001b[97mINFO\u001b[0m - Epoch(val) [54][9/9]    multi-label/mAP: 83.1611  multi-label/precision: 77.5253  multi-label/recall: 68.7500  multi-label/f1-score: 69.0092  multi-label/precision_micro: 72.2008  multi-label/recall_micro: 68.7500  multi-label/f1-score_micro: 70.4331  data_time: 0.1750  time: 0.2246\n",
            "02/17 20:13:59 - mmengine - \u001b[4m\u001b[97mINFO\u001b[0m - Exp name: config2_20240217_200008\n",
            "02/17 20:13:59 - mmengine - \u001b[4m\u001b[97mINFO\u001b[0m - Epoch(train)  [55][34/34]  base_lr: 2.3804e-03 lr: 2.3804e-03  eta: 0:09:19  time: 0.1895  data_time: 0.0454  memory: 292  loss: 0.5912\n",
            "02/17 20:14:01 - mmengine - \u001b[4m\u001b[97mINFO\u001b[0m - Epoch(val) [55][9/9]    multi-label/mAP: 88.1419  multi-label/precision: 82.2471  multi-label/recall: 72.0588  multi-label/f1-score: 74.6377  multi-label/precision_micro: 80.3279  multi-label/recall_micro: 72.0588  multi-label/f1-score_micro: 75.9690  data_time: 0.1834  time: 0.2205\n",
            "02/17 20:14:13 - mmengine - \u001b[4m\u001b[97mINFO\u001b[0m - Exp name: config2_20240217_200008\n",
            "02/17 20:14:13 - mmengine - \u001b[4m\u001b[97mINFO\u001b[0m - Epoch(train)  [56][34/34]  base_lr: 2.3777e-03 lr: 2.3777e-03  eta: 0:09:07  time: 0.2121  data_time: 0.0537  memory: 292  loss: 0.5937\n",
            "02/17 20:14:15 - mmengine - \u001b[4m\u001b[97mINFO\u001b[0m - Epoch(val) [56][9/9]    multi-label/mAP: 86.7006  multi-label/precision: 80.4321  multi-label/recall: 72.7941  multi-label/f1-score: 75.5278  multi-label/precision_micro: 79.2000  multi-label/recall_micro: 72.7941  multi-label/f1-score_micro: 75.8621  data_time: 0.1896  time: 0.2247\n",
            "02/17 20:14:29 - mmengine - \u001b[4m\u001b[97mINFO\u001b[0m - Exp name: config2_20240217_200008\n",
            "02/17 20:14:29 - mmengine - \u001b[4m\u001b[97mINFO\u001b[0m - Epoch(train)  [57][34/34]  base_lr: 2.3749e-03 lr: 2.3749e-03  eta: 0:08:56  time: 0.1900  data_time: 0.0357  memory: 292  loss: 0.5603\n",
            "02/17 20:14:33 - mmengine - \u001b[4m\u001b[97mINFO\u001b[0m - Epoch(val) [57][9/9]    multi-label/mAP: 85.9058  multi-label/precision: 84.8283  multi-label/recall: 72.4265  multi-label/f1-score: 73.6912  multi-label/precision_micro: 79.4355  multi-label/recall_micro: 72.4265  multi-label/f1-score_micro: 75.7692  data_time: 0.2596  time: 0.3075\n",
            "02/17 20:14:43 - mmengine - \u001b[4m\u001b[97mINFO\u001b[0m - Exp name: config2_20240217_200008\n",
            "02/17 20:14:43 - mmengine - \u001b[4m\u001b[97mINFO\u001b[0m - Epoch(train)  [58][34/34]  base_lr: 2.3718e-03 lr: 2.3718e-03  eta: 0:08:42  time: 0.2057  data_time: 0.0573  memory: 292  loss: 0.5661\n",
            "02/17 20:14:47 - mmengine - \u001b[4m\u001b[97mINFO\u001b[0m - Epoch(val) [58][9/9]    multi-label/mAP: 86.0776  multi-label/precision: 84.3358  multi-label/recall: 75.0000  multi-label/f1-score: 78.3239  multi-label/precision_micro: 79.6875  multi-label/recall_micro: 75.0000  multi-label/f1-score_micro: 77.2727  data_time: 0.2589  time: 0.3280\n",
            "02/17 20:14:57 - mmengine - \u001b[4m\u001b[97mINFO\u001b[0m - Exp name: config2_20240217_200008\n",
            "02/17 20:14:58 - mmengine - \u001b[4m\u001b[97mINFO\u001b[0m - Exp name: config2_20240217_200008\n",
            "02/17 20:14:58 - mmengine - \u001b[4m\u001b[97mINFO\u001b[0m - Epoch(train)  [59][34/34]  base_lr: 2.3686e-03 lr: 2.3686e-03  eta: 0:08:29  time: 0.1862  data_time: 0.0528  memory: 292  loss: 0.4548\n",
            "02/17 20:15:01 - mmengine - \u001b[4m\u001b[97mINFO\u001b[0m - Epoch(val) [59][9/9]    multi-label/mAP: 86.4478  multi-label/precision: 83.9962  multi-label/recall: 65.8088  multi-label/f1-score: 68.2851  multi-label/precision_micro: 74.8954  multi-label/recall_micro: 65.8088  multi-label/f1-score_micro: 70.0587  data_time: 0.3141  time: 0.3619\n",
            "02/17 20:15:12 - mmengine - \u001b[4m\u001b[97mINFO\u001b[0m - Exp name: config2_20240217_200008\n",
            "02/17 20:15:12 - mmengine - \u001b[4m\u001b[97mINFO\u001b[0m - Epoch(train)  [60][34/34]  base_lr: 2.3652e-03 lr: 2.3652e-03  eta: 0:08:15  time: 0.1790  data_time: 0.0370  memory: 292  loss: 0.5724\n",
            "02/17 20:15:12 - mmengine - \u001b[4m\u001b[97mINFO\u001b[0m - Saving checkpoint at 60 epochs\n",
            "02/17 20:15:16 - mmengine - \u001b[4m\u001b[97mINFO\u001b[0m - Epoch(val) [60][9/9]    multi-label/mAP: 89.5478  multi-label/precision: 85.4136  multi-label/recall: 75.0000  multi-label/f1-score: 78.2231  multi-label/precision_micro: 81.9277  multi-label/recall_micro: 75.0000  multi-label/f1-score_micro: 78.3109  data_time: 0.2774  time: 0.3210\n",
            "02/17 20:15:27 - mmengine - \u001b[4m\u001b[97mINFO\u001b[0m - Exp name: config2_20240217_200008\n",
            "02/17 20:15:27 - mmengine - \u001b[4m\u001b[97mINFO\u001b[0m - Epoch(train)  [61][34/34]  base_lr: 2.3617e-03 lr: 2.3617e-03  eta: 0:08:02  time: 0.3062  data_time: 0.0894  memory: 292  loss: 0.6112\n",
            "02/17 20:15:30 - mmengine - \u001b[4m\u001b[97mINFO\u001b[0m - Epoch(val) [61][9/9]    multi-label/mAP: 73.8708  multi-label/precision: 76.8109  multi-label/recall: 59.1912  multi-label/f1-score: 61.6161  multi-label/precision_micro: 62.6459  multi-label/recall_micro: 59.1912  multi-label/f1-score_micro: 60.8696  data_time: 0.2349  time: 0.2695\n",
            "02/17 20:15:42 - mmengine - \u001b[4m\u001b[97mINFO\u001b[0m - Exp name: config2_20240217_200008\n",
            "02/17 20:15:42 - mmengine - \u001b[4m\u001b[97mINFO\u001b[0m - Epoch(train)  [62][34/34]  base_lr: 2.3580e-03 lr: 2.3580e-03  eta: 0:07:49  time: 0.3388  data_time: 0.1120  memory: 292  loss: 0.7226\n",
            "02/17 20:15:44 - mmengine - \u001b[4m\u001b[97mINFO\u001b[0m - Epoch(val) [62][9/9]    multi-label/mAP: 87.9433  multi-label/precision: 85.7056  multi-label/recall: 74.2647  multi-label/f1-score: 78.0151  multi-label/precision_micro: 83.8174  multi-label/recall_micro: 74.2647  multi-label/f1-score_micro: 78.7524  data_time: 0.1751  time: 0.2184\n",
            "02/17 20:15:56 - mmengine - \u001b[4m\u001b[97mINFO\u001b[0m - Exp name: config2_20240217_200008\n",
            "02/17 20:15:56 - mmengine - \u001b[4m\u001b[97mINFO\u001b[0m - Epoch(train)  [63][34/34]  base_lr: 2.3541e-03 lr: 2.3541e-03  eta: 0:07:37  time: 0.2816  data_time: 0.0603  memory: 292  loss: 0.6138\n",
            "02/17 20:15:59 - mmengine - \u001b[4m\u001b[97mINFO\u001b[0m - Epoch(val) [63][9/9]    multi-label/mAP: 91.8600  multi-label/precision: 88.4424  multi-label/recall: 80.1471  multi-label/f1-score: 82.3593  multi-label/precision_micro: 85.8268  multi-label/recall_micro: 80.1471  multi-label/f1-score_micro: 82.8897  data_time: 0.1753  time: 0.2192\n",
            "02/17 20:16:11 - mmengine - \u001b[4m\u001b[97mINFO\u001b[0m - Exp name: config2_20240217_200008\n",
            "02/17 20:16:11 - mmengine - \u001b[4m\u001b[97mINFO\u001b[0m - Epoch(train)  [64][34/34]  base_lr: 2.3500e-03 lr: 2.3500e-03  eta: 0:07:24  time: 0.2465  data_time: 0.0652  memory: 292  loss: 0.5562\n",
            "02/17 20:16:13 - mmengine - \u001b[4m\u001b[97mINFO\u001b[0m - Epoch(val) [64][9/9]    multi-label/mAP: 91.7587  multi-label/precision: 87.9260  multi-label/recall: 79.7794  multi-label/f1-score: 82.0039  multi-label/precision_micro: 84.4358  multi-label/recall_micro: 79.7794  multi-label/f1-score_micro: 82.0416  data_time: 0.1719  time: 0.2190\n",
            "02/17 20:16:25 - mmengine - \u001b[4m\u001b[97mINFO\u001b[0m - Exp name: config2_20240217_200008\n",
            "02/17 20:16:25 - mmengine - \u001b[4m\u001b[97mINFO\u001b[0m - Epoch(train)  [65][34/34]  base_lr: 2.3458e-03 lr: 2.3458e-03  eta: 0:07:12  time: 0.2458  data_time: 0.0707  memory: 292  loss: 0.5309\n",
            "02/17 20:16:27 - mmengine - \u001b[4m\u001b[97mINFO\u001b[0m - Epoch(val) [65][9/9]    multi-label/mAP: 90.7020  multi-label/precision: 85.3935  multi-label/recall: 76.1029  multi-label/f1-score: 79.1145  multi-label/precision_micro: 82.4701  multi-label/recall_micro: 76.1029  multi-label/f1-score_micro: 79.1587  data_time: 0.1757  time: 0.2145\n",
            "02/17 20:16:41 - mmengine - \u001b[4m\u001b[97mINFO\u001b[0m - Exp name: config2_20240217_200008\n",
            "02/17 20:16:41 - mmengine - \u001b[4m\u001b[97mINFO\u001b[0m - Epoch(train)  [66][34/34]  base_lr: 2.3414e-03 lr: 2.3414e-03  eta: 0:07:00  time: 0.2015  data_time: 0.0553  memory: 292  loss: 0.5234\n",
            "02/17 20:16:43 - mmengine - \u001b[4m\u001b[97mINFO\u001b[0m - Epoch(val) [66][9/9]    multi-label/mAP: 85.8122  multi-label/precision: 86.7933  multi-label/recall: 75.0000  multi-label/f1-score: 75.1551  multi-label/precision_micro: 78.7645  multi-label/recall_micro: 75.0000  multi-label/f1-score_micro: 76.8362  data_time: 0.1831  time: 0.2130\n",
            "02/17 20:16:55 - mmengine - \u001b[4m\u001b[97mINFO\u001b[0m - Exp name: config2_20240217_200008\n",
            "02/17 20:16:55 - mmengine - \u001b[4m\u001b[97mINFO\u001b[0m - Epoch(train)  [67][34/34]  base_lr: 2.3368e-03 lr: 2.3368e-03  eta: 0:06:48  time: 0.2233  data_time: 0.0678  memory: 292  loss: 0.5509\n",
            "02/17 20:16:58 - mmengine - \u001b[4m\u001b[97mINFO\u001b[0m - Epoch(val) [67][9/9]    multi-label/mAP: 85.6946  multi-label/precision: 81.0397  multi-label/recall: 72.4265  multi-label/f1-score: 73.4253  multi-label/precision_micro: 77.2549  multi-label/recall_micro: 72.4265  multi-label/f1-score_micro: 74.7628  data_time: 0.1692  time: 0.2168\n",
            "02/17 20:17:09 - mmengine - \u001b[4m\u001b[97mINFO\u001b[0m - Exp name: config2_20240217_200008\n",
            "02/17 20:17:09 - mmengine - \u001b[4m\u001b[97mINFO\u001b[0m - Epoch(train)  [68][34/34]  base_lr: 2.3321e-03 lr: 2.3321e-03  eta: 0:06:35  time: 0.1983  data_time: 0.0552  memory: 292  loss: 0.4803\n",
            "02/17 20:17:12 - mmengine - \u001b[4m\u001b[97mINFO\u001b[0m - Epoch(val) [68][9/9]    multi-label/mAP: 81.4155  multi-label/precision: 72.1994  multi-label/recall: 65.4412  multi-label/f1-score: 66.1998  multi-label/precision_micro: 72.3577  multi-label/recall_micro: 65.4412  multi-label/f1-score_micro: 68.7259  data_time: 0.1710  time: 0.2196\n",
            "02/17 20:17:24 - mmengine - \u001b[4m\u001b[97mINFO\u001b[0m - Exp name: config2_20240217_200008\n",
            "02/17 20:17:24 - mmengine - \u001b[4m\u001b[97mINFO\u001b[0m - Epoch(train)  [69][34/34]  base_lr: 2.3272e-03 lr: 2.3272e-03  eta: 0:06:23  time: 0.2079  data_time: 0.0662  memory: 292  loss: 0.5260\n",
            "02/17 20:17:26 - mmengine - \u001b[4m\u001b[97mINFO\u001b[0m - Epoch(val) [69][9/9]    multi-label/mAP: 90.8842  multi-label/precision: 87.1180  multi-label/recall: 78.3088  multi-label/f1-score: 78.1380  multi-label/precision_micro: 83.2031  multi-label/recall_micro: 78.3088  multi-label/f1-score_micro: 80.6818  data_time: 0.1744  time: 0.2175\n",
            "02/17 20:17:39 - mmengine - \u001b[4m\u001b[97mINFO\u001b[0m - Exp name: config2_20240217_200008\n",
            "02/17 20:17:39 - mmengine - \u001b[4m\u001b[97mINFO\u001b[0m - Epoch(train)  [70][34/34]  base_lr: 2.3222e-03 lr: 2.3222e-03  eta: 0:06:10  time: 0.2051  data_time: 0.0796  memory: 292  loss: 0.4646\n",
            "02/17 20:17:39 - mmengine - \u001b[4m\u001b[97mINFO\u001b[0m - Saving checkpoint at 70 epochs\n",
            "02/17 20:17:41 - mmengine - \u001b[4m\u001b[97mINFO\u001b[0m - Epoch(val) [70][9/9]    multi-label/mAP: 89.8336  multi-label/precision: 85.8766  multi-label/recall: 77.5735  multi-label/f1-score: 79.9402  multi-label/precision_micro: 85.4251  multi-label/recall_micro: 77.5735  multi-label/f1-score_micro: 81.3102  data_time: 0.1732  time: 0.2225\n",
            "02/17 20:17:53 - mmengine - \u001b[4m\u001b[97mINFO\u001b[0m - Exp name: config2_20240217_200008\n",
            "02/17 20:17:53 - mmengine - \u001b[4m\u001b[97mINFO\u001b[0m - Epoch(train)  [71][34/34]  base_lr: 2.3170e-03 lr: 2.3170e-03  eta: 0:05:58  time: 0.1889  data_time: 0.0358  memory: 292  loss: 0.5148\n",
            "02/17 20:17:55 - mmengine - \u001b[4m\u001b[97mINFO\u001b[0m - Epoch(val) [71][9/9]    multi-label/mAP: 89.8976  multi-label/precision: 88.5155  multi-label/recall: 77.9412  multi-label/f1-score: 81.3019  multi-label/precision_micro: 85.4839  multi-label/recall_micro: 77.9412  multi-label/f1-score_micro: 81.5385  data_time: 0.1754  time: 0.2224\n",
            "02/17 20:18:07 - mmengine - \u001b[4m\u001b[97mINFO\u001b[0m - Exp name: config2_20240217_200008\n",
            "02/17 20:18:07 - mmengine - \u001b[4m\u001b[97mINFO\u001b[0m - Epoch(train)  [72][34/34]  base_lr: 2.3116e-03 lr: 2.3116e-03  eta: 0:05:45  time: 0.1500  data_time: 0.0327  memory: 292  loss: 0.5691\n",
            "02/17 20:18:09 - mmengine - \u001b[4m\u001b[97mINFO\u001b[0m - Epoch(val) [72][9/9]    multi-label/mAP: 92.2876  multi-label/precision: 90.9676  multi-label/recall: 81.2500  multi-label/f1-score: 84.4399  multi-label/precision_micro: 89.4737  multi-label/recall_micro: 81.2500  multi-label/f1-score_micro: 85.1638  data_time: 0.1721  time: 0.2124\n",
            "02/17 20:18:21 - mmengine - \u001b[4m\u001b[97mINFO\u001b[0m - Exp name: config2_20240217_200008\n",
            "02/17 20:18:21 - mmengine - \u001b[4m\u001b[97mINFO\u001b[0m - Epoch(train)  [73][34/34]  base_lr: 2.3060e-03 lr: 2.3060e-03  eta: 0:05:33  time: 0.1618  data_time: 0.0369  memory: 292  loss: 0.4603\n",
            "02/17 20:18:24 - mmengine - \u001b[4m\u001b[97mINFO\u001b[0m - Epoch(val) [73][9/9]    multi-label/mAP: 91.0356  multi-label/precision: 85.5293  multi-label/recall: 77.5735  multi-label/f1-score: 79.3839  multi-label/precision_micro: 82.4219  multi-label/recall_micro: 77.5735  multi-label/f1-score_micro: 79.9242  data_time: 0.1731  time: 0.2184\n",
            "02/17 20:18:36 - mmengine - \u001b[4m\u001b[97mINFO\u001b[0m - Exp name: config2_20240217_200008\n",
            "02/17 20:18:36 - mmengine - \u001b[4m\u001b[97mINFO\u001b[0m - Epoch(train)  [74][34/34]  base_lr: 2.3003e-03 lr: 2.3003e-03  eta: 0:05:21  time: 0.2276  data_time: 0.0465  memory: 292  loss: 0.5207\n",
            "02/17 20:18:39 - mmengine - \u001b[4m\u001b[97mINFO\u001b[0m - Epoch(val) [74][9/9]    multi-label/mAP: 89.2011  multi-label/precision: 85.7884  multi-label/recall: 73.5294  multi-label/f1-score: 75.7774  multi-label/precision_micro: 81.3008  multi-label/recall_micro: 73.5294  multi-label/f1-score_micro: 77.2201  data_time: 0.2442  time: 0.3433\n",
            "02/17 20:18:52 - mmengine - \u001b[4m\u001b[97mINFO\u001b[0m - Exp name: config2_20240217_200008\n",
            "02/17 20:18:52 - mmengine - \u001b[4m\u001b[97mINFO\u001b[0m - Epoch(train)  [75][34/34]  base_lr: 2.2945e-03 lr: 2.2945e-03  eta: 0:05:08  time: 0.1944  data_time: 0.0371  memory: 292  loss: 0.4592\n",
            "02/17 20:18:55 - mmengine - \u001b[4m\u001b[97mINFO\u001b[0m - Epoch(val) [75][9/9]    multi-label/mAP: 84.4123  multi-label/precision: 84.7617  multi-label/recall: 72.0588  multi-label/f1-score: 74.2764  multi-label/precision_micro: 77.4704  multi-label/recall_micro: 72.0588  multi-label/f1-score_micro: 74.6667  data_time: 0.2340  time: 0.2947\n",
            "02/17 20:19:06 - mmengine - \u001b[4m\u001b[97mINFO\u001b[0m - Exp name: config2_20240217_200008\n",
            "02/17 20:19:06 - mmengine - \u001b[4m\u001b[97mINFO\u001b[0m - Epoch(train)  [76][34/34]  base_lr: 2.2884e-03 lr: 2.2884e-03  eta: 0:04:56  time: 0.2264  data_time: 0.0672  memory: 292  loss: 0.4428\n",
            "02/17 20:19:10 - mmengine - \u001b[4m\u001b[97mINFO\u001b[0m - Epoch(val) [76][9/9]    multi-label/mAP: 88.6107  multi-label/precision: 86.3190  multi-label/recall: 77.5735  multi-label/f1-score: 79.1795  multi-label/precision_micro: 83.7302  multi-label/recall_micro: 77.5735  multi-label/f1-score_micro: 80.5344  data_time: 0.2904  time: 0.3527\n",
            "02/17 20:19:23 - mmengine - \u001b[4m\u001b[97mINFO\u001b[0m - Exp name: config2_20240217_200008\n",
            "02/17 20:19:23 - mmengine - \u001b[4m\u001b[97mINFO\u001b[0m - Epoch(train)  [77][34/34]  base_lr: 2.2822e-03 lr: 2.2822e-03  eta: 0:04:43  time: 0.3107  data_time: 0.0883  memory: 292  loss: 0.3964\n",
            "02/17 20:19:25 - mmengine - \u001b[4m\u001b[97mINFO\u001b[0m - Epoch(val) [77][9/9]    multi-label/mAP: 88.7599  multi-label/precision: 85.0875  multi-label/recall: 68.3824  multi-label/f1-score: 72.8342  multi-label/precision_micro: 81.2227  multi-label/recall_micro: 68.3824  multi-label/f1-score_micro: 74.2515  data_time: 0.2204  time: 0.2749\n",
            "02/17 20:19:39 - mmengine - \u001b[4m\u001b[97mINFO\u001b[0m - Exp name: config2_20240217_200008\n",
            "02/17 20:19:39 - mmengine - \u001b[4m\u001b[97mINFO\u001b[0m - Epoch(train)  [78][34/34]  base_lr: 2.2759e-03 lr: 2.2759e-03  eta: 0:04:31  time: 0.3225  data_time: 0.0936  memory: 292  loss: 0.3579\n",
            "02/17 20:19:41 - mmengine - \u001b[4m\u001b[97mINFO\u001b[0m - Epoch(val) [78][9/9]    multi-label/mAP: 92.1902  multi-label/precision: 87.9715  multi-label/recall: 82.3529  multi-label/f1-score: 84.2606  multi-label/precision_micro: 86.8217  multi-label/recall_micro: 82.3529  multi-label/f1-score_micro: 84.5283  data_time: 0.1988  time: 0.2437\n",
            "02/17 20:19:54 - mmengine - \u001b[4m\u001b[97mINFO\u001b[0m - Exp name: config2_20240217_200008\n",
            "02/17 20:19:54 - mmengine - \u001b[4m\u001b[97mINFO\u001b[0m - Epoch(train)  [79][34/34]  base_lr: 2.2694e-03 lr: 2.2694e-03  eta: 0:04:19  time: 0.3004  data_time: 0.1078  memory: 292  loss: 0.5589\n",
            "02/17 20:19:56 - mmengine - \u001b[4m\u001b[97mINFO\u001b[0m - Epoch(val) [79][9/9]    multi-label/mAP: 87.0387  multi-label/precision: 85.0572  multi-label/recall: 74.6324  multi-label/f1-score: 78.0996  multi-label/precision_micro: 83.1967  multi-label/recall_micro: 74.6324  multi-label/f1-score_micro: 78.6822  data_time: 0.2041  time: 0.2521\n",
            "02/17 20:20:09 - mmengine - \u001b[4m\u001b[97mINFO\u001b[0m - Exp name: config2_20240217_200008\n",
            "02/17 20:20:09 - mmengine - \u001b[4m\u001b[97mINFO\u001b[0m - Epoch(train)  [80][34/34]  base_lr: 2.2627e-03 lr: 2.2627e-03  eta: 0:04:07  time: 0.1809  data_time: 0.0417  memory: 292  loss: 0.4042\n",
            "02/17 20:20:09 - mmengine - \u001b[4m\u001b[97mINFO\u001b[0m - Saving checkpoint at 80 epochs\n",
            "02/17 20:20:12 - mmengine - \u001b[4m\u001b[97mINFO\u001b[0m - Epoch(val) [80][9/9]    multi-label/mAP: 91.4763  multi-label/precision: 88.6011  multi-label/recall: 80.1471  multi-label/f1-score: 82.5974  multi-label/precision_micro: 85.8268  multi-label/recall_micro: 80.1471  multi-label/f1-score_micro: 82.8897  data_time: 0.1783  time: 0.2265\n",
            "02/17 20:20:25 - mmengine - \u001b[4m\u001b[97mINFO\u001b[0m - Exp name: config2_20240217_200008\n",
            "02/17 20:20:25 - mmengine - \u001b[4m\u001b[97mINFO\u001b[0m - Epoch(train)  [81][34/34]  base_lr: 2.2559e-03 lr: 2.2559e-03  eta: 0:03:55  time: 0.2038  data_time: 0.0540  memory: 292  loss: 0.3662\n",
            "02/17 20:20:27 - mmengine - \u001b[4m\u001b[97mINFO\u001b[0m - Epoch(val) [81][9/9]    multi-label/mAP: 89.4719  multi-label/precision: 86.4851  multi-label/recall: 76.8382  multi-label/f1-score: 79.0745  multi-label/precision_micro: 84.6154  multi-label/recall_micro: 76.8382  multi-label/f1-score_micro: 80.5395  data_time: 0.1924  time: 0.2300\n",
            "02/17 20:20:40 - mmengine - \u001b[4m\u001b[97mINFO\u001b[0m - Exp name: config2_20240217_200008\n",
            "02/17 20:20:40 - mmengine - \u001b[4m\u001b[97mINFO\u001b[0m - Epoch(train)  [82][34/34]  base_lr: 2.2490e-03 lr: 2.2490e-03  eta: 0:03:42  time: 0.2204  data_time: 0.0686  memory: 292  loss: 0.4370\n",
            "02/17 20:20:42 - mmengine - \u001b[4m\u001b[97mINFO\u001b[0m - Epoch(val) [82][9/9]    multi-label/mAP: 88.1004  multi-label/precision: 87.8339  multi-label/recall: 77.5735  multi-label/f1-score: 80.4657  multi-label/precision_micro: 83.7302  multi-label/recall_micro: 77.5735  multi-label/f1-score_micro: 80.5344  data_time: 0.1853  time: 0.2309\n",
            "02/17 20:20:54 - mmengine - \u001b[4m\u001b[97mINFO\u001b[0m - Exp name: config2_20240217_200008\n",
            "02/17 20:20:54 - mmengine - \u001b[4m\u001b[97mINFO\u001b[0m - Epoch(train)  [83][34/34]  base_lr: 2.2419e-03 lr: 2.2419e-03  eta: 0:03:30  time: 0.1794  data_time: 0.0467  memory: 292  loss: 0.5112\n",
            "02/17 20:20:57 - mmengine - \u001b[4m\u001b[97mINFO\u001b[0m - Epoch(val) [83][9/9]    multi-label/mAP: 92.9847  multi-label/precision: 87.3283  multi-label/recall: 80.8824  multi-label/f1-score: 83.0982  multi-label/precision_micro: 85.9375  multi-label/recall_micro: 80.8824  multi-label/f1-score_micro: 83.3333  data_time: 0.1886  time: 0.2347\n",
            "02/17 20:21:09 - mmengine - \u001b[4m\u001b[97mINFO\u001b[0m - Exp name: config2_20240217_200008\n",
            "02/17 20:21:09 - mmengine - \u001b[4m\u001b[97mINFO\u001b[0m - Epoch(train)  [84][34/34]  base_lr: 2.2346e-03 lr: 2.2346e-03  eta: 0:03:18  time: 0.1972  data_time: 0.0631  memory: 292  loss: 0.3696\n",
            "02/17 20:21:11 - mmengine - \u001b[4m\u001b[97mINFO\u001b[0m - Epoch(val) [84][9/9]    multi-label/mAP: 90.9248  multi-label/precision: 87.1884  multi-label/recall: 79.0441  multi-label/f1-score: 80.5427  multi-label/precision_micro: 83.9844  multi-label/recall_micro: 79.0441  multi-label/f1-score_micro: 81.4394  data_time: 0.1740  time: 0.2171\n",
            "02/17 20:21:24 - mmengine - \u001b[4m\u001b[97mINFO\u001b[0m - Exp name: config2_20240217_200008\n",
            "02/17 20:21:24 - mmengine - \u001b[4m\u001b[97mINFO\u001b[0m - Epoch(train)  [85][34/34]  base_lr: 2.2272e-03 lr: 2.2272e-03  eta: 0:03:05  time: 0.1850  data_time: 0.0486  memory: 292  loss: 0.4353\n",
            "02/17 20:21:26 - mmengine - \u001b[4m\u001b[97mINFO\u001b[0m - Epoch(val) [85][9/9]    multi-label/mAP: 92.5400  multi-label/precision: 87.3889  multi-label/recall: 80.5147  multi-label/f1-score: 82.9650  multi-label/precision_micro: 86.9048  multi-label/recall_micro: 80.5147  multi-label/f1-score_micro: 83.5878  data_time: 0.1983  time: 0.2274\n",
            "02/17 20:21:39 - mmengine - \u001b[4m\u001b[97mINFO\u001b[0m - Exp name: config2_20240217_200008\n",
            "02/17 20:21:39 - mmengine - \u001b[4m\u001b[97mINFO\u001b[0m - Epoch(train)  [86][34/34]  base_lr: 2.2196e-03 lr: 2.2196e-03  eta: 0:02:53  time: 0.2128  data_time: 0.0644  memory: 292  loss: 0.3638\n",
            "02/17 20:21:41 - mmengine - \u001b[4m\u001b[97mINFO\u001b[0m - Epoch(val) [86][9/9]    multi-label/mAP: 90.3089  multi-label/precision: 88.2225  multi-label/recall: 79.7794  multi-label/f1-score: 82.7069  multi-label/precision_micro: 87.1486  multi-label/recall_micro: 79.7794  multi-label/f1-score_micro: 83.3013  data_time: 0.1949  time: 0.2398\n",
            "02/17 20:21:53 - mmengine - \u001b[4m\u001b[97mINFO\u001b[0m - Exp name: config2_20240217_200008\n",
            "02/17 20:21:53 - mmengine - \u001b[4m\u001b[97mINFO\u001b[0m - Epoch(train)  [87][34/34]  base_lr: 2.2119e-03 lr: 2.2119e-03  eta: 0:02:40  time: 0.2141  data_time: 0.0581  memory: 292  loss: 0.4598\n",
            "02/17 20:21:56 - mmengine - \u001b[4m\u001b[97mINFO\u001b[0m - Epoch(val) [87][9/9]    multi-label/mAP: 88.7031  multi-label/precision: 83.4998  multi-label/recall: 76.1029  multi-label/f1-score: 76.6278  multi-label/precision_micro: 79.9228  multi-label/recall_micro: 76.1029  multi-label/f1-score_micro: 77.9661  data_time: 0.2198  time: 0.2843\n",
            "02/17 20:22:09 - mmengine - \u001b[4m\u001b[97mINFO\u001b[0m - Exp name: config2_20240217_200008\n",
            "02/17 20:22:09 - mmengine - \u001b[4m\u001b[97mINFO\u001b[0m - Epoch(train)  [88][34/34]  base_lr: 2.2040e-03 lr: 2.2040e-03  eta: 0:02:28  time: 0.2549  data_time: 0.0886  memory: 292  loss: 0.4618\n",
            "02/17 20:22:13 - mmengine - \u001b[4m\u001b[97mINFO\u001b[0m - Epoch(val) [88][9/9]    multi-label/mAP: 91.3450  multi-label/precision: 88.6837  multi-label/recall: 78.3088  multi-label/f1-score: 81.8020  multi-label/precision_micro: 85.2000  multi-label/recall_micro: 78.3088  multi-label/f1-score_micro: 81.6092  data_time: 0.2926  time: 0.3721\n",
            "02/17 20:22:17 - mmengine - \u001b[4m\u001b[97mINFO\u001b[0m - Exp name: config2_20240217_200008\n",
            "02/17 20:22:26 - mmengine - \u001b[4m\u001b[97mINFO\u001b[0m - Exp name: config2_20240217_200008\n",
            "02/17 20:22:26 - mmengine - \u001b[4m\u001b[97mINFO\u001b[0m - Epoch(train)  [89][34/34]  base_lr: 2.1960e-03 lr: 2.1960e-03  eta: 0:02:16  time: 0.3247  data_time: 0.0915  memory: 292  loss: 0.3495\n",
            "02/17 20:22:29 - mmengine - \u001b[4m\u001b[97mINFO\u001b[0m - Epoch(val) [89][9/9]    multi-label/mAP: 94.1764  multi-label/precision: 91.4721  multi-label/recall: 82.7206  multi-label/f1-score: 85.3205  multi-label/precision_micro: 89.2857  multi-label/recall_micro: 82.7206  multi-label/f1-score_micro: 85.8779  data_time: 0.2221  time: 0.2578\n",
            "02/17 20:22:42 - mmengine - \u001b[4m\u001b[97mINFO\u001b[0m - Exp name: config2_20240217_200008\n",
            "02/17 20:22:42 - mmengine - \u001b[4m\u001b[97mINFO\u001b[0m - Epoch(train)  [90][34/34]  base_lr: 2.1878e-03 lr: 2.1878e-03  eta: 0:02:04  time: 0.3250  data_time: 0.0868  memory: 292  loss: 0.4311\n",
            "02/17 20:22:42 - mmengine - \u001b[4m\u001b[97mINFO\u001b[0m - Saving checkpoint at 90 epochs\n",
            "02/17 20:22:45 - mmengine - \u001b[4m\u001b[97mINFO\u001b[0m - Epoch(val) [90][9/9]    multi-label/mAP: 89.5160  multi-label/precision: 86.1278  multi-label/recall: 73.1618  multi-label/f1-score: 76.4212  multi-label/precision_micro: 81.8930  multi-label/recall_micro: 73.1618  multi-label/f1-score_micro: 77.2816  data_time: 0.2044  time: 0.2500\n",
            "02/17 20:22:57 - mmengine - \u001b[4m\u001b[97mINFO\u001b[0m - Exp name: config2_20240217_200008\n",
            "02/17 20:22:57 - mmengine - \u001b[4m\u001b[97mINFO\u001b[0m - Epoch(train)  [91][34/34]  base_lr: 2.1795e-03 lr: 2.1795e-03  eta: 0:01:51  time: 0.2599  data_time: 0.0704  memory: 292  loss: 0.4565\n",
            "02/17 20:23:00 - mmengine - \u001b[4m\u001b[97mINFO\u001b[0m - Epoch(val) [91][9/9]    multi-label/mAP: 94.6674  multi-label/precision: 91.6934  multi-label/recall: 84.1912  multi-label/f1-score: 87.0602  multi-label/precision_micro: 90.5138  multi-label/recall_micro: 84.1912  multi-label/f1-score_micro: 87.2381  data_time: 0.1819  time: 0.2366\n",
            "02/17 20:23:13 - mmengine - \u001b[4m\u001b[97mINFO\u001b[0m - Exp name: config2_20240217_200008\n",
            "02/17 20:23:13 - mmengine - \u001b[4m\u001b[97mINFO\u001b[0m - Epoch(train)  [92][34/34]  base_lr: 2.1711e-03 lr: 2.1711e-03  eta: 0:01:39  time: 0.2645  data_time: 0.0777  memory: 292  loss: 0.3834\n",
            "02/17 20:23:16 - mmengine - \u001b[4m\u001b[97mINFO\u001b[0m - Epoch(val) [92][9/9]    multi-label/mAP: 87.7375  multi-label/precision: 82.6001  multi-label/recall: 71.6912  multi-label/f1-score: 72.1501  multi-label/precision_micro: 75.8755  multi-label/recall_micro: 71.6912  multi-label/f1-score_micro: 73.7240  data_time: 0.1767  time: 0.2240\n",
            "02/17 20:23:28 - mmengine - \u001b[4m\u001b[97mINFO\u001b[0m - Exp name: config2_20240217_200008\n",
            "02/17 20:23:28 - mmengine - \u001b[4m\u001b[97mINFO\u001b[0m - Epoch(train)  [93][34/34]  base_lr: 2.1625e-03 lr: 2.1625e-03  eta: 0:01:26  time: 0.1804  data_time: 0.0275  memory: 292  loss: 0.3204\n",
            "02/17 20:23:31 - mmengine - \u001b[4m\u001b[97mINFO\u001b[0m - Epoch(val) [93][9/9]    multi-label/mAP: 92.7283  multi-label/precision: 87.5829  multi-label/recall: 82.7206  multi-label/f1-score: 84.3626  multi-label/precision_micro: 86.5385  multi-label/recall_micro: 82.7206  multi-label/f1-score_micro: 84.5865  data_time: 0.1893  time: 0.2230\n",
            "02/17 20:23:44 - mmengine - \u001b[4m\u001b[97mINFO\u001b[0m - Exp name: config2_20240217_200008\n",
            "02/17 20:23:44 - mmengine - \u001b[4m\u001b[97mINFO\u001b[0m - Epoch(train)  [94][34/34]  base_lr: 2.1538e-03 lr: 2.1538e-03  eta: 0:01:14  time: 0.2143  data_time: 0.0455  memory: 292  loss: 0.3924\n",
            "02/17 20:23:46 - mmengine - \u001b[4m\u001b[97mINFO\u001b[0m - Epoch(val) [94][9/9]    multi-label/mAP: 87.2083  multi-label/precision: 85.3470  multi-label/recall: 73.5294  multi-label/f1-score: 77.1224  multi-label/precision_micro: 81.9672  multi-label/recall_micro: 73.5294  multi-label/f1-score_micro: 77.5194  data_time: 0.2000  time: 0.2371\n",
            "02/17 20:23:59 - mmengine - \u001b[4m\u001b[97mINFO\u001b[0m - Exp name: config2_20240217_200008\n",
            "02/17 20:23:59 - mmengine - \u001b[4m\u001b[97mINFO\u001b[0m - Epoch(train)  [95][34/34]  base_lr: 2.1449e-03 lr: 2.1449e-03  eta: 0:01:02  time: 0.2186  data_time: 0.0624  memory: 292  loss: 0.4000\n",
            "02/17 20:24:01 - mmengine - \u001b[4m\u001b[97mINFO\u001b[0m - Epoch(val) [95][9/9]    multi-label/mAP: 92.5955  multi-label/precision: 88.1326  multi-label/recall: 81.2500  multi-label/f1-score: 83.3696  multi-label/precision_micro: 86.6667  multi-label/recall_micro: 81.2500  multi-label/f1-score_micro: 83.8710  data_time: 0.1764  time: 0.2224\n",
            "02/17 20:24:14 - mmengine - \u001b[4m\u001b[97mINFO\u001b[0m - Exp name: config2_20240217_200008\n",
            "02/17 20:24:14 - mmengine - \u001b[4m\u001b[97mINFO\u001b[0m - Epoch(train)  [96][34/34]  base_lr: 2.1359e-03 lr: 2.1359e-03  eta: 0:00:49  time: 0.2197  data_time: 0.0665  memory: 292  loss: 0.3895\n",
            "02/17 20:24:17 - mmengine - \u001b[4m\u001b[97mINFO\u001b[0m - Epoch(val) [96][9/9]    multi-label/mAP: 88.5980  multi-label/precision: 83.4633  multi-label/recall: 75.0000  multi-label/f1-score: 76.1810  multi-label/precision_micro: 80.6324  multi-label/recall_micro: 75.0000  multi-label/f1-score_micro: 77.7143  data_time: 0.2092  time: 0.2466\n",
            "02/17 20:24:30 - mmengine - \u001b[4m\u001b[97mINFO\u001b[0m - Exp name: config2_20240217_200008\n",
            "02/17 20:24:30 - mmengine - \u001b[4m\u001b[97mINFO\u001b[0m - Epoch(train)  [97][34/34]  base_lr: 2.1267e-03 lr: 2.1267e-03  eta: 0:00:37  time: 0.2308  data_time: 0.0896  memory: 292  loss: 0.3353\n",
            "02/17 20:24:33 - mmengine - \u001b[4m\u001b[97mINFO\u001b[0m - Epoch(val) [97][9/9]    multi-label/mAP: 93.0694  multi-label/precision: 92.1099  multi-label/recall: 81.9853  multi-label/f1-score: 84.4188  multi-label/precision_micro: 86.7704  multi-label/recall_micro: 81.9853  multi-label/f1-score_micro: 84.3100  data_time: 0.2841  time: 0.3509\n",
            "02/17 20:24:46 - mmengine - \u001b[4m\u001b[97mINFO\u001b[0m - Exp name: config2_20240217_200008\n",
            "02/17 20:24:46 - mmengine - \u001b[4m\u001b[97mINFO\u001b[0m - Epoch(train)  [98][34/34]  base_lr: 2.1175e-03 lr: 2.1175e-03  eta: 0:00:24  time: 0.2439  data_time: 0.1141  memory: 292  loss: 0.3480\n",
            "02/17 20:24:49 - mmengine - \u001b[4m\u001b[97mINFO\u001b[0m - Epoch(val) [98][9/9]    multi-label/mAP: 91.2255  multi-label/precision: 87.5921  multi-label/recall: 79.7794  multi-label/f1-score: 81.4366  multi-label/precision_micro: 84.7656  multi-label/recall_micro: 79.7794  multi-label/f1-score_micro: 82.1970  data_time: 0.2775  time: 0.3388\n",
            "02/17 20:25:01 - mmengine - \u001b[4m\u001b[97mINFO\u001b[0m - Exp name: config2_20240217_200008\n",
            "02/17 20:25:01 - mmengine - \u001b[4m\u001b[97mINFO\u001b[0m - Epoch(train)  [99][34/34]  base_lr: 2.1080e-03 lr: 2.1080e-03  eta: 0:00:12  time: 0.3548  data_time: 0.0918  memory: 292  loss: 0.3882\n",
            "02/17 20:25:04 - mmengine - \u001b[4m\u001b[97mINFO\u001b[0m - Epoch(val) [99][9/9]    multi-label/mAP: 91.8615  multi-label/precision: 89.9837  multi-label/recall: 79.4118  multi-label/f1-score: 83.1161  multi-label/precision_micro: 86.7470  multi-label/recall_micro: 79.4118  multi-label/f1-score_micro: 82.9175  data_time: 0.2298  time: 0.2848\n",
            "02/17 20:25:17 - mmengine - \u001b[4m\u001b[97mINFO\u001b[0m - Exp name: config2_20240217_200008\n",
            "02/17 20:25:17 - mmengine - \u001b[4m\u001b[97mINFO\u001b[0m - Epoch(train) [100][34/34]  base_lr: 2.0985e-03 lr: 2.0985e-03  eta: 0:00:00  time: 0.3004  data_time: 0.0754  memory: 292  loss: 0.2640\n",
            "02/17 20:25:17 - mmengine - \u001b[4m\u001b[97mINFO\u001b[0m - Saving checkpoint at 100 epochs\n",
            "02/17 20:25:20 - mmengine - \u001b[4m\u001b[97mINFO\u001b[0m - Epoch(val) [100][9/9]    multi-label/mAP: 89.9879  multi-label/precision: 88.2537  multi-label/recall: 77.9412  multi-label/f1-score: 79.1341  multi-label/precision_micro: 82.8125  multi-label/recall_micro: 77.9412  multi-label/f1-score_micro: 80.3030  data_time: 0.1880  time: 0.2285\n"
          ]
        }
      ],
      "source": [
        "!python /content/mmpretrain/tools/train.py /content/config2.py --work-dir 'content/log/config1'"
      ]
    },
    {
      "cell_type": "markdown",
      "metadata": {
        "id": "wQHsFi07Ys2H"
      },
      "source": [
        "## **Inference**"
      ]
    },
    {
      "cell_type": "code",
      "execution_count": null,
      "metadata": {
        "colab": {
          "base_uri": "https://localhost:8080/",
          "height": 70
        },
        "id": "-weVu3hlYtTG",
        "outputId": "6abc484f-e23c-4dc7-e085-119e121937a6"
      },
      "outputs": [
        {
          "output_type": "stream",
          "name": "stdout",
          "text": [
            "/content/mmpretrain\n",
            "Loads checkpoint by local backend from path: /content/log/config1/epoch_90.pth\n"
          ]
        },
        {
          "output_type": "display_data",
          "data": {
            "text/plain": [],
            "text/html": [
              "<pre style=\"white-space:pre;overflow-x:auto;line-height:normal;font-family:Menlo,'DejaVu Sans Mono',consolas,'Courier New',monospace\"></pre>\n"
            ]
          },
          "metadata": {}
        },
        {
          "output_type": "execute_result",
          "data": {
            "text/plain": [
              "'Crocus'"
            ],
            "application/vnd.google.colaboratory.intrinsic+json": {
              "type": "string"
            }
          },
          "metadata": {},
          "execution_count": 43
        }
      ],
      "source": [
        "%cd /content/mmpretrain\n",
        "from mmpretrain import inference_model\n",
        "from mmpretrain import get_model\n",
        "image = '/content/gdrive/MyDrive/oxford_flowers/train_set/Crocus/image_0321.jpg'\n",
        "from mmpretrain import ImageClassificationInferencer\n",
        "inferencer = ImageClassificationInferencer(\n",
        "    model = '/content/config2.py',\n",
        "    pretrained = '/content/log/config1/epoch_90.pth',\n",
        "    device = 'cuda')\n",
        "result = inferencer(image)\n",
        "result[0][\"pred_class\"]"
      ]
    },
    {
      "cell_type": "code",
      "execution_count": null,
      "metadata": {
        "colab": {
          "base_uri": "https://localhost:8080/"
        },
        "id": "eLA8iVxpigVh",
        "outputId": "8566ae1b-22aa-4a1d-d54d-b27b1cc6b232"
      },
      "outputs": [
        {
          "output_type": "stream",
          "name": "stdout",
          "text": [
            "Category Mapping:\n",
            "Bluebell: 0\n",
            "Crocus: 1\n",
            "Cowslip: 2\n",
            "Dandelion: 3\n",
            "Daisy: 4\n",
            "Fritillary: 5\n",
            "Daffodil: 6\n",
            "Buttercup: 7\n",
            "Coltsfoot: 8\n",
            "Iris: 9\n",
            "LilyValley: 10\n",
            "Sunflower: 11\n",
            "Tulip: 12\n",
            "Snowdrop: 13\n",
            "TigerLily: 14\n",
            "Windflower: 15\n",
            "Pansy: 16\n"
          ]
        }
      ],
      "source": [
        "import glob\n",
        "\n",
        "path = '/content/gdrive/MyDrive/oxford_flowers/val_set'\n",
        "files = glob.glob(path + \"/*\")\n",
        "categories = {}\n",
        "\n",
        "for file in files:\n",
        "    category = file.split(\"/\")[-1]\n",
        "    categories[category] = len(categories)\n",
        "\n",
        "print(\"Category Mapping:\")\n",
        "for category, number in categories.items():\n",
        "    print(f\"{category}: {number}\")\n"
      ]
    },
    {
      "cell_type": "code",
      "execution_count": null,
      "metadata": {
        "colab": {
          "base_uri": "https://localhost:8080/",
          "height": 312
        },
        "id": "E9HiCYEHimp1",
        "outputId": "c1345d72-4160-488d-bff9-4d56127f8353"
      },
      "outputs": [
        {
          "data": {
            "text/plain": [
              "{'Bluebell': 0,\n",
              " 'Crocus': 1,\n",
              " 'Cowslip': 2,\n",
              " 'Dandelion': 3,\n",
              " 'Daisy': 4,\n",
              " 'Fritillary': 5,\n",
              " 'Daffodil': 6,\n",
              " 'Buttercup': 7,\n",
              " 'Coltsfoot': 8,\n",
              " 'Iris': 9,\n",
              " 'LilyValley': 10,\n",
              " 'Sunflower': 11,\n",
              " 'Tulip': 12,\n",
              " 'Snowdrop': 13,\n",
              " 'TigerLily': 14,\n",
              " 'Windflower': 15,\n",
              " 'Pansy': 16}"
            ]
          },
          "execution_count": 20,
          "metadata": {},
          "output_type": "execute_result"
        }
      ],
      "source": [
        "categories"
      ]
    },
    {
      "cell_type": "code",
      "execution_count": null,
      "metadata": {
        "id": "w9x8qcROiphD"
      },
      "outputs": [],
      "source": [
        "import numpy as np\n",
        "y_test = []\n",
        "for category in categories:\n",
        "  path = f'/content/gdrive/MyDrive/oxford_flowers/val_set/{category}'\n",
        "  files = glob.glob(path + '/*')\n",
        "  y_temp = [categories[category] for i in range(len(files))]\n",
        "  y_test += y_temp\n",
        "y_test = np.array(y_test)\n"
      ]
    },
    {
      "cell_type": "code",
      "execution_count": null,
      "metadata": {
        "colab": {
          "base_uri": "https://localhost:8080/",
          "height": 295
        },
        "id": "Gxmr8hRriuYq",
        "outputId": "f423c9cf-8b7a-4e5c-c521-4679018e4cde"
      },
      "outputs": [
        {
          "data": {
            "text/plain": [
              "array([ 0,  0,  0,  0,  0,  0,  0,  0,  0,  0,  0,  0,  0,  0,  0,  0,  1,\n",
              "        1,  1,  1,  1,  1,  1,  1,  1,  1,  1,  1,  1,  1,  1,  1,  2,  2,\n",
              "        2,  2,  2,  2,  2,  2,  2,  2,  2,  2,  2,  2,  2,  2,  3,  3,  3,\n",
              "        3,  3,  3,  3,  3,  3,  3,  3,  3,  3,  3,  3,  3,  4,  4,  4,  4,\n",
              "        4,  4,  4,  4,  4,  4,  4,  4,  4,  4,  4,  4,  5,  5,  5,  5,  5,\n",
              "        5,  5,  5,  5,  5,  5,  5,  5,  5,  5,  5,  6,  6,  6,  6,  6,  6,\n",
              "        6,  6,  6,  6,  6,  6,  6,  6,  6,  6,  7,  7,  7,  7,  7,  7,  7,\n",
              "        7,  7,  7,  7,  7,  7,  7,  7,  7,  8,  8,  8,  8,  8,  8,  8,  8,\n",
              "        8,  8,  8,  8,  8,  8,  8,  8,  9,  9,  9,  9,  9,  9,  9,  9,  9,\n",
              "        9,  9,  9,  9,  9,  9,  9, 10, 10, 10, 10, 10, 10, 10, 10, 10, 10,\n",
              "       10, 10, 10, 10, 10, 10, 11, 11, 11, 11, 11, 11, 11, 11, 11, 11, 11,\n",
              "       11, 11, 11, 11, 11, 12, 12, 12, 12, 12, 12, 12, 12, 12, 12, 12, 12,\n",
              "       12, 12, 12, 12, 13, 13, 13, 13, 13, 13, 13, 13, 13, 13, 13, 13, 13,\n",
              "       13, 13, 13, 14, 14, 14, 14, 14, 14, 14, 14, 14, 14, 14, 14, 14, 14,\n",
              "       14, 14, 15, 15, 15, 15, 15, 15, 15, 15, 15, 15, 15, 15, 15, 15, 15,\n",
              "       15, 16, 16, 16, 16, 16, 16, 16, 16, 16, 16, 16, 16, 16, 16, 16, 16])"
            ]
          },
          "execution_count": 22,
          "metadata": {},
          "output_type": "execute_result"
        }
      ],
      "source": [
        "y_test"
      ]
    },
    {
      "cell_type": "code",
      "execution_count": null,
      "metadata": {
        "id": "js8_BD0pizL5",
        "colab": {
          "base_uri": "https://localhost:8080/",
          "height": 17
        },
        "outputId": "626f0335-f0d6-40c8-fd83-02ef34d80206"
      },
      "outputs": [
        {
          "output_type": "display_data",
          "data": {
            "text/plain": [],
            "text/html": [
              "<pre style=\"white-space:pre;overflow-x:auto;line-height:normal;font-family:Menlo,'DejaVu Sans Mono',consolas,'Courier New',monospace\"></pre>\n"
            ]
          },
          "metadata": {}
        },
        {
          "output_type": "display_data",
          "data": {
            "text/plain": [],
            "text/html": [
              "<pre style=\"white-space:pre;overflow-x:auto;line-height:normal;font-family:Menlo,'DejaVu Sans Mono',consolas,'Courier New',monospace\"></pre>\n"
            ]
          },
          "metadata": {}
        },
        {
          "output_type": "display_data",
          "data": {
            "text/plain": [],
            "text/html": [
              "<pre style=\"white-space:pre;overflow-x:auto;line-height:normal;font-family:Menlo,'DejaVu Sans Mono',consolas,'Courier New',monospace\"></pre>\n"
            ]
          },
          "metadata": {}
        },
        {
          "output_type": "display_data",
          "data": {
            "text/plain": [],
            "text/html": [
              "<pre style=\"white-space:pre;overflow-x:auto;line-height:normal;font-family:Menlo,'DejaVu Sans Mono',consolas,'Courier New',monospace\"></pre>\n"
            ]
          },
          "metadata": {}
        },
        {
          "output_type": "display_data",
          "data": {
            "text/plain": [],
            "text/html": [
              "<pre style=\"white-space:pre;overflow-x:auto;line-height:normal;font-family:Menlo,'DejaVu Sans Mono',consolas,'Courier New',monospace\"></pre>\n"
            ]
          },
          "metadata": {}
        },
        {
          "output_type": "display_data",
          "data": {
            "text/plain": [],
            "text/html": [
              "<pre style=\"white-space:pre;overflow-x:auto;line-height:normal;font-family:Menlo,'DejaVu Sans Mono',consolas,'Courier New',monospace\"></pre>\n"
            ]
          },
          "metadata": {}
        },
        {
          "output_type": "display_data",
          "data": {
            "text/plain": [],
            "text/html": [
              "<pre style=\"white-space:pre;overflow-x:auto;line-height:normal;font-family:Menlo,'DejaVu Sans Mono',consolas,'Courier New',monospace\"></pre>\n"
            ]
          },
          "metadata": {}
        },
        {
          "output_type": "display_data",
          "data": {
            "text/plain": [],
            "text/html": [
              "<pre style=\"white-space:pre;overflow-x:auto;line-height:normal;font-family:Menlo,'DejaVu Sans Mono',consolas,'Courier New',monospace\"></pre>\n"
            ]
          },
          "metadata": {}
        },
        {
          "output_type": "display_data",
          "data": {
            "text/plain": [],
            "text/html": [
              "<pre style=\"white-space:pre;overflow-x:auto;line-height:normal;font-family:Menlo,'DejaVu Sans Mono',consolas,'Courier New',monospace\"></pre>\n"
            ]
          },
          "metadata": {}
        },
        {
          "output_type": "display_data",
          "data": {
            "text/plain": [],
            "text/html": [
              "<pre style=\"white-space:pre;overflow-x:auto;line-height:normal;font-family:Menlo,'DejaVu Sans Mono',consolas,'Courier New',monospace\"></pre>\n"
            ]
          },
          "metadata": {}
        },
        {
          "output_type": "display_data",
          "data": {
            "text/plain": [],
            "text/html": [
              "<pre style=\"white-space:pre;overflow-x:auto;line-height:normal;font-family:Menlo,'DejaVu Sans Mono',consolas,'Courier New',monospace\"></pre>\n"
            ]
          },
          "metadata": {}
        },
        {
          "output_type": "display_data",
          "data": {
            "text/plain": [],
            "text/html": [
              "<pre style=\"white-space:pre;overflow-x:auto;line-height:normal;font-family:Menlo,'DejaVu Sans Mono',consolas,'Courier New',monospace\"></pre>\n"
            ]
          },
          "metadata": {}
        },
        {
          "output_type": "display_data",
          "data": {
            "text/plain": [],
            "text/html": [
              "<pre style=\"white-space:pre;overflow-x:auto;line-height:normal;font-family:Menlo,'DejaVu Sans Mono',consolas,'Courier New',monospace\"></pre>\n"
            ]
          },
          "metadata": {}
        },
        {
          "output_type": "display_data",
          "data": {
            "text/plain": [],
            "text/html": [
              "<pre style=\"white-space:pre;overflow-x:auto;line-height:normal;font-family:Menlo,'DejaVu Sans Mono',consolas,'Courier New',monospace\"></pre>\n"
            ]
          },
          "metadata": {}
        },
        {
          "output_type": "display_data",
          "data": {
            "text/plain": [],
            "text/html": [
              "<pre style=\"white-space:pre;overflow-x:auto;line-height:normal;font-family:Menlo,'DejaVu Sans Mono',consolas,'Courier New',monospace\"></pre>\n"
            ]
          },
          "metadata": {}
        },
        {
          "output_type": "display_data",
          "data": {
            "text/plain": [],
            "text/html": [
              "<pre style=\"white-space:pre;overflow-x:auto;line-height:normal;font-family:Menlo,'DejaVu Sans Mono',consolas,'Courier New',monospace\"></pre>\n"
            ]
          },
          "metadata": {}
        },
        {
          "output_type": "display_data",
          "data": {
            "text/plain": [],
            "text/html": [
              "<pre style=\"white-space:pre;overflow-x:auto;line-height:normal;font-family:Menlo,'DejaVu Sans Mono',consolas,'Courier New',monospace\"></pre>\n"
            ]
          },
          "metadata": {}
        },
        {
          "output_type": "display_data",
          "data": {
            "text/plain": [],
            "text/html": [
              "<pre style=\"white-space:pre;overflow-x:auto;line-height:normal;font-family:Menlo,'DejaVu Sans Mono',consolas,'Courier New',monospace\"></pre>\n"
            ]
          },
          "metadata": {}
        },
        {
          "output_type": "display_data",
          "data": {
            "text/plain": [],
            "text/html": [
              "<pre style=\"white-space:pre;overflow-x:auto;line-height:normal;font-family:Menlo,'DejaVu Sans Mono',consolas,'Courier New',monospace\"></pre>\n"
            ]
          },
          "metadata": {}
        },
        {
          "output_type": "display_data",
          "data": {
            "text/plain": [],
            "text/html": [
              "<pre style=\"white-space:pre;overflow-x:auto;line-height:normal;font-family:Menlo,'DejaVu Sans Mono',consolas,'Courier New',monospace\"></pre>\n"
            ]
          },
          "metadata": {}
        },
        {
          "output_type": "display_data",
          "data": {
            "text/plain": [],
            "text/html": [
              "<pre style=\"white-space:pre;overflow-x:auto;line-height:normal;font-family:Menlo,'DejaVu Sans Mono',consolas,'Courier New',monospace\"></pre>\n"
            ]
          },
          "metadata": {}
        },
        {
          "output_type": "display_data",
          "data": {
            "text/plain": [],
            "text/html": [
              "<pre style=\"white-space:pre;overflow-x:auto;line-height:normal;font-family:Menlo,'DejaVu Sans Mono',consolas,'Courier New',monospace\"></pre>\n"
            ]
          },
          "metadata": {}
        },
        {
          "output_type": "display_data",
          "data": {
            "text/plain": [],
            "text/html": [
              "<pre style=\"white-space:pre;overflow-x:auto;line-height:normal;font-family:Menlo,'DejaVu Sans Mono',consolas,'Courier New',monospace\"></pre>\n"
            ]
          },
          "metadata": {}
        },
        {
          "output_type": "display_data",
          "data": {
            "text/plain": [],
            "text/html": [
              "<pre style=\"white-space:pre;overflow-x:auto;line-height:normal;font-family:Menlo,'DejaVu Sans Mono',consolas,'Courier New',monospace\"></pre>\n"
            ]
          },
          "metadata": {}
        },
        {
          "output_type": "display_data",
          "data": {
            "text/plain": [],
            "text/html": [
              "<pre style=\"white-space:pre;overflow-x:auto;line-height:normal;font-family:Menlo,'DejaVu Sans Mono',consolas,'Courier New',monospace\"></pre>\n"
            ]
          },
          "metadata": {}
        },
        {
          "output_type": "display_data",
          "data": {
            "text/plain": [],
            "text/html": [
              "<pre style=\"white-space:pre;overflow-x:auto;line-height:normal;font-family:Menlo,'DejaVu Sans Mono',consolas,'Courier New',monospace\"></pre>\n"
            ]
          },
          "metadata": {}
        },
        {
          "output_type": "display_data",
          "data": {
            "text/plain": [],
            "text/html": [
              "<pre style=\"white-space:pre;overflow-x:auto;line-height:normal;font-family:Menlo,'DejaVu Sans Mono',consolas,'Courier New',monospace\"></pre>\n"
            ]
          },
          "metadata": {}
        },
        {
          "output_type": "display_data",
          "data": {
            "text/plain": [],
            "text/html": [
              "<pre style=\"white-space:pre;overflow-x:auto;line-height:normal;font-family:Menlo,'DejaVu Sans Mono',consolas,'Courier New',monospace\"></pre>\n"
            ]
          },
          "metadata": {}
        },
        {
          "output_type": "display_data",
          "data": {
            "text/plain": [],
            "text/html": [
              "<pre style=\"white-space:pre;overflow-x:auto;line-height:normal;font-family:Menlo,'DejaVu Sans Mono',consolas,'Courier New',monospace\"></pre>\n"
            ]
          },
          "metadata": {}
        },
        {
          "output_type": "display_data",
          "data": {
            "text/plain": [],
            "text/html": [
              "<pre style=\"white-space:pre;overflow-x:auto;line-height:normal;font-family:Menlo,'DejaVu Sans Mono',consolas,'Courier New',monospace\"></pre>\n"
            ]
          },
          "metadata": {}
        },
        {
          "output_type": "display_data",
          "data": {
            "text/plain": [],
            "text/html": [
              "<pre style=\"white-space:pre;overflow-x:auto;line-height:normal;font-family:Menlo,'DejaVu Sans Mono',consolas,'Courier New',monospace\"></pre>\n"
            ]
          },
          "metadata": {}
        },
        {
          "output_type": "display_data",
          "data": {
            "text/plain": [],
            "text/html": [
              "<pre style=\"white-space:pre;overflow-x:auto;line-height:normal;font-family:Menlo,'DejaVu Sans Mono',consolas,'Courier New',monospace\"></pre>\n"
            ]
          },
          "metadata": {}
        },
        {
          "output_type": "display_data",
          "data": {
            "text/plain": [],
            "text/html": [
              "<pre style=\"white-space:pre;overflow-x:auto;line-height:normal;font-family:Menlo,'DejaVu Sans Mono',consolas,'Courier New',monospace\"></pre>\n"
            ]
          },
          "metadata": {}
        },
        {
          "output_type": "display_data",
          "data": {
            "text/plain": [],
            "text/html": [
              "<pre style=\"white-space:pre;overflow-x:auto;line-height:normal;font-family:Menlo,'DejaVu Sans Mono',consolas,'Courier New',monospace\"></pre>\n"
            ]
          },
          "metadata": {}
        },
        {
          "output_type": "display_data",
          "data": {
            "text/plain": [],
            "text/html": [
              "<pre style=\"white-space:pre;overflow-x:auto;line-height:normal;font-family:Menlo,'DejaVu Sans Mono',consolas,'Courier New',monospace\"></pre>\n"
            ]
          },
          "metadata": {}
        },
        {
          "output_type": "display_data",
          "data": {
            "text/plain": [],
            "text/html": [
              "<pre style=\"white-space:pre;overflow-x:auto;line-height:normal;font-family:Menlo,'DejaVu Sans Mono',consolas,'Courier New',monospace\"></pre>\n"
            ]
          },
          "metadata": {}
        },
        {
          "output_type": "display_data",
          "data": {
            "text/plain": [],
            "text/html": [
              "<pre style=\"white-space:pre;overflow-x:auto;line-height:normal;font-family:Menlo,'DejaVu Sans Mono',consolas,'Courier New',monospace\"></pre>\n"
            ]
          },
          "metadata": {}
        },
        {
          "output_type": "display_data",
          "data": {
            "text/plain": [],
            "text/html": [
              "<pre style=\"white-space:pre;overflow-x:auto;line-height:normal;font-family:Menlo,'DejaVu Sans Mono',consolas,'Courier New',monospace\"></pre>\n"
            ]
          },
          "metadata": {}
        },
        {
          "output_type": "display_data",
          "data": {
            "text/plain": [],
            "text/html": [
              "<pre style=\"white-space:pre;overflow-x:auto;line-height:normal;font-family:Menlo,'DejaVu Sans Mono',consolas,'Courier New',monospace\"></pre>\n"
            ]
          },
          "metadata": {}
        },
        {
          "output_type": "display_data",
          "data": {
            "text/plain": [],
            "text/html": [
              "<pre style=\"white-space:pre;overflow-x:auto;line-height:normal;font-family:Menlo,'DejaVu Sans Mono',consolas,'Courier New',monospace\"></pre>\n"
            ]
          },
          "metadata": {}
        },
        {
          "output_type": "display_data",
          "data": {
            "text/plain": [],
            "text/html": [
              "<pre style=\"white-space:pre;overflow-x:auto;line-height:normal;font-family:Menlo,'DejaVu Sans Mono',consolas,'Courier New',monospace\"></pre>\n"
            ]
          },
          "metadata": {}
        },
        {
          "output_type": "display_data",
          "data": {
            "text/plain": [],
            "text/html": [
              "<pre style=\"white-space:pre;overflow-x:auto;line-height:normal;font-family:Menlo,'DejaVu Sans Mono',consolas,'Courier New',monospace\"></pre>\n"
            ]
          },
          "metadata": {}
        },
        {
          "output_type": "display_data",
          "data": {
            "text/plain": [],
            "text/html": [
              "<pre style=\"white-space:pre;overflow-x:auto;line-height:normal;font-family:Menlo,'DejaVu Sans Mono',consolas,'Courier New',monospace\"></pre>\n"
            ]
          },
          "metadata": {}
        },
        {
          "output_type": "display_data",
          "data": {
            "text/plain": [],
            "text/html": [
              "<pre style=\"white-space:pre;overflow-x:auto;line-height:normal;font-family:Menlo,'DejaVu Sans Mono',consolas,'Courier New',monospace\"></pre>\n"
            ]
          },
          "metadata": {}
        },
        {
          "output_type": "display_data",
          "data": {
            "text/plain": [],
            "text/html": [
              "<pre style=\"white-space:pre;overflow-x:auto;line-height:normal;font-family:Menlo,'DejaVu Sans Mono',consolas,'Courier New',monospace\"></pre>\n"
            ]
          },
          "metadata": {}
        },
        {
          "output_type": "display_data",
          "data": {
            "text/plain": [],
            "text/html": [
              "<pre style=\"white-space:pre;overflow-x:auto;line-height:normal;font-family:Menlo,'DejaVu Sans Mono',consolas,'Courier New',monospace\"></pre>\n"
            ]
          },
          "metadata": {}
        },
        {
          "output_type": "display_data",
          "data": {
            "text/plain": [],
            "text/html": [
              "<pre style=\"white-space:pre;overflow-x:auto;line-height:normal;font-family:Menlo,'DejaVu Sans Mono',consolas,'Courier New',monospace\"></pre>\n"
            ]
          },
          "metadata": {}
        },
        {
          "output_type": "display_data",
          "data": {
            "text/plain": [],
            "text/html": [
              "<pre style=\"white-space:pre;overflow-x:auto;line-height:normal;font-family:Menlo,'DejaVu Sans Mono',consolas,'Courier New',monospace\"></pre>\n"
            ]
          },
          "metadata": {}
        },
        {
          "output_type": "display_data",
          "data": {
            "text/plain": [],
            "text/html": [
              "<pre style=\"white-space:pre;overflow-x:auto;line-height:normal;font-family:Menlo,'DejaVu Sans Mono',consolas,'Courier New',monospace\"></pre>\n"
            ]
          },
          "metadata": {}
        },
        {
          "output_type": "display_data",
          "data": {
            "text/plain": [],
            "text/html": [
              "<pre style=\"white-space:pre;overflow-x:auto;line-height:normal;font-family:Menlo,'DejaVu Sans Mono',consolas,'Courier New',monospace\"></pre>\n"
            ]
          },
          "metadata": {}
        },
        {
          "output_type": "display_data",
          "data": {
            "text/plain": [],
            "text/html": [
              "<pre style=\"white-space:pre;overflow-x:auto;line-height:normal;font-family:Menlo,'DejaVu Sans Mono',consolas,'Courier New',monospace\"></pre>\n"
            ]
          },
          "metadata": {}
        },
        {
          "output_type": "display_data",
          "data": {
            "text/plain": [],
            "text/html": [
              "<pre style=\"white-space:pre;overflow-x:auto;line-height:normal;font-family:Menlo,'DejaVu Sans Mono',consolas,'Courier New',monospace\"></pre>\n"
            ]
          },
          "metadata": {}
        },
        {
          "output_type": "display_data",
          "data": {
            "text/plain": [],
            "text/html": [
              "<pre style=\"white-space:pre;overflow-x:auto;line-height:normal;font-family:Menlo,'DejaVu Sans Mono',consolas,'Courier New',monospace\"></pre>\n"
            ]
          },
          "metadata": {}
        },
        {
          "output_type": "display_data",
          "data": {
            "text/plain": [],
            "text/html": [
              "<pre style=\"white-space:pre;overflow-x:auto;line-height:normal;font-family:Menlo,'DejaVu Sans Mono',consolas,'Courier New',monospace\"></pre>\n"
            ]
          },
          "metadata": {}
        },
        {
          "output_type": "display_data",
          "data": {
            "text/plain": [],
            "text/html": [
              "<pre style=\"white-space:pre;overflow-x:auto;line-height:normal;font-family:Menlo,'DejaVu Sans Mono',consolas,'Courier New',monospace\"></pre>\n"
            ]
          },
          "metadata": {}
        },
        {
          "output_type": "display_data",
          "data": {
            "text/plain": [],
            "text/html": [
              "<pre style=\"white-space:pre;overflow-x:auto;line-height:normal;font-family:Menlo,'DejaVu Sans Mono',consolas,'Courier New',monospace\"></pre>\n"
            ]
          },
          "metadata": {}
        },
        {
          "output_type": "display_data",
          "data": {
            "text/plain": [],
            "text/html": [
              "<pre style=\"white-space:pre;overflow-x:auto;line-height:normal;font-family:Menlo,'DejaVu Sans Mono',consolas,'Courier New',monospace\"></pre>\n"
            ]
          },
          "metadata": {}
        },
        {
          "output_type": "display_data",
          "data": {
            "text/plain": [],
            "text/html": [
              "<pre style=\"white-space:pre;overflow-x:auto;line-height:normal;font-family:Menlo,'DejaVu Sans Mono',consolas,'Courier New',monospace\"></pre>\n"
            ]
          },
          "metadata": {}
        },
        {
          "output_type": "display_data",
          "data": {
            "text/plain": [],
            "text/html": [
              "<pre style=\"white-space:pre;overflow-x:auto;line-height:normal;font-family:Menlo,'DejaVu Sans Mono',consolas,'Courier New',monospace\"></pre>\n"
            ]
          },
          "metadata": {}
        },
        {
          "output_type": "display_data",
          "data": {
            "text/plain": [],
            "text/html": [
              "<pre style=\"white-space:pre;overflow-x:auto;line-height:normal;font-family:Menlo,'DejaVu Sans Mono',consolas,'Courier New',monospace\"></pre>\n"
            ]
          },
          "metadata": {}
        },
        {
          "output_type": "display_data",
          "data": {
            "text/plain": [],
            "text/html": [
              "<pre style=\"white-space:pre;overflow-x:auto;line-height:normal;font-family:Menlo,'DejaVu Sans Mono',consolas,'Courier New',monospace\"></pre>\n"
            ]
          },
          "metadata": {}
        },
        {
          "output_type": "display_data",
          "data": {
            "text/plain": [],
            "text/html": [
              "<pre style=\"white-space:pre;overflow-x:auto;line-height:normal;font-family:Menlo,'DejaVu Sans Mono',consolas,'Courier New',monospace\"></pre>\n"
            ]
          },
          "metadata": {}
        },
        {
          "output_type": "display_data",
          "data": {
            "text/plain": [],
            "text/html": [
              "<pre style=\"white-space:pre;overflow-x:auto;line-height:normal;font-family:Menlo,'DejaVu Sans Mono',consolas,'Courier New',monospace\"></pre>\n"
            ]
          },
          "metadata": {}
        },
        {
          "output_type": "display_data",
          "data": {
            "text/plain": [],
            "text/html": [
              "<pre style=\"white-space:pre;overflow-x:auto;line-height:normal;font-family:Menlo,'DejaVu Sans Mono',consolas,'Courier New',monospace\"></pre>\n"
            ]
          },
          "metadata": {}
        },
        {
          "output_type": "display_data",
          "data": {
            "text/plain": [],
            "text/html": [
              "<pre style=\"white-space:pre;overflow-x:auto;line-height:normal;font-family:Menlo,'DejaVu Sans Mono',consolas,'Courier New',monospace\"></pre>\n"
            ]
          },
          "metadata": {}
        },
        {
          "output_type": "display_data",
          "data": {
            "text/plain": [],
            "text/html": [
              "<pre style=\"white-space:pre;overflow-x:auto;line-height:normal;font-family:Menlo,'DejaVu Sans Mono',consolas,'Courier New',monospace\"></pre>\n"
            ]
          },
          "metadata": {}
        },
        {
          "output_type": "display_data",
          "data": {
            "text/plain": [],
            "text/html": [
              "<pre style=\"white-space:pre;overflow-x:auto;line-height:normal;font-family:Menlo,'DejaVu Sans Mono',consolas,'Courier New',monospace\"></pre>\n"
            ]
          },
          "metadata": {}
        },
        {
          "output_type": "display_data",
          "data": {
            "text/plain": [],
            "text/html": [
              "<pre style=\"white-space:pre;overflow-x:auto;line-height:normal;font-family:Menlo,'DejaVu Sans Mono',consolas,'Courier New',monospace\"></pre>\n"
            ]
          },
          "metadata": {}
        },
        {
          "output_type": "display_data",
          "data": {
            "text/plain": [],
            "text/html": [
              "<pre style=\"white-space:pre;overflow-x:auto;line-height:normal;font-family:Menlo,'DejaVu Sans Mono',consolas,'Courier New',monospace\"></pre>\n"
            ]
          },
          "metadata": {}
        },
        {
          "output_type": "display_data",
          "data": {
            "text/plain": [],
            "text/html": [
              "<pre style=\"white-space:pre;overflow-x:auto;line-height:normal;font-family:Menlo,'DejaVu Sans Mono',consolas,'Courier New',monospace\"></pre>\n"
            ]
          },
          "metadata": {}
        },
        {
          "output_type": "display_data",
          "data": {
            "text/plain": [],
            "text/html": [
              "<pre style=\"white-space:pre;overflow-x:auto;line-height:normal;font-family:Menlo,'DejaVu Sans Mono',consolas,'Courier New',monospace\"></pre>\n"
            ]
          },
          "metadata": {}
        },
        {
          "output_type": "display_data",
          "data": {
            "text/plain": [],
            "text/html": [
              "<pre style=\"white-space:pre;overflow-x:auto;line-height:normal;font-family:Menlo,'DejaVu Sans Mono',consolas,'Courier New',monospace\"></pre>\n"
            ]
          },
          "metadata": {}
        },
        {
          "output_type": "display_data",
          "data": {
            "text/plain": [],
            "text/html": [
              "<pre style=\"white-space:pre;overflow-x:auto;line-height:normal;font-family:Menlo,'DejaVu Sans Mono',consolas,'Courier New',monospace\"></pre>\n"
            ]
          },
          "metadata": {}
        },
        {
          "output_type": "display_data",
          "data": {
            "text/plain": [],
            "text/html": [
              "<pre style=\"white-space:pre;overflow-x:auto;line-height:normal;font-family:Menlo,'DejaVu Sans Mono',consolas,'Courier New',monospace\"></pre>\n"
            ]
          },
          "metadata": {}
        },
        {
          "output_type": "display_data",
          "data": {
            "text/plain": [],
            "text/html": [
              "<pre style=\"white-space:pre;overflow-x:auto;line-height:normal;font-family:Menlo,'DejaVu Sans Mono',consolas,'Courier New',monospace\"></pre>\n"
            ]
          },
          "metadata": {}
        },
        {
          "output_type": "display_data",
          "data": {
            "text/plain": [],
            "text/html": [
              "<pre style=\"white-space:pre;overflow-x:auto;line-height:normal;font-family:Menlo,'DejaVu Sans Mono',consolas,'Courier New',monospace\"></pre>\n"
            ]
          },
          "metadata": {}
        },
        {
          "output_type": "display_data",
          "data": {
            "text/plain": [],
            "text/html": [
              "<pre style=\"white-space:pre;overflow-x:auto;line-height:normal;font-family:Menlo,'DejaVu Sans Mono',consolas,'Courier New',monospace\"></pre>\n"
            ]
          },
          "metadata": {}
        },
        {
          "output_type": "display_data",
          "data": {
            "text/plain": [],
            "text/html": [
              "<pre style=\"white-space:pre;overflow-x:auto;line-height:normal;font-family:Menlo,'DejaVu Sans Mono',consolas,'Courier New',monospace\"></pre>\n"
            ]
          },
          "metadata": {}
        },
        {
          "output_type": "display_data",
          "data": {
            "text/plain": [],
            "text/html": [
              "<pre style=\"white-space:pre;overflow-x:auto;line-height:normal;font-family:Menlo,'DejaVu Sans Mono',consolas,'Courier New',monospace\"></pre>\n"
            ]
          },
          "metadata": {}
        },
        {
          "output_type": "display_data",
          "data": {
            "text/plain": [],
            "text/html": [
              "<pre style=\"white-space:pre;overflow-x:auto;line-height:normal;font-family:Menlo,'DejaVu Sans Mono',consolas,'Courier New',monospace\"></pre>\n"
            ]
          },
          "metadata": {}
        },
        {
          "output_type": "display_data",
          "data": {
            "text/plain": [],
            "text/html": [
              "<pre style=\"white-space:pre;overflow-x:auto;line-height:normal;font-family:Menlo,'DejaVu Sans Mono',consolas,'Courier New',monospace\"></pre>\n"
            ]
          },
          "metadata": {}
        },
        {
          "output_type": "display_data",
          "data": {
            "text/plain": [],
            "text/html": [
              "<pre style=\"white-space:pre;overflow-x:auto;line-height:normal;font-family:Menlo,'DejaVu Sans Mono',consolas,'Courier New',monospace\"></pre>\n"
            ]
          },
          "metadata": {}
        },
        {
          "output_type": "display_data",
          "data": {
            "text/plain": [],
            "text/html": [
              "<pre style=\"white-space:pre;overflow-x:auto;line-height:normal;font-family:Menlo,'DejaVu Sans Mono',consolas,'Courier New',monospace\"></pre>\n"
            ]
          },
          "metadata": {}
        },
        {
          "output_type": "display_data",
          "data": {
            "text/plain": [],
            "text/html": [
              "<pre style=\"white-space:pre;overflow-x:auto;line-height:normal;font-family:Menlo,'DejaVu Sans Mono',consolas,'Courier New',monospace\"></pre>\n"
            ]
          },
          "metadata": {}
        },
        {
          "output_type": "display_data",
          "data": {
            "text/plain": [],
            "text/html": [
              "<pre style=\"white-space:pre;overflow-x:auto;line-height:normal;font-family:Menlo,'DejaVu Sans Mono',consolas,'Courier New',monospace\"></pre>\n"
            ]
          },
          "metadata": {}
        },
        {
          "output_type": "display_data",
          "data": {
            "text/plain": [],
            "text/html": [
              "<pre style=\"white-space:pre;overflow-x:auto;line-height:normal;font-family:Menlo,'DejaVu Sans Mono',consolas,'Courier New',monospace\"></pre>\n"
            ]
          },
          "metadata": {}
        },
        {
          "output_type": "display_data",
          "data": {
            "text/plain": [],
            "text/html": [
              "<pre style=\"white-space:pre;overflow-x:auto;line-height:normal;font-family:Menlo,'DejaVu Sans Mono',consolas,'Courier New',monospace\"></pre>\n"
            ]
          },
          "metadata": {}
        },
        {
          "output_type": "display_data",
          "data": {
            "text/plain": [],
            "text/html": [
              "<pre style=\"white-space:pre;overflow-x:auto;line-height:normal;font-family:Menlo,'DejaVu Sans Mono',consolas,'Courier New',monospace\"></pre>\n"
            ]
          },
          "metadata": {}
        },
        {
          "output_type": "display_data",
          "data": {
            "text/plain": [],
            "text/html": [
              "<pre style=\"white-space:pre;overflow-x:auto;line-height:normal;font-family:Menlo,'DejaVu Sans Mono',consolas,'Courier New',monospace\"></pre>\n"
            ]
          },
          "metadata": {}
        },
        {
          "output_type": "display_data",
          "data": {
            "text/plain": [],
            "text/html": [
              "<pre style=\"white-space:pre;overflow-x:auto;line-height:normal;font-family:Menlo,'DejaVu Sans Mono',consolas,'Courier New',monospace\"></pre>\n"
            ]
          },
          "metadata": {}
        },
        {
          "output_type": "display_data",
          "data": {
            "text/plain": [],
            "text/html": [
              "<pre style=\"white-space:pre;overflow-x:auto;line-height:normal;font-family:Menlo,'DejaVu Sans Mono',consolas,'Courier New',monospace\"></pre>\n"
            ]
          },
          "metadata": {}
        },
        {
          "output_type": "display_data",
          "data": {
            "text/plain": [],
            "text/html": [
              "<pre style=\"white-space:pre;overflow-x:auto;line-height:normal;font-family:Menlo,'DejaVu Sans Mono',consolas,'Courier New',monospace\"></pre>\n"
            ]
          },
          "metadata": {}
        },
        {
          "output_type": "display_data",
          "data": {
            "text/plain": [],
            "text/html": [
              "<pre style=\"white-space:pre;overflow-x:auto;line-height:normal;font-family:Menlo,'DejaVu Sans Mono',consolas,'Courier New',monospace\"></pre>\n"
            ]
          },
          "metadata": {}
        },
        {
          "output_type": "display_data",
          "data": {
            "text/plain": [],
            "text/html": [
              "<pre style=\"white-space:pre;overflow-x:auto;line-height:normal;font-family:Menlo,'DejaVu Sans Mono',consolas,'Courier New',monospace\"></pre>\n"
            ]
          },
          "metadata": {}
        },
        {
          "output_type": "display_data",
          "data": {
            "text/plain": [],
            "text/html": [
              "<pre style=\"white-space:pre;overflow-x:auto;line-height:normal;font-family:Menlo,'DejaVu Sans Mono',consolas,'Courier New',monospace\"></pre>\n"
            ]
          },
          "metadata": {}
        },
        {
          "output_type": "display_data",
          "data": {
            "text/plain": [],
            "text/html": [
              "<pre style=\"white-space:pre;overflow-x:auto;line-height:normal;font-family:Menlo,'DejaVu Sans Mono',consolas,'Courier New',monospace\"></pre>\n"
            ]
          },
          "metadata": {}
        },
        {
          "output_type": "display_data",
          "data": {
            "text/plain": [],
            "text/html": [
              "<pre style=\"white-space:pre;overflow-x:auto;line-height:normal;font-family:Menlo,'DejaVu Sans Mono',consolas,'Courier New',monospace\"></pre>\n"
            ]
          },
          "metadata": {}
        },
        {
          "output_type": "display_data",
          "data": {
            "text/plain": [],
            "text/html": [
              "<pre style=\"white-space:pre;overflow-x:auto;line-height:normal;font-family:Menlo,'DejaVu Sans Mono',consolas,'Courier New',monospace\"></pre>\n"
            ]
          },
          "metadata": {}
        },
        {
          "output_type": "display_data",
          "data": {
            "text/plain": [],
            "text/html": [
              "<pre style=\"white-space:pre;overflow-x:auto;line-height:normal;font-family:Menlo,'DejaVu Sans Mono',consolas,'Courier New',monospace\"></pre>\n"
            ]
          },
          "metadata": {}
        },
        {
          "output_type": "display_data",
          "data": {
            "text/plain": [],
            "text/html": [
              "<pre style=\"white-space:pre;overflow-x:auto;line-height:normal;font-family:Menlo,'DejaVu Sans Mono',consolas,'Courier New',monospace\"></pre>\n"
            ]
          },
          "metadata": {}
        },
        {
          "output_type": "display_data",
          "data": {
            "text/plain": [],
            "text/html": [
              "<pre style=\"white-space:pre;overflow-x:auto;line-height:normal;font-family:Menlo,'DejaVu Sans Mono',consolas,'Courier New',monospace\"></pre>\n"
            ]
          },
          "metadata": {}
        },
        {
          "output_type": "display_data",
          "data": {
            "text/plain": [],
            "text/html": [
              "<pre style=\"white-space:pre;overflow-x:auto;line-height:normal;font-family:Menlo,'DejaVu Sans Mono',consolas,'Courier New',monospace\"></pre>\n"
            ]
          },
          "metadata": {}
        },
        {
          "output_type": "display_data",
          "data": {
            "text/plain": [],
            "text/html": [
              "<pre style=\"white-space:pre;overflow-x:auto;line-height:normal;font-family:Menlo,'DejaVu Sans Mono',consolas,'Courier New',monospace\"></pre>\n"
            ]
          },
          "metadata": {}
        },
        {
          "output_type": "display_data",
          "data": {
            "text/plain": [],
            "text/html": [
              "<pre style=\"white-space:pre;overflow-x:auto;line-height:normal;font-family:Menlo,'DejaVu Sans Mono',consolas,'Courier New',monospace\"></pre>\n"
            ]
          },
          "metadata": {}
        },
        {
          "output_type": "display_data",
          "data": {
            "text/plain": [],
            "text/html": [
              "<pre style=\"white-space:pre;overflow-x:auto;line-height:normal;font-family:Menlo,'DejaVu Sans Mono',consolas,'Courier New',monospace\"></pre>\n"
            ]
          },
          "metadata": {}
        },
        {
          "output_type": "display_data",
          "data": {
            "text/plain": [],
            "text/html": [
              "<pre style=\"white-space:pre;overflow-x:auto;line-height:normal;font-family:Menlo,'DejaVu Sans Mono',consolas,'Courier New',monospace\"></pre>\n"
            ]
          },
          "metadata": {}
        },
        {
          "output_type": "display_data",
          "data": {
            "text/plain": [],
            "text/html": [
              "<pre style=\"white-space:pre;overflow-x:auto;line-height:normal;font-family:Menlo,'DejaVu Sans Mono',consolas,'Courier New',monospace\"></pre>\n"
            ]
          },
          "metadata": {}
        },
        {
          "output_type": "display_data",
          "data": {
            "text/plain": [],
            "text/html": [
              "<pre style=\"white-space:pre;overflow-x:auto;line-height:normal;font-family:Menlo,'DejaVu Sans Mono',consolas,'Courier New',monospace\"></pre>\n"
            ]
          },
          "metadata": {}
        },
        {
          "output_type": "display_data",
          "data": {
            "text/plain": [],
            "text/html": [
              "<pre style=\"white-space:pre;overflow-x:auto;line-height:normal;font-family:Menlo,'DejaVu Sans Mono',consolas,'Courier New',monospace\"></pre>\n"
            ]
          },
          "metadata": {}
        },
        {
          "output_type": "display_data",
          "data": {
            "text/plain": [],
            "text/html": [
              "<pre style=\"white-space:pre;overflow-x:auto;line-height:normal;font-family:Menlo,'DejaVu Sans Mono',consolas,'Courier New',monospace\"></pre>\n"
            ]
          },
          "metadata": {}
        },
        {
          "output_type": "display_data",
          "data": {
            "text/plain": [],
            "text/html": [
              "<pre style=\"white-space:pre;overflow-x:auto;line-height:normal;font-family:Menlo,'DejaVu Sans Mono',consolas,'Courier New',monospace\"></pre>\n"
            ]
          },
          "metadata": {}
        },
        {
          "output_type": "display_data",
          "data": {
            "text/plain": [],
            "text/html": [
              "<pre style=\"white-space:pre;overflow-x:auto;line-height:normal;font-family:Menlo,'DejaVu Sans Mono',consolas,'Courier New',monospace\"></pre>\n"
            ]
          },
          "metadata": {}
        },
        {
          "output_type": "display_data",
          "data": {
            "text/plain": [],
            "text/html": [
              "<pre style=\"white-space:pre;overflow-x:auto;line-height:normal;font-family:Menlo,'DejaVu Sans Mono',consolas,'Courier New',monospace\"></pre>\n"
            ]
          },
          "metadata": {}
        },
        {
          "output_type": "display_data",
          "data": {
            "text/plain": [],
            "text/html": [
              "<pre style=\"white-space:pre;overflow-x:auto;line-height:normal;font-family:Menlo,'DejaVu Sans Mono',consolas,'Courier New',monospace\"></pre>\n"
            ]
          },
          "metadata": {}
        },
        {
          "output_type": "display_data",
          "data": {
            "text/plain": [],
            "text/html": [
              "<pre style=\"white-space:pre;overflow-x:auto;line-height:normal;font-family:Menlo,'DejaVu Sans Mono',consolas,'Courier New',monospace\"></pre>\n"
            ]
          },
          "metadata": {}
        },
        {
          "output_type": "display_data",
          "data": {
            "text/plain": [],
            "text/html": [
              "<pre style=\"white-space:pre;overflow-x:auto;line-height:normal;font-family:Menlo,'DejaVu Sans Mono',consolas,'Courier New',monospace\"></pre>\n"
            ]
          },
          "metadata": {}
        },
        {
          "output_type": "display_data",
          "data": {
            "text/plain": [],
            "text/html": [
              "<pre style=\"white-space:pre;overflow-x:auto;line-height:normal;font-family:Menlo,'DejaVu Sans Mono',consolas,'Courier New',monospace\"></pre>\n"
            ]
          },
          "metadata": {}
        },
        {
          "output_type": "display_data",
          "data": {
            "text/plain": [],
            "text/html": [
              "<pre style=\"white-space:pre;overflow-x:auto;line-height:normal;font-family:Menlo,'DejaVu Sans Mono',consolas,'Courier New',monospace\"></pre>\n"
            ]
          },
          "metadata": {}
        },
        {
          "output_type": "display_data",
          "data": {
            "text/plain": [],
            "text/html": [
              "<pre style=\"white-space:pre;overflow-x:auto;line-height:normal;font-family:Menlo,'DejaVu Sans Mono',consolas,'Courier New',monospace\"></pre>\n"
            ]
          },
          "metadata": {}
        },
        {
          "output_type": "display_data",
          "data": {
            "text/plain": [],
            "text/html": [
              "<pre style=\"white-space:pre;overflow-x:auto;line-height:normal;font-family:Menlo,'DejaVu Sans Mono',consolas,'Courier New',monospace\"></pre>\n"
            ]
          },
          "metadata": {}
        },
        {
          "output_type": "display_data",
          "data": {
            "text/plain": [],
            "text/html": [
              "<pre style=\"white-space:pre;overflow-x:auto;line-height:normal;font-family:Menlo,'DejaVu Sans Mono',consolas,'Courier New',monospace\"></pre>\n"
            ]
          },
          "metadata": {}
        },
        {
          "output_type": "display_data",
          "data": {
            "text/plain": [],
            "text/html": [
              "<pre style=\"white-space:pre;overflow-x:auto;line-height:normal;font-family:Menlo,'DejaVu Sans Mono',consolas,'Courier New',monospace\"></pre>\n"
            ]
          },
          "metadata": {}
        },
        {
          "output_type": "display_data",
          "data": {
            "text/plain": [],
            "text/html": [
              "<pre style=\"white-space:pre;overflow-x:auto;line-height:normal;font-family:Menlo,'DejaVu Sans Mono',consolas,'Courier New',monospace\"></pre>\n"
            ]
          },
          "metadata": {}
        },
        {
          "output_type": "display_data",
          "data": {
            "text/plain": [],
            "text/html": [
              "<pre style=\"white-space:pre;overflow-x:auto;line-height:normal;font-family:Menlo,'DejaVu Sans Mono',consolas,'Courier New',monospace\"></pre>\n"
            ]
          },
          "metadata": {}
        },
        {
          "output_type": "display_data",
          "data": {
            "text/plain": [],
            "text/html": [
              "<pre style=\"white-space:pre;overflow-x:auto;line-height:normal;font-family:Menlo,'DejaVu Sans Mono',consolas,'Courier New',monospace\"></pre>\n"
            ]
          },
          "metadata": {}
        },
        {
          "output_type": "display_data",
          "data": {
            "text/plain": [],
            "text/html": [
              "<pre style=\"white-space:pre;overflow-x:auto;line-height:normal;font-family:Menlo,'DejaVu Sans Mono',consolas,'Courier New',monospace\"></pre>\n"
            ]
          },
          "metadata": {}
        },
        {
          "output_type": "display_data",
          "data": {
            "text/plain": [],
            "text/html": [
              "<pre style=\"white-space:pre;overflow-x:auto;line-height:normal;font-family:Menlo,'DejaVu Sans Mono',consolas,'Courier New',monospace\"></pre>\n"
            ]
          },
          "metadata": {}
        },
        {
          "output_type": "display_data",
          "data": {
            "text/plain": [],
            "text/html": [
              "<pre style=\"white-space:pre;overflow-x:auto;line-height:normal;font-family:Menlo,'DejaVu Sans Mono',consolas,'Courier New',monospace\"></pre>\n"
            ]
          },
          "metadata": {}
        },
        {
          "output_type": "display_data",
          "data": {
            "text/plain": [],
            "text/html": [
              "<pre style=\"white-space:pre;overflow-x:auto;line-height:normal;font-family:Menlo,'DejaVu Sans Mono',consolas,'Courier New',monospace\"></pre>\n"
            ]
          },
          "metadata": {}
        },
        {
          "output_type": "display_data",
          "data": {
            "text/plain": [],
            "text/html": [
              "<pre style=\"white-space:pre;overflow-x:auto;line-height:normal;font-family:Menlo,'DejaVu Sans Mono',consolas,'Courier New',monospace\"></pre>\n"
            ]
          },
          "metadata": {}
        },
        {
          "output_type": "display_data",
          "data": {
            "text/plain": [],
            "text/html": [
              "<pre style=\"white-space:pre;overflow-x:auto;line-height:normal;font-family:Menlo,'DejaVu Sans Mono',consolas,'Courier New',monospace\"></pre>\n"
            ]
          },
          "metadata": {}
        },
        {
          "output_type": "display_data",
          "data": {
            "text/plain": [],
            "text/html": [
              "<pre style=\"white-space:pre;overflow-x:auto;line-height:normal;font-family:Menlo,'DejaVu Sans Mono',consolas,'Courier New',monospace\"></pre>\n"
            ]
          },
          "metadata": {}
        },
        {
          "output_type": "display_data",
          "data": {
            "text/plain": [],
            "text/html": [
              "<pre style=\"white-space:pre;overflow-x:auto;line-height:normal;font-family:Menlo,'DejaVu Sans Mono',consolas,'Courier New',monospace\"></pre>\n"
            ]
          },
          "metadata": {}
        },
        {
          "output_type": "display_data",
          "data": {
            "text/plain": [],
            "text/html": [
              "<pre style=\"white-space:pre;overflow-x:auto;line-height:normal;font-family:Menlo,'DejaVu Sans Mono',consolas,'Courier New',monospace\"></pre>\n"
            ]
          },
          "metadata": {}
        },
        {
          "output_type": "display_data",
          "data": {
            "text/plain": [],
            "text/html": [
              "<pre style=\"white-space:pre;overflow-x:auto;line-height:normal;font-family:Menlo,'DejaVu Sans Mono',consolas,'Courier New',monospace\"></pre>\n"
            ]
          },
          "metadata": {}
        },
        {
          "output_type": "display_data",
          "data": {
            "text/plain": [],
            "text/html": [
              "<pre style=\"white-space:pre;overflow-x:auto;line-height:normal;font-family:Menlo,'DejaVu Sans Mono',consolas,'Courier New',monospace\"></pre>\n"
            ]
          },
          "metadata": {}
        },
        {
          "output_type": "display_data",
          "data": {
            "text/plain": [],
            "text/html": [
              "<pre style=\"white-space:pre;overflow-x:auto;line-height:normal;font-family:Menlo,'DejaVu Sans Mono',consolas,'Courier New',monospace\"></pre>\n"
            ]
          },
          "metadata": {}
        },
        {
          "output_type": "display_data",
          "data": {
            "text/plain": [],
            "text/html": [
              "<pre style=\"white-space:pre;overflow-x:auto;line-height:normal;font-family:Menlo,'DejaVu Sans Mono',consolas,'Courier New',monospace\"></pre>\n"
            ]
          },
          "metadata": {}
        },
        {
          "output_type": "display_data",
          "data": {
            "text/plain": [],
            "text/html": [
              "<pre style=\"white-space:pre;overflow-x:auto;line-height:normal;font-family:Menlo,'DejaVu Sans Mono',consolas,'Courier New',monospace\"></pre>\n"
            ]
          },
          "metadata": {}
        },
        {
          "output_type": "display_data",
          "data": {
            "text/plain": [],
            "text/html": [
              "<pre style=\"white-space:pre;overflow-x:auto;line-height:normal;font-family:Menlo,'DejaVu Sans Mono',consolas,'Courier New',monospace\"></pre>\n"
            ]
          },
          "metadata": {}
        },
        {
          "output_type": "display_data",
          "data": {
            "text/plain": [],
            "text/html": [
              "<pre style=\"white-space:pre;overflow-x:auto;line-height:normal;font-family:Menlo,'DejaVu Sans Mono',consolas,'Courier New',monospace\"></pre>\n"
            ]
          },
          "metadata": {}
        },
        {
          "output_type": "display_data",
          "data": {
            "text/plain": [],
            "text/html": [
              "<pre style=\"white-space:pre;overflow-x:auto;line-height:normal;font-family:Menlo,'DejaVu Sans Mono',consolas,'Courier New',monospace\"></pre>\n"
            ]
          },
          "metadata": {}
        },
        {
          "output_type": "display_data",
          "data": {
            "text/plain": [],
            "text/html": [
              "<pre style=\"white-space:pre;overflow-x:auto;line-height:normal;font-family:Menlo,'DejaVu Sans Mono',consolas,'Courier New',monospace\"></pre>\n"
            ]
          },
          "metadata": {}
        },
        {
          "output_type": "display_data",
          "data": {
            "text/plain": [],
            "text/html": [
              "<pre style=\"white-space:pre;overflow-x:auto;line-height:normal;font-family:Menlo,'DejaVu Sans Mono',consolas,'Courier New',monospace\"></pre>\n"
            ]
          },
          "metadata": {}
        },
        {
          "output_type": "display_data",
          "data": {
            "text/plain": [],
            "text/html": [
              "<pre style=\"white-space:pre;overflow-x:auto;line-height:normal;font-family:Menlo,'DejaVu Sans Mono',consolas,'Courier New',monospace\"></pre>\n"
            ]
          },
          "metadata": {}
        },
        {
          "output_type": "display_data",
          "data": {
            "text/plain": [],
            "text/html": [
              "<pre style=\"white-space:pre;overflow-x:auto;line-height:normal;font-family:Menlo,'DejaVu Sans Mono',consolas,'Courier New',monospace\"></pre>\n"
            ]
          },
          "metadata": {}
        },
        {
          "output_type": "display_data",
          "data": {
            "text/plain": [],
            "text/html": [
              "<pre style=\"white-space:pre;overflow-x:auto;line-height:normal;font-family:Menlo,'DejaVu Sans Mono',consolas,'Courier New',monospace\"></pre>\n"
            ]
          },
          "metadata": {}
        },
        {
          "output_type": "display_data",
          "data": {
            "text/plain": [],
            "text/html": [
              "<pre style=\"white-space:pre;overflow-x:auto;line-height:normal;font-family:Menlo,'DejaVu Sans Mono',consolas,'Courier New',monospace\"></pre>\n"
            ]
          },
          "metadata": {}
        },
        {
          "output_type": "display_data",
          "data": {
            "text/plain": [],
            "text/html": [
              "<pre style=\"white-space:pre;overflow-x:auto;line-height:normal;font-family:Menlo,'DejaVu Sans Mono',consolas,'Courier New',monospace\"></pre>\n"
            ]
          },
          "metadata": {}
        },
        {
          "output_type": "display_data",
          "data": {
            "text/plain": [],
            "text/html": [
              "<pre style=\"white-space:pre;overflow-x:auto;line-height:normal;font-family:Menlo,'DejaVu Sans Mono',consolas,'Courier New',monospace\"></pre>\n"
            ]
          },
          "metadata": {}
        },
        {
          "output_type": "display_data",
          "data": {
            "text/plain": [],
            "text/html": [
              "<pre style=\"white-space:pre;overflow-x:auto;line-height:normal;font-family:Menlo,'DejaVu Sans Mono',consolas,'Courier New',monospace\"></pre>\n"
            ]
          },
          "metadata": {}
        },
        {
          "output_type": "display_data",
          "data": {
            "text/plain": [],
            "text/html": [
              "<pre style=\"white-space:pre;overflow-x:auto;line-height:normal;font-family:Menlo,'DejaVu Sans Mono',consolas,'Courier New',monospace\"></pre>\n"
            ]
          },
          "metadata": {}
        },
        {
          "output_type": "display_data",
          "data": {
            "text/plain": [],
            "text/html": [
              "<pre style=\"white-space:pre;overflow-x:auto;line-height:normal;font-family:Menlo,'DejaVu Sans Mono',consolas,'Courier New',monospace\"></pre>\n"
            ]
          },
          "metadata": {}
        },
        {
          "output_type": "display_data",
          "data": {
            "text/plain": [],
            "text/html": [
              "<pre style=\"white-space:pre;overflow-x:auto;line-height:normal;font-family:Menlo,'DejaVu Sans Mono',consolas,'Courier New',monospace\"></pre>\n"
            ]
          },
          "metadata": {}
        },
        {
          "output_type": "display_data",
          "data": {
            "text/plain": [],
            "text/html": [
              "<pre style=\"white-space:pre;overflow-x:auto;line-height:normal;font-family:Menlo,'DejaVu Sans Mono',consolas,'Courier New',monospace\"></pre>\n"
            ]
          },
          "metadata": {}
        },
        {
          "output_type": "display_data",
          "data": {
            "text/plain": [],
            "text/html": [
              "<pre style=\"white-space:pre;overflow-x:auto;line-height:normal;font-family:Menlo,'DejaVu Sans Mono',consolas,'Courier New',monospace\"></pre>\n"
            ]
          },
          "metadata": {}
        },
        {
          "output_type": "display_data",
          "data": {
            "text/plain": [],
            "text/html": [
              "<pre style=\"white-space:pre;overflow-x:auto;line-height:normal;font-family:Menlo,'DejaVu Sans Mono',consolas,'Courier New',monospace\"></pre>\n"
            ]
          },
          "metadata": {}
        },
        {
          "output_type": "display_data",
          "data": {
            "text/plain": [],
            "text/html": [
              "<pre style=\"white-space:pre;overflow-x:auto;line-height:normal;font-family:Menlo,'DejaVu Sans Mono',consolas,'Courier New',monospace\"></pre>\n"
            ]
          },
          "metadata": {}
        },
        {
          "output_type": "display_data",
          "data": {
            "text/plain": [],
            "text/html": [
              "<pre style=\"white-space:pre;overflow-x:auto;line-height:normal;font-family:Menlo,'DejaVu Sans Mono',consolas,'Courier New',monospace\"></pre>\n"
            ]
          },
          "metadata": {}
        },
        {
          "output_type": "display_data",
          "data": {
            "text/plain": [],
            "text/html": [
              "<pre style=\"white-space:pre;overflow-x:auto;line-height:normal;font-family:Menlo,'DejaVu Sans Mono',consolas,'Courier New',monospace\"></pre>\n"
            ]
          },
          "metadata": {}
        },
        {
          "output_type": "display_data",
          "data": {
            "text/plain": [],
            "text/html": [
              "<pre style=\"white-space:pre;overflow-x:auto;line-height:normal;font-family:Menlo,'DejaVu Sans Mono',consolas,'Courier New',monospace\"></pre>\n"
            ]
          },
          "metadata": {}
        },
        {
          "output_type": "display_data",
          "data": {
            "text/plain": [],
            "text/html": [
              "<pre style=\"white-space:pre;overflow-x:auto;line-height:normal;font-family:Menlo,'DejaVu Sans Mono',consolas,'Courier New',monospace\"></pre>\n"
            ]
          },
          "metadata": {}
        },
        {
          "output_type": "display_data",
          "data": {
            "text/plain": [],
            "text/html": [
              "<pre style=\"white-space:pre;overflow-x:auto;line-height:normal;font-family:Menlo,'DejaVu Sans Mono',consolas,'Courier New',monospace\"></pre>\n"
            ]
          },
          "metadata": {}
        },
        {
          "output_type": "display_data",
          "data": {
            "text/plain": [],
            "text/html": [
              "<pre style=\"white-space:pre;overflow-x:auto;line-height:normal;font-family:Menlo,'DejaVu Sans Mono',consolas,'Courier New',monospace\"></pre>\n"
            ]
          },
          "metadata": {}
        },
        {
          "output_type": "display_data",
          "data": {
            "text/plain": [],
            "text/html": [
              "<pre style=\"white-space:pre;overflow-x:auto;line-height:normal;font-family:Menlo,'DejaVu Sans Mono',consolas,'Courier New',monospace\"></pre>\n"
            ]
          },
          "metadata": {}
        },
        {
          "output_type": "display_data",
          "data": {
            "text/plain": [],
            "text/html": [
              "<pre style=\"white-space:pre;overflow-x:auto;line-height:normal;font-family:Menlo,'DejaVu Sans Mono',consolas,'Courier New',monospace\"></pre>\n"
            ]
          },
          "metadata": {}
        },
        {
          "output_type": "display_data",
          "data": {
            "text/plain": [],
            "text/html": [
              "<pre style=\"white-space:pre;overflow-x:auto;line-height:normal;font-family:Menlo,'DejaVu Sans Mono',consolas,'Courier New',monospace\"></pre>\n"
            ]
          },
          "metadata": {}
        },
        {
          "output_type": "display_data",
          "data": {
            "text/plain": [],
            "text/html": [
              "<pre style=\"white-space:pre;overflow-x:auto;line-height:normal;font-family:Menlo,'DejaVu Sans Mono',consolas,'Courier New',monospace\"></pre>\n"
            ]
          },
          "metadata": {}
        },
        {
          "output_type": "display_data",
          "data": {
            "text/plain": [],
            "text/html": [
              "<pre style=\"white-space:pre;overflow-x:auto;line-height:normal;font-family:Menlo,'DejaVu Sans Mono',consolas,'Courier New',monospace\"></pre>\n"
            ]
          },
          "metadata": {}
        },
        {
          "output_type": "display_data",
          "data": {
            "text/plain": [],
            "text/html": [
              "<pre style=\"white-space:pre;overflow-x:auto;line-height:normal;font-family:Menlo,'DejaVu Sans Mono',consolas,'Courier New',monospace\"></pre>\n"
            ]
          },
          "metadata": {}
        },
        {
          "output_type": "display_data",
          "data": {
            "text/plain": [],
            "text/html": [
              "<pre style=\"white-space:pre;overflow-x:auto;line-height:normal;font-family:Menlo,'DejaVu Sans Mono',consolas,'Courier New',monospace\"></pre>\n"
            ]
          },
          "metadata": {}
        },
        {
          "output_type": "display_data",
          "data": {
            "text/plain": [],
            "text/html": [
              "<pre style=\"white-space:pre;overflow-x:auto;line-height:normal;font-family:Menlo,'DejaVu Sans Mono',consolas,'Courier New',monospace\"></pre>\n"
            ]
          },
          "metadata": {}
        },
        {
          "output_type": "display_data",
          "data": {
            "text/plain": [],
            "text/html": [
              "<pre style=\"white-space:pre;overflow-x:auto;line-height:normal;font-family:Menlo,'DejaVu Sans Mono',consolas,'Courier New',monospace\"></pre>\n"
            ]
          },
          "metadata": {}
        },
        {
          "output_type": "display_data",
          "data": {
            "text/plain": [],
            "text/html": [
              "<pre style=\"white-space:pre;overflow-x:auto;line-height:normal;font-family:Menlo,'DejaVu Sans Mono',consolas,'Courier New',monospace\"></pre>\n"
            ]
          },
          "metadata": {}
        },
        {
          "output_type": "display_data",
          "data": {
            "text/plain": [],
            "text/html": [
              "<pre style=\"white-space:pre;overflow-x:auto;line-height:normal;font-family:Menlo,'DejaVu Sans Mono',consolas,'Courier New',monospace\"></pre>\n"
            ]
          },
          "metadata": {}
        },
        {
          "output_type": "display_data",
          "data": {
            "text/plain": [],
            "text/html": [
              "<pre style=\"white-space:pre;overflow-x:auto;line-height:normal;font-family:Menlo,'DejaVu Sans Mono',consolas,'Courier New',monospace\"></pre>\n"
            ]
          },
          "metadata": {}
        },
        {
          "output_type": "display_data",
          "data": {
            "text/plain": [],
            "text/html": [
              "<pre style=\"white-space:pre;overflow-x:auto;line-height:normal;font-family:Menlo,'DejaVu Sans Mono',consolas,'Courier New',monospace\"></pre>\n"
            ]
          },
          "metadata": {}
        },
        {
          "output_type": "display_data",
          "data": {
            "text/plain": [],
            "text/html": [
              "<pre style=\"white-space:pre;overflow-x:auto;line-height:normal;font-family:Menlo,'DejaVu Sans Mono',consolas,'Courier New',monospace\"></pre>\n"
            ]
          },
          "metadata": {}
        },
        {
          "output_type": "display_data",
          "data": {
            "text/plain": [],
            "text/html": [
              "<pre style=\"white-space:pre;overflow-x:auto;line-height:normal;font-family:Menlo,'DejaVu Sans Mono',consolas,'Courier New',monospace\"></pre>\n"
            ]
          },
          "metadata": {}
        },
        {
          "output_type": "display_data",
          "data": {
            "text/plain": [],
            "text/html": [
              "<pre style=\"white-space:pre;overflow-x:auto;line-height:normal;font-family:Menlo,'DejaVu Sans Mono',consolas,'Courier New',monospace\"></pre>\n"
            ]
          },
          "metadata": {}
        },
        {
          "output_type": "display_data",
          "data": {
            "text/plain": [],
            "text/html": [
              "<pre style=\"white-space:pre;overflow-x:auto;line-height:normal;font-family:Menlo,'DejaVu Sans Mono',consolas,'Courier New',monospace\"></pre>\n"
            ]
          },
          "metadata": {}
        },
        {
          "output_type": "display_data",
          "data": {
            "text/plain": [],
            "text/html": [
              "<pre style=\"white-space:pre;overflow-x:auto;line-height:normal;font-family:Menlo,'DejaVu Sans Mono',consolas,'Courier New',monospace\"></pre>\n"
            ]
          },
          "metadata": {}
        },
        {
          "output_type": "display_data",
          "data": {
            "text/plain": [],
            "text/html": [
              "<pre style=\"white-space:pre;overflow-x:auto;line-height:normal;font-family:Menlo,'DejaVu Sans Mono',consolas,'Courier New',monospace\"></pre>\n"
            ]
          },
          "metadata": {}
        },
        {
          "output_type": "display_data",
          "data": {
            "text/plain": [],
            "text/html": [
              "<pre style=\"white-space:pre;overflow-x:auto;line-height:normal;font-family:Menlo,'DejaVu Sans Mono',consolas,'Courier New',monospace\"></pre>\n"
            ]
          },
          "metadata": {}
        },
        {
          "output_type": "display_data",
          "data": {
            "text/plain": [],
            "text/html": [
              "<pre style=\"white-space:pre;overflow-x:auto;line-height:normal;font-family:Menlo,'DejaVu Sans Mono',consolas,'Courier New',monospace\"></pre>\n"
            ]
          },
          "metadata": {}
        },
        {
          "output_type": "display_data",
          "data": {
            "text/plain": [],
            "text/html": [
              "<pre style=\"white-space:pre;overflow-x:auto;line-height:normal;font-family:Menlo,'DejaVu Sans Mono',consolas,'Courier New',monospace\"></pre>\n"
            ]
          },
          "metadata": {}
        },
        {
          "output_type": "display_data",
          "data": {
            "text/plain": [],
            "text/html": [
              "<pre style=\"white-space:pre;overflow-x:auto;line-height:normal;font-family:Menlo,'DejaVu Sans Mono',consolas,'Courier New',monospace\"></pre>\n"
            ]
          },
          "metadata": {}
        },
        {
          "output_type": "display_data",
          "data": {
            "text/plain": [],
            "text/html": [
              "<pre style=\"white-space:pre;overflow-x:auto;line-height:normal;font-family:Menlo,'DejaVu Sans Mono',consolas,'Courier New',monospace\"></pre>\n"
            ]
          },
          "metadata": {}
        },
        {
          "output_type": "display_data",
          "data": {
            "text/plain": [],
            "text/html": [
              "<pre style=\"white-space:pre;overflow-x:auto;line-height:normal;font-family:Menlo,'DejaVu Sans Mono',consolas,'Courier New',monospace\"></pre>\n"
            ]
          },
          "metadata": {}
        },
        {
          "output_type": "display_data",
          "data": {
            "text/plain": [],
            "text/html": [
              "<pre style=\"white-space:pre;overflow-x:auto;line-height:normal;font-family:Menlo,'DejaVu Sans Mono',consolas,'Courier New',monospace\"></pre>\n"
            ]
          },
          "metadata": {}
        },
        {
          "output_type": "display_data",
          "data": {
            "text/plain": [],
            "text/html": [
              "<pre style=\"white-space:pre;overflow-x:auto;line-height:normal;font-family:Menlo,'DejaVu Sans Mono',consolas,'Courier New',monospace\"></pre>\n"
            ]
          },
          "metadata": {}
        },
        {
          "output_type": "display_data",
          "data": {
            "text/plain": [],
            "text/html": [
              "<pre style=\"white-space:pre;overflow-x:auto;line-height:normal;font-family:Menlo,'DejaVu Sans Mono',consolas,'Courier New',monospace\"></pre>\n"
            ]
          },
          "metadata": {}
        },
        {
          "output_type": "display_data",
          "data": {
            "text/plain": [],
            "text/html": [
              "<pre style=\"white-space:pre;overflow-x:auto;line-height:normal;font-family:Menlo,'DejaVu Sans Mono',consolas,'Courier New',monospace\"></pre>\n"
            ]
          },
          "metadata": {}
        },
        {
          "output_type": "display_data",
          "data": {
            "text/plain": [],
            "text/html": [
              "<pre style=\"white-space:pre;overflow-x:auto;line-height:normal;font-family:Menlo,'DejaVu Sans Mono',consolas,'Courier New',monospace\"></pre>\n"
            ]
          },
          "metadata": {}
        },
        {
          "output_type": "display_data",
          "data": {
            "text/plain": [],
            "text/html": [
              "<pre style=\"white-space:pre;overflow-x:auto;line-height:normal;font-family:Menlo,'DejaVu Sans Mono',consolas,'Courier New',monospace\"></pre>\n"
            ]
          },
          "metadata": {}
        },
        {
          "output_type": "display_data",
          "data": {
            "text/plain": [],
            "text/html": [
              "<pre style=\"white-space:pre;overflow-x:auto;line-height:normal;font-family:Menlo,'DejaVu Sans Mono',consolas,'Courier New',monospace\"></pre>\n"
            ]
          },
          "metadata": {}
        },
        {
          "output_type": "display_data",
          "data": {
            "text/plain": [],
            "text/html": [
              "<pre style=\"white-space:pre;overflow-x:auto;line-height:normal;font-family:Menlo,'DejaVu Sans Mono',consolas,'Courier New',monospace\"></pre>\n"
            ]
          },
          "metadata": {}
        },
        {
          "output_type": "display_data",
          "data": {
            "text/plain": [],
            "text/html": [
              "<pre style=\"white-space:pre;overflow-x:auto;line-height:normal;font-family:Menlo,'DejaVu Sans Mono',consolas,'Courier New',monospace\"></pre>\n"
            ]
          },
          "metadata": {}
        },
        {
          "output_type": "display_data",
          "data": {
            "text/plain": [],
            "text/html": [
              "<pre style=\"white-space:pre;overflow-x:auto;line-height:normal;font-family:Menlo,'DejaVu Sans Mono',consolas,'Courier New',monospace\"></pre>\n"
            ]
          },
          "metadata": {}
        },
        {
          "output_type": "display_data",
          "data": {
            "text/plain": [],
            "text/html": [
              "<pre style=\"white-space:pre;overflow-x:auto;line-height:normal;font-family:Menlo,'DejaVu Sans Mono',consolas,'Courier New',monospace\"></pre>\n"
            ]
          },
          "metadata": {}
        },
        {
          "output_type": "display_data",
          "data": {
            "text/plain": [],
            "text/html": [
              "<pre style=\"white-space:pre;overflow-x:auto;line-height:normal;font-family:Menlo,'DejaVu Sans Mono',consolas,'Courier New',monospace\"></pre>\n"
            ]
          },
          "metadata": {}
        },
        {
          "output_type": "display_data",
          "data": {
            "text/plain": [],
            "text/html": [
              "<pre style=\"white-space:pre;overflow-x:auto;line-height:normal;font-family:Menlo,'DejaVu Sans Mono',consolas,'Courier New',monospace\"></pre>\n"
            ]
          },
          "metadata": {}
        },
        {
          "output_type": "display_data",
          "data": {
            "text/plain": [],
            "text/html": [
              "<pre style=\"white-space:pre;overflow-x:auto;line-height:normal;font-family:Menlo,'DejaVu Sans Mono',consolas,'Courier New',monospace\"></pre>\n"
            ]
          },
          "metadata": {}
        },
        {
          "output_type": "display_data",
          "data": {
            "text/plain": [],
            "text/html": [
              "<pre style=\"white-space:pre;overflow-x:auto;line-height:normal;font-family:Menlo,'DejaVu Sans Mono',consolas,'Courier New',monospace\"></pre>\n"
            ]
          },
          "metadata": {}
        },
        {
          "output_type": "display_data",
          "data": {
            "text/plain": [],
            "text/html": [
              "<pre style=\"white-space:pre;overflow-x:auto;line-height:normal;font-family:Menlo,'DejaVu Sans Mono',consolas,'Courier New',monospace\"></pre>\n"
            ]
          },
          "metadata": {}
        },
        {
          "output_type": "display_data",
          "data": {
            "text/plain": [],
            "text/html": [
              "<pre style=\"white-space:pre;overflow-x:auto;line-height:normal;font-family:Menlo,'DejaVu Sans Mono',consolas,'Courier New',monospace\"></pre>\n"
            ]
          },
          "metadata": {}
        },
        {
          "output_type": "display_data",
          "data": {
            "text/plain": [],
            "text/html": [
              "<pre style=\"white-space:pre;overflow-x:auto;line-height:normal;font-family:Menlo,'DejaVu Sans Mono',consolas,'Courier New',monospace\"></pre>\n"
            ]
          },
          "metadata": {}
        },
        {
          "output_type": "display_data",
          "data": {
            "text/plain": [],
            "text/html": [
              "<pre style=\"white-space:pre;overflow-x:auto;line-height:normal;font-family:Menlo,'DejaVu Sans Mono',consolas,'Courier New',monospace\"></pre>\n"
            ]
          },
          "metadata": {}
        },
        {
          "output_type": "display_data",
          "data": {
            "text/plain": [],
            "text/html": [
              "<pre style=\"white-space:pre;overflow-x:auto;line-height:normal;font-family:Menlo,'DejaVu Sans Mono',consolas,'Courier New',monospace\"></pre>\n"
            ]
          },
          "metadata": {}
        },
        {
          "output_type": "display_data",
          "data": {
            "text/plain": [],
            "text/html": [
              "<pre style=\"white-space:pre;overflow-x:auto;line-height:normal;font-family:Menlo,'DejaVu Sans Mono',consolas,'Courier New',monospace\"></pre>\n"
            ]
          },
          "metadata": {}
        },
        {
          "output_type": "display_data",
          "data": {
            "text/plain": [],
            "text/html": [
              "<pre style=\"white-space:pre;overflow-x:auto;line-height:normal;font-family:Menlo,'DejaVu Sans Mono',consolas,'Courier New',monospace\"></pre>\n"
            ]
          },
          "metadata": {}
        },
        {
          "output_type": "display_data",
          "data": {
            "text/plain": [],
            "text/html": [
              "<pre style=\"white-space:pre;overflow-x:auto;line-height:normal;font-family:Menlo,'DejaVu Sans Mono',consolas,'Courier New',monospace\"></pre>\n"
            ]
          },
          "metadata": {}
        },
        {
          "output_type": "display_data",
          "data": {
            "text/plain": [],
            "text/html": [
              "<pre style=\"white-space:pre;overflow-x:auto;line-height:normal;font-family:Menlo,'DejaVu Sans Mono',consolas,'Courier New',monospace\"></pre>\n"
            ]
          },
          "metadata": {}
        },
        {
          "output_type": "display_data",
          "data": {
            "text/plain": [],
            "text/html": [
              "<pre style=\"white-space:pre;overflow-x:auto;line-height:normal;font-family:Menlo,'DejaVu Sans Mono',consolas,'Courier New',monospace\"></pre>\n"
            ]
          },
          "metadata": {}
        },
        {
          "output_type": "display_data",
          "data": {
            "text/plain": [],
            "text/html": [
              "<pre style=\"white-space:pre;overflow-x:auto;line-height:normal;font-family:Menlo,'DejaVu Sans Mono',consolas,'Courier New',monospace\"></pre>\n"
            ]
          },
          "metadata": {}
        },
        {
          "output_type": "display_data",
          "data": {
            "text/plain": [],
            "text/html": [
              "<pre style=\"white-space:pre;overflow-x:auto;line-height:normal;font-family:Menlo,'DejaVu Sans Mono',consolas,'Courier New',monospace\"></pre>\n"
            ]
          },
          "metadata": {}
        },
        {
          "output_type": "display_data",
          "data": {
            "text/plain": [],
            "text/html": [
              "<pre style=\"white-space:pre;overflow-x:auto;line-height:normal;font-family:Menlo,'DejaVu Sans Mono',consolas,'Courier New',monospace\"></pre>\n"
            ]
          },
          "metadata": {}
        },
        {
          "output_type": "display_data",
          "data": {
            "text/plain": [],
            "text/html": [
              "<pre style=\"white-space:pre;overflow-x:auto;line-height:normal;font-family:Menlo,'DejaVu Sans Mono',consolas,'Courier New',monospace\"></pre>\n"
            ]
          },
          "metadata": {}
        },
        {
          "output_type": "display_data",
          "data": {
            "text/plain": [],
            "text/html": [
              "<pre style=\"white-space:pre;overflow-x:auto;line-height:normal;font-family:Menlo,'DejaVu Sans Mono',consolas,'Courier New',monospace\"></pre>\n"
            ]
          },
          "metadata": {}
        },
        {
          "output_type": "display_data",
          "data": {
            "text/plain": [],
            "text/html": [
              "<pre style=\"white-space:pre;overflow-x:auto;line-height:normal;font-family:Menlo,'DejaVu Sans Mono',consolas,'Courier New',monospace\"></pre>\n"
            ]
          },
          "metadata": {}
        },
        {
          "output_type": "display_data",
          "data": {
            "text/plain": [],
            "text/html": [
              "<pre style=\"white-space:pre;overflow-x:auto;line-height:normal;font-family:Menlo,'DejaVu Sans Mono',consolas,'Courier New',monospace\"></pre>\n"
            ]
          },
          "metadata": {}
        },
        {
          "output_type": "display_data",
          "data": {
            "text/plain": [],
            "text/html": [
              "<pre style=\"white-space:pre;overflow-x:auto;line-height:normal;font-family:Menlo,'DejaVu Sans Mono',consolas,'Courier New',monospace\"></pre>\n"
            ]
          },
          "metadata": {}
        },
        {
          "output_type": "display_data",
          "data": {
            "text/plain": [],
            "text/html": [
              "<pre style=\"white-space:pre;overflow-x:auto;line-height:normal;font-family:Menlo,'DejaVu Sans Mono',consolas,'Courier New',monospace\"></pre>\n"
            ]
          },
          "metadata": {}
        },
        {
          "output_type": "display_data",
          "data": {
            "text/plain": [],
            "text/html": [
              "<pre style=\"white-space:pre;overflow-x:auto;line-height:normal;font-family:Menlo,'DejaVu Sans Mono',consolas,'Courier New',monospace\"></pre>\n"
            ]
          },
          "metadata": {}
        },
        {
          "output_type": "display_data",
          "data": {
            "text/plain": [],
            "text/html": [
              "<pre style=\"white-space:pre;overflow-x:auto;line-height:normal;font-family:Menlo,'DejaVu Sans Mono',consolas,'Courier New',monospace\"></pre>\n"
            ]
          },
          "metadata": {}
        },
        {
          "output_type": "display_data",
          "data": {
            "text/plain": [],
            "text/html": [
              "<pre style=\"white-space:pre;overflow-x:auto;line-height:normal;font-family:Menlo,'DejaVu Sans Mono',consolas,'Courier New',monospace\"></pre>\n"
            ]
          },
          "metadata": {}
        },
        {
          "output_type": "display_data",
          "data": {
            "text/plain": [],
            "text/html": [
              "<pre style=\"white-space:pre;overflow-x:auto;line-height:normal;font-family:Menlo,'DejaVu Sans Mono',consolas,'Courier New',monospace\"></pre>\n"
            ]
          },
          "metadata": {}
        },
        {
          "output_type": "display_data",
          "data": {
            "text/plain": [],
            "text/html": [
              "<pre style=\"white-space:pre;overflow-x:auto;line-height:normal;font-family:Menlo,'DejaVu Sans Mono',consolas,'Courier New',monospace\"></pre>\n"
            ]
          },
          "metadata": {}
        },
        {
          "output_type": "display_data",
          "data": {
            "text/plain": [],
            "text/html": [
              "<pre style=\"white-space:pre;overflow-x:auto;line-height:normal;font-family:Menlo,'DejaVu Sans Mono',consolas,'Courier New',monospace\"></pre>\n"
            ]
          },
          "metadata": {}
        },
        {
          "output_type": "display_data",
          "data": {
            "text/plain": [],
            "text/html": [
              "<pre style=\"white-space:pre;overflow-x:auto;line-height:normal;font-family:Menlo,'DejaVu Sans Mono',consolas,'Courier New',monospace\"></pre>\n"
            ]
          },
          "metadata": {}
        },
        {
          "output_type": "display_data",
          "data": {
            "text/plain": [],
            "text/html": [
              "<pre style=\"white-space:pre;overflow-x:auto;line-height:normal;font-family:Menlo,'DejaVu Sans Mono',consolas,'Courier New',monospace\"></pre>\n"
            ]
          },
          "metadata": {}
        },
        {
          "output_type": "display_data",
          "data": {
            "text/plain": [],
            "text/html": [
              "<pre style=\"white-space:pre;overflow-x:auto;line-height:normal;font-family:Menlo,'DejaVu Sans Mono',consolas,'Courier New',monospace\"></pre>\n"
            ]
          },
          "metadata": {}
        },
        {
          "output_type": "display_data",
          "data": {
            "text/plain": [],
            "text/html": [
              "<pre style=\"white-space:pre;overflow-x:auto;line-height:normal;font-family:Menlo,'DejaVu Sans Mono',consolas,'Courier New',monospace\"></pre>\n"
            ]
          },
          "metadata": {}
        },
        {
          "output_type": "display_data",
          "data": {
            "text/plain": [],
            "text/html": [
              "<pre style=\"white-space:pre;overflow-x:auto;line-height:normal;font-family:Menlo,'DejaVu Sans Mono',consolas,'Courier New',monospace\"></pre>\n"
            ]
          },
          "metadata": {}
        },
        {
          "output_type": "display_data",
          "data": {
            "text/plain": [],
            "text/html": [
              "<pre style=\"white-space:pre;overflow-x:auto;line-height:normal;font-family:Menlo,'DejaVu Sans Mono',consolas,'Courier New',monospace\"></pre>\n"
            ]
          },
          "metadata": {}
        },
        {
          "output_type": "display_data",
          "data": {
            "text/plain": [],
            "text/html": [
              "<pre style=\"white-space:pre;overflow-x:auto;line-height:normal;font-family:Menlo,'DejaVu Sans Mono',consolas,'Courier New',monospace\"></pre>\n"
            ]
          },
          "metadata": {}
        },
        {
          "output_type": "display_data",
          "data": {
            "text/plain": [],
            "text/html": [
              "<pre style=\"white-space:pre;overflow-x:auto;line-height:normal;font-family:Menlo,'DejaVu Sans Mono',consolas,'Courier New',monospace\"></pre>\n"
            ]
          },
          "metadata": {}
        },
        {
          "output_type": "display_data",
          "data": {
            "text/plain": [],
            "text/html": [
              "<pre style=\"white-space:pre;overflow-x:auto;line-height:normal;font-family:Menlo,'DejaVu Sans Mono',consolas,'Courier New',monospace\"></pre>\n"
            ]
          },
          "metadata": {}
        },
        {
          "output_type": "display_data",
          "data": {
            "text/plain": [],
            "text/html": [
              "<pre style=\"white-space:pre;overflow-x:auto;line-height:normal;font-family:Menlo,'DejaVu Sans Mono',consolas,'Courier New',monospace\"></pre>\n"
            ]
          },
          "metadata": {}
        },
        {
          "output_type": "display_data",
          "data": {
            "text/plain": [],
            "text/html": [
              "<pre style=\"white-space:pre;overflow-x:auto;line-height:normal;font-family:Menlo,'DejaVu Sans Mono',consolas,'Courier New',monospace\"></pre>\n"
            ]
          },
          "metadata": {}
        },
        {
          "output_type": "display_data",
          "data": {
            "text/plain": [],
            "text/html": [
              "<pre style=\"white-space:pre;overflow-x:auto;line-height:normal;font-family:Menlo,'DejaVu Sans Mono',consolas,'Courier New',monospace\"></pre>\n"
            ]
          },
          "metadata": {}
        },
        {
          "output_type": "display_data",
          "data": {
            "text/plain": [],
            "text/html": [
              "<pre style=\"white-space:pre;overflow-x:auto;line-height:normal;font-family:Menlo,'DejaVu Sans Mono',consolas,'Courier New',monospace\"></pre>\n"
            ]
          },
          "metadata": {}
        },
        {
          "output_type": "display_data",
          "data": {
            "text/plain": [],
            "text/html": [
              "<pre style=\"white-space:pre;overflow-x:auto;line-height:normal;font-family:Menlo,'DejaVu Sans Mono',consolas,'Courier New',monospace\"></pre>\n"
            ]
          },
          "metadata": {}
        },
        {
          "output_type": "display_data",
          "data": {
            "text/plain": [],
            "text/html": [
              "<pre style=\"white-space:pre;overflow-x:auto;line-height:normal;font-family:Menlo,'DejaVu Sans Mono',consolas,'Courier New',monospace\"></pre>\n"
            ]
          },
          "metadata": {}
        },
        {
          "output_type": "display_data",
          "data": {
            "text/plain": [],
            "text/html": [
              "<pre style=\"white-space:pre;overflow-x:auto;line-height:normal;font-family:Menlo,'DejaVu Sans Mono',consolas,'Courier New',monospace\"></pre>\n"
            ]
          },
          "metadata": {}
        },
        {
          "output_type": "display_data",
          "data": {
            "text/plain": [],
            "text/html": [
              "<pre style=\"white-space:pre;overflow-x:auto;line-height:normal;font-family:Menlo,'DejaVu Sans Mono',consolas,'Courier New',monospace\"></pre>\n"
            ]
          },
          "metadata": {}
        },
        {
          "output_type": "display_data",
          "data": {
            "text/plain": [],
            "text/html": [
              "<pre style=\"white-space:pre;overflow-x:auto;line-height:normal;font-family:Menlo,'DejaVu Sans Mono',consolas,'Courier New',monospace\"></pre>\n"
            ]
          },
          "metadata": {}
        },
        {
          "output_type": "display_data",
          "data": {
            "text/plain": [],
            "text/html": [
              "<pre style=\"white-space:pre;overflow-x:auto;line-height:normal;font-family:Menlo,'DejaVu Sans Mono',consolas,'Courier New',monospace\"></pre>\n"
            ]
          },
          "metadata": {}
        },
        {
          "output_type": "display_data",
          "data": {
            "text/plain": [],
            "text/html": [
              "<pre style=\"white-space:pre;overflow-x:auto;line-height:normal;font-family:Menlo,'DejaVu Sans Mono',consolas,'Courier New',monospace\"></pre>\n"
            ]
          },
          "metadata": {}
        },
        {
          "output_type": "display_data",
          "data": {
            "text/plain": [],
            "text/html": [
              "<pre style=\"white-space:pre;overflow-x:auto;line-height:normal;font-family:Menlo,'DejaVu Sans Mono',consolas,'Courier New',monospace\"></pre>\n"
            ]
          },
          "metadata": {}
        },
        {
          "output_type": "display_data",
          "data": {
            "text/plain": [],
            "text/html": [
              "<pre style=\"white-space:pre;overflow-x:auto;line-height:normal;font-family:Menlo,'DejaVu Sans Mono',consolas,'Courier New',monospace\"></pre>\n"
            ]
          },
          "metadata": {}
        },
        {
          "output_type": "display_data",
          "data": {
            "text/plain": [],
            "text/html": [
              "<pre style=\"white-space:pre;overflow-x:auto;line-height:normal;font-family:Menlo,'DejaVu Sans Mono',consolas,'Courier New',monospace\"></pre>\n"
            ]
          },
          "metadata": {}
        },
        {
          "output_type": "display_data",
          "data": {
            "text/plain": [],
            "text/html": [
              "<pre style=\"white-space:pre;overflow-x:auto;line-height:normal;font-family:Menlo,'DejaVu Sans Mono',consolas,'Courier New',monospace\"></pre>\n"
            ]
          },
          "metadata": {}
        },
        {
          "output_type": "display_data",
          "data": {
            "text/plain": [],
            "text/html": [
              "<pre style=\"white-space:pre;overflow-x:auto;line-height:normal;font-family:Menlo,'DejaVu Sans Mono',consolas,'Courier New',monospace\"></pre>\n"
            ]
          },
          "metadata": {}
        },
        {
          "output_type": "display_data",
          "data": {
            "text/plain": [],
            "text/html": [
              "<pre style=\"white-space:pre;overflow-x:auto;line-height:normal;font-family:Menlo,'DejaVu Sans Mono',consolas,'Courier New',monospace\"></pre>\n"
            ]
          },
          "metadata": {}
        },
        {
          "output_type": "display_data",
          "data": {
            "text/plain": [],
            "text/html": [
              "<pre style=\"white-space:pre;overflow-x:auto;line-height:normal;font-family:Menlo,'DejaVu Sans Mono',consolas,'Courier New',monospace\"></pre>\n"
            ]
          },
          "metadata": {}
        },
        {
          "output_type": "display_data",
          "data": {
            "text/plain": [],
            "text/html": [
              "<pre style=\"white-space:pre;overflow-x:auto;line-height:normal;font-family:Menlo,'DejaVu Sans Mono',consolas,'Courier New',monospace\"></pre>\n"
            ]
          },
          "metadata": {}
        },
        {
          "output_type": "display_data",
          "data": {
            "text/plain": [],
            "text/html": [
              "<pre style=\"white-space:pre;overflow-x:auto;line-height:normal;font-family:Menlo,'DejaVu Sans Mono',consolas,'Courier New',monospace\"></pre>\n"
            ]
          },
          "metadata": {}
        },
        {
          "output_type": "display_data",
          "data": {
            "text/plain": [],
            "text/html": [
              "<pre style=\"white-space:pre;overflow-x:auto;line-height:normal;font-family:Menlo,'DejaVu Sans Mono',consolas,'Courier New',monospace\"></pre>\n"
            ]
          },
          "metadata": {}
        },
        {
          "output_type": "display_data",
          "data": {
            "text/plain": [],
            "text/html": [
              "<pre style=\"white-space:pre;overflow-x:auto;line-height:normal;font-family:Menlo,'DejaVu Sans Mono',consolas,'Courier New',monospace\"></pre>\n"
            ]
          },
          "metadata": {}
        },
        {
          "output_type": "display_data",
          "data": {
            "text/plain": [],
            "text/html": [
              "<pre style=\"white-space:pre;overflow-x:auto;line-height:normal;font-family:Menlo,'DejaVu Sans Mono',consolas,'Courier New',monospace\"></pre>\n"
            ]
          },
          "metadata": {}
        },
        {
          "output_type": "display_data",
          "data": {
            "text/plain": [],
            "text/html": [
              "<pre style=\"white-space:pre;overflow-x:auto;line-height:normal;font-family:Menlo,'DejaVu Sans Mono',consolas,'Courier New',monospace\"></pre>\n"
            ]
          },
          "metadata": {}
        },
        {
          "output_type": "display_data",
          "data": {
            "text/plain": [],
            "text/html": [
              "<pre style=\"white-space:pre;overflow-x:auto;line-height:normal;font-family:Menlo,'DejaVu Sans Mono',consolas,'Courier New',monospace\"></pre>\n"
            ]
          },
          "metadata": {}
        },
        {
          "output_type": "display_data",
          "data": {
            "text/plain": [],
            "text/html": [
              "<pre style=\"white-space:pre;overflow-x:auto;line-height:normal;font-family:Menlo,'DejaVu Sans Mono',consolas,'Courier New',monospace\"></pre>\n"
            ]
          },
          "metadata": {}
        },
        {
          "output_type": "display_data",
          "data": {
            "text/plain": [],
            "text/html": [
              "<pre style=\"white-space:pre;overflow-x:auto;line-height:normal;font-family:Menlo,'DejaVu Sans Mono',consolas,'Courier New',monospace\"></pre>\n"
            ]
          },
          "metadata": {}
        },
        {
          "output_type": "display_data",
          "data": {
            "text/plain": [],
            "text/html": [
              "<pre style=\"white-space:pre;overflow-x:auto;line-height:normal;font-family:Menlo,'DejaVu Sans Mono',consolas,'Courier New',monospace\"></pre>\n"
            ]
          },
          "metadata": {}
        },
        {
          "output_type": "display_data",
          "data": {
            "text/plain": [],
            "text/html": [
              "<pre style=\"white-space:pre;overflow-x:auto;line-height:normal;font-family:Menlo,'DejaVu Sans Mono',consolas,'Courier New',monospace\"></pre>\n"
            ]
          },
          "metadata": {}
        },
        {
          "output_type": "display_data",
          "data": {
            "text/plain": [],
            "text/html": [
              "<pre style=\"white-space:pre;overflow-x:auto;line-height:normal;font-family:Menlo,'DejaVu Sans Mono',consolas,'Courier New',monospace\"></pre>\n"
            ]
          },
          "metadata": {}
        },
        {
          "output_type": "display_data",
          "data": {
            "text/plain": [],
            "text/html": [
              "<pre style=\"white-space:pre;overflow-x:auto;line-height:normal;font-family:Menlo,'DejaVu Sans Mono',consolas,'Courier New',monospace\"></pre>\n"
            ]
          },
          "metadata": {}
        },
        {
          "output_type": "display_data",
          "data": {
            "text/plain": [],
            "text/html": [
              "<pre style=\"white-space:pre;overflow-x:auto;line-height:normal;font-family:Menlo,'DejaVu Sans Mono',consolas,'Courier New',monospace\"></pre>\n"
            ]
          },
          "metadata": {}
        },
        {
          "output_type": "display_data",
          "data": {
            "text/plain": [],
            "text/html": [
              "<pre style=\"white-space:pre;overflow-x:auto;line-height:normal;font-family:Menlo,'DejaVu Sans Mono',consolas,'Courier New',monospace\"></pre>\n"
            ]
          },
          "metadata": {}
        },
        {
          "output_type": "display_data",
          "data": {
            "text/plain": [],
            "text/html": [
              "<pre style=\"white-space:pre;overflow-x:auto;line-height:normal;font-family:Menlo,'DejaVu Sans Mono',consolas,'Courier New',monospace\"></pre>\n"
            ]
          },
          "metadata": {}
        }
      ],
      "source": [
        "y_pred = []\n",
        "for category in categories:\n",
        "  path = f'/content/gdrive/MyDrive/oxford_flowers/val_set/{category}'\n",
        "  files = glob.glob(path + '/*')\n",
        "  for file in files:\n",
        "    prediction = inferencer(file)\n",
        "    y_pred.append(categories[prediction[0][\"pred_class\"]])\n",
        "y_pred = np.array(y_pred)\n"
      ]
    },
    {
      "cell_type": "code",
      "execution_count": null,
      "metadata": {
        "colab": {
          "base_uri": "https://localhost:8080/"
        },
        "id": "hovdn90hi-Gz",
        "outputId": "92a64ac3-d3b8-4487-c5f5-603fa1f98459"
      },
      "outputs": [
        {
          "output_type": "execute_result",
          "data": {
            "text/plain": [
              "array([ 9,  0,  9,  9,  9,  9,  0,  0,  0,  0,  0,  0,  0,  0,  0,  0,  9,\n",
              "        1,  9,  1,  9,  1,  1,  1,  1,  1,  1,  1,  1,  9,  1,  9,  2,  2,\n",
              "        2,  1,  2,  2, 12,  2,  2, 14,  2,  2,  2,  2,  2,  2,  3, 12,  3,\n",
              "        3,  3, 14,  3,  3,  3,  3,  8,  3,  8,  8,  8,  8,  4,  4,  4,  4,\n",
              "        4,  4,  4,  4,  4,  4,  4,  4,  4,  4, 12,  4,  5,  5,  5,  5,  5,\n",
              "        5,  5,  5,  5,  5,  1,  5,  5,  9,  5,  5,  0,  3,  6,  6,  9,  6,\n",
              "        7,  8,  6,  9,  8, 12, 12, 12, 12,  8,  7,  7,  7,  7,  7,  7,  7,\n",
              "       14,  7,  7,  7, 12, 12,  7,  7,  7, 11,  8,  8,  8,  8,  8,  8,  8,\n",
              "        8, 11,  8,  8,  8, 14,  8, 12,  9,  9,  9,  9,  9,  9,  9,  9,  9,\n",
              "        9,  9,  9,  9,  9,  9,  9, 10, 10, 10, 10, 10, 10, 10, 10, 12,  0,\n",
              "       10, 10,  4, 10, 10, 10, 11, 11, 11, 11, 11, 11, 11, 11, 11, 11,  4,\n",
              "       11, 11, 11, 11, 11, 14, 12, 12, 12, 12, 12, 12, 12, 12,  2, 12, 12,\n",
              "       12, 12, 12,  2, 13, 13, 13, 13, 13, 13, 13, 13, 13, 13, 10, 13, 13,\n",
              "       13, 13,  1, 14, 14, 14, 14, 14, 14, 14, 14, 14, 14, 14, 14, 14, 14,\n",
              "       14, 14, 15, 15, 15, 15, 15, 15,  9, 15, 15, 15, 15, 15, 15, 15, 15,\n",
              "       15, 16, 16, 16, 16, 16, 16, 16, 16,  9,  9, 15, 16, 16,  1, 15,  1])"
            ]
          },
          "metadata": {},
          "execution_count": 46
        }
      ],
      "source": [
        "y_pred"
      ]
    },
    {
      "cell_type": "code",
      "execution_count": null,
      "metadata": {
        "colab": {
          "base_uri": "https://localhost:8080/"
        },
        "id": "qnDmWwAujCD4",
        "outputId": "d7b3dcb0-82f1-4be4-ff44-1ddfe5df1b93"
      },
      "outputs": [
        {
          "output_type": "stream",
          "name": "stdout",
          "text": [
            "Account score for test :0.7867647058823529\n",
            "              precision    recall  f1-score   support\n",
            "\n",
            "           0       0.85      0.69      0.76        16\n",
            "           1       0.69      0.69      0.69        16\n",
            "           2       0.87      0.81      0.84        16\n",
            "           3       0.90      0.56      0.69        16\n",
            "           4       0.88      0.94      0.91        16\n",
            "           5       1.00      0.88      0.93        16\n",
            "           6       1.00      0.25      0.40        16\n",
            "           7       0.93      0.81      0.87        16\n",
            "           8       0.60      0.75      0.67        16\n",
            "           9       0.50      1.00      0.67        16\n",
            "          10       0.93      0.81      0.87        16\n",
            "          11       0.88      0.94      0.91        16\n",
            "          12       0.54      0.81      0.65        16\n",
            "          13       1.00      0.88      0.93        16\n",
            "          14       0.76      1.00      0.86        16\n",
            "          15       0.88      0.94      0.91        16\n",
            "          16       1.00      0.62      0.77        16\n",
            "\n",
            "    accuracy                           0.79       272\n",
            "   macro avg       0.84      0.79      0.78       272\n",
            "weighted avg       0.84      0.79      0.78       272\n",
            "\n"
          ]
        }
      ],
      "source": [
        "from sklearn.metrics import accuracy_score, classification_report\n",
        "import matplotlib.pyplot as plt\n",
        "print(f\"Account score for test :{accuracy_score(y_test,y_pred)}\")\n",
        "print(classification_report(y_test,y_pred))"
      ]
    },
    {
      "cell_type": "code",
      "execution_count": null,
      "metadata": {
        "colab": {
          "base_uri": "https://localhost:8080/"
        },
        "id": "i6uDCBDFjF6E",
        "outputId": "88d78f5e-aeb6-4148-c5fd-2f24b01ab710"
      },
      "outputs": [
        {
          "output_type": "stream",
          "name": "stdout",
          "text": [
            "02/17 18:43:01 - mmengine - \u001b[4m\u001b[97mINFO\u001b[0m - \n",
            "------------------------------------------------------------\n",
            "System environment:\n",
            "    sys.platform: linux\n",
            "    Python: 3.10.12 (main, Nov 20 2023, 15:14:05) [GCC 11.4.0]\n",
            "    CUDA available: True\n",
            "    MUSA available: False\n",
            "    numpy_random_seed: 921523314\n",
            "    GPU 0: Tesla T4\n",
            "    CUDA_HOME: /usr/local/cuda\n",
            "    NVCC: Cuda compilation tools, release 11.3, V11.3.58\n",
            "    GCC: x86_64-linux-gnu-gcc (Ubuntu 11.4.0-1ubuntu1~22.04) 11.4.0\n",
            "    PyTorch: 1.13.1+cu117\n",
            "    PyTorch compiling details: PyTorch built with:\n",
            "  - GCC 9.3\n",
            "  - C++ Version: 201402\n",
            "  - Intel(R) Math Kernel Library Version 2020.0.0 Product Build 20191122 for Intel(R) 64 architecture applications\n",
            "  - Intel(R) MKL-DNN v2.6.0 (Git Hash 52b5f107dd9cf10910aaa19cb47f3abf9b349815)\n",
            "  - OpenMP 201511 (a.k.a. OpenMP 4.5)\n",
            "  - LAPACK is enabled (usually provided by MKL)\n",
            "  - NNPACK is enabled\n",
            "  - CPU capability usage: AVX2\n",
            "  - CUDA Runtime 11.7\n",
            "  - NVCC architecture flags: -gencode;arch=compute_37,code=sm_37;-gencode;arch=compute_50,code=sm_50;-gencode;arch=compute_60,code=sm_60;-gencode;arch=compute_70,code=sm_70;-gencode;arch=compute_75,code=sm_75;-gencode;arch=compute_80,code=sm_80;-gencode;arch=compute_86,code=sm_86\n",
            "  - CuDNN 8.5\n",
            "  - Magma 2.6.1\n",
            "  - Build settings: BLAS_INFO=mkl, BUILD_TYPE=Release, CUDA_VERSION=11.7, CUDNN_VERSION=8.5.0, CXX_COMPILER=/opt/rh/devtoolset-9/root/usr/bin/c++, CXX_FLAGS= -fabi-version=11 -Wno-deprecated -fvisibility-inlines-hidden -DUSE_PTHREADPOOL -fopenmp -DNDEBUG -DUSE_KINETO -DUSE_FBGEMM -DUSE_QNNPACK -DUSE_PYTORCH_QNNPACK -DUSE_XNNPACK -DSYMBOLICATE_MOBILE_DEBUG_HANDLE -DEDGE_PROFILER_USE_KINETO -O2 -fPIC -Wno-narrowing -Wall -Wextra -Werror=return-type -Werror=non-virtual-dtor -Wno-missing-field-initializers -Wno-type-limits -Wno-array-bounds -Wno-unknown-pragmas -Wunused-local-typedefs -Wno-unused-parameter -Wno-unused-function -Wno-unused-result -Wno-strict-overflow -Wno-strict-aliasing -Wno-error=deprecated-declarations -Wno-stringop-overflow -Wno-psabi -Wno-error=pedantic -Wno-error=redundant-decls -Wno-error=old-style-cast -fdiagnostics-color=always -faligned-new -Wno-unused-but-set-variable -Wno-maybe-uninitialized -fno-math-errno -fno-trapping-math -Werror=format -Werror=cast-function-type -Wno-stringop-overflow, LAPACK_INFO=mkl, PERF_WITH_AVX=1, PERF_WITH_AVX2=1, PERF_WITH_AVX512=1, TORCH_VERSION=1.13.1, USE_CUDA=ON, USE_CUDNN=ON, USE_EXCEPTION_PTR=1, USE_GFLAGS=OFF, USE_GLOG=OFF, USE_MKL=ON, USE_MKLDNN=ON, USE_MPI=OFF, USE_NCCL=ON, USE_NNPACK=ON, USE_OPENMP=ON, USE_ROCM=OFF, \n",
            "\n",
            "    TorchVision: 0.14.1+cu117\n",
            "    OpenCV: 4.8.0\n",
            "    MMEngine: 0.10.3\n",
            "\n",
            "Runtime environment:\n",
            "    cudnn_benchmark: False\n",
            "    mp_cfg: {'mp_start_method': 'fork', 'opencv_num_threads': 0}\n",
            "    dist_cfg: {'backend': 'nccl'}\n",
            "    seed: 921523314\n",
            "    Distributed launcher: none\n",
            "    Distributed training: False\n",
            "    GPU number: 1\n",
            "------------------------------------------------------------\n",
            "\n",
            "02/17 18:43:01 - mmengine - \u001b[4m\u001b[97mINFO\u001b[0m - Config:\n",
            "auto_scale_lr = dict(base_batch_size=256)\n",
            "data_preprocessor = dict(\n",
            "    mean=[\n",
            "        123.675,\n",
            "        116.28,\n",
            "        103.53,\n",
            "    ],\n",
            "    std=[\n",
            "        58.395,\n",
            "        57.12,\n",
            "        57.375,\n",
            "    ],\n",
            "    to_rgb=True)\n",
            "dataset_type = 'CustomDataset'\n",
            "default_hooks = dict(\n",
            "    checkpoint=dict(interval=1, type='CheckpointHook'),\n",
            "    logger=dict(interval=100, type='LoggerHook'),\n",
            "    param_scheduler=dict(type='ParamSchedulerHook'),\n",
            "    sampler_seed=dict(type='DistSamplerSeedHook'),\n",
            "    timer=dict(type='IterTimerHook'),\n",
            "    visualization=dict(enable=False, type='VisualizationHook'))\n",
            "default_scope = 'mmpretrain'\n",
            "env_cfg = dict(\n",
            "    cudnn_benchmark=False,\n",
            "    dist_cfg=dict(backend='nccl'),\n",
            "    mp_cfg=dict(mp_start_method='fork', opencv_num_threads=0))\n",
            "launcher = 'none'\n",
            "load_from = None\n",
            "log_level = 'INFO'\n",
            "model = dict(\n",
            "    backbone=dict(\n",
            "        depth=50,\n",
            "        frozen_stages=-1,\n",
            "        num_stages=4,\n",
            "        out_indices=(3, ),\n",
            "        style='pytorch',\n",
            "        type='ResNet'),\n",
            "    head=dict(\n",
            "        in_channels=2048,\n",
            "        loss=dict(loss_weight=1.0, type='CrossEntropyLoss'),\n",
            "        num_classes=1000,\n",
            "        type='LinearClsHead'),\n",
            "    neck=dict(type='GlobalAveragePooling'),\n",
            "    type='ImageClassifier')\n",
            "optim_wrapper = dict(\n",
            "    optimizer=dict(lr=0.1, momentum=0.9, type='SGD', weight_decay=0.0001))\n",
            "param_scheduler = dict(\n",
            "    by_epoch=True, gamma=0.1, milestones=[\n",
            "        30,\n",
            "        60,\n",
            "        90,\n",
            "    ], type='MultiStepLR')\n",
            "resume = False\n",
            "test_cfg = dict()\n",
            "test_dataloader = dict(\n",
            "    batch_size=32,\n",
            "    collate_fn=dict(type='default_collate'),\n",
            "    dataset=dict(\n",
            "        ann_file='',\n",
            "        data_prefix='val_set',\n",
            "        data_root='/content/gdrive/MyDrive/oxford_flowers/',\n",
            "        pipeline=[\n",
            "            dict(type='LoadImageFromFile'),\n",
            "            dict(edge='short', scale=256, type='ResizeEdge'),\n",
            "            dict(crop_size=224, type='CenterCrop'),\n",
            "            dict(type='PackInputs'),\n",
            "        ],\n",
            "        type='CustomDataset'),\n",
            "    num_workers=5,\n",
            "    persistent_workers=True,\n",
            "    pin_memory=True,\n",
            "    sampler=dict(shuffle=False, type='DefaultSampler'))\n",
            "test_evaluator = dict(\n",
            "    topk=(\n",
            "        1,\n",
            "        5,\n",
            "    ), type='Accuracy')\n",
            "test_pipeline = [\n",
            "    dict(type='LoadImageFromFile'),\n",
            "    dict(edge='short', scale=256, type='ResizeEdge'),\n",
            "    dict(crop_size=224, type='CenterCrop'),\n",
            "    dict(type='PackInputs'),\n",
            "]\n",
            "train_cfg = dict(by_epoch=True, max_epochs=100, val_interval=1)\n",
            "train_dataloader = dict(\n",
            "    batch_size=32,\n",
            "    collate_fn=dict(type='default_collate'),\n",
            "    dataset=dict(\n",
            "        ann_file='',\n",
            "        data_prefix='train_set',\n",
            "        data_root='/content/gdrive/MyDrive/oxford_flowers/',\n",
            "        pipeline=[\n",
            "            dict(type='LoadImageFromFile'),\n",
            "            dict(scale=224, type='RandomResizedCrop'),\n",
            "            dict(direction='horizontal', prob=0.5, type='RandomFlip'),\n",
            "            dict(type='PackInputs'),\n",
            "        ],\n",
            "        type='CustomDataset'),\n",
            "    num_workers=5,\n",
            "    persistent_workers=True,\n",
            "    pin_memory=True,\n",
            "    sampler=dict(shuffle=True, type='DefaultSampler'))\n",
            "train_pipeline = [\n",
            "    dict(type='LoadImageFromFile'),\n",
            "    dict(scale=224, type='RandomResizedCrop'),\n",
            "    dict(direction='horizontal', prob=0.5, type='RandomFlip'),\n",
            "    dict(type='PackInputs'),\n",
            "]\n",
            "val_cfg = dict()\n",
            "val_dataloader = dict(\n",
            "    batch_size=32,\n",
            "    collate_fn=dict(type='default_collate'),\n",
            "    dataset=dict(\n",
            "        ann_file='',\n",
            "        data_prefix='val_set',\n",
            "        data_root='/content/gdrive/MyDrive/oxford_flowers/',\n",
            "        pipeline=[\n",
            "            dict(type='LoadImageFromFile'),\n",
            "            dict(edge='short', scale=256, type='ResizeEdge'),\n",
            "            dict(crop_size=224, type='CenterCrop'),\n",
            "            dict(type='PackInputs'),\n",
            "        ],\n",
            "        type='CustomDataset'),\n",
            "    num_workers=5,\n",
            "    persistent_workers=True,\n",
            "    pin_memory=True,\n",
            "    sampler=dict(shuffle=False, type='DefaultSampler'))\n",
            "val_evaluator = dict(\n",
            "    topk=(\n",
            "        1,\n",
            "        5,\n",
            "    ), type='Accuracy')\n",
            "vis_backends = [\n",
            "    dict(type='LocalVisBackend'),\n",
            "]\n",
            "visualizer = dict(\n",
            "    name='visualizer',\n",
            "    type='UniversalVisualizer',\n",
            "    vis_backends=[\n",
            "        dict(type='LocalVisBackend'),\n",
            "    ])\n",
            "work_dir = 'content2/log/config2'\n",
            "\n",
            "02/17 18:43:04 - mmengine - \u001b[4m\u001b[97mINFO\u001b[0m - Distributed training is not used, all SyncBatchNorm (SyncBN) layers in the model will be automatically reverted to BatchNormXd layers if they are used.\n",
            "02/17 18:43:04 - mmengine - \u001b[4m\u001b[97mINFO\u001b[0m - Hooks will be executed in the following order:\n",
            "before_run:\n",
            "(VERY_HIGH   ) RuntimeInfoHook                    \n",
            "(BELOW_NORMAL) LoggerHook                         \n",
            " -------------------- \n",
            "before_train:\n",
            "(VERY_HIGH   ) RuntimeInfoHook                    \n",
            "(NORMAL      ) IterTimerHook                      \n",
            "(VERY_LOW    ) CheckpointHook                     \n",
            " -------------------- \n",
            "before_train_epoch:\n",
            "(VERY_HIGH   ) RuntimeInfoHook                    \n",
            "(NORMAL      ) IterTimerHook                      \n",
            "(NORMAL      ) DistSamplerSeedHook                \n",
            " -------------------- \n",
            "before_train_iter:\n",
            "(VERY_HIGH   ) RuntimeInfoHook                    \n",
            "(NORMAL      ) IterTimerHook                      \n",
            " -------------------- \n",
            "after_train_iter:\n",
            "(VERY_HIGH   ) RuntimeInfoHook                    \n",
            "(NORMAL      ) IterTimerHook                      \n",
            "(BELOW_NORMAL) LoggerHook                         \n",
            "(LOW         ) ParamSchedulerHook                 \n",
            "(VERY_LOW    ) CheckpointHook                     \n",
            " -------------------- \n",
            "after_train_epoch:\n",
            "(NORMAL      ) IterTimerHook                      \n",
            "(LOW         ) ParamSchedulerHook                 \n",
            "(VERY_LOW    ) CheckpointHook                     \n",
            " -------------------- \n",
            "before_val:\n",
            "(VERY_HIGH   ) RuntimeInfoHook                    \n",
            " -------------------- \n",
            "before_val_epoch:\n",
            "(NORMAL      ) IterTimerHook                      \n",
            " -------------------- \n",
            "before_val_iter:\n",
            "(NORMAL      ) IterTimerHook                      \n",
            " -------------------- \n",
            "after_val_iter:\n",
            "(NORMAL      ) IterTimerHook                      \n",
            "(NORMAL      ) VisualizationHook                  \n",
            "(BELOW_NORMAL) LoggerHook                         \n",
            " -------------------- \n",
            "after_val_epoch:\n",
            "(VERY_HIGH   ) RuntimeInfoHook                    \n",
            "(NORMAL      ) IterTimerHook                      \n",
            "(BELOW_NORMAL) LoggerHook                         \n",
            "(LOW         ) ParamSchedulerHook                 \n",
            "(VERY_LOW    ) CheckpointHook                     \n",
            " -------------------- \n",
            "after_val:\n",
            "(VERY_HIGH   ) RuntimeInfoHook                    \n",
            " -------------------- \n",
            "after_train:\n",
            "(VERY_HIGH   ) RuntimeInfoHook                    \n",
            "(VERY_LOW    ) CheckpointHook                     \n",
            " -------------------- \n",
            "before_test:\n",
            "(VERY_HIGH   ) RuntimeInfoHook                    \n",
            " -------------------- \n",
            "before_test_epoch:\n",
            "(NORMAL      ) IterTimerHook                      \n",
            " -------------------- \n",
            "before_test_iter:\n",
            "(NORMAL      ) IterTimerHook                      \n",
            " -------------------- \n",
            "after_test_iter:\n",
            "(NORMAL      ) IterTimerHook                      \n",
            "(NORMAL      ) VisualizationHook                  \n",
            "(BELOW_NORMAL) LoggerHook                         \n",
            " -------------------- \n",
            "after_test_epoch:\n",
            "(VERY_HIGH   ) RuntimeInfoHook                    \n",
            "(NORMAL      ) IterTimerHook                      \n",
            "(BELOW_NORMAL) LoggerHook                         \n",
            " -------------------- \n",
            "after_test:\n",
            "(VERY_HIGH   ) RuntimeInfoHook                    \n",
            " -------------------- \n",
            "after_run:\n",
            "(BELOW_NORMAL) LoggerHook                         \n",
            " -------------------- \n",
            "/usr/local/lib/python3.10/dist-packages/torch/utils/data/dataloader.py:554: UserWarning: This DataLoader will create 5 worker processes in total. Our suggested max number of worker in current system is 2, which is smaller than what this DataLoader is going to create. Please be aware that excessive worker creation might get DataLoader running slow or even freeze, lower the worker number to avoid potential slowness/freeze if necessary.\n",
            "  warnings.warn(_create_warning_msg(\n",
            "02/17 18:43:05 - mmengine - \u001b[5m\u001b[4m\u001b[33mWARNING\u001b[0m - \"FileClient\" will be deprecated in future. Please use io functions in https://mmengine.readthedocs.io/en/latest/api/fileio.html#file-io\n",
            "02/17 18:43:05 - mmengine - \u001b[5m\u001b[4m\u001b[33mWARNING\u001b[0m - \"HardDiskBackend\" is the alias of \"LocalBackend\" and the former will be deprecated in future.\n",
            "02/17 18:43:05 - mmengine - \u001b[4m\u001b[97mINFO\u001b[0m - Checkpoints will be saved to /content/mmpretrain/content2/log/config2.\n",
            "/usr/local/lib/python3.10/dist-packages/torch/utils/data/dataloader.py:554: UserWarning: This DataLoader will create 5 worker processes in total. Our suggested max number of worker in current system is 2, which is smaller than what this DataLoader is going to create. Please be aware that excessive worker creation might get DataLoader running slow or even freeze, lower the worker number to avoid potential slowness/freeze if necessary.\n",
            "  warnings.warn(_create_warning_msg(\n",
            "02/17 18:44:27 - mmengine - \u001b[4m\u001b[97mINFO\u001b[0m - Exp name: newconfig_20240217_184300\n",
            "02/17 18:44:27 - mmengine - \u001b[4m\u001b[97mINFO\u001b[0m - Epoch(train)   [1][34/34]  lr: 1.0000e-01  eta: 2:15:10  time: 2.2721  data_time: 1.9709  memory: 2986  loss: 3.4147\n",
            "02/17 18:44:27 - mmengine - \u001b[4m\u001b[97mINFO\u001b[0m - Saving checkpoint at 1 epochs\n",
            "/usr/local/lib/python3.10/dist-packages/torch/utils/data/dataloader.py:554: UserWarning: This DataLoader will create 5 worker processes in total. Our suggested max number of worker in current system is 2, which is smaller than what this DataLoader is going to create. Please be aware that excessive worker creation might get DataLoader running slow or even freeze, lower the worker number to avoid potential slowness/freeze if necessary.\n",
            "  warnings.warn(_create_warning_msg(\n",
            "02/17 18:44:51 - mmengine - \u001b[4m\u001b[97mINFO\u001b[0m - Epoch(val) [1][9/9]    accuracy/top1: 14.7059  accuracy/top5: 59.5588  data_time: 2.4917  time: 2.5836\n",
            "02/17 18:45:03 - mmengine - \u001b[4m\u001b[97mINFO\u001b[0m - Exp name: newconfig_20240217_184300\n",
            "02/17 18:45:03 - mmengine - \u001b[4m\u001b[97mINFO\u001b[0m - Epoch(train)   [2][34/34]  lr: 1.0000e-01  eta: 1:15:53  time: 0.2962  data_time: 0.0009  memory: 2986  loss: 2.2299\n",
            "02/17 18:45:03 - mmengine - \u001b[4m\u001b[97mINFO\u001b[0m - Saving checkpoint at 2 epochs\n",
            "02/17 18:45:06 - mmengine - \u001b[4m\u001b[97mINFO\u001b[0m - Epoch(val) [2][9/9]    accuracy/top1: 36.3971  accuracy/top5: 81.6176  data_time: 0.1517  time: 0.2385\n",
            "02/17 18:45:17 - mmengine - \u001b[4m\u001b[97mINFO\u001b[0m - Exp name: newconfig_20240217_184300\n",
            "02/17 18:45:17 - mmengine - \u001b[4m\u001b[97mINFO\u001b[0m - Epoch(train)   [3][34/34]  lr: 1.0000e-01  eta: 0:56:12  time: 0.2997  data_time: 0.0008  memory: 2986  loss: 2.0852\n",
            "02/17 18:45:17 - mmengine - \u001b[4m\u001b[97mINFO\u001b[0m - Saving checkpoint at 3 epochs\n",
            "02/17 18:45:20 - mmengine - \u001b[4m\u001b[97mINFO\u001b[0m - Epoch(val) [3][9/9]    accuracy/top1: 34.1912  accuracy/top5: 79.4118  data_time: 0.1266  time: 0.2142\n",
            "02/17 18:45:32 - mmengine - \u001b[4m\u001b[97mINFO\u001b[0m - Exp name: newconfig_20240217_184300\n",
            "02/17 18:45:32 - mmengine - \u001b[4m\u001b[97mINFO\u001b[0m - Epoch(train)   [4][34/34]  lr: 1.0000e-01  eta: 0:46:22  time: 0.3006  data_time: 0.0009  memory: 2986  loss: 1.9211\n",
            "02/17 18:45:32 - mmengine - \u001b[4m\u001b[97mINFO\u001b[0m - Saving checkpoint at 4 epochs\n",
            "02/17 18:45:35 - mmengine - \u001b[4m\u001b[97mINFO\u001b[0m - Epoch(val) [4][9/9]    accuracy/top1: 42.6471  accuracy/top5: 87.5000  data_time: 0.1403  time: 0.2275\n",
            "02/17 18:45:46 - mmengine - \u001b[4m\u001b[97mINFO\u001b[0m - Exp name: newconfig_20240217_184300\n",
            "02/17 18:45:46 - mmengine - \u001b[4m\u001b[97mINFO\u001b[0m - Epoch(train)   [5][34/34]  lr: 1.0000e-01  eta: 0:40:20  time: 0.3002  data_time: 0.0022  memory: 2986  loss: 1.8058\n",
            "02/17 18:45:46 - mmengine - \u001b[4m\u001b[97mINFO\u001b[0m - Saving checkpoint at 5 epochs\n",
            "02/17 18:45:49 - mmengine - \u001b[4m\u001b[97mINFO\u001b[0m - Epoch(val) [5][9/9]    accuracy/top1: 49.6324  accuracy/top5: 90.4412  data_time: 0.1250  time: 0.2048\n",
            "02/17 18:46:01 - mmengine - \u001b[4m\u001b[97mINFO\u001b[0m - Exp name: newconfig_20240217_184300\n",
            "02/17 18:46:01 - mmengine - \u001b[4m\u001b[97mINFO\u001b[0m - Epoch(train)   [6][34/34]  lr: 1.0000e-01  eta: 0:36:18  time: 0.3038  data_time: 0.0009  memory: 2986  loss: 1.8000\n",
            "02/17 18:46:01 - mmengine - \u001b[4m\u001b[97mINFO\u001b[0m - Saving checkpoint at 6 epochs\n",
            "02/17 18:46:04 - mmengine - \u001b[4m\u001b[97mINFO\u001b[0m - Epoch(val) [6][9/9]    accuracy/top1: 47.7941  accuracy/top5: 93.0147  data_time: 0.1220  time: 0.2066\n",
            "02/17 18:46:15 - mmengine - \u001b[4m\u001b[97mINFO\u001b[0m - Exp name: newconfig_20240217_184300\n",
            "02/17 18:46:15 - mmengine - \u001b[4m\u001b[97mINFO\u001b[0m - Epoch(train)   [7][34/34]  lr: 1.0000e-01  eta: 0:33:22  time: 0.3034  data_time: 0.0012  memory: 2986  loss: 1.5666\n",
            "02/17 18:46:15 - mmengine - \u001b[4m\u001b[97mINFO\u001b[0m - Saving checkpoint at 7 epochs\n",
            "02/17 18:46:18 - mmengine - \u001b[4m\u001b[97mINFO\u001b[0m - Epoch(val) [7][9/9]    accuracy/top1: 55.8824  accuracy/top5: 93.7500  data_time: 0.1357  time: 0.2231\n",
            "02/17 18:46:30 - mmengine - \u001b[4m\u001b[97mINFO\u001b[0m - Exp name: newconfig_20240217_184300\n",
            "02/17 18:46:30 - mmengine - \u001b[4m\u001b[97mINFO\u001b[0m - Epoch(train)   [8][34/34]  lr: 1.0000e-01  eta: 0:31:07  time: 0.3054  data_time: 0.0009  memory: 2986  loss: 1.6107\n",
            "02/17 18:46:30 - mmengine - \u001b[4m\u001b[97mINFO\u001b[0m - Saving checkpoint at 8 epochs\n",
            "02/17 18:46:33 - mmengine - \u001b[4m\u001b[97mINFO\u001b[0m - Epoch(val) [8][9/9]    accuracy/top1: 54.7794  accuracy/top5: 90.4412  data_time: 0.1326  time: 0.2216\n",
            "02/17 18:46:45 - mmengine - \u001b[4m\u001b[97mINFO\u001b[0m - Exp name: newconfig_20240217_184300\n",
            "02/17 18:46:45 - mmengine - \u001b[4m\u001b[97mINFO\u001b[0m - Epoch(train)   [9][34/34]  lr: 1.0000e-01  eta: 0:29:24  time: 0.3176  data_time: 0.0011  memory: 2986  loss: 1.4842\n",
            "02/17 18:46:45 - mmengine - \u001b[4m\u001b[97mINFO\u001b[0m - Saving checkpoint at 9 epochs\n",
            "02/17 18:46:48 - mmengine - \u001b[4m\u001b[97mINFO\u001b[0m - Epoch(val) [9][9/9]    accuracy/top1: 50.3676  accuracy/top5: 91.1765  data_time: 0.1455  time: 0.2337\n",
            "02/17 18:47:00 - mmengine - \u001b[4m\u001b[97mINFO\u001b[0m - Exp name: newconfig_20240217_184300\n",
            "02/17 18:47:00 - mmengine - \u001b[4m\u001b[97mINFO\u001b[0m - Epoch(train)  [10][34/34]  lr: 1.0000e-01  eta: 0:27:58  time: 0.3056  data_time: 0.0007  memory: 2986  loss: 1.4314\n",
            "02/17 18:47:00 - mmengine - \u001b[4m\u001b[97mINFO\u001b[0m - Saving checkpoint at 10 epochs\n",
            "02/17 18:47:03 - mmengine - \u001b[4m\u001b[97mINFO\u001b[0m - Epoch(val) [10][9/9]    accuracy/top1: 48.8971  accuracy/top5: 93.7500  data_time: 0.1463  time: 0.2336\n",
            "02/17 18:47:15 - mmengine - \u001b[4m\u001b[97mINFO\u001b[0m - Exp name: newconfig_20240217_184300\n",
            "02/17 18:47:15 - mmengine - \u001b[4m\u001b[97mINFO\u001b[0m - Epoch(train)  [11][34/34]  lr: 1.0000e-01  eta: 0:26:45  time: 0.3053  data_time: 0.0008  memory: 2986  loss: 1.2268\n",
            "02/17 18:47:15 - mmengine - \u001b[4m\u001b[97mINFO\u001b[0m - Saving checkpoint at 11 epochs\n",
            "02/17 18:47:19 - mmengine - \u001b[4m\u001b[97mINFO\u001b[0m - Epoch(val) [11][9/9]    accuracy/top1: 51.4706  accuracy/top5: 90.8088  data_time: 0.1513  time: 0.2406\n",
            "02/17 18:47:31 - mmengine - \u001b[4m\u001b[97mINFO\u001b[0m - Exp name: newconfig_20240217_184300\n",
            "02/17 18:47:31 - mmengine - \u001b[4m\u001b[97mINFO\u001b[0m - Epoch(train)  [12][34/34]  lr: 1.0000e-01  eta: 0:25:45  time: 0.3054  data_time: 0.0008  memory: 2986  loss: 1.3383\n",
            "02/17 18:47:31 - mmengine - \u001b[4m\u001b[97mINFO\u001b[0m - Saving checkpoint at 12 epochs\n",
            "02/17 18:47:34 - mmengine - \u001b[4m\u001b[97mINFO\u001b[0m - Epoch(val) [12][9/9]    accuracy/top1: 60.2941  accuracy/top5: 93.3824  data_time: 0.1234  time: 0.2073\n",
            "02/17 18:47:46 - mmengine - \u001b[4m\u001b[97mINFO\u001b[0m - Exp name: newconfig_20240217_184300\n",
            "02/17 18:47:46 - mmengine - \u001b[4m\u001b[97mINFO\u001b[0m - Epoch(train)  [13][34/34]  lr: 1.0000e-01  eta: 0:24:54  time: 0.3070  data_time: 0.0008  memory: 2986  loss: 1.3270\n",
            "02/17 18:47:46 - mmengine - \u001b[4m\u001b[97mINFO\u001b[0m - Saving checkpoint at 13 epochs\n",
            "02/17 18:47:50 - mmengine - \u001b[4m\u001b[97mINFO\u001b[0m - Epoch(val) [13][9/9]    accuracy/top1: 63.2353  accuracy/top5: 94.4853  data_time: 0.2020  time: 0.3016\n",
            "02/17 18:48:02 - mmengine - \u001b[4m\u001b[97mINFO\u001b[0m - Exp name: newconfig_20240217_184300\n",
            "02/17 18:48:02 - mmengine - \u001b[4m\u001b[97mINFO\u001b[0m - Epoch(train)  [14][34/34]  lr: 1.0000e-01  eta: 0:24:06  time: 0.3083  data_time: 0.0008  memory: 2986  loss: 1.4051\n",
            "02/17 18:48:02 - mmengine - \u001b[4m\u001b[97mINFO\u001b[0m - Saving checkpoint at 14 epochs\n",
            "02/17 18:48:06 - mmengine - \u001b[4m\u001b[97mINFO\u001b[0m - Epoch(val) [14][9/9]    accuracy/top1: 49.2647  accuracy/top5: 91.5441  data_time: 0.1878  time: 0.2785\n",
            "02/17 18:48:17 - mmengine - \u001b[4m\u001b[97mINFO\u001b[0m - Exp name: newconfig_20240217_184300\n",
            "02/17 18:48:17 - mmengine - \u001b[4m\u001b[97mINFO\u001b[0m - Epoch(train)  [15][34/34]  lr: 1.0000e-01  eta: 0:23:18  time: 0.3081  data_time: 0.0009  memory: 2986  loss: 1.3078\n",
            "02/17 18:48:17 - mmengine - \u001b[4m\u001b[97mINFO\u001b[0m - Saving checkpoint at 15 epochs\n",
            "02/17 18:48:21 - mmengine - \u001b[4m\u001b[97mINFO\u001b[0m - Epoch(val) [15][9/9]    accuracy/top1: 61.7647  accuracy/top5: 94.1176  data_time: 0.1420  time: 0.2321\n",
            "02/17 18:48:32 - mmengine - \u001b[4m\u001b[97mINFO\u001b[0m - Exp name: newconfig_20240217_184300\n",
            "02/17 18:48:32 - mmengine - \u001b[4m\u001b[97mINFO\u001b[0m - Epoch(train)  [16][34/34]  lr: 1.0000e-01  eta: 0:22:36  time: 0.3096  data_time: 0.0010  memory: 2986  loss: 1.3083\n",
            "02/17 18:48:32 - mmengine - \u001b[4m\u001b[97mINFO\u001b[0m - Saving checkpoint at 16 epochs\n",
            "02/17 18:48:35 - mmengine - \u001b[4m\u001b[97mINFO\u001b[0m - Epoch(val) [16][9/9]    accuracy/top1: 52.9412  accuracy/top5: 92.2794  data_time: 0.1224  time: 0.2058\n",
            "02/17 18:48:47 - mmengine - \u001b[4m\u001b[97mINFO\u001b[0m - Exp name: newconfig_20240217_184300\n",
            "02/17 18:48:47 - mmengine - \u001b[4m\u001b[97mINFO\u001b[0m - Epoch(train)  [17][34/34]  lr: 1.0000e-01  eta: 0:21:58  time: 0.3108  data_time: 0.0010  memory: 2986  loss: 1.1577\n",
            "02/17 18:48:47 - mmengine - \u001b[4m\u001b[97mINFO\u001b[0m - Saving checkpoint at 17 epochs\n",
            "02/17 18:48:50 - mmengine - \u001b[4m\u001b[97mINFO\u001b[0m - Epoch(val) [17][9/9]    accuracy/top1: 65.8088  accuracy/top5: 95.2206  data_time: 0.1369  time: 0.2242\n",
            "02/17 18:49:02 - mmengine - \u001b[4m\u001b[97mINFO\u001b[0m - Exp name: newconfig_20240217_184300\n",
            "02/17 18:49:02 - mmengine - \u001b[4m\u001b[97mINFO\u001b[0m - Epoch(train)  [18][34/34]  lr: 1.0000e-01  eta: 0:21:25  time: 0.3298  data_time: 0.0017  memory: 2986  loss: 1.3173\n",
            "02/17 18:49:02 - mmengine - \u001b[4m\u001b[97mINFO\u001b[0m - Saving checkpoint at 18 epochs\n",
            "02/17 18:49:05 - mmengine - \u001b[4m\u001b[97mINFO\u001b[0m - Epoch(val) [18][9/9]    accuracy/top1: 58.0882  accuracy/top5: 96.3235  data_time: 0.1422  time: 0.2299\n",
            "02/17 18:49:17 - mmengine - \u001b[4m\u001b[97mINFO\u001b[0m - Exp name: newconfig_20240217_184300\n",
            "02/17 18:49:17 - mmengine - \u001b[4m\u001b[97mINFO\u001b[0m - Epoch(train)  [19][34/34]  lr: 1.0000e-01  eta: 0:20:52  time: 0.3116  data_time: 0.0009  memory: 2986  loss: 1.1407\n",
            "02/17 18:49:17 - mmengine - \u001b[4m\u001b[97mINFO\u001b[0m - Saving checkpoint at 19 epochs\n",
            "02/17 18:49:20 - mmengine - \u001b[4m\u001b[97mINFO\u001b[0m - Epoch(val) [19][9/9]    accuracy/top1: 63.6029  accuracy/top5: 95.5882  data_time: 0.1218  time: 0.2134\n",
            "02/17 18:49:32 - mmengine - \u001b[4m\u001b[97mINFO\u001b[0m - Exp name: newconfig_20240217_184300\n",
            "02/17 18:49:32 - mmengine - \u001b[4m\u001b[97mINFO\u001b[0m - Epoch(train)  [20][34/34]  lr: 1.0000e-01  eta: 0:20:22  time: 0.3120  data_time: 0.0024  memory: 2986  loss: 1.0768\n",
            "02/17 18:49:32 - mmengine - \u001b[4m\u001b[97mINFO\u001b[0m - Saving checkpoint at 20 epochs\n",
            "02/17 18:49:35 - mmengine - \u001b[4m\u001b[97mINFO\u001b[0m - Epoch(val) [20][9/9]    accuracy/top1: 66.1765  accuracy/top5: 97.0588  data_time: 0.1362  time: 0.2297\n",
            "02/17 18:49:47 - mmengine - \u001b[4m\u001b[97mINFO\u001b[0m - Exp name: newconfig_20240217_184300\n",
            "02/17 18:49:47 - mmengine - \u001b[4m\u001b[97mINFO\u001b[0m - Epoch(train)  [21][34/34]  lr: 1.0000e-01  eta: 0:19:54  time: 0.3146  data_time: 0.0010  memory: 2986  loss: 1.2491\n",
            "02/17 18:49:47 - mmengine - \u001b[4m\u001b[97mINFO\u001b[0m - Saving checkpoint at 21 epochs\n",
            "02/17 18:49:50 - mmengine - \u001b[4m\u001b[97mINFO\u001b[0m - Epoch(val) [21][9/9]    accuracy/top1: 61.7647  accuracy/top5: 93.3824  data_time: 0.1413  time: 0.2295\n",
            "02/17 18:50:02 - mmengine - \u001b[4m\u001b[97mINFO\u001b[0m - Exp name: newconfig_20240217_184300\n",
            "02/17 18:50:02 - mmengine - \u001b[4m\u001b[97mINFO\u001b[0m - Epoch(train)  [22][34/34]  lr: 1.0000e-01  eta: 0:19:28  time: 0.3122  data_time: 0.0008  memory: 2986  loss: 1.0520\n",
            "02/17 18:50:02 - mmengine - \u001b[4m\u001b[97mINFO\u001b[0m - Saving checkpoint at 22 epochs\n",
            "02/17 18:50:05 - mmengine - \u001b[4m\u001b[97mINFO\u001b[0m - Epoch(val) [22][9/9]    accuracy/top1: 68.0147  accuracy/top5: 96.3235  data_time: 0.1435  time: 0.2358\n",
            "02/17 18:50:17 - mmengine - \u001b[4m\u001b[97mINFO\u001b[0m - Exp name: newconfig_20240217_184300\n",
            "02/17 18:50:17 - mmengine - \u001b[4m\u001b[97mINFO\u001b[0m - Epoch(train)  [23][34/34]  lr: 1.0000e-01  eta: 0:19:03  time: 0.3123  data_time: 0.0008  memory: 2986  loss: 1.0155\n",
            "02/17 18:50:17 - mmengine - \u001b[4m\u001b[97mINFO\u001b[0m - Saving checkpoint at 23 epochs\n",
            "02/17 18:50:20 - mmengine - \u001b[4m\u001b[97mINFO\u001b[0m - Epoch(val) [23][9/9]    accuracy/top1: 68.3824  accuracy/top5: 95.2206  data_time: 0.1480  time: 0.2389\n",
            "02/17 18:50:33 - mmengine - \u001b[4m\u001b[97mINFO\u001b[0m - Exp name: newconfig_20240217_184300\n",
            "02/17 18:50:33 - mmengine - \u001b[4m\u001b[97mINFO\u001b[0m - Epoch(train)  [24][34/34]  lr: 1.0000e-01  eta: 0:18:40  time: 0.3127  data_time: 0.0008  memory: 2986  loss: 1.0458\n",
            "02/17 18:50:33 - mmengine - \u001b[4m\u001b[97mINFO\u001b[0m - Saving checkpoint at 24 epochs\n",
            "02/17 18:50:35 - mmengine - \u001b[4m\u001b[97mINFO\u001b[0m - Epoch(val) [24][9/9]    accuracy/top1: 63.9706  accuracy/top5: 97.4265  data_time: 0.1126  time: 0.2012\n",
            "02/17 18:50:47 - mmengine - \u001b[4m\u001b[97mINFO\u001b[0m - Exp name: newconfig_20240217_184300\n",
            "02/17 18:50:47 - mmengine - \u001b[4m\u001b[97mINFO\u001b[0m - Epoch(train)  [25][34/34]  lr: 1.0000e-01  eta: 0:18:17  time: 0.3120  data_time: 0.0008  memory: 2986  loss: 0.9771\n",
            "02/17 18:50:47 - mmengine - \u001b[4m\u001b[97mINFO\u001b[0m - Saving checkpoint at 25 epochs\n",
            "02/17 18:50:50 - mmengine - \u001b[4m\u001b[97mINFO\u001b[0m - Epoch(val) [25][9/9]    accuracy/top1: 54.4118  accuracy/top5: 92.2794  data_time: 0.1203  time: 0.2093\n",
            "02/17 18:51:03 - mmengine - \u001b[4m\u001b[97mINFO\u001b[0m - Exp name: newconfig_20240217_184300\n",
            "02/17 18:51:03 - mmengine - \u001b[4m\u001b[97mINFO\u001b[0m - Epoch(train)  [26][34/34]  lr: 1.0000e-01  eta: 0:17:56  time: 0.3120  data_time: 0.0008  memory: 2986  loss: 0.9183\n",
            "02/17 18:51:03 - mmengine - \u001b[4m\u001b[97mINFO\u001b[0m - Saving checkpoint at 26 epochs\n",
            "02/17 18:51:06 - mmengine - \u001b[4m\u001b[97mINFO\u001b[0m - Epoch(val) [26][9/9]    accuracy/top1: 61.3971  accuracy/top5: 97.7941  data_time: 0.1524  time: 0.2343\n",
            "02/17 18:51:19 - mmengine - \u001b[4m\u001b[97mINFO\u001b[0m - Exp name: newconfig_20240217_184300\n",
            "02/17 18:51:19 - mmengine - \u001b[4m\u001b[97mINFO\u001b[0m - Epoch(train)  [27][34/34]  lr: 1.0000e-01  eta: 0:17:38  time: 0.3120  data_time: 0.0011  memory: 2986  loss: 0.9221\n",
            "02/17 18:51:19 - mmengine - \u001b[4m\u001b[97mINFO\u001b[0m - Saving checkpoint at 27 epochs\n",
            "02/17 18:51:23 - mmengine - \u001b[4m\u001b[97mINFO\u001b[0m - Epoch(val) [27][9/9]    accuracy/top1: 64.7059  accuracy/top5: 95.5882  data_time: 0.2010  time: 0.2921\n",
            "02/17 18:51:35 - mmengine - \u001b[4m\u001b[97mINFO\u001b[0m - Exp name: newconfig_20240217_184300\n",
            "02/17 18:51:35 - mmengine - \u001b[4m\u001b[97mINFO\u001b[0m - Epoch(train)  [28][34/34]  lr: 1.0000e-01  eta: 0:17:16  time: 0.3119  data_time: 0.0009  memory: 2986  loss: 1.0859\n",
            "02/17 18:51:35 - mmengine - \u001b[4m\u001b[97mINFO\u001b[0m - Saving checkpoint at 28 epochs\n",
            "02/17 18:51:38 - mmengine - \u001b[4m\u001b[97mINFO\u001b[0m - Epoch(val) [28][9/9]    accuracy/top1: 69.8529  accuracy/top5: 96.6912  data_time: 0.1353  time: 0.2219\n",
            "02/17 18:51:50 - mmengine - \u001b[4m\u001b[97mINFO\u001b[0m - Exp name: newconfig_20240217_184300\n",
            "02/17 18:51:50 - mmengine - \u001b[4m\u001b[97mINFO\u001b[0m - Epoch(train)  [29][34/34]  lr: 1.0000e-01  eta: 0:16:55  time: 0.3134  data_time: 0.0010  memory: 2986  loss: 1.0010\n",
            "02/17 18:51:50 - mmengine - \u001b[4m\u001b[97mINFO\u001b[0m - Saving checkpoint at 29 epochs\n",
            "02/17 18:51:53 - mmengine - \u001b[4m\u001b[97mINFO\u001b[0m - Epoch(val) [29][9/9]    accuracy/top1: 65.4412  accuracy/top5: 94.8529  data_time: 0.1466  time: 0.2355\n",
            "02/17 18:51:59 - mmengine - \u001b[4m\u001b[97mINFO\u001b[0m - Exp name: newconfig_20240217_184300\n",
            "02/17 18:52:05 - mmengine - \u001b[4m\u001b[97mINFO\u001b[0m - Exp name: newconfig_20240217_184300\n",
            "02/17 18:52:05 - mmengine - \u001b[4m\u001b[97mINFO\u001b[0m - Epoch(train)  [30][34/34]  lr: 1.0000e-01  eta: 0:16:35  time: 0.3141  data_time: 0.0011  memory: 2986  loss: 0.7428\n",
            "02/17 18:52:05 - mmengine - \u001b[4m\u001b[97mINFO\u001b[0m - Saving checkpoint at 30 epochs\n",
            "02/17 18:52:08 - mmengine - \u001b[4m\u001b[97mINFO\u001b[0m - Epoch(val) [30][9/9]    accuracy/top1: 68.7500  accuracy/top5: 97.4265  data_time: 0.1120  time: 0.1986\n",
            "02/17 18:52:20 - mmengine - \u001b[4m\u001b[97mINFO\u001b[0m - Exp name: newconfig_20240217_184300\n",
            "02/17 18:52:20 - mmengine - \u001b[4m\u001b[97mINFO\u001b[0m - Epoch(train)  [31][34/34]  lr: 1.0000e-02  eta: 0:16:15  time: 0.3134  data_time: 0.0013  memory: 2986  loss: 0.6711\n",
            "02/17 18:52:20 - mmengine - \u001b[4m\u001b[97mINFO\u001b[0m - Saving checkpoint at 31 epochs\n",
            "02/17 18:52:23 - mmengine - \u001b[4m\u001b[97mINFO\u001b[0m - Epoch(val) [31][9/9]    accuracy/top1: 77.9412  accuracy/top5: 97.7941  data_time: 0.1207  time: 0.2097\n",
            "02/17 18:52:34 - mmengine - \u001b[4m\u001b[97mINFO\u001b[0m - Exp name: newconfig_20240217_184300\n",
            "02/17 18:52:34 - mmengine - \u001b[4m\u001b[97mINFO\u001b[0m - Epoch(train)  [32][34/34]  lr: 1.0000e-02  eta: 0:15:56  time: 0.3160  data_time: 0.0009  memory: 2986  loss: 0.5291\n",
            "02/17 18:52:34 - mmengine - \u001b[4m\u001b[97mINFO\u001b[0m - Saving checkpoint at 32 epochs\n",
            "02/17 18:52:37 - mmengine - \u001b[4m\u001b[97mINFO\u001b[0m - Epoch(val) [32][9/9]    accuracy/top1: 79.7794  accuracy/top5: 97.0588  data_time: 0.0974  time: 0.1871\n",
            "02/17 18:52:49 - mmengine - \u001b[4m\u001b[97mINFO\u001b[0m - Exp name: newconfig_20240217_184300\n",
            "02/17 18:52:49 - mmengine - \u001b[4m\u001b[97mINFO\u001b[0m - Epoch(train)  [33][34/34]  lr: 1.0000e-02  eta: 0:15:38  time: 0.3136  data_time: 0.0008  memory: 2986  loss: 0.5845\n",
            "02/17 18:52:49 - mmengine - \u001b[4m\u001b[97mINFO\u001b[0m - Saving checkpoint at 33 epochs\n",
            "02/17 18:52:53 - mmengine - \u001b[4m\u001b[97mINFO\u001b[0m - Epoch(val) [33][9/9]    accuracy/top1: 79.7794  accuracy/top5: 97.4265  data_time: 0.1035  time: 0.1963\n",
            "02/17 18:53:05 - mmengine - \u001b[4m\u001b[97mINFO\u001b[0m - Exp name: newconfig_20240217_184300\n",
            "02/17 18:53:05 - mmengine - \u001b[4m\u001b[97mINFO\u001b[0m - Epoch(train)  [34][34/34]  lr: 1.0000e-02  eta: 0:15:20  time: 0.3134  data_time: 0.0008  memory: 2986  loss: 0.5544\n",
            "02/17 18:53:05 - mmengine - \u001b[4m\u001b[97mINFO\u001b[0m - Saving checkpoint at 34 epochs\n",
            "02/17 18:53:07 - mmengine - \u001b[4m\u001b[97mINFO\u001b[0m - Epoch(val) [34][9/9]    accuracy/top1: 78.6765  accuracy/top5: 98.1618  data_time: 0.1143  time: 0.1987\n",
            "02/17 18:53:20 - mmengine - \u001b[4m\u001b[97mINFO\u001b[0m - Exp name: newconfig_20240217_184300\n",
            "02/17 18:53:20 - mmengine - \u001b[4m\u001b[97mINFO\u001b[0m - Epoch(train)  [35][34/34]  lr: 1.0000e-02  eta: 0:15:03  time: 0.3138  data_time: 0.0012  memory: 2986  loss: 0.6419\n",
            "02/17 18:53:20 - mmengine - \u001b[4m\u001b[97mINFO\u001b[0m - Saving checkpoint at 35 epochs\n",
            "02/17 18:53:23 - mmengine - \u001b[4m\u001b[97mINFO\u001b[0m - Epoch(val) [35][9/9]    accuracy/top1: 78.6765  accuracy/top5: 97.0588  data_time: 0.1235  time: 0.2130\n",
            "02/17 18:53:36 - mmengine - \u001b[4m\u001b[97mINFO\u001b[0m - Exp name: newconfig_20240217_184300\n",
            "02/17 18:53:36 - mmengine - \u001b[4m\u001b[97mINFO\u001b[0m - Epoch(train)  [36][34/34]  lr: 1.0000e-02  eta: 0:14:48  time: 0.3152  data_time: 0.0009  memory: 2986  loss: 0.5042\n",
            "02/17 18:53:36 - mmengine - \u001b[4m\u001b[97mINFO\u001b[0m - Saving checkpoint at 36 epochs\n",
            "02/17 18:53:39 - mmengine - \u001b[4m\u001b[97mINFO\u001b[0m - Epoch(val) [36][9/9]    accuracy/top1: 80.5147  accuracy/top5: 97.4265  data_time: 0.1266  time: 0.2163\n",
            "02/17 18:53:51 - mmengine - \u001b[4m\u001b[97mINFO\u001b[0m - Exp name: newconfig_20240217_184300\n",
            "02/17 18:53:51 - mmengine - \u001b[4m\u001b[97mINFO\u001b[0m - Epoch(train)  [37][34/34]  lr: 1.0000e-02  eta: 0:14:31  time: 0.3147  data_time: 0.0008  memory: 2986  loss: 0.5679\n",
            "02/17 18:53:51 - mmengine - \u001b[4m\u001b[97mINFO\u001b[0m - Saving checkpoint at 37 epochs\n",
            "02/17 18:53:54 - mmengine - \u001b[4m\u001b[97mINFO\u001b[0m - Epoch(val) [37][9/9]    accuracy/top1: 81.9853  accuracy/top5: 97.7941  data_time: 0.1319  time: 0.2202\n",
            "02/17 18:54:06 - mmengine - \u001b[4m\u001b[97mINFO\u001b[0m - Exp name: newconfig_20240217_184300\n",
            "02/17 18:54:06 - mmengine - \u001b[4m\u001b[97mINFO\u001b[0m - Epoch(train)  [38][34/34]  lr: 1.0000e-02  eta: 0:14:15  time: 0.3131  data_time: 0.0008  memory: 2986  loss: 0.5312\n",
            "02/17 18:54:06 - mmengine - \u001b[4m\u001b[97mINFO\u001b[0m - Saving checkpoint at 38 epochs\n",
            "02/17 18:54:09 - mmengine - \u001b[4m\u001b[97mINFO\u001b[0m - Epoch(val) [38][9/9]    accuracy/top1: 79.7794  accuracy/top5: 97.7941  data_time: 0.1117  time: 0.1965\n",
            "02/17 18:54:22 - mmengine - \u001b[4m\u001b[97mINFO\u001b[0m - Exp name: newconfig_20240217_184300\n",
            "02/17 18:54:22 - mmengine - \u001b[4m\u001b[97mINFO\u001b[0m - Epoch(train)  [39][34/34]  lr: 1.0000e-02  eta: 0:13:59  time: 0.3126  data_time: 0.0008  memory: 2986  loss: 0.6043\n",
            "02/17 18:54:22 - mmengine - \u001b[4m\u001b[97mINFO\u001b[0m - Saving checkpoint at 39 epochs\n",
            "02/17 18:54:25 - mmengine - \u001b[4m\u001b[97mINFO\u001b[0m - Epoch(val) [39][9/9]    accuracy/top1: 80.1471  accuracy/top5: 98.1618  data_time: 0.1883  time: 0.2789\n",
            "02/17 18:54:38 - mmengine - \u001b[4m\u001b[97mINFO\u001b[0m - Exp name: newconfig_20240217_184300\n",
            "02/17 18:54:38 - mmengine - \u001b[4m\u001b[97mINFO\u001b[0m - Epoch(train)  [40][34/34]  lr: 1.0000e-02  eta: 0:13:43  time: 0.3128  data_time: 0.0008  memory: 2986  loss: 0.5562\n",
            "02/17 18:54:38 - mmengine - \u001b[4m\u001b[97mINFO\u001b[0m - Saving checkpoint at 40 epochs\n",
            "02/17 18:54:42 - mmengine - \u001b[4m\u001b[97mINFO\u001b[0m - Epoch(val) [40][9/9]    accuracy/top1: 80.5147  accuracy/top5: 98.1618  data_time: 0.1726  time: 0.2626\n",
            "02/17 18:54:53 - mmengine - \u001b[4m\u001b[97mINFO\u001b[0m - Exp name: newconfig_20240217_184300\n",
            "02/17 18:54:53 - mmengine - \u001b[4m\u001b[97mINFO\u001b[0m - Epoch(train)  [41][34/34]  lr: 1.0000e-02  eta: 0:13:27  time: 0.3131  data_time: 0.0009  memory: 2986  loss: 0.5901\n",
            "02/17 18:54:53 - mmengine - \u001b[4m\u001b[97mINFO\u001b[0m - Saving checkpoint at 41 epochs\n",
            "02/17 18:54:56 - mmengine - \u001b[4m\u001b[97mINFO\u001b[0m - Epoch(val) [41][9/9]    accuracy/top1: 80.1471  accuracy/top5: 97.7941  data_time: 0.1100  time: 0.2031\n",
            "02/17 18:55:08 - mmengine - \u001b[4m\u001b[97mINFO\u001b[0m - Exp name: newconfig_20240217_184300\n",
            "02/17 18:55:08 - mmengine - \u001b[4m\u001b[97mINFO\u001b[0m - Epoch(train)  [42][34/34]  lr: 1.0000e-02  eta: 0:13:10  time: 0.3138  data_time: 0.0011  memory: 2986  loss: 0.5284\n",
            "02/17 18:55:08 - mmengine - \u001b[4m\u001b[97mINFO\u001b[0m - Saving checkpoint at 42 epochs\n",
            "02/17 18:55:11 - mmengine - \u001b[4m\u001b[97mINFO\u001b[0m - Epoch(val) [42][9/9]    accuracy/top1: 81.2500  accuracy/top5: 97.7941  data_time: 0.1399  time: 0.2281\n",
            "02/17 18:55:23 - mmengine - \u001b[4m\u001b[97mINFO\u001b[0m - Exp name: newconfig_20240217_184300\n",
            "02/17 18:55:23 - mmengine - \u001b[4m\u001b[97mINFO\u001b[0m - Epoch(train)  [43][34/34]  lr: 1.0000e-02  eta: 0:12:54  time: 0.3149  data_time: 0.0011  memory: 2986  loss: 0.5197\n",
            "02/17 18:55:23 - mmengine - \u001b[4m\u001b[97mINFO\u001b[0m - Saving checkpoint at 43 epochs\n",
            "02/17 18:55:26 - mmengine - \u001b[4m\u001b[97mINFO\u001b[0m - Epoch(val) [43][9/9]    accuracy/top1: 80.8824  accuracy/top5: 97.4265  data_time: 0.1041  time: 0.1920\n",
            "02/17 18:55:38 - mmengine - \u001b[4m\u001b[97mINFO\u001b[0m - Exp name: newconfig_20240217_184300\n",
            "02/17 18:55:38 - mmengine - \u001b[4m\u001b[97mINFO\u001b[0m - Epoch(train)  [44][34/34]  lr: 1.0000e-02  eta: 0:12:38  time: 0.3152  data_time: 0.0009  memory: 2986  loss: 0.5010\n",
            "02/17 18:55:38 - mmengine - \u001b[4m\u001b[97mINFO\u001b[0m - Saving checkpoint at 44 epochs\n",
            "02/17 18:55:42 - mmengine - \u001b[4m\u001b[97mINFO\u001b[0m - Epoch(val) [44][9/9]    accuracy/top1: 81.2500  accuracy/top5: 97.7941  data_time: 0.2320  time: 0.3229\n",
            "02/17 18:55:54 - mmengine - \u001b[4m\u001b[97mINFO\u001b[0m - Exp name: newconfig_20240217_184300\n",
            "02/17 18:55:54 - mmengine - \u001b[4m\u001b[97mINFO\u001b[0m - Epoch(train)  [45][34/34]  lr: 1.0000e-02  eta: 0:12:23  time: 0.3127  data_time: 0.0007  memory: 2986  loss: 0.6016\n",
            "02/17 18:55:54 - mmengine - \u001b[4m\u001b[97mINFO\u001b[0m - Saving checkpoint at 45 epochs\n",
            "02/17 18:55:57 - mmengine - \u001b[4m\u001b[97mINFO\u001b[0m - Epoch(val) [45][9/9]    accuracy/top1: 80.1471  accuracy/top5: 97.4265  data_time: 0.1201  time: 0.2110\n",
            "02/17 18:56:09 - mmengine - \u001b[4m\u001b[97mINFO\u001b[0m - Exp name: newconfig_20240217_184300\n",
            "02/17 18:56:09 - mmengine - \u001b[4m\u001b[97mINFO\u001b[0m - Epoch(train)  [46][34/34]  lr: 1.0000e-02  eta: 0:12:08  time: 0.3151  data_time: 0.0009  memory: 2986  loss: 0.4847\n",
            "02/17 18:56:09 - mmengine - \u001b[4m\u001b[97mINFO\u001b[0m - Saving checkpoint at 46 epochs\n",
            "02/17 18:56:12 - mmengine - \u001b[4m\u001b[97mINFO\u001b[0m - Epoch(val) [46][9/9]    accuracy/top1: 81.2500  accuracy/top5: 98.1618  data_time: 0.1217  time: 0.2113\n",
            "02/17 18:56:24 - mmengine - \u001b[4m\u001b[97mINFO\u001b[0m - Exp name: newconfig_20240217_184300\n",
            "02/17 18:56:24 - mmengine - \u001b[4m\u001b[97mINFO\u001b[0m - Epoch(train)  [47][34/34]  lr: 1.0000e-02  eta: 0:11:53  time: 0.3134  data_time: 0.0008  memory: 2986  loss: 0.5246\n",
            "02/17 18:56:24 - mmengine - \u001b[4m\u001b[97mINFO\u001b[0m - Saving checkpoint at 47 epochs\n",
            "02/17 18:56:27 - mmengine - \u001b[4m\u001b[97mINFO\u001b[0m - Epoch(val) [47][9/9]    accuracy/top1: 81.6176  accuracy/top5: 98.1618  data_time: 0.1315  time: 0.2203\n",
            "02/17 18:56:40 - mmengine - \u001b[4m\u001b[97mINFO\u001b[0m - Exp name: newconfig_20240217_184300\n",
            "02/17 18:56:40 - mmengine - \u001b[4m\u001b[97mINFO\u001b[0m - Epoch(train)  [48][34/34]  lr: 1.0000e-02  eta: 0:11:38  time: 0.3129  data_time: 0.0007  memory: 2986  loss: 0.4975\n",
            "02/17 18:56:40 - mmengine - \u001b[4m\u001b[97mINFO\u001b[0m - Saving checkpoint at 48 epochs\n",
            "02/17 18:56:43 - mmengine - \u001b[4m\u001b[97mINFO\u001b[0m - Epoch(val) [48][9/9]    accuracy/top1: 82.3529  accuracy/top5: 98.1618  data_time: 0.1508  time: 0.2421\n",
            "02/17 18:56:56 - mmengine - \u001b[4m\u001b[97mINFO\u001b[0m - Exp name: newconfig_20240217_184300\n",
            "02/17 18:56:56 - mmengine - \u001b[4m\u001b[97mINFO\u001b[0m - Epoch(train)  [49][34/34]  lr: 1.0000e-02  eta: 0:11:24  time: 0.3133  data_time: 0.0009  memory: 2986  loss: 0.5561\n",
            "02/17 18:56:56 - mmengine - \u001b[4m\u001b[97mINFO\u001b[0m - Saving checkpoint at 49 epochs\n",
            "02/17 18:57:00 - mmengine - \u001b[4m\u001b[97mINFO\u001b[0m - Epoch(val) [49][9/9]    accuracy/top1: 81.9853  accuracy/top5: 98.1618  data_time: 0.2485  time: 0.3426\n",
            "02/17 18:57:12 - mmengine - \u001b[4m\u001b[97mINFO\u001b[0m - Exp name: newconfig_20240217_184300\n",
            "02/17 18:57:12 - mmengine - \u001b[4m\u001b[97mINFO\u001b[0m - Epoch(train)  [50][34/34]  lr: 1.0000e-02  eta: 0:11:09  time: 0.3124  data_time: 0.0009  memory: 2986  loss: 0.5160\n",
            "02/17 18:57:12 - mmengine - \u001b[4m\u001b[97mINFO\u001b[0m - Saving checkpoint at 50 epochs\n",
            "02/17 18:57:15 - mmengine - \u001b[4m\u001b[97mINFO\u001b[0m - Epoch(val) [50][9/9]    accuracy/top1: 81.2500  accuracy/top5: 98.5294  data_time: 0.1261  time: 0.2150\n",
            "02/17 18:57:27 - mmengine - \u001b[4m\u001b[97mINFO\u001b[0m - Exp name: newconfig_20240217_184300\n",
            "02/17 18:57:27 - mmengine - \u001b[4m\u001b[97mINFO\u001b[0m - Epoch(train)  [51][34/34]  lr: 1.0000e-02  eta: 0:10:54  time: 0.3136  data_time: 0.0009  memory: 2986  loss: 0.4294\n",
            "02/17 18:57:27 - mmengine - \u001b[4m\u001b[97mINFO\u001b[0m - Saving checkpoint at 51 epochs\n",
            "02/17 18:57:30 - mmengine - \u001b[4m\u001b[97mINFO\u001b[0m - Epoch(val) [51][9/9]    accuracy/top1: 77.9412  accuracy/top5: 97.4265  data_time: 0.1576  time: 0.2446\n",
            "02/17 18:57:42 - mmengine - \u001b[4m\u001b[97mINFO\u001b[0m - Exp name: newconfig_20240217_184300\n",
            "02/17 18:57:42 - mmengine - \u001b[4m\u001b[97mINFO\u001b[0m - Epoch(train)  [52][34/34]  lr: 1.0000e-02  eta: 0:10:39  time: 0.3171  data_time: 0.0011  memory: 2986  loss: 0.4612\n",
            "02/17 18:57:42 - mmengine - \u001b[4m\u001b[97mINFO\u001b[0m - Saving checkpoint at 52 epochs\n",
            "02/17 18:57:45 - mmengine - \u001b[4m\u001b[97mINFO\u001b[0m - Epoch(val) [52][9/9]    accuracy/top1: 82.3529  accuracy/top5: 97.4265  data_time: 0.1159  time: 0.2078\n",
            "02/17 18:57:57 - mmengine - \u001b[4m\u001b[97mINFO\u001b[0m - Exp name: newconfig_20240217_184300\n",
            "02/17 18:57:57 - mmengine - \u001b[4m\u001b[97mINFO\u001b[0m - Epoch(train)  [53][34/34]  lr: 1.0000e-02  eta: 0:10:25  time: 0.3236  data_time: 0.0029  memory: 2986  loss: 0.4521\n",
            "02/17 18:57:57 - mmengine - \u001b[4m\u001b[97mINFO\u001b[0m - Saving checkpoint at 53 epochs\n",
            "02/17 18:58:00 - mmengine - \u001b[4m\u001b[97mINFO\u001b[0m - Epoch(val) [53][9/9]    accuracy/top1: 82.3529  accuracy/top5: 98.1618  data_time: 0.1370  time: 0.2293\n",
            "02/17 18:58:12 - mmengine - \u001b[4m\u001b[97mINFO\u001b[0m - Exp name: newconfig_20240217_184300\n",
            "02/17 18:58:12 - mmengine - \u001b[4m\u001b[97mINFO\u001b[0m - Epoch(train)  [54][34/34]  lr: 1.0000e-02  eta: 0:10:10  time: 0.3161  data_time: 0.0014  memory: 2986  loss: 0.4961\n",
            "02/17 18:58:12 - mmengine - \u001b[4m\u001b[97mINFO\u001b[0m - Saving checkpoint at 54 epochs\n",
            "02/17 18:58:16 - mmengine - \u001b[4m\u001b[97mINFO\u001b[0m - Epoch(val) [54][9/9]    accuracy/top1: 81.6176  accuracy/top5: 98.1618  data_time: 0.1395  time: 0.2318\n",
            "02/17 18:58:28 - mmengine - \u001b[4m\u001b[97mINFO\u001b[0m - Exp name: newconfig_20240217_184300\n",
            "02/17 18:58:28 - mmengine - \u001b[4m\u001b[97mINFO\u001b[0m - Epoch(train)  [55][34/34]  lr: 1.0000e-02  eta: 0:09:56  time: 0.3140  data_time: 0.0008  memory: 2986  loss: 0.4142\n",
            "02/17 18:58:28 - mmengine - \u001b[4m\u001b[97mINFO\u001b[0m - Saving checkpoint at 55 epochs\n",
            "02/17 18:58:30 - mmengine - \u001b[4m\u001b[97mINFO\u001b[0m - Epoch(val) [55][9/9]    accuracy/top1: 79.4118  accuracy/top5: 97.4265  data_time: 0.1201  time: 0.2114\n",
            "02/17 18:58:42 - mmengine - \u001b[4m\u001b[97mINFO\u001b[0m - Exp name: newconfig_20240217_184300\n",
            "02/17 18:58:42 - mmengine - \u001b[4m\u001b[97mINFO\u001b[0m - Epoch(train)  [56][34/34]  lr: 1.0000e-02  eta: 0:09:42  time: 0.3153  data_time: 0.0010  memory: 2986  loss: 0.4720\n",
            "02/17 18:58:42 - mmengine - \u001b[4m\u001b[97mINFO\u001b[0m - Saving checkpoint at 56 epochs\n",
            "02/17 18:58:45 - mmengine - \u001b[4m\u001b[97mINFO\u001b[0m - Epoch(val) [56][9/9]    accuracy/top1: 82.7206  accuracy/top5: 98.1618  data_time: 0.1208  time: 0.2105\n",
            "02/17 18:58:58 - mmengine - \u001b[4m\u001b[97mINFO\u001b[0m - Exp name: newconfig_20240217_184300\n",
            "02/17 18:58:58 - mmengine - \u001b[4m\u001b[97mINFO\u001b[0m - Epoch(train)  [57][34/34]  lr: 1.0000e-02  eta: 0:09:28  time: 0.3135  data_time: 0.0008  memory: 2986  loss: 0.4284\n",
            "02/17 18:58:58 - mmengine - \u001b[4m\u001b[97mINFO\u001b[0m - Saving checkpoint at 57 epochs\n",
            "02/17 18:59:01 - mmengine - \u001b[4m\u001b[97mINFO\u001b[0m - Epoch(val) [57][9/9]    accuracy/top1: 83.0882  accuracy/top5: 97.4265  data_time: 0.1301  time: 0.2202\n",
            "02/17 18:59:13 - mmengine - \u001b[4m\u001b[97mINFO\u001b[0m - Exp name: newconfig_20240217_184300\n",
            "02/17 18:59:13 - mmengine - \u001b[4m\u001b[97mINFO\u001b[0m - Epoch(train)  [58][34/34]  lr: 1.0000e-02  eta: 0:09:14  time: 0.3134  data_time: 0.0008  memory: 2986  loss: 0.4132\n",
            "02/17 18:59:13 - mmengine - \u001b[4m\u001b[97mINFO\u001b[0m - Saving checkpoint at 58 epochs\n",
            "02/17 18:59:16 - mmengine - \u001b[4m\u001b[97mINFO\u001b[0m - Epoch(val) [58][9/9]    accuracy/top1: 81.9853  accuracy/top5: 98.5294  data_time: 0.1322  time: 0.2213\n",
            "02/17 18:59:26 - mmengine - \u001b[4m\u001b[97mINFO\u001b[0m - Exp name: newconfig_20240217_184300\n",
            "02/17 18:59:28 - mmengine - \u001b[4m\u001b[97mINFO\u001b[0m - Exp name: newconfig_20240217_184300\n",
            "02/17 18:59:28 - mmengine - \u001b[4m\u001b[97mINFO\u001b[0m - Epoch(train)  [59][34/34]  lr: 1.0000e-02  eta: 0:09:00  time: 0.3138  data_time: 0.0009  memory: 2986  loss: 0.4245\n",
            "02/17 18:59:28 - mmengine - \u001b[4m\u001b[97mINFO\u001b[0m - Saving checkpoint at 59 epochs\n",
            "02/17 18:59:31 - mmengine - \u001b[4m\u001b[97mINFO\u001b[0m - Epoch(val) [59][9/9]    accuracy/top1: 80.8824  accuracy/top5: 98.1618  data_time: 0.1264  time: 0.2194\n",
            "02/17 18:59:43 - mmengine - \u001b[4m\u001b[97mINFO\u001b[0m - Exp name: newconfig_20240217_184300\n",
            "02/17 18:59:43 - mmengine - \u001b[4m\u001b[97mINFO\u001b[0m - Epoch(train)  [60][34/34]  lr: 1.0000e-02  eta: 0:08:46  time: 0.3135  data_time: 0.0008  memory: 2986  loss: 0.4671\n",
            "02/17 18:59:43 - mmengine - \u001b[4m\u001b[97mINFO\u001b[0m - Saving checkpoint at 60 epochs\n",
            "02/17 18:59:47 - mmengine - \u001b[4m\u001b[97mINFO\u001b[0m - Epoch(val) [60][9/9]    accuracy/top1: 81.9853  accuracy/top5: 98.1618  data_time: 0.2194  time: 0.3200\n",
            "02/17 19:00:00 - mmengine - \u001b[4m\u001b[97mINFO\u001b[0m - Exp name: newconfig_20240217_184300\n",
            "02/17 19:00:00 - mmengine - \u001b[4m\u001b[97mINFO\u001b[0m - Epoch(train)  [61][34/34]  lr: 1.0000e-03  eta: 0:08:33  time: 0.3135  data_time: 0.0008  memory: 2986  loss: 0.4420\n",
            "02/17 19:00:00 - mmengine - \u001b[4m\u001b[97mINFO\u001b[0m - Saving checkpoint at 61 epochs\n",
            "02/17 19:00:04 - mmengine - \u001b[4m\u001b[97mINFO\u001b[0m - Epoch(val) [61][9/9]    accuracy/top1: 81.9853  accuracy/top5: 97.7941  data_time: 0.1643  time: 0.2544\n",
            "02/17 19:00:16 - mmengine - \u001b[4m\u001b[97mINFO\u001b[0m - Exp name: newconfig_20240217_184300\n",
            "02/17 19:00:16 - mmengine - \u001b[4m\u001b[97mINFO\u001b[0m - Epoch(train)  [62][34/34]  lr: 1.0000e-03  eta: 0:08:19  time: 0.3145  data_time: 0.0015  memory: 2986  loss: 0.3870\n",
            "02/17 19:00:16 - mmengine - \u001b[4m\u001b[97mINFO\u001b[0m - Saving checkpoint at 62 epochs\n",
            "02/17 19:00:19 - mmengine - \u001b[4m\u001b[97mINFO\u001b[0m - Epoch(val) [62][9/9]    accuracy/top1: 82.7206  accuracy/top5: 98.1618  data_time: 0.1261  time: 0.2142\n",
            "02/17 19:00:31 - mmengine - \u001b[4m\u001b[97mINFO\u001b[0m - Exp name: newconfig_20240217_184300\n",
            "02/17 19:00:31 - mmengine - \u001b[4m\u001b[97mINFO\u001b[0m - Epoch(train)  [63][34/34]  lr: 1.0000e-03  eta: 0:08:05  time: 0.3135  data_time: 0.0010  memory: 2986  loss: 0.4135\n",
            "02/17 19:00:31 - mmengine - \u001b[4m\u001b[97mINFO\u001b[0m - Saving checkpoint at 63 epochs\n",
            "02/17 19:00:34 - mmengine - \u001b[4m\u001b[97mINFO\u001b[0m - Epoch(val) [63][9/9]    accuracy/top1: 81.6176  accuracy/top5: 98.1618  data_time: 0.1248  time: 0.2122\n",
            "02/17 19:00:45 - mmengine - \u001b[4m\u001b[97mINFO\u001b[0m - Exp name: newconfig_20240217_184300\n",
            "02/17 19:00:45 - mmengine - \u001b[4m\u001b[97mINFO\u001b[0m - Epoch(train)  [64][34/34]  lr: 1.0000e-03  eta: 0:07:51  time: 0.3155  data_time: 0.0021  memory: 2986  loss: 0.4566\n",
            "02/17 19:00:45 - mmengine - \u001b[4m\u001b[97mINFO\u001b[0m - Saving checkpoint at 64 epochs\n",
            "02/17 19:00:48 - mmengine - \u001b[4m\u001b[97mINFO\u001b[0m - Epoch(val) [64][9/9]    accuracy/top1: 81.9853  accuracy/top5: 97.7941  data_time: 0.1104  time: 0.1993\n",
            "02/17 19:01:00 - mmengine - \u001b[4m\u001b[97mINFO\u001b[0m - Exp name: newconfig_20240217_184300\n",
            "02/17 19:01:00 - mmengine - \u001b[4m\u001b[97mINFO\u001b[0m - Epoch(train)  [65][34/34]  lr: 1.0000e-03  eta: 0:07:37  time: 0.3192  data_time: 0.0012  memory: 2986  loss: 0.4478\n",
            "02/17 19:01:00 - mmengine - \u001b[4m\u001b[97mINFO\u001b[0m - Saving checkpoint at 65 epochs\n",
            "02/17 19:01:03 - mmengine - \u001b[4m\u001b[97mINFO\u001b[0m - Epoch(val) [65][9/9]    accuracy/top1: 81.9853  accuracy/top5: 98.1618  data_time: 0.1240  time: 0.2137\n",
            "02/17 19:01:15 - mmengine - \u001b[4m\u001b[97mINFO\u001b[0m - Exp name: newconfig_20240217_184300\n",
            "02/17 19:01:15 - mmengine - \u001b[4m\u001b[97mINFO\u001b[0m - Epoch(train)  [66][34/34]  lr: 1.0000e-03  eta: 0:07:23  time: 0.3156  data_time: 0.0013  memory: 2986  loss: 0.3489\n",
            "02/17 19:01:15 - mmengine - \u001b[4m\u001b[97mINFO\u001b[0m - Saving checkpoint at 66 epochs\n",
            "02/17 19:01:18 - mmengine - \u001b[4m\u001b[97mINFO\u001b[0m - Epoch(val) [66][9/9]    accuracy/top1: 82.3529  accuracy/top5: 98.1618  data_time: 0.1360  time: 0.2270\n",
            "02/17 19:01:30 - mmengine - \u001b[4m\u001b[97mINFO\u001b[0m - Exp name: newconfig_20240217_184300\n",
            "02/17 19:01:30 - mmengine - \u001b[4m\u001b[97mINFO\u001b[0m - Epoch(train)  [67][34/34]  lr: 1.0000e-03  eta: 0:07:10  time: 0.3131  data_time: 0.0009  memory: 2986  loss: 0.4029\n",
            "02/17 19:01:30 - mmengine - \u001b[4m\u001b[97mINFO\u001b[0m - Saving checkpoint at 67 epochs\n",
            "02/17 19:01:34 - mmengine - \u001b[4m\u001b[97mINFO\u001b[0m - Epoch(val) [67][9/9]    accuracy/top1: 81.6176  accuracy/top5: 98.5294  data_time: 0.1458  time: 0.2372\n",
            "02/17 19:01:46 - mmengine - \u001b[4m\u001b[97mINFO\u001b[0m - Exp name: newconfig_20240217_184300\n",
            "02/17 19:01:46 - mmengine - \u001b[4m\u001b[97mINFO\u001b[0m - Epoch(train)  [68][34/34]  lr: 1.0000e-03  eta: 0:06:56  time: 0.3135  data_time: 0.0008  memory: 2986  loss: 0.4248\n",
            "02/17 19:01:46 - mmengine - \u001b[4m\u001b[97mINFO\u001b[0m - Saving checkpoint at 68 epochs\n",
            "02/17 19:01:48 - mmengine - \u001b[4m\u001b[97mINFO\u001b[0m - Epoch(val) [68][9/9]    accuracy/top1: 80.8824  accuracy/top5: 98.5294  data_time: 0.1193  time: 0.2023\n",
            "02/17 19:02:01 - mmengine - \u001b[4m\u001b[97mINFO\u001b[0m - Exp name: newconfig_20240217_184300\n",
            "02/17 19:02:01 - mmengine - \u001b[4m\u001b[97mINFO\u001b[0m - Epoch(train)  [69][34/34]  lr: 1.0000e-03  eta: 0:06:43  time: 0.3128  data_time: 0.0008  memory: 2986  loss: 0.4682\n",
            "02/17 19:02:01 - mmengine - \u001b[4m\u001b[97mINFO\u001b[0m - Saving checkpoint at 69 epochs\n",
            "02/17 19:02:04 - mmengine - \u001b[4m\u001b[97mINFO\u001b[0m - Epoch(val) [69][9/9]    accuracy/top1: 83.8235  accuracy/top5: 98.1618  data_time: 0.1497  time: 0.2391\n",
            "02/17 19:02:16 - mmengine - \u001b[4m\u001b[97mINFO\u001b[0m - Exp name: newconfig_20240217_184300\n",
            "02/17 19:02:16 - mmengine - \u001b[4m\u001b[97mINFO\u001b[0m - Epoch(train)  [70][34/34]  lr: 1.0000e-03  eta: 0:06:30  time: 0.3126  data_time: 0.0008  memory: 2986  loss: 0.3581\n",
            "02/17 19:02:16 - mmengine - \u001b[4m\u001b[97mINFO\u001b[0m - Saving checkpoint at 70 epochs\n",
            "02/17 19:02:19 - mmengine - \u001b[4m\u001b[97mINFO\u001b[0m - Epoch(val) [70][9/9]    accuracy/top1: 82.3529  accuracy/top5: 98.1618  data_time: 0.1318  time: 0.2201\n",
            "02/17 19:02:32 - mmengine - \u001b[4m\u001b[97mINFO\u001b[0m - Exp name: newconfig_20240217_184300\n",
            "02/17 19:02:32 - mmengine - \u001b[4m\u001b[97mINFO\u001b[0m - Epoch(train)  [71][34/34]  lr: 1.0000e-03  eta: 0:06:17  time: 0.3142  data_time: 0.0009  memory: 2986  loss: 0.3991\n",
            "02/17 19:02:32 - mmengine - \u001b[4m\u001b[97mINFO\u001b[0m - Saving checkpoint at 71 epochs\n",
            "02/17 19:02:37 - mmengine - \u001b[4m\u001b[97mINFO\u001b[0m - Epoch(val) [71][9/9]    accuracy/top1: 81.9853  accuracy/top5: 98.1618  data_time: 0.1980  time: 0.3125\n",
            "02/17 19:02:48 - mmengine - \u001b[4m\u001b[97mINFO\u001b[0m - Exp name: newconfig_20240217_184300\n",
            "02/17 19:02:48 - mmengine - \u001b[4m\u001b[97mINFO\u001b[0m - Epoch(train)  [72][34/34]  lr: 1.0000e-03  eta: 0:06:03  time: 0.3139  data_time: 0.0009  memory: 2986  loss: 0.4469\n",
            "02/17 19:02:48 - mmengine - \u001b[4m\u001b[97mINFO\u001b[0m - Saving checkpoint at 72 epochs\n",
            "02/17 19:02:52 - mmengine - \u001b[4m\u001b[97mINFO\u001b[0m - Epoch(val) [72][9/9]    accuracy/top1: 81.6176  accuracy/top5: 98.1618  data_time: 0.1536  time: 0.2405\n",
            "02/17 19:03:04 - mmengine - \u001b[4m\u001b[97mINFO\u001b[0m - Exp name: newconfig_20240217_184300\n",
            "02/17 19:03:04 - mmengine - \u001b[4m\u001b[97mINFO\u001b[0m - Epoch(train)  [73][34/34]  lr: 1.0000e-03  eta: 0:05:50  time: 0.3141  data_time: 0.0010  memory: 2986  loss: 0.3234\n",
            "02/17 19:03:04 - mmengine - \u001b[4m\u001b[97mINFO\u001b[0m - Saving checkpoint at 73 epochs\n",
            "02/17 19:03:07 - mmengine - \u001b[4m\u001b[97mINFO\u001b[0m - Epoch(val) [73][9/9]    accuracy/top1: 83.0882  accuracy/top5: 98.1618  data_time: 0.1275  time: 0.2191\n",
            "02/17 19:03:19 - mmengine - \u001b[4m\u001b[97mINFO\u001b[0m - Exp name: newconfig_20240217_184300\n",
            "02/17 19:03:19 - mmengine - \u001b[4m\u001b[97mINFO\u001b[0m - Epoch(train)  [74][34/34]  lr: 1.0000e-03  eta: 0:05:36  time: 0.3143  data_time: 0.0011  memory: 2986  loss: 0.3422\n",
            "02/17 19:03:19 - mmengine - \u001b[4m\u001b[97mINFO\u001b[0m - Saving checkpoint at 74 epochs\n",
            "02/17 19:03:21 - mmengine - \u001b[4m\u001b[97mINFO\u001b[0m - Epoch(val) [74][9/9]    accuracy/top1: 83.0882  accuracy/top5: 98.1618  data_time: 0.1115  time: 0.1965\n",
            "02/17 19:03:33 - mmengine - \u001b[4m\u001b[97mINFO\u001b[0m - Exp name: newconfig_20240217_184300\n",
            "02/17 19:03:33 - mmengine - \u001b[4m\u001b[97mINFO\u001b[0m - Epoch(train)  [75][34/34]  lr: 1.0000e-03  eta: 0:05:23  time: 0.3160  data_time: 0.0020  memory: 2986  loss: 0.4003\n",
            "02/17 19:03:33 - mmengine - \u001b[4m\u001b[97mINFO\u001b[0m - Saving checkpoint at 75 epochs\n",
            "02/17 19:03:36 - mmengine - \u001b[4m\u001b[97mINFO\u001b[0m - Epoch(val) [75][9/9]    accuracy/top1: 82.3529  accuracy/top5: 98.1618  data_time: 0.1386  time: 0.2265\n",
            "02/17 19:03:48 - mmengine - \u001b[4m\u001b[97mINFO\u001b[0m - Exp name: newconfig_20240217_184300\n",
            "02/17 19:03:48 - mmengine - \u001b[4m\u001b[97mINFO\u001b[0m - Epoch(train)  [76][34/34]  lr: 1.0000e-03  eta: 0:05:10  time: 0.3149  data_time: 0.0010  memory: 2986  loss: 0.4205\n",
            "02/17 19:03:48 - mmengine - \u001b[4m\u001b[97mINFO\u001b[0m - Saving checkpoint at 76 epochs\n",
            "02/17 19:03:51 - mmengine - \u001b[4m\u001b[97mINFO\u001b[0m - Epoch(val) [76][9/9]    accuracy/top1: 81.6176  accuracy/top5: 98.1618  data_time: 0.1377  time: 0.2286\n",
            "02/17 19:04:03 - mmengine - \u001b[4m\u001b[97mINFO\u001b[0m - Exp name: newconfig_20240217_184300\n",
            "02/17 19:04:03 - mmengine - \u001b[4m\u001b[97mINFO\u001b[0m - Epoch(train)  [77][34/34]  lr: 1.0000e-03  eta: 0:04:57  time: 0.3173  data_time: 0.0009  memory: 2986  loss: 0.4476\n",
            "02/17 19:04:03 - mmengine - \u001b[4m\u001b[97mINFO\u001b[0m - Saving checkpoint at 77 epochs\n",
            "02/17 19:04:06 - mmengine - \u001b[4m\u001b[97mINFO\u001b[0m - Epoch(val) [77][9/9]    accuracy/top1: 81.6176  accuracy/top5: 98.1618  data_time: 0.1223  time: 0.2045\n",
            "02/17 19:04:18 - mmengine - \u001b[4m\u001b[97mINFO\u001b[0m - Exp name: newconfig_20240217_184300\n",
            "02/17 19:04:18 - mmengine - \u001b[4m\u001b[97mINFO\u001b[0m - Epoch(train)  [78][34/34]  lr: 1.0000e-03  eta: 0:04:43  time: 0.3172  data_time: 0.0013  memory: 2986  loss: 0.4812\n",
            "02/17 19:04:18 - mmengine - \u001b[4m\u001b[97mINFO\u001b[0m - Saving checkpoint at 78 epochs\n",
            "02/17 19:04:21 - mmengine - \u001b[4m\u001b[97mINFO\u001b[0m - Epoch(val) [78][9/9]    accuracy/top1: 81.9853  accuracy/top5: 98.1618  data_time: 0.1362  time: 0.2264\n",
            "02/17 19:04:33 - mmengine - \u001b[4m\u001b[97mINFO\u001b[0m - Exp name: newconfig_20240217_184300\n",
            "02/17 19:04:33 - mmengine - \u001b[4m\u001b[97mINFO\u001b[0m - Epoch(train)  [79][34/34]  lr: 1.0000e-03  eta: 0:04:30  time: 0.3143  data_time: 0.0008  memory: 2986  loss: 0.4307\n",
            "02/17 19:04:33 - mmengine - \u001b[4m\u001b[97mINFO\u001b[0m - Saving checkpoint at 79 epochs\n",
            "02/17 19:04:36 - mmengine - \u001b[4m\u001b[97mINFO\u001b[0m - Epoch(val) [79][9/9]    accuracy/top1: 82.3529  accuracy/top5: 98.1618  data_time: 0.1485  time: 0.2388\n",
            "02/17 19:04:49 - mmengine - \u001b[4m\u001b[97mINFO\u001b[0m - Exp name: newconfig_20240217_184300\n",
            "02/17 19:04:49 - mmengine - \u001b[4m\u001b[97mINFO\u001b[0m - Epoch(train)  [80][34/34]  lr: 1.0000e-03  eta: 0:04:17  time: 0.3139  data_time: 0.0008  memory: 2986  loss: 0.3865\n",
            "02/17 19:04:49 - mmengine - \u001b[4m\u001b[97mINFO\u001b[0m - Saving checkpoint at 80 epochs\n",
            "02/17 19:04:52 - mmengine - \u001b[4m\u001b[97mINFO\u001b[0m - Epoch(val) [80][9/9]    accuracy/top1: 80.8824  accuracy/top5: 98.1618  data_time: 0.1856  time: 0.2862\n",
            "02/17 19:05:06 - mmengine - \u001b[4m\u001b[97mINFO\u001b[0m - Exp name: newconfig_20240217_184300\n",
            "02/17 19:05:06 - mmengine - \u001b[4m\u001b[97mINFO\u001b[0m - Epoch(train)  [81][34/34]  lr: 1.0000e-03  eta: 0:04:04  time: 0.3140  data_time: 0.0008  memory: 2986  loss: 0.3846\n",
            "02/17 19:05:06 - mmengine - \u001b[4m\u001b[97mINFO\u001b[0m - Saving checkpoint at 81 epochs\n",
            "02/17 19:05:09 - mmengine - \u001b[4m\u001b[97mINFO\u001b[0m - Epoch(val) [81][9/9]    accuracy/top1: 82.3529  accuracy/top5: 98.5294  data_time: 0.2166  time: 0.3102\n",
            "02/17 19:05:22 - mmengine - \u001b[4m\u001b[97mINFO\u001b[0m - Exp name: newconfig_20240217_184300\n",
            "02/17 19:05:22 - mmengine - \u001b[4m\u001b[97mINFO\u001b[0m - Epoch(train)  [82][34/34]  lr: 1.0000e-03  eta: 0:03:51  time: 0.3139  data_time: 0.0008  memory: 2986  loss: 0.3888\n",
            "02/17 19:05:22 - mmengine - \u001b[4m\u001b[97mINFO\u001b[0m - Saving checkpoint at 82 epochs\n",
            "02/17 19:05:26 - mmengine - \u001b[4m\u001b[97mINFO\u001b[0m - Epoch(val) [82][9/9]    accuracy/top1: 81.2500  accuracy/top5: 98.1618  data_time: 0.1910  time: 0.2860\n",
            "02/17 19:05:38 - mmengine - \u001b[4m\u001b[97mINFO\u001b[0m - Exp name: newconfig_20240217_184300\n",
            "02/17 19:05:38 - mmengine - \u001b[4m\u001b[97mINFO\u001b[0m - Epoch(train)  [83][34/34]  lr: 1.0000e-03  eta: 0:03:38  time: 0.3142  data_time: 0.0010  memory: 2986  loss: 0.4158\n",
            "02/17 19:05:38 - mmengine - \u001b[4m\u001b[97mINFO\u001b[0m - Saving checkpoint at 83 epochs\n",
            "02/17 19:05:41 - mmengine - \u001b[4m\u001b[97mINFO\u001b[0m - Epoch(val) [83][9/9]    accuracy/top1: 81.6176  accuracy/top5: 98.1618  data_time: 0.1163  time: 0.2041\n",
            "02/17 19:05:52 - mmengine - \u001b[4m\u001b[97mINFO\u001b[0m - Exp name: newconfig_20240217_184300\n",
            "02/17 19:05:52 - mmengine - \u001b[4m\u001b[97mINFO\u001b[0m - Epoch(train)  [84][34/34]  lr: 1.0000e-03  eta: 0:03:25  time: 0.3146  data_time: 0.0010  memory: 2986  loss: 0.3877\n",
            "02/17 19:05:52 - mmengine - \u001b[4m\u001b[97mINFO\u001b[0m - Saving checkpoint at 84 epochs\n",
            "02/17 19:05:55 - mmengine - \u001b[4m\u001b[97mINFO\u001b[0m - Epoch(val) [84][9/9]    accuracy/top1: 81.6176  accuracy/top5: 97.7941  data_time: 0.1271  time: 0.2182\n",
            "02/17 19:06:07 - mmengine - \u001b[4m\u001b[97mINFO\u001b[0m - Exp name: newconfig_20240217_184300\n",
            "02/17 19:06:07 - mmengine - \u001b[4m\u001b[97mINFO\u001b[0m - Epoch(train)  [85][34/34]  lr: 1.0000e-03  eta: 0:03:12  time: 0.3160  data_time: 0.0009  memory: 2986  loss: 0.3056\n",
            "02/17 19:06:07 - mmengine - \u001b[4m\u001b[97mINFO\u001b[0m - Saving checkpoint at 85 epochs\n",
            "02/17 19:06:10 - mmengine - \u001b[4m\u001b[97mINFO\u001b[0m - Epoch(val) [85][9/9]    accuracy/top1: 81.9853  accuracy/top5: 98.1618  data_time: 0.1074  time: 0.1968\n",
            "02/17 19:06:22 - mmengine - \u001b[4m\u001b[97mINFO\u001b[0m - Exp name: newconfig_20240217_184300\n",
            "02/17 19:06:22 - mmengine - \u001b[4m\u001b[97mINFO\u001b[0m - Epoch(train)  [86][34/34]  lr: 1.0000e-03  eta: 0:02:59  time: 0.3182  data_time: 0.0009  memory: 2986  loss: 0.4627\n",
            "02/17 19:06:22 - mmengine - \u001b[4m\u001b[97mINFO\u001b[0m - Saving checkpoint at 86 epochs\n",
            "02/17 19:06:25 - mmengine - \u001b[4m\u001b[97mINFO\u001b[0m - Epoch(val) [86][9/9]    accuracy/top1: 81.9853  accuracy/top5: 98.1618  data_time: 0.0962  time: 0.1890\n",
            "02/17 19:06:37 - mmengine - \u001b[4m\u001b[97mINFO\u001b[0m - Exp name: newconfig_20240217_184300\n",
            "02/17 19:06:37 - mmengine - \u001b[4m\u001b[97mINFO\u001b[0m - Epoch(train)  [87][34/34]  lr: 1.0000e-03  eta: 0:02:46  time: 0.3156  data_time: 0.0011  memory: 2986  loss: 0.3471\n",
            "02/17 19:06:37 - mmengine - \u001b[4m\u001b[97mINFO\u001b[0m - Saving checkpoint at 87 epochs\n",
            "02/17 19:06:40 - mmengine - \u001b[4m\u001b[97mINFO\u001b[0m - Epoch(val) [87][9/9]    accuracy/top1: 80.8824  accuracy/top5: 98.1618  data_time: 0.0933  time: 0.1837\n",
            "02/17 19:06:52 - mmengine - \u001b[4m\u001b[97mINFO\u001b[0m - Exp name: newconfig_20240217_184300\n",
            "02/17 19:06:52 - mmengine - \u001b[4m\u001b[97mINFO\u001b[0m - Epoch(train)  [88][34/34]  lr: 1.0000e-03  eta: 0:02:33  time: 0.3133  data_time: 0.0008  memory: 2986  loss: 0.3751\n",
            "02/17 19:06:52 - mmengine - \u001b[4m\u001b[97mINFO\u001b[0m - Saving checkpoint at 88 epochs\n",
            "02/17 19:06:56 - mmengine - \u001b[4m\u001b[97mINFO\u001b[0m - Epoch(val) [88][9/9]    accuracy/top1: 82.7206  accuracy/top5: 98.1618  data_time: 0.1318  time: 0.2237\n",
            "02/17 19:06:59 - mmengine - \u001b[4m\u001b[97mINFO\u001b[0m - Exp name: newconfig_20240217_184300\n",
            "02/17 19:07:08 - mmengine - \u001b[4m\u001b[97mINFO\u001b[0m - Exp name: newconfig_20240217_184300\n",
            "02/17 19:07:08 - mmengine - \u001b[4m\u001b[97mINFO\u001b[0m - Epoch(train)  [89][34/34]  lr: 1.0000e-03  eta: 0:02:20  time: 0.3131  data_time: 0.0008  memory: 2986  loss: 0.3353\n",
            "02/17 19:07:08 - mmengine - \u001b[4m\u001b[97mINFO\u001b[0m - Saving checkpoint at 89 epochs\n",
            "02/17 19:07:11 - mmengine - \u001b[4m\u001b[97mINFO\u001b[0m - Epoch(val) [89][9/9]    accuracy/top1: 81.9853  accuracy/top5: 98.1618  data_time: 0.1168  time: 0.2074\n",
            "02/17 19:07:24 - mmengine - \u001b[4m\u001b[97mINFO\u001b[0m - Exp name: newconfig_20240217_184300\n",
            "02/17 19:07:24 - mmengine - \u001b[4m\u001b[97mINFO\u001b[0m - Epoch(train)  [90][34/34]  lr: 1.0000e-03  eta: 0:02:08  time: 0.3145  data_time: 0.0008  memory: 2986  loss: 0.3928\n",
            "02/17 19:07:24 - mmengine - \u001b[4m\u001b[97mINFO\u001b[0m - Saving checkpoint at 90 epochs\n",
            "02/17 19:07:27 - mmengine - \u001b[4m\u001b[97mINFO\u001b[0m - Epoch(val) [90][9/9]    accuracy/top1: 81.9853  accuracy/top5: 98.1618  data_time: 0.1237  time: 0.2090\n",
            "02/17 19:07:39 - mmengine - \u001b[4m\u001b[97mINFO\u001b[0m - Exp name: newconfig_20240217_184300\n",
            "02/17 19:07:39 - mmengine - \u001b[4m\u001b[97mINFO\u001b[0m - Epoch(train)  [91][34/34]  lr: 1.0000e-04  eta: 0:01:55  time: 0.3139  data_time: 0.0008  memory: 2986  loss: 0.3675\n",
            "02/17 19:07:39 - mmengine - \u001b[4m\u001b[97mINFO\u001b[0m - Saving checkpoint at 91 epochs\n",
            "02/17 19:07:42 - mmengine - \u001b[4m\u001b[97mINFO\u001b[0m - Epoch(val) [91][9/9]    accuracy/top1: 81.6176  accuracy/top5: 98.1618  data_time: 0.1477  time: 0.2387\n",
            "02/17 19:07:54 - mmengine - \u001b[4m\u001b[97mINFO\u001b[0m - Exp name: newconfig_20240217_184300\n",
            "02/17 19:07:54 - mmengine - \u001b[4m\u001b[97mINFO\u001b[0m - Epoch(train)  [92][34/34]  lr: 1.0000e-04  eta: 0:01:42  time: 0.3145  data_time: 0.0008  memory: 2986  loss: 0.3703\n",
            "02/17 19:07:54 - mmengine - \u001b[4m\u001b[97mINFO\u001b[0m - Saving checkpoint at 92 epochs\n",
            "02/17 19:07:57 - mmengine - \u001b[4m\u001b[97mINFO\u001b[0m - Epoch(val) [92][9/9]    accuracy/top1: 81.9853  accuracy/top5: 98.1618  data_time: 0.1183  time: 0.2027\n",
            "02/17 19:08:09 - mmengine - \u001b[4m\u001b[97mINFO\u001b[0m - Exp name: newconfig_20240217_184300\n",
            "02/17 19:08:09 - mmengine - \u001b[4m\u001b[97mINFO\u001b[0m - Epoch(train)  [93][34/34]  lr: 1.0000e-04  eta: 0:01:29  time: 0.3138  data_time: 0.0008  memory: 2986  loss: 0.3284\n",
            "02/17 19:08:09 - mmengine - \u001b[4m\u001b[97mINFO\u001b[0m - Saving checkpoint at 93 epochs\n",
            "02/17 19:08:13 - mmengine - \u001b[4m\u001b[97mINFO\u001b[0m - Epoch(val) [93][9/9]    accuracy/top1: 81.9853  accuracy/top5: 98.1618  data_time: 0.1866  time: 0.2754\n",
            "02/17 19:08:25 - mmengine - \u001b[4m\u001b[97mINFO\u001b[0m - Exp name: newconfig_20240217_184300\n",
            "02/17 19:08:25 - mmengine - \u001b[4m\u001b[97mINFO\u001b[0m - Epoch(train)  [94][34/34]  lr: 1.0000e-04  eta: 0:01:16  time: 0.3129  data_time: 0.0008  memory: 2986  loss: 0.4302\n",
            "02/17 19:08:25 - mmengine - \u001b[4m\u001b[97mINFO\u001b[0m - Saving checkpoint at 94 epochs\n",
            "02/17 19:08:29 - mmengine - \u001b[4m\u001b[97mINFO\u001b[0m - Epoch(val) [94][9/9]    accuracy/top1: 80.8824  accuracy/top5: 98.1618  data_time: 0.2257  time: 0.3213\n",
            "02/17 19:08:41 - mmengine - \u001b[4m\u001b[97mINFO\u001b[0m - Exp name: newconfig_20240217_184300\n",
            "02/17 19:08:41 - mmengine - \u001b[4m\u001b[97mINFO\u001b[0m - Epoch(train)  [95][34/34]  lr: 1.0000e-04  eta: 0:01:03  time: 0.3134  data_time: 0.0009  memory: 2986  loss: 0.3753\n",
            "02/17 19:08:41 - mmengine - \u001b[4m\u001b[97mINFO\u001b[0m - Saving checkpoint at 95 epochs\n",
            "02/17 19:08:44 - mmengine - \u001b[4m\u001b[97mINFO\u001b[0m - Epoch(val) [95][9/9]    accuracy/top1: 82.7206  accuracy/top5: 98.1618  data_time: 0.1459  time: 0.2355\n",
            "02/17 19:08:56 - mmengine - \u001b[4m\u001b[97mINFO\u001b[0m - Exp name: newconfig_20240217_184300\n",
            "02/17 19:08:56 - mmengine - \u001b[4m\u001b[97mINFO\u001b[0m - Epoch(train)  [96][34/34]  lr: 1.0000e-04  eta: 0:00:51  time: 0.3139  data_time: 0.0013  memory: 2986  loss: 0.3205\n",
            "02/17 19:08:56 - mmengine - \u001b[4m\u001b[97mINFO\u001b[0m - Saving checkpoint at 96 epochs\n",
            "02/17 19:08:59 - mmengine - \u001b[4m\u001b[97mINFO\u001b[0m - Epoch(val) [96][9/9]    accuracy/top1: 81.2500  accuracy/top5: 98.1618  data_time: 0.1491  time: 0.2430\n",
            "02/17 19:09:11 - mmengine - \u001b[4m\u001b[97mINFO\u001b[0m - Exp name: newconfig_20240217_184300\n",
            "02/17 19:09:11 - mmengine - \u001b[4m\u001b[97mINFO\u001b[0m - Epoch(train)  [97][34/34]  lr: 1.0000e-04  eta: 0:00:38  time: 0.3152  data_time: 0.0010  memory: 2986  loss: 0.4170\n",
            "02/17 19:09:11 - mmengine - \u001b[4m\u001b[97mINFO\u001b[0m - Saving checkpoint at 97 epochs\n",
            "02/17 19:09:14 - mmengine - \u001b[4m\u001b[97mINFO\u001b[0m - Epoch(val) [97][9/9]    accuracy/top1: 82.7206  accuracy/top5: 98.1618  data_time: 0.1358  time: 0.2243\n",
            "02/17 19:09:26 - mmengine - \u001b[4m\u001b[97mINFO\u001b[0m - Exp name: newconfig_20240217_184300\n",
            "02/17 19:09:26 - mmengine - \u001b[4m\u001b[97mINFO\u001b[0m - Epoch(train)  [98][34/34]  lr: 1.0000e-04  eta: 0:00:25  time: 0.3197  data_time: 0.0011  memory: 2986  loss: 0.3711\n",
            "02/17 19:09:26 - mmengine - \u001b[4m\u001b[97mINFO\u001b[0m - Saving checkpoint at 98 epochs\n",
            "02/17 19:09:29 - mmengine - \u001b[4m\u001b[97mINFO\u001b[0m - Epoch(val) [98][9/9]    accuracy/top1: 81.2500  accuracy/top5: 98.1618  data_time: 0.1273  time: 0.2164\n",
            "02/17 19:09:41 - mmengine - \u001b[4m\u001b[97mINFO\u001b[0m - Exp name: newconfig_20240217_184300\n",
            "02/17 19:09:41 - mmengine - \u001b[4m\u001b[97mINFO\u001b[0m - Epoch(train)  [99][34/34]  lr: 1.0000e-04  eta: 0:00:12  time: 0.3194  data_time: 0.0010  memory: 2986  loss: 0.3997\n",
            "02/17 19:09:41 - mmengine - \u001b[4m\u001b[97mINFO\u001b[0m - Saving checkpoint at 99 epochs\n",
            "02/17 19:09:44 - mmengine - \u001b[4m\u001b[97mINFO\u001b[0m - Epoch(val) [99][9/9]    accuracy/top1: 82.7206  accuracy/top5: 98.1618  data_time: 0.1165  time: 0.2005\n",
            "02/17 19:09:56 - mmengine - \u001b[4m\u001b[97mINFO\u001b[0m - Exp name: newconfig_20240217_184300\n",
            "02/17 19:09:56 - mmengine - \u001b[4m\u001b[97mINFO\u001b[0m - Epoch(train) [100][34/34]  lr: 1.0000e-04  eta: 0:00:00  time: 0.3139  data_time: 0.0008  memory: 2986  loss: 0.3564\n",
            "02/17 19:09:56 - mmengine - \u001b[4m\u001b[97mINFO\u001b[0m - Saving checkpoint at 100 epochs\n",
            "02/17 19:09:59 - mmengine - \u001b[4m\u001b[97mINFO\u001b[0m - Epoch(val) [100][9/9]    accuracy/top1: 81.9853  accuracy/top5: 98.1618  data_time: 0.1110  time: 0.1995\n"
          ]
        }
      ],
      "source": [
        "!python /content/mmpretrain/tools/train.py \"/content/newconfig.py\" --work-dir 'content2/log/config2'"
      ]
    },
    {
      "cell_type": "code",
      "execution_count": null,
      "metadata": {
        "id": "T1Ynv2Jc6R3B",
        "colab": {
          "base_uri": "https://localhost:8080/",
          "height": 87,
          "referenced_widgets": [
            "b6b66ffcc72445f9836deca1c3e67573",
            "12c6fbb26930412d804f0de2912fdc98"
          ]
        },
        "outputId": "eeb7d44e-752a-4372-83fb-d6ba1f7ad68f"
      },
      "outputs": [
        {
          "output_type": "stream",
          "name": "stdout",
          "text": [
            "/\n",
            "Loads checkpoint by local backend from path: /content/mmpretrain/content2/log/config2/epoch_90.pth\n"
          ]
        },
        {
          "output_type": "display_data",
          "data": {
            "text/plain": [
              "Output()"
            ],
            "application/vnd.jupyter.widget-view+json": {
              "version_major": 2,
              "version_minor": 0,
              "model_id": "b6b66ffcc72445f9836deca1c3e67573"
            }
          },
          "metadata": {}
        },
        {
          "output_type": "display_data",
          "data": {
            "text/plain": [],
            "text/html": [
              "<pre style=\"white-space:pre;overflow-x:auto;line-height:normal;font-family:Menlo,'DejaVu Sans Mono',consolas,'Courier New',monospace\"></pre>\n"
            ]
          },
          "metadata": {}
        },
        {
          "output_type": "execute_result",
          "data": {
            "text/plain": [
              "'Crocus'"
            ],
            "application/vnd.google.colaboratory.intrinsic+json": {
              "type": "string"
            }
          },
          "metadata": {},
          "execution_count": 16
        }
      ],
      "source": [
        "%cd ..\n",
        "from mmpretrain import inference_model\n",
        "from mmpretrain import get_model\n",
        "image = '/content/gdrive/MyDrive/oxford_flowers/train_set/Crocus/image_0321.jpg'\n",
        "from mmpretrain import ImageClassificationInferencer\n",
        "inferencer = ImageClassificationInferencer(\n",
        "    model = '/content/newconfig.py',\n",
        "    pretrained = '/content/mmpretrain/content2/log/config2/epoch_90.pth',\n",
        "    device = 'cuda')\n",
        "result = inferencer(image)\n",
        "result[0][\"pred_class\"]"
      ]
    },
    {
      "cell_type": "code",
      "source": [
        "y_pred = []\n",
        "for category in categories:\n",
        "  path = f'/content/gdrive/MyDrive/oxford_flowers/val_set/{category}'\n",
        "  files = glob.glob(path + '/*')\n",
        "  for file in files:\n",
        "    prediction = inferencer(file)\n",
        "    y_pred.append(categories[prediction[0][\"pred_class\"]])\n",
        "y_pred = np.array(y_pred)\n"
      ],
      "metadata": {
        "colab": {
          "base_uri": "https://localhost:8080/",
          "height": 17
        },
        "id": "-ott806ffDfw",
        "outputId": "15808243-f47e-428c-eb1b-ab98a1f23051"
      },
      "execution_count": null,
      "outputs": [
        {
          "output_type": "display_data",
          "data": {
            "text/plain": [],
            "text/html": [
              "<pre style=\"white-space:pre;overflow-x:auto;line-height:normal;font-family:Menlo,'DejaVu Sans Mono',consolas,'Courier New',monospace\"></pre>\n"
            ]
          },
          "metadata": {}
        },
        {
          "output_type": "display_data",
          "data": {
            "text/plain": [],
            "text/html": [
              "<pre style=\"white-space:pre;overflow-x:auto;line-height:normal;font-family:Menlo,'DejaVu Sans Mono',consolas,'Courier New',monospace\"></pre>\n"
            ]
          },
          "metadata": {}
        },
        {
          "output_type": "display_data",
          "data": {
            "text/plain": [],
            "text/html": [
              "<pre style=\"white-space:pre;overflow-x:auto;line-height:normal;font-family:Menlo,'DejaVu Sans Mono',consolas,'Courier New',monospace\"></pre>\n"
            ]
          },
          "metadata": {}
        },
        {
          "output_type": "display_data",
          "data": {
            "text/plain": [],
            "text/html": [
              "<pre style=\"white-space:pre;overflow-x:auto;line-height:normal;font-family:Menlo,'DejaVu Sans Mono',consolas,'Courier New',monospace\"></pre>\n"
            ]
          },
          "metadata": {}
        },
        {
          "output_type": "display_data",
          "data": {
            "text/plain": [],
            "text/html": [
              "<pre style=\"white-space:pre;overflow-x:auto;line-height:normal;font-family:Menlo,'DejaVu Sans Mono',consolas,'Courier New',monospace\"></pre>\n"
            ]
          },
          "metadata": {}
        },
        {
          "output_type": "display_data",
          "data": {
            "text/plain": [],
            "text/html": [
              "<pre style=\"white-space:pre;overflow-x:auto;line-height:normal;font-family:Menlo,'DejaVu Sans Mono',consolas,'Courier New',monospace\"></pre>\n"
            ]
          },
          "metadata": {}
        },
        {
          "output_type": "display_data",
          "data": {
            "text/plain": [],
            "text/html": [
              "<pre style=\"white-space:pre;overflow-x:auto;line-height:normal;font-family:Menlo,'DejaVu Sans Mono',consolas,'Courier New',monospace\"></pre>\n"
            ]
          },
          "metadata": {}
        },
        {
          "output_type": "display_data",
          "data": {
            "text/plain": [],
            "text/html": [
              "<pre style=\"white-space:pre;overflow-x:auto;line-height:normal;font-family:Menlo,'DejaVu Sans Mono',consolas,'Courier New',monospace\"></pre>\n"
            ]
          },
          "metadata": {}
        },
        {
          "output_type": "display_data",
          "data": {
            "text/plain": [],
            "text/html": [
              "<pre style=\"white-space:pre;overflow-x:auto;line-height:normal;font-family:Menlo,'DejaVu Sans Mono',consolas,'Courier New',monospace\"></pre>\n"
            ]
          },
          "metadata": {}
        },
        {
          "output_type": "display_data",
          "data": {
            "text/plain": [],
            "text/html": [
              "<pre style=\"white-space:pre;overflow-x:auto;line-height:normal;font-family:Menlo,'DejaVu Sans Mono',consolas,'Courier New',monospace\"></pre>\n"
            ]
          },
          "metadata": {}
        },
        {
          "output_type": "display_data",
          "data": {
            "text/plain": [],
            "text/html": [
              "<pre style=\"white-space:pre;overflow-x:auto;line-height:normal;font-family:Menlo,'DejaVu Sans Mono',consolas,'Courier New',monospace\"></pre>\n"
            ]
          },
          "metadata": {}
        },
        {
          "output_type": "display_data",
          "data": {
            "text/plain": [],
            "text/html": [
              "<pre style=\"white-space:pre;overflow-x:auto;line-height:normal;font-family:Menlo,'DejaVu Sans Mono',consolas,'Courier New',monospace\"></pre>\n"
            ]
          },
          "metadata": {}
        },
        {
          "output_type": "display_data",
          "data": {
            "text/plain": [],
            "text/html": [
              "<pre style=\"white-space:pre;overflow-x:auto;line-height:normal;font-family:Menlo,'DejaVu Sans Mono',consolas,'Courier New',monospace\"></pre>\n"
            ]
          },
          "metadata": {}
        },
        {
          "output_type": "display_data",
          "data": {
            "text/plain": [],
            "text/html": [
              "<pre style=\"white-space:pre;overflow-x:auto;line-height:normal;font-family:Menlo,'DejaVu Sans Mono',consolas,'Courier New',monospace\"></pre>\n"
            ]
          },
          "metadata": {}
        },
        {
          "output_type": "display_data",
          "data": {
            "text/plain": [],
            "text/html": [
              "<pre style=\"white-space:pre;overflow-x:auto;line-height:normal;font-family:Menlo,'DejaVu Sans Mono',consolas,'Courier New',monospace\"></pre>\n"
            ]
          },
          "metadata": {}
        },
        {
          "output_type": "display_data",
          "data": {
            "text/plain": [],
            "text/html": [
              "<pre style=\"white-space:pre;overflow-x:auto;line-height:normal;font-family:Menlo,'DejaVu Sans Mono',consolas,'Courier New',monospace\"></pre>\n"
            ]
          },
          "metadata": {}
        },
        {
          "output_type": "display_data",
          "data": {
            "text/plain": [],
            "text/html": [
              "<pre style=\"white-space:pre;overflow-x:auto;line-height:normal;font-family:Menlo,'DejaVu Sans Mono',consolas,'Courier New',monospace\"></pre>\n"
            ]
          },
          "metadata": {}
        },
        {
          "output_type": "display_data",
          "data": {
            "text/plain": [],
            "text/html": [
              "<pre style=\"white-space:pre;overflow-x:auto;line-height:normal;font-family:Menlo,'DejaVu Sans Mono',consolas,'Courier New',monospace\"></pre>\n"
            ]
          },
          "metadata": {}
        },
        {
          "output_type": "display_data",
          "data": {
            "text/plain": [],
            "text/html": [
              "<pre style=\"white-space:pre;overflow-x:auto;line-height:normal;font-family:Menlo,'DejaVu Sans Mono',consolas,'Courier New',monospace\"></pre>\n"
            ]
          },
          "metadata": {}
        },
        {
          "output_type": "display_data",
          "data": {
            "text/plain": [],
            "text/html": [
              "<pre style=\"white-space:pre;overflow-x:auto;line-height:normal;font-family:Menlo,'DejaVu Sans Mono',consolas,'Courier New',monospace\"></pre>\n"
            ]
          },
          "metadata": {}
        },
        {
          "output_type": "display_data",
          "data": {
            "text/plain": [],
            "text/html": [
              "<pre style=\"white-space:pre;overflow-x:auto;line-height:normal;font-family:Menlo,'DejaVu Sans Mono',consolas,'Courier New',monospace\"></pre>\n"
            ]
          },
          "metadata": {}
        },
        {
          "output_type": "display_data",
          "data": {
            "text/plain": [],
            "text/html": [
              "<pre style=\"white-space:pre;overflow-x:auto;line-height:normal;font-family:Menlo,'DejaVu Sans Mono',consolas,'Courier New',monospace\"></pre>\n"
            ]
          },
          "metadata": {}
        },
        {
          "output_type": "display_data",
          "data": {
            "text/plain": [],
            "text/html": [
              "<pre style=\"white-space:pre;overflow-x:auto;line-height:normal;font-family:Menlo,'DejaVu Sans Mono',consolas,'Courier New',monospace\"></pre>\n"
            ]
          },
          "metadata": {}
        },
        {
          "output_type": "display_data",
          "data": {
            "text/plain": [],
            "text/html": [
              "<pre style=\"white-space:pre;overflow-x:auto;line-height:normal;font-family:Menlo,'DejaVu Sans Mono',consolas,'Courier New',monospace\"></pre>\n"
            ]
          },
          "metadata": {}
        },
        {
          "output_type": "display_data",
          "data": {
            "text/plain": [],
            "text/html": [
              "<pre style=\"white-space:pre;overflow-x:auto;line-height:normal;font-family:Menlo,'DejaVu Sans Mono',consolas,'Courier New',monospace\"></pre>\n"
            ]
          },
          "metadata": {}
        },
        {
          "output_type": "display_data",
          "data": {
            "text/plain": [],
            "text/html": [
              "<pre style=\"white-space:pre;overflow-x:auto;line-height:normal;font-family:Menlo,'DejaVu Sans Mono',consolas,'Courier New',monospace\"></pre>\n"
            ]
          },
          "metadata": {}
        },
        {
          "output_type": "display_data",
          "data": {
            "text/plain": [],
            "text/html": [
              "<pre style=\"white-space:pre;overflow-x:auto;line-height:normal;font-family:Menlo,'DejaVu Sans Mono',consolas,'Courier New',monospace\"></pre>\n"
            ]
          },
          "metadata": {}
        },
        {
          "output_type": "display_data",
          "data": {
            "text/plain": [],
            "text/html": [
              "<pre style=\"white-space:pre;overflow-x:auto;line-height:normal;font-family:Menlo,'DejaVu Sans Mono',consolas,'Courier New',monospace\"></pre>\n"
            ]
          },
          "metadata": {}
        },
        {
          "output_type": "display_data",
          "data": {
            "text/plain": [],
            "text/html": [
              "<pre style=\"white-space:pre;overflow-x:auto;line-height:normal;font-family:Menlo,'DejaVu Sans Mono',consolas,'Courier New',monospace\"></pre>\n"
            ]
          },
          "metadata": {}
        },
        {
          "output_type": "display_data",
          "data": {
            "text/plain": [],
            "text/html": [
              "<pre style=\"white-space:pre;overflow-x:auto;line-height:normal;font-family:Menlo,'DejaVu Sans Mono',consolas,'Courier New',monospace\"></pre>\n"
            ]
          },
          "metadata": {}
        },
        {
          "output_type": "display_data",
          "data": {
            "text/plain": [],
            "text/html": [
              "<pre style=\"white-space:pre;overflow-x:auto;line-height:normal;font-family:Menlo,'DejaVu Sans Mono',consolas,'Courier New',monospace\"></pre>\n"
            ]
          },
          "metadata": {}
        },
        {
          "output_type": "display_data",
          "data": {
            "text/plain": [],
            "text/html": [
              "<pre style=\"white-space:pre;overflow-x:auto;line-height:normal;font-family:Menlo,'DejaVu Sans Mono',consolas,'Courier New',monospace\"></pre>\n"
            ]
          },
          "metadata": {}
        },
        {
          "output_type": "display_data",
          "data": {
            "text/plain": [],
            "text/html": [
              "<pre style=\"white-space:pre;overflow-x:auto;line-height:normal;font-family:Menlo,'DejaVu Sans Mono',consolas,'Courier New',monospace\"></pre>\n"
            ]
          },
          "metadata": {}
        },
        {
          "output_type": "display_data",
          "data": {
            "text/plain": [],
            "text/html": [
              "<pre style=\"white-space:pre;overflow-x:auto;line-height:normal;font-family:Menlo,'DejaVu Sans Mono',consolas,'Courier New',monospace\"></pre>\n"
            ]
          },
          "metadata": {}
        },
        {
          "output_type": "display_data",
          "data": {
            "text/plain": [],
            "text/html": [
              "<pre style=\"white-space:pre;overflow-x:auto;line-height:normal;font-family:Menlo,'DejaVu Sans Mono',consolas,'Courier New',monospace\"></pre>\n"
            ]
          },
          "metadata": {}
        },
        {
          "output_type": "display_data",
          "data": {
            "text/plain": [],
            "text/html": [
              "<pre style=\"white-space:pre;overflow-x:auto;line-height:normal;font-family:Menlo,'DejaVu Sans Mono',consolas,'Courier New',monospace\"></pre>\n"
            ]
          },
          "metadata": {}
        },
        {
          "output_type": "display_data",
          "data": {
            "text/plain": [],
            "text/html": [
              "<pre style=\"white-space:pre;overflow-x:auto;line-height:normal;font-family:Menlo,'DejaVu Sans Mono',consolas,'Courier New',monospace\"></pre>\n"
            ]
          },
          "metadata": {}
        },
        {
          "output_type": "display_data",
          "data": {
            "text/plain": [],
            "text/html": [
              "<pre style=\"white-space:pre;overflow-x:auto;line-height:normal;font-family:Menlo,'DejaVu Sans Mono',consolas,'Courier New',monospace\"></pre>\n"
            ]
          },
          "metadata": {}
        },
        {
          "output_type": "display_data",
          "data": {
            "text/plain": [],
            "text/html": [
              "<pre style=\"white-space:pre;overflow-x:auto;line-height:normal;font-family:Menlo,'DejaVu Sans Mono',consolas,'Courier New',monospace\"></pre>\n"
            ]
          },
          "metadata": {}
        },
        {
          "output_type": "display_data",
          "data": {
            "text/plain": [],
            "text/html": [
              "<pre style=\"white-space:pre;overflow-x:auto;line-height:normal;font-family:Menlo,'DejaVu Sans Mono',consolas,'Courier New',monospace\"></pre>\n"
            ]
          },
          "metadata": {}
        },
        {
          "output_type": "display_data",
          "data": {
            "text/plain": [],
            "text/html": [
              "<pre style=\"white-space:pre;overflow-x:auto;line-height:normal;font-family:Menlo,'DejaVu Sans Mono',consolas,'Courier New',monospace\"></pre>\n"
            ]
          },
          "metadata": {}
        },
        {
          "output_type": "display_data",
          "data": {
            "text/plain": [],
            "text/html": [
              "<pre style=\"white-space:pre;overflow-x:auto;line-height:normal;font-family:Menlo,'DejaVu Sans Mono',consolas,'Courier New',monospace\"></pre>\n"
            ]
          },
          "metadata": {}
        },
        {
          "output_type": "display_data",
          "data": {
            "text/plain": [],
            "text/html": [
              "<pre style=\"white-space:pre;overflow-x:auto;line-height:normal;font-family:Menlo,'DejaVu Sans Mono',consolas,'Courier New',monospace\"></pre>\n"
            ]
          },
          "metadata": {}
        },
        {
          "output_type": "display_data",
          "data": {
            "text/plain": [],
            "text/html": [
              "<pre style=\"white-space:pre;overflow-x:auto;line-height:normal;font-family:Menlo,'DejaVu Sans Mono',consolas,'Courier New',monospace\"></pre>\n"
            ]
          },
          "metadata": {}
        },
        {
          "output_type": "display_data",
          "data": {
            "text/plain": [],
            "text/html": [
              "<pre style=\"white-space:pre;overflow-x:auto;line-height:normal;font-family:Menlo,'DejaVu Sans Mono',consolas,'Courier New',monospace\"></pre>\n"
            ]
          },
          "metadata": {}
        },
        {
          "output_type": "display_data",
          "data": {
            "text/plain": [],
            "text/html": [
              "<pre style=\"white-space:pre;overflow-x:auto;line-height:normal;font-family:Menlo,'DejaVu Sans Mono',consolas,'Courier New',monospace\"></pre>\n"
            ]
          },
          "metadata": {}
        },
        {
          "output_type": "display_data",
          "data": {
            "text/plain": [],
            "text/html": [
              "<pre style=\"white-space:pre;overflow-x:auto;line-height:normal;font-family:Menlo,'DejaVu Sans Mono',consolas,'Courier New',monospace\"></pre>\n"
            ]
          },
          "metadata": {}
        },
        {
          "output_type": "display_data",
          "data": {
            "text/plain": [],
            "text/html": [
              "<pre style=\"white-space:pre;overflow-x:auto;line-height:normal;font-family:Menlo,'DejaVu Sans Mono',consolas,'Courier New',monospace\"></pre>\n"
            ]
          },
          "metadata": {}
        },
        {
          "output_type": "display_data",
          "data": {
            "text/plain": [],
            "text/html": [
              "<pre style=\"white-space:pre;overflow-x:auto;line-height:normal;font-family:Menlo,'DejaVu Sans Mono',consolas,'Courier New',monospace\"></pre>\n"
            ]
          },
          "metadata": {}
        },
        {
          "output_type": "display_data",
          "data": {
            "text/plain": [],
            "text/html": [
              "<pre style=\"white-space:pre;overflow-x:auto;line-height:normal;font-family:Menlo,'DejaVu Sans Mono',consolas,'Courier New',monospace\"></pre>\n"
            ]
          },
          "metadata": {}
        },
        {
          "output_type": "display_data",
          "data": {
            "text/plain": [],
            "text/html": [
              "<pre style=\"white-space:pre;overflow-x:auto;line-height:normal;font-family:Menlo,'DejaVu Sans Mono',consolas,'Courier New',monospace\"></pre>\n"
            ]
          },
          "metadata": {}
        },
        {
          "output_type": "display_data",
          "data": {
            "text/plain": [],
            "text/html": [
              "<pre style=\"white-space:pre;overflow-x:auto;line-height:normal;font-family:Menlo,'DejaVu Sans Mono',consolas,'Courier New',monospace\"></pre>\n"
            ]
          },
          "metadata": {}
        },
        {
          "output_type": "display_data",
          "data": {
            "text/plain": [],
            "text/html": [
              "<pre style=\"white-space:pre;overflow-x:auto;line-height:normal;font-family:Menlo,'DejaVu Sans Mono',consolas,'Courier New',monospace\"></pre>\n"
            ]
          },
          "metadata": {}
        },
        {
          "output_type": "display_data",
          "data": {
            "text/plain": [],
            "text/html": [
              "<pre style=\"white-space:pre;overflow-x:auto;line-height:normal;font-family:Menlo,'DejaVu Sans Mono',consolas,'Courier New',monospace\"></pre>\n"
            ]
          },
          "metadata": {}
        },
        {
          "output_type": "display_data",
          "data": {
            "text/plain": [],
            "text/html": [
              "<pre style=\"white-space:pre;overflow-x:auto;line-height:normal;font-family:Menlo,'DejaVu Sans Mono',consolas,'Courier New',monospace\"></pre>\n"
            ]
          },
          "metadata": {}
        },
        {
          "output_type": "display_data",
          "data": {
            "text/plain": [],
            "text/html": [
              "<pre style=\"white-space:pre;overflow-x:auto;line-height:normal;font-family:Menlo,'DejaVu Sans Mono',consolas,'Courier New',monospace\"></pre>\n"
            ]
          },
          "metadata": {}
        },
        {
          "output_type": "display_data",
          "data": {
            "text/plain": [],
            "text/html": [
              "<pre style=\"white-space:pre;overflow-x:auto;line-height:normal;font-family:Menlo,'DejaVu Sans Mono',consolas,'Courier New',monospace\"></pre>\n"
            ]
          },
          "metadata": {}
        },
        {
          "output_type": "display_data",
          "data": {
            "text/plain": [],
            "text/html": [
              "<pre style=\"white-space:pre;overflow-x:auto;line-height:normal;font-family:Menlo,'DejaVu Sans Mono',consolas,'Courier New',monospace\"></pre>\n"
            ]
          },
          "metadata": {}
        },
        {
          "output_type": "display_data",
          "data": {
            "text/plain": [],
            "text/html": [
              "<pre style=\"white-space:pre;overflow-x:auto;line-height:normal;font-family:Menlo,'DejaVu Sans Mono',consolas,'Courier New',monospace\"></pre>\n"
            ]
          },
          "metadata": {}
        },
        {
          "output_type": "display_data",
          "data": {
            "text/plain": [],
            "text/html": [
              "<pre style=\"white-space:pre;overflow-x:auto;line-height:normal;font-family:Menlo,'DejaVu Sans Mono',consolas,'Courier New',monospace\"></pre>\n"
            ]
          },
          "metadata": {}
        },
        {
          "output_type": "display_data",
          "data": {
            "text/plain": [],
            "text/html": [
              "<pre style=\"white-space:pre;overflow-x:auto;line-height:normal;font-family:Menlo,'DejaVu Sans Mono',consolas,'Courier New',monospace\"></pre>\n"
            ]
          },
          "metadata": {}
        },
        {
          "output_type": "display_data",
          "data": {
            "text/plain": [],
            "text/html": [
              "<pre style=\"white-space:pre;overflow-x:auto;line-height:normal;font-family:Menlo,'DejaVu Sans Mono',consolas,'Courier New',monospace\"></pre>\n"
            ]
          },
          "metadata": {}
        },
        {
          "output_type": "display_data",
          "data": {
            "text/plain": [],
            "text/html": [
              "<pre style=\"white-space:pre;overflow-x:auto;line-height:normal;font-family:Menlo,'DejaVu Sans Mono',consolas,'Courier New',monospace\"></pre>\n"
            ]
          },
          "metadata": {}
        },
        {
          "output_type": "display_data",
          "data": {
            "text/plain": [],
            "text/html": [
              "<pre style=\"white-space:pre;overflow-x:auto;line-height:normal;font-family:Menlo,'DejaVu Sans Mono',consolas,'Courier New',monospace\"></pre>\n"
            ]
          },
          "metadata": {}
        },
        {
          "output_type": "display_data",
          "data": {
            "text/plain": [],
            "text/html": [
              "<pre style=\"white-space:pre;overflow-x:auto;line-height:normal;font-family:Menlo,'DejaVu Sans Mono',consolas,'Courier New',monospace\"></pre>\n"
            ]
          },
          "metadata": {}
        },
        {
          "output_type": "display_data",
          "data": {
            "text/plain": [],
            "text/html": [
              "<pre style=\"white-space:pre;overflow-x:auto;line-height:normal;font-family:Menlo,'DejaVu Sans Mono',consolas,'Courier New',monospace\"></pre>\n"
            ]
          },
          "metadata": {}
        },
        {
          "output_type": "display_data",
          "data": {
            "text/plain": [],
            "text/html": [
              "<pre style=\"white-space:pre;overflow-x:auto;line-height:normal;font-family:Menlo,'DejaVu Sans Mono',consolas,'Courier New',monospace\"></pre>\n"
            ]
          },
          "metadata": {}
        },
        {
          "output_type": "display_data",
          "data": {
            "text/plain": [],
            "text/html": [
              "<pre style=\"white-space:pre;overflow-x:auto;line-height:normal;font-family:Menlo,'DejaVu Sans Mono',consolas,'Courier New',monospace\"></pre>\n"
            ]
          },
          "metadata": {}
        },
        {
          "output_type": "display_data",
          "data": {
            "text/plain": [],
            "text/html": [
              "<pre style=\"white-space:pre;overflow-x:auto;line-height:normal;font-family:Menlo,'DejaVu Sans Mono',consolas,'Courier New',monospace\"></pre>\n"
            ]
          },
          "metadata": {}
        },
        {
          "output_type": "display_data",
          "data": {
            "text/plain": [],
            "text/html": [
              "<pre style=\"white-space:pre;overflow-x:auto;line-height:normal;font-family:Menlo,'DejaVu Sans Mono',consolas,'Courier New',monospace\"></pre>\n"
            ]
          },
          "metadata": {}
        },
        {
          "output_type": "display_data",
          "data": {
            "text/plain": [],
            "text/html": [
              "<pre style=\"white-space:pre;overflow-x:auto;line-height:normal;font-family:Menlo,'DejaVu Sans Mono',consolas,'Courier New',monospace\"></pre>\n"
            ]
          },
          "metadata": {}
        },
        {
          "output_type": "display_data",
          "data": {
            "text/plain": [],
            "text/html": [
              "<pre style=\"white-space:pre;overflow-x:auto;line-height:normal;font-family:Menlo,'DejaVu Sans Mono',consolas,'Courier New',monospace\"></pre>\n"
            ]
          },
          "metadata": {}
        },
        {
          "output_type": "display_data",
          "data": {
            "text/plain": [],
            "text/html": [
              "<pre style=\"white-space:pre;overflow-x:auto;line-height:normal;font-family:Menlo,'DejaVu Sans Mono',consolas,'Courier New',monospace\"></pre>\n"
            ]
          },
          "metadata": {}
        },
        {
          "output_type": "display_data",
          "data": {
            "text/plain": [],
            "text/html": [
              "<pre style=\"white-space:pre;overflow-x:auto;line-height:normal;font-family:Menlo,'DejaVu Sans Mono',consolas,'Courier New',monospace\"></pre>\n"
            ]
          },
          "metadata": {}
        },
        {
          "output_type": "display_data",
          "data": {
            "text/plain": [],
            "text/html": [
              "<pre style=\"white-space:pre;overflow-x:auto;line-height:normal;font-family:Menlo,'DejaVu Sans Mono',consolas,'Courier New',monospace\"></pre>\n"
            ]
          },
          "metadata": {}
        },
        {
          "output_type": "display_data",
          "data": {
            "text/plain": [],
            "text/html": [
              "<pre style=\"white-space:pre;overflow-x:auto;line-height:normal;font-family:Menlo,'DejaVu Sans Mono',consolas,'Courier New',monospace\"></pre>\n"
            ]
          },
          "metadata": {}
        },
        {
          "output_type": "display_data",
          "data": {
            "text/plain": [],
            "text/html": [
              "<pre style=\"white-space:pre;overflow-x:auto;line-height:normal;font-family:Menlo,'DejaVu Sans Mono',consolas,'Courier New',monospace\"></pre>\n"
            ]
          },
          "metadata": {}
        },
        {
          "output_type": "display_data",
          "data": {
            "text/plain": [],
            "text/html": [
              "<pre style=\"white-space:pre;overflow-x:auto;line-height:normal;font-family:Menlo,'DejaVu Sans Mono',consolas,'Courier New',monospace\"></pre>\n"
            ]
          },
          "metadata": {}
        },
        {
          "output_type": "display_data",
          "data": {
            "text/plain": [],
            "text/html": [
              "<pre style=\"white-space:pre;overflow-x:auto;line-height:normal;font-family:Menlo,'DejaVu Sans Mono',consolas,'Courier New',monospace\"></pre>\n"
            ]
          },
          "metadata": {}
        },
        {
          "output_type": "display_data",
          "data": {
            "text/plain": [],
            "text/html": [
              "<pre style=\"white-space:pre;overflow-x:auto;line-height:normal;font-family:Menlo,'DejaVu Sans Mono',consolas,'Courier New',monospace\"></pre>\n"
            ]
          },
          "metadata": {}
        },
        {
          "output_type": "display_data",
          "data": {
            "text/plain": [],
            "text/html": [
              "<pre style=\"white-space:pre;overflow-x:auto;line-height:normal;font-family:Menlo,'DejaVu Sans Mono',consolas,'Courier New',monospace\"></pre>\n"
            ]
          },
          "metadata": {}
        },
        {
          "output_type": "display_data",
          "data": {
            "text/plain": [],
            "text/html": [
              "<pre style=\"white-space:pre;overflow-x:auto;line-height:normal;font-family:Menlo,'DejaVu Sans Mono',consolas,'Courier New',monospace\"></pre>\n"
            ]
          },
          "metadata": {}
        },
        {
          "output_type": "display_data",
          "data": {
            "text/plain": [],
            "text/html": [
              "<pre style=\"white-space:pre;overflow-x:auto;line-height:normal;font-family:Menlo,'DejaVu Sans Mono',consolas,'Courier New',monospace\"></pre>\n"
            ]
          },
          "metadata": {}
        },
        {
          "output_type": "display_data",
          "data": {
            "text/plain": [],
            "text/html": [
              "<pre style=\"white-space:pre;overflow-x:auto;line-height:normal;font-family:Menlo,'DejaVu Sans Mono',consolas,'Courier New',monospace\"></pre>\n"
            ]
          },
          "metadata": {}
        },
        {
          "output_type": "display_data",
          "data": {
            "text/plain": [],
            "text/html": [
              "<pre style=\"white-space:pre;overflow-x:auto;line-height:normal;font-family:Menlo,'DejaVu Sans Mono',consolas,'Courier New',monospace\"></pre>\n"
            ]
          },
          "metadata": {}
        },
        {
          "output_type": "display_data",
          "data": {
            "text/plain": [],
            "text/html": [
              "<pre style=\"white-space:pre;overflow-x:auto;line-height:normal;font-family:Menlo,'DejaVu Sans Mono',consolas,'Courier New',monospace\"></pre>\n"
            ]
          },
          "metadata": {}
        },
        {
          "output_type": "display_data",
          "data": {
            "text/plain": [],
            "text/html": [
              "<pre style=\"white-space:pre;overflow-x:auto;line-height:normal;font-family:Menlo,'DejaVu Sans Mono',consolas,'Courier New',monospace\"></pre>\n"
            ]
          },
          "metadata": {}
        },
        {
          "output_type": "display_data",
          "data": {
            "text/plain": [],
            "text/html": [
              "<pre style=\"white-space:pre;overflow-x:auto;line-height:normal;font-family:Menlo,'DejaVu Sans Mono',consolas,'Courier New',monospace\"></pre>\n"
            ]
          },
          "metadata": {}
        },
        {
          "output_type": "display_data",
          "data": {
            "text/plain": [],
            "text/html": [
              "<pre style=\"white-space:pre;overflow-x:auto;line-height:normal;font-family:Menlo,'DejaVu Sans Mono',consolas,'Courier New',monospace\"></pre>\n"
            ]
          },
          "metadata": {}
        },
        {
          "output_type": "display_data",
          "data": {
            "text/plain": [],
            "text/html": [
              "<pre style=\"white-space:pre;overflow-x:auto;line-height:normal;font-family:Menlo,'DejaVu Sans Mono',consolas,'Courier New',monospace\"></pre>\n"
            ]
          },
          "metadata": {}
        },
        {
          "output_type": "display_data",
          "data": {
            "text/plain": [],
            "text/html": [
              "<pre style=\"white-space:pre;overflow-x:auto;line-height:normal;font-family:Menlo,'DejaVu Sans Mono',consolas,'Courier New',monospace\"></pre>\n"
            ]
          },
          "metadata": {}
        },
        {
          "output_type": "display_data",
          "data": {
            "text/plain": [],
            "text/html": [
              "<pre style=\"white-space:pre;overflow-x:auto;line-height:normal;font-family:Menlo,'DejaVu Sans Mono',consolas,'Courier New',monospace\"></pre>\n"
            ]
          },
          "metadata": {}
        },
        {
          "output_type": "display_data",
          "data": {
            "text/plain": [],
            "text/html": [
              "<pre style=\"white-space:pre;overflow-x:auto;line-height:normal;font-family:Menlo,'DejaVu Sans Mono',consolas,'Courier New',monospace\"></pre>\n"
            ]
          },
          "metadata": {}
        },
        {
          "output_type": "display_data",
          "data": {
            "text/plain": [],
            "text/html": [
              "<pre style=\"white-space:pre;overflow-x:auto;line-height:normal;font-family:Menlo,'DejaVu Sans Mono',consolas,'Courier New',monospace\"></pre>\n"
            ]
          },
          "metadata": {}
        },
        {
          "output_type": "display_data",
          "data": {
            "text/plain": [],
            "text/html": [
              "<pre style=\"white-space:pre;overflow-x:auto;line-height:normal;font-family:Menlo,'DejaVu Sans Mono',consolas,'Courier New',monospace\"></pre>\n"
            ]
          },
          "metadata": {}
        },
        {
          "output_type": "display_data",
          "data": {
            "text/plain": [],
            "text/html": [
              "<pre style=\"white-space:pre;overflow-x:auto;line-height:normal;font-family:Menlo,'DejaVu Sans Mono',consolas,'Courier New',monospace\"></pre>\n"
            ]
          },
          "metadata": {}
        },
        {
          "output_type": "display_data",
          "data": {
            "text/plain": [],
            "text/html": [
              "<pre style=\"white-space:pre;overflow-x:auto;line-height:normal;font-family:Menlo,'DejaVu Sans Mono',consolas,'Courier New',monospace\"></pre>\n"
            ]
          },
          "metadata": {}
        },
        {
          "output_type": "display_data",
          "data": {
            "text/plain": [],
            "text/html": [
              "<pre style=\"white-space:pre;overflow-x:auto;line-height:normal;font-family:Menlo,'DejaVu Sans Mono',consolas,'Courier New',monospace\"></pre>\n"
            ]
          },
          "metadata": {}
        },
        {
          "output_type": "display_data",
          "data": {
            "text/plain": [],
            "text/html": [
              "<pre style=\"white-space:pre;overflow-x:auto;line-height:normal;font-family:Menlo,'DejaVu Sans Mono',consolas,'Courier New',monospace\"></pre>\n"
            ]
          },
          "metadata": {}
        },
        {
          "output_type": "display_data",
          "data": {
            "text/plain": [],
            "text/html": [
              "<pre style=\"white-space:pre;overflow-x:auto;line-height:normal;font-family:Menlo,'DejaVu Sans Mono',consolas,'Courier New',monospace\"></pre>\n"
            ]
          },
          "metadata": {}
        },
        {
          "output_type": "display_data",
          "data": {
            "text/plain": [],
            "text/html": [
              "<pre style=\"white-space:pre;overflow-x:auto;line-height:normal;font-family:Menlo,'DejaVu Sans Mono',consolas,'Courier New',monospace\"></pre>\n"
            ]
          },
          "metadata": {}
        },
        {
          "output_type": "display_data",
          "data": {
            "text/plain": [],
            "text/html": [
              "<pre style=\"white-space:pre;overflow-x:auto;line-height:normal;font-family:Menlo,'DejaVu Sans Mono',consolas,'Courier New',monospace\"></pre>\n"
            ]
          },
          "metadata": {}
        },
        {
          "output_type": "display_data",
          "data": {
            "text/plain": [],
            "text/html": [
              "<pre style=\"white-space:pre;overflow-x:auto;line-height:normal;font-family:Menlo,'DejaVu Sans Mono',consolas,'Courier New',monospace\"></pre>\n"
            ]
          },
          "metadata": {}
        },
        {
          "output_type": "display_data",
          "data": {
            "text/plain": [],
            "text/html": [
              "<pre style=\"white-space:pre;overflow-x:auto;line-height:normal;font-family:Menlo,'DejaVu Sans Mono',consolas,'Courier New',monospace\"></pre>\n"
            ]
          },
          "metadata": {}
        },
        {
          "output_type": "display_data",
          "data": {
            "text/plain": [],
            "text/html": [
              "<pre style=\"white-space:pre;overflow-x:auto;line-height:normal;font-family:Menlo,'DejaVu Sans Mono',consolas,'Courier New',monospace\"></pre>\n"
            ]
          },
          "metadata": {}
        },
        {
          "output_type": "display_data",
          "data": {
            "text/plain": [],
            "text/html": [
              "<pre style=\"white-space:pre;overflow-x:auto;line-height:normal;font-family:Menlo,'DejaVu Sans Mono',consolas,'Courier New',monospace\"></pre>\n"
            ]
          },
          "metadata": {}
        },
        {
          "output_type": "display_data",
          "data": {
            "text/plain": [],
            "text/html": [
              "<pre style=\"white-space:pre;overflow-x:auto;line-height:normal;font-family:Menlo,'DejaVu Sans Mono',consolas,'Courier New',monospace\"></pre>\n"
            ]
          },
          "metadata": {}
        },
        {
          "output_type": "display_data",
          "data": {
            "text/plain": [],
            "text/html": [
              "<pre style=\"white-space:pre;overflow-x:auto;line-height:normal;font-family:Menlo,'DejaVu Sans Mono',consolas,'Courier New',monospace\"></pre>\n"
            ]
          },
          "metadata": {}
        },
        {
          "output_type": "display_data",
          "data": {
            "text/plain": [],
            "text/html": [
              "<pre style=\"white-space:pre;overflow-x:auto;line-height:normal;font-family:Menlo,'DejaVu Sans Mono',consolas,'Courier New',monospace\"></pre>\n"
            ]
          },
          "metadata": {}
        },
        {
          "output_type": "display_data",
          "data": {
            "text/plain": [],
            "text/html": [
              "<pre style=\"white-space:pre;overflow-x:auto;line-height:normal;font-family:Menlo,'DejaVu Sans Mono',consolas,'Courier New',monospace\"></pre>\n"
            ]
          },
          "metadata": {}
        },
        {
          "output_type": "display_data",
          "data": {
            "text/plain": [],
            "text/html": [
              "<pre style=\"white-space:pre;overflow-x:auto;line-height:normal;font-family:Menlo,'DejaVu Sans Mono',consolas,'Courier New',monospace\"></pre>\n"
            ]
          },
          "metadata": {}
        },
        {
          "output_type": "display_data",
          "data": {
            "text/plain": [],
            "text/html": [
              "<pre style=\"white-space:pre;overflow-x:auto;line-height:normal;font-family:Menlo,'DejaVu Sans Mono',consolas,'Courier New',monospace\"></pre>\n"
            ]
          },
          "metadata": {}
        },
        {
          "output_type": "display_data",
          "data": {
            "text/plain": [],
            "text/html": [
              "<pre style=\"white-space:pre;overflow-x:auto;line-height:normal;font-family:Menlo,'DejaVu Sans Mono',consolas,'Courier New',monospace\"></pre>\n"
            ]
          },
          "metadata": {}
        },
        {
          "output_type": "display_data",
          "data": {
            "text/plain": [],
            "text/html": [
              "<pre style=\"white-space:pre;overflow-x:auto;line-height:normal;font-family:Menlo,'DejaVu Sans Mono',consolas,'Courier New',monospace\"></pre>\n"
            ]
          },
          "metadata": {}
        },
        {
          "output_type": "display_data",
          "data": {
            "text/plain": [],
            "text/html": [
              "<pre style=\"white-space:pre;overflow-x:auto;line-height:normal;font-family:Menlo,'DejaVu Sans Mono',consolas,'Courier New',monospace\"></pre>\n"
            ]
          },
          "metadata": {}
        },
        {
          "output_type": "display_data",
          "data": {
            "text/plain": [],
            "text/html": [
              "<pre style=\"white-space:pre;overflow-x:auto;line-height:normal;font-family:Menlo,'DejaVu Sans Mono',consolas,'Courier New',monospace\"></pre>\n"
            ]
          },
          "metadata": {}
        },
        {
          "output_type": "display_data",
          "data": {
            "text/plain": [],
            "text/html": [
              "<pre style=\"white-space:pre;overflow-x:auto;line-height:normal;font-family:Menlo,'DejaVu Sans Mono',consolas,'Courier New',monospace\"></pre>\n"
            ]
          },
          "metadata": {}
        },
        {
          "output_type": "display_data",
          "data": {
            "text/plain": [],
            "text/html": [
              "<pre style=\"white-space:pre;overflow-x:auto;line-height:normal;font-family:Menlo,'DejaVu Sans Mono',consolas,'Courier New',monospace\"></pre>\n"
            ]
          },
          "metadata": {}
        },
        {
          "output_type": "display_data",
          "data": {
            "text/plain": [],
            "text/html": [
              "<pre style=\"white-space:pre;overflow-x:auto;line-height:normal;font-family:Menlo,'DejaVu Sans Mono',consolas,'Courier New',monospace\"></pre>\n"
            ]
          },
          "metadata": {}
        },
        {
          "output_type": "display_data",
          "data": {
            "text/plain": [],
            "text/html": [
              "<pre style=\"white-space:pre;overflow-x:auto;line-height:normal;font-family:Menlo,'DejaVu Sans Mono',consolas,'Courier New',monospace\"></pre>\n"
            ]
          },
          "metadata": {}
        },
        {
          "output_type": "display_data",
          "data": {
            "text/plain": [],
            "text/html": [
              "<pre style=\"white-space:pre;overflow-x:auto;line-height:normal;font-family:Menlo,'DejaVu Sans Mono',consolas,'Courier New',monospace\"></pre>\n"
            ]
          },
          "metadata": {}
        },
        {
          "output_type": "display_data",
          "data": {
            "text/plain": [],
            "text/html": [
              "<pre style=\"white-space:pre;overflow-x:auto;line-height:normal;font-family:Menlo,'DejaVu Sans Mono',consolas,'Courier New',monospace\"></pre>\n"
            ]
          },
          "metadata": {}
        },
        {
          "output_type": "display_data",
          "data": {
            "text/plain": [],
            "text/html": [
              "<pre style=\"white-space:pre;overflow-x:auto;line-height:normal;font-family:Menlo,'DejaVu Sans Mono',consolas,'Courier New',monospace\"></pre>\n"
            ]
          },
          "metadata": {}
        },
        {
          "output_type": "display_data",
          "data": {
            "text/plain": [],
            "text/html": [
              "<pre style=\"white-space:pre;overflow-x:auto;line-height:normal;font-family:Menlo,'DejaVu Sans Mono',consolas,'Courier New',monospace\"></pre>\n"
            ]
          },
          "metadata": {}
        },
        {
          "output_type": "display_data",
          "data": {
            "text/plain": [],
            "text/html": [
              "<pre style=\"white-space:pre;overflow-x:auto;line-height:normal;font-family:Menlo,'DejaVu Sans Mono',consolas,'Courier New',monospace\"></pre>\n"
            ]
          },
          "metadata": {}
        },
        {
          "output_type": "display_data",
          "data": {
            "text/plain": [],
            "text/html": [
              "<pre style=\"white-space:pre;overflow-x:auto;line-height:normal;font-family:Menlo,'DejaVu Sans Mono',consolas,'Courier New',monospace\"></pre>\n"
            ]
          },
          "metadata": {}
        },
        {
          "output_type": "display_data",
          "data": {
            "text/plain": [],
            "text/html": [
              "<pre style=\"white-space:pre;overflow-x:auto;line-height:normal;font-family:Menlo,'DejaVu Sans Mono',consolas,'Courier New',monospace\"></pre>\n"
            ]
          },
          "metadata": {}
        },
        {
          "output_type": "display_data",
          "data": {
            "text/plain": [],
            "text/html": [
              "<pre style=\"white-space:pre;overflow-x:auto;line-height:normal;font-family:Menlo,'DejaVu Sans Mono',consolas,'Courier New',monospace\"></pre>\n"
            ]
          },
          "metadata": {}
        },
        {
          "output_type": "display_data",
          "data": {
            "text/plain": [],
            "text/html": [
              "<pre style=\"white-space:pre;overflow-x:auto;line-height:normal;font-family:Menlo,'DejaVu Sans Mono',consolas,'Courier New',monospace\"></pre>\n"
            ]
          },
          "metadata": {}
        },
        {
          "output_type": "display_data",
          "data": {
            "text/plain": [],
            "text/html": [
              "<pre style=\"white-space:pre;overflow-x:auto;line-height:normal;font-family:Menlo,'DejaVu Sans Mono',consolas,'Courier New',monospace\"></pre>\n"
            ]
          },
          "metadata": {}
        },
        {
          "output_type": "display_data",
          "data": {
            "text/plain": [],
            "text/html": [
              "<pre style=\"white-space:pre;overflow-x:auto;line-height:normal;font-family:Menlo,'DejaVu Sans Mono',consolas,'Courier New',monospace\"></pre>\n"
            ]
          },
          "metadata": {}
        },
        {
          "output_type": "display_data",
          "data": {
            "text/plain": [],
            "text/html": [
              "<pre style=\"white-space:pre;overflow-x:auto;line-height:normal;font-family:Menlo,'DejaVu Sans Mono',consolas,'Courier New',monospace\"></pre>\n"
            ]
          },
          "metadata": {}
        },
        {
          "output_type": "display_data",
          "data": {
            "text/plain": [],
            "text/html": [
              "<pre style=\"white-space:pre;overflow-x:auto;line-height:normal;font-family:Menlo,'DejaVu Sans Mono',consolas,'Courier New',monospace\"></pre>\n"
            ]
          },
          "metadata": {}
        },
        {
          "output_type": "display_data",
          "data": {
            "text/plain": [],
            "text/html": [
              "<pre style=\"white-space:pre;overflow-x:auto;line-height:normal;font-family:Menlo,'DejaVu Sans Mono',consolas,'Courier New',monospace\"></pre>\n"
            ]
          },
          "metadata": {}
        },
        {
          "output_type": "display_data",
          "data": {
            "text/plain": [],
            "text/html": [
              "<pre style=\"white-space:pre;overflow-x:auto;line-height:normal;font-family:Menlo,'DejaVu Sans Mono',consolas,'Courier New',monospace\"></pre>\n"
            ]
          },
          "metadata": {}
        },
        {
          "output_type": "display_data",
          "data": {
            "text/plain": [],
            "text/html": [
              "<pre style=\"white-space:pre;overflow-x:auto;line-height:normal;font-family:Menlo,'DejaVu Sans Mono',consolas,'Courier New',monospace\"></pre>\n"
            ]
          },
          "metadata": {}
        },
        {
          "output_type": "display_data",
          "data": {
            "text/plain": [],
            "text/html": [
              "<pre style=\"white-space:pre;overflow-x:auto;line-height:normal;font-family:Menlo,'DejaVu Sans Mono',consolas,'Courier New',monospace\"></pre>\n"
            ]
          },
          "metadata": {}
        },
        {
          "output_type": "display_data",
          "data": {
            "text/plain": [],
            "text/html": [
              "<pre style=\"white-space:pre;overflow-x:auto;line-height:normal;font-family:Menlo,'DejaVu Sans Mono',consolas,'Courier New',monospace\"></pre>\n"
            ]
          },
          "metadata": {}
        },
        {
          "output_type": "display_data",
          "data": {
            "text/plain": [],
            "text/html": [
              "<pre style=\"white-space:pre;overflow-x:auto;line-height:normal;font-family:Menlo,'DejaVu Sans Mono',consolas,'Courier New',monospace\"></pre>\n"
            ]
          },
          "metadata": {}
        },
        {
          "output_type": "display_data",
          "data": {
            "text/plain": [],
            "text/html": [
              "<pre style=\"white-space:pre;overflow-x:auto;line-height:normal;font-family:Menlo,'DejaVu Sans Mono',consolas,'Courier New',monospace\"></pre>\n"
            ]
          },
          "metadata": {}
        },
        {
          "output_type": "display_data",
          "data": {
            "text/plain": [],
            "text/html": [
              "<pre style=\"white-space:pre;overflow-x:auto;line-height:normal;font-family:Menlo,'DejaVu Sans Mono',consolas,'Courier New',monospace\"></pre>\n"
            ]
          },
          "metadata": {}
        },
        {
          "output_type": "display_data",
          "data": {
            "text/plain": [],
            "text/html": [
              "<pre style=\"white-space:pre;overflow-x:auto;line-height:normal;font-family:Menlo,'DejaVu Sans Mono',consolas,'Courier New',monospace\"></pre>\n"
            ]
          },
          "metadata": {}
        },
        {
          "output_type": "display_data",
          "data": {
            "text/plain": [],
            "text/html": [
              "<pre style=\"white-space:pre;overflow-x:auto;line-height:normal;font-family:Menlo,'DejaVu Sans Mono',consolas,'Courier New',monospace\"></pre>\n"
            ]
          },
          "metadata": {}
        },
        {
          "output_type": "display_data",
          "data": {
            "text/plain": [],
            "text/html": [
              "<pre style=\"white-space:pre;overflow-x:auto;line-height:normal;font-family:Menlo,'DejaVu Sans Mono',consolas,'Courier New',monospace\"></pre>\n"
            ]
          },
          "metadata": {}
        },
        {
          "output_type": "display_data",
          "data": {
            "text/plain": [],
            "text/html": [
              "<pre style=\"white-space:pre;overflow-x:auto;line-height:normal;font-family:Menlo,'DejaVu Sans Mono',consolas,'Courier New',monospace\"></pre>\n"
            ]
          },
          "metadata": {}
        },
        {
          "output_type": "display_data",
          "data": {
            "text/plain": [],
            "text/html": [
              "<pre style=\"white-space:pre;overflow-x:auto;line-height:normal;font-family:Menlo,'DejaVu Sans Mono',consolas,'Courier New',monospace\"></pre>\n"
            ]
          },
          "metadata": {}
        },
        {
          "output_type": "display_data",
          "data": {
            "text/plain": [],
            "text/html": [
              "<pre style=\"white-space:pre;overflow-x:auto;line-height:normal;font-family:Menlo,'DejaVu Sans Mono',consolas,'Courier New',monospace\"></pre>\n"
            ]
          },
          "metadata": {}
        },
        {
          "output_type": "display_data",
          "data": {
            "text/plain": [],
            "text/html": [
              "<pre style=\"white-space:pre;overflow-x:auto;line-height:normal;font-family:Menlo,'DejaVu Sans Mono',consolas,'Courier New',monospace\"></pre>\n"
            ]
          },
          "metadata": {}
        },
        {
          "output_type": "display_data",
          "data": {
            "text/plain": [],
            "text/html": [
              "<pre style=\"white-space:pre;overflow-x:auto;line-height:normal;font-family:Menlo,'DejaVu Sans Mono',consolas,'Courier New',monospace\"></pre>\n"
            ]
          },
          "metadata": {}
        },
        {
          "output_type": "display_data",
          "data": {
            "text/plain": [],
            "text/html": [
              "<pre style=\"white-space:pre;overflow-x:auto;line-height:normal;font-family:Menlo,'DejaVu Sans Mono',consolas,'Courier New',monospace\"></pre>\n"
            ]
          },
          "metadata": {}
        },
        {
          "output_type": "display_data",
          "data": {
            "text/plain": [],
            "text/html": [
              "<pre style=\"white-space:pre;overflow-x:auto;line-height:normal;font-family:Menlo,'DejaVu Sans Mono',consolas,'Courier New',monospace\"></pre>\n"
            ]
          },
          "metadata": {}
        },
        {
          "output_type": "display_data",
          "data": {
            "text/plain": [],
            "text/html": [
              "<pre style=\"white-space:pre;overflow-x:auto;line-height:normal;font-family:Menlo,'DejaVu Sans Mono',consolas,'Courier New',monospace\"></pre>\n"
            ]
          },
          "metadata": {}
        },
        {
          "output_type": "display_data",
          "data": {
            "text/plain": [],
            "text/html": [
              "<pre style=\"white-space:pre;overflow-x:auto;line-height:normal;font-family:Menlo,'DejaVu Sans Mono',consolas,'Courier New',monospace\"></pre>\n"
            ]
          },
          "metadata": {}
        },
        {
          "output_type": "display_data",
          "data": {
            "text/plain": [],
            "text/html": [
              "<pre style=\"white-space:pre;overflow-x:auto;line-height:normal;font-family:Menlo,'DejaVu Sans Mono',consolas,'Courier New',monospace\"></pre>\n"
            ]
          },
          "metadata": {}
        },
        {
          "output_type": "display_data",
          "data": {
            "text/plain": [],
            "text/html": [
              "<pre style=\"white-space:pre;overflow-x:auto;line-height:normal;font-family:Menlo,'DejaVu Sans Mono',consolas,'Courier New',monospace\"></pre>\n"
            ]
          },
          "metadata": {}
        },
        {
          "output_type": "display_data",
          "data": {
            "text/plain": [],
            "text/html": [
              "<pre style=\"white-space:pre;overflow-x:auto;line-height:normal;font-family:Menlo,'DejaVu Sans Mono',consolas,'Courier New',monospace\"></pre>\n"
            ]
          },
          "metadata": {}
        },
        {
          "output_type": "display_data",
          "data": {
            "text/plain": [],
            "text/html": [
              "<pre style=\"white-space:pre;overflow-x:auto;line-height:normal;font-family:Menlo,'DejaVu Sans Mono',consolas,'Courier New',monospace\"></pre>\n"
            ]
          },
          "metadata": {}
        },
        {
          "output_type": "display_data",
          "data": {
            "text/plain": [],
            "text/html": [
              "<pre style=\"white-space:pre;overflow-x:auto;line-height:normal;font-family:Menlo,'DejaVu Sans Mono',consolas,'Courier New',monospace\"></pre>\n"
            ]
          },
          "metadata": {}
        },
        {
          "output_type": "display_data",
          "data": {
            "text/plain": [],
            "text/html": [
              "<pre style=\"white-space:pre;overflow-x:auto;line-height:normal;font-family:Menlo,'DejaVu Sans Mono',consolas,'Courier New',monospace\"></pre>\n"
            ]
          },
          "metadata": {}
        },
        {
          "output_type": "display_data",
          "data": {
            "text/plain": [],
            "text/html": [
              "<pre style=\"white-space:pre;overflow-x:auto;line-height:normal;font-family:Menlo,'DejaVu Sans Mono',consolas,'Courier New',monospace\"></pre>\n"
            ]
          },
          "metadata": {}
        },
        {
          "output_type": "display_data",
          "data": {
            "text/plain": [],
            "text/html": [
              "<pre style=\"white-space:pre;overflow-x:auto;line-height:normal;font-family:Menlo,'DejaVu Sans Mono',consolas,'Courier New',monospace\"></pre>\n"
            ]
          },
          "metadata": {}
        },
        {
          "output_type": "display_data",
          "data": {
            "text/plain": [],
            "text/html": [
              "<pre style=\"white-space:pre;overflow-x:auto;line-height:normal;font-family:Menlo,'DejaVu Sans Mono',consolas,'Courier New',monospace\"></pre>\n"
            ]
          },
          "metadata": {}
        },
        {
          "output_type": "display_data",
          "data": {
            "text/plain": [],
            "text/html": [
              "<pre style=\"white-space:pre;overflow-x:auto;line-height:normal;font-family:Menlo,'DejaVu Sans Mono',consolas,'Courier New',monospace\"></pre>\n"
            ]
          },
          "metadata": {}
        },
        {
          "output_type": "display_data",
          "data": {
            "text/plain": [],
            "text/html": [
              "<pre style=\"white-space:pre;overflow-x:auto;line-height:normal;font-family:Menlo,'DejaVu Sans Mono',consolas,'Courier New',monospace\"></pre>\n"
            ]
          },
          "metadata": {}
        },
        {
          "output_type": "display_data",
          "data": {
            "text/plain": [],
            "text/html": [
              "<pre style=\"white-space:pre;overflow-x:auto;line-height:normal;font-family:Menlo,'DejaVu Sans Mono',consolas,'Courier New',monospace\"></pre>\n"
            ]
          },
          "metadata": {}
        },
        {
          "output_type": "display_data",
          "data": {
            "text/plain": [],
            "text/html": [
              "<pre style=\"white-space:pre;overflow-x:auto;line-height:normal;font-family:Menlo,'DejaVu Sans Mono',consolas,'Courier New',monospace\"></pre>\n"
            ]
          },
          "metadata": {}
        },
        {
          "output_type": "display_data",
          "data": {
            "text/plain": [],
            "text/html": [
              "<pre style=\"white-space:pre;overflow-x:auto;line-height:normal;font-family:Menlo,'DejaVu Sans Mono',consolas,'Courier New',monospace\"></pre>\n"
            ]
          },
          "metadata": {}
        },
        {
          "output_type": "display_data",
          "data": {
            "text/plain": [],
            "text/html": [
              "<pre style=\"white-space:pre;overflow-x:auto;line-height:normal;font-family:Menlo,'DejaVu Sans Mono',consolas,'Courier New',monospace\"></pre>\n"
            ]
          },
          "metadata": {}
        },
        {
          "output_type": "display_data",
          "data": {
            "text/plain": [],
            "text/html": [
              "<pre style=\"white-space:pre;overflow-x:auto;line-height:normal;font-family:Menlo,'DejaVu Sans Mono',consolas,'Courier New',monospace\"></pre>\n"
            ]
          },
          "metadata": {}
        },
        {
          "output_type": "display_data",
          "data": {
            "text/plain": [],
            "text/html": [
              "<pre style=\"white-space:pre;overflow-x:auto;line-height:normal;font-family:Menlo,'DejaVu Sans Mono',consolas,'Courier New',monospace\"></pre>\n"
            ]
          },
          "metadata": {}
        },
        {
          "output_type": "display_data",
          "data": {
            "text/plain": [],
            "text/html": [
              "<pre style=\"white-space:pre;overflow-x:auto;line-height:normal;font-family:Menlo,'DejaVu Sans Mono',consolas,'Courier New',monospace\"></pre>\n"
            ]
          },
          "metadata": {}
        },
        {
          "output_type": "display_data",
          "data": {
            "text/plain": [],
            "text/html": [
              "<pre style=\"white-space:pre;overflow-x:auto;line-height:normal;font-family:Menlo,'DejaVu Sans Mono',consolas,'Courier New',monospace\"></pre>\n"
            ]
          },
          "metadata": {}
        },
        {
          "output_type": "display_data",
          "data": {
            "text/plain": [],
            "text/html": [
              "<pre style=\"white-space:pre;overflow-x:auto;line-height:normal;font-family:Menlo,'DejaVu Sans Mono',consolas,'Courier New',monospace\"></pre>\n"
            ]
          },
          "metadata": {}
        },
        {
          "output_type": "display_data",
          "data": {
            "text/plain": [],
            "text/html": [
              "<pre style=\"white-space:pre;overflow-x:auto;line-height:normal;font-family:Menlo,'DejaVu Sans Mono',consolas,'Courier New',monospace\"></pre>\n"
            ]
          },
          "metadata": {}
        },
        {
          "output_type": "display_data",
          "data": {
            "text/plain": [],
            "text/html": [
              "<pre style=\"white-space:pre;overflow-x:auto;line-height:normal;font-family:Menlo,'DejaVu Sans Mono',consolas,'Courier New',monospace\"></pre>\n"
            ]
          },
          "metadata": {}
        },
        {
          "output_type": "display_data",
          "data": {
            "text/plain": [],
            "text/html": [
              "<pre style=\"white-space:pre;overflow-x:auto;line-height:normal;font-family:Menlo,'DejaVu Sans Mono',consolas,'Courier New',monospace\"></pre>\n"
            ]
          },
          "metadata": {}
        },
        {
          "output_type": "display_data",
          "data": {
            "text/plain": [],
            "text/html": [
              "<pre style=\"white-space:pre;overflow-x:auto;line-height:normal;font-family:Menlo,'DejaVu Sans Mono',consolas,'Courier New',monospace\"></pre>\n"
            ]
          },
          "metadata": {}
        },
        {
          "output_type": "display_data",
          "data": {
            "text/plain": [],
            "text/html": [
              "<pre style=\"white-space:pre;overflow-x:auto;line-height:normal;font-family:Menlo,'DejaVu Sans Mono',consolas,'Courier New',monospace\"></pre>\n"
            ]
          },
          "metadata": {}
        },
        {
          "output_type": "display_data",
          "data": {
            "text/plain": [],
            "text/html": [
              "<pre style=\"white-space:pre;overflow-x:auto;line-height:normal;font-family:Menlo,'DejaVu Sans Mono',consolas,'Courier New',monospace\"></pre>\n"
            ]
          },
          "metadata": {}
        },
        {
          "output_type": "display_data",
          "data": {
            "text/plain": [],
            "text/html": [
              "<pre style=\"white-space:pre;overflow-x:auto;line-height:normal;font-family:Menlo,'DejaVu Sans Mono',consolas,'Courier New',monospace\"></pre>\n"
            ]
          },
          "metadata": {}
        },
        {
          "output_type": "display_data",
          "data": {
            "text/plain": [],
            "text/html": [
              "<pre style=\"white-space:pre;overflow-x:auto;line-height:normal;font-family:Menlo,'DejaVu Sans Mono',consolas,'Courier New',monospace\"></pre>\n"
            ]
          },
          "metadata": {}
        },
        {
          "output_type": "display_data",
          "data": {
            "text/plain": [],
            "text/html": [
              "<pre style=\"white-space:pre;overflow-x:auto;line-height:normal;font-family:Menlo,'DejaVu Sans Mono',consolas,'Courier New',monospace\"></pre>\n"
            ]
          },
          "metadata": {}
        },
        {
          "output_type": "display_data",
          "data": {
            "text/plain": [],
            "text/html": [
              "<pre style=\"white-space:pre;overflow-x:auto;line-height:normal;font-family:Menlo,'DejaVu Sans Mono',consolas,'Courier New',monospace\"></pre>\n"
            ]
          },
          "metadata": {}
        },
        {
          "output_type": "display_data",
          "data": {
            "text/plain": [],
            "text/html": [
              "<pre style=\"white-space:pre;overflow-x:auto;line-height:normal;font-family:Menlo,'DejaVu Sans Mono',consolas,'Courier New',monospace\"></pre>\n"
            ]
          },
          "metadata": {}
        },
        {
          "output_type": "display_data",
          "data": {
            "text/plain": [],
            "text/html": [
              "<pre style=\"white-space:pre;overflow-x:auto;line-height:normal;font-family:Menlo,'DejaVu Sans Mono',consolas,'Courier New',monospace\"></pre>\n"
            ]
          },
          "metadata": {}
        },
        {
          "output_type": "display_data",
          "data": {
            "text/plain": [],
            "text/html": [
              "<pre style=\"white-space:pre;overflow-x:auto;line-height:normal;font-family:Menlo,'DejaVu Sans Mono',consolas,'Courier New',monospace\"></pre>\n"
            ]
          },
          "metadata": {}
        },
        {
          "output_type": "display_data",
          "data": {
            "text/plain": [],
            "text/html": [
              "<pre style=\"white-space:pre;overflow-x:auto;line-height:normal;font-family:Menlo,'DejaVu Sans Mono',consolas,'Courier New',monospace\"></pre>\n"
            ]
          },
          "metadata": {}
        },
        {
          "output_type": "display_data",
          "data": {
            "text/plain": [],
            "text/html": [
              "<pre style=\"white-space:pre;overflow-x:auto;line-height:normal;font-family:Menlo,'DejaVu Sans Mono',consolas,'Courier New',monospace\"></pre>\n"
            ]
          },
          "metadata": {}
        },
        {
          "output_type": "display_data",
          "data": {
            "text/plain": [],
            "text/html": [
              "<pre style=\"white-space:pre;overflow-x:auto;line-height:normal;font-family:Menlo,'DejaVu Sans Mono',consolas,'Courier New',monospace\"></pre>\n"
            ]
          },
          "metadata": {}
        },
        {
          "output_type": "display_data",
          "data": {
            "text/plain": [],
            "text/html": [
              "<pre style=\"white-space:pre;overflow-x:auto;line-height:normal;font-family:Menlo,'DejaVu Sans Mono',consolas,'Courier New',monospace\"></pre>\n"
            ]
          },
          "metadata": {}
        },
        {
          "output_type": "display_data",
          "data": {
            "text/plain": [],
            "text/html": [
              "<pre style=\"white-space:pre;overflow-x:auto;line-height:normal;font-family:Menlo,'DejaVu Sans Mono',consolas,'Courier New',monospace\"></pre>\n"
            ]
          },
          "metadata": {}
        },
        {
          "output_type": "display_data",
          "data": {
            "text/plain": [],
            "text/html": [
              "<pre style=\"white-space:pre;overflow-x:auto;line-height:normal;font-family:Menlo,'DejaVu Sans Mono',consolas,'Courier New',monospace\"></pre>\n"
            ]
          },
          "metadata": {}
        },
        {
          "output_type": "display_data",
          "data": {
            "text/plain": [],
            "text/html": [
              "<pre style=\"white-space:pre;overflow-x:auto;line-height:normal;font-family:Menlo,'DejaVu Sans Mono',consolas,'Courier New',monospace\"></pre>\n"
            ]
          },
          "metadata": {}
        },
        {
          "output_type": "display_data",
          "data": {
            "text/plain": [],
            "text/html": [
              "<pre style=\"white-space:pre;overflow-x:auto;line-height:normal;font-family:Menlo,'DejaVu Sans Mono',consolas,'Courier New',monospace\"></pre>\n"
            ]
          },
          "metadata": {}
        },
        {
          "output_type": "display_data",
          "data": {
            "text/plain": [],
            "text/html": [
              "<pre style=\"white-space:pre;overflow-x:auto;line-height:normal;font-family:Menlo,'DejaVu Sans Mono',consolas,'Courier New',monospace\"></pre>\n"
            ]
          },
          "metadata": {}
        },
        {
          "output_type": "display_data",
          "data": {
            "text/plain": [],
            "text/html": [
              "<pre style=\"white-space:pre;overflow-x:auto;line-height:normal;font-family:Menlo,'DejaVu Sans Mono',consolas,'Courier New',monospace\"></pre>\n"
            ]
          },
          "metadata": {}
        },
        {
          "output_type": "display_data",
          "data": {
            "text/plain": [],
            "text/html": [
              "<pre style=\"white-space:pre;overflow-x:auto;line-height:normal;font-family:Menlo,'DejaVu Sans Mono',consolas,'Courier New',monospace\"></pre>\n"
            ]
          },
          "metadata": {}
        },
        {
          "output_type": "display_data",
          "data": {
            "text/plain": [],
            "text/html": [
              "<pre style=\"white-space:pre;overflow-x:auto;line-height:normal;font-family:Menlo,'DejaVu Sans Mono',consolas,'Courier New',monospace\"></pre>\n"
            ]
          },
          "metadata": {}
        },
        {
          "output_type": "display_data",
          "data": {
            "text/plain": [],
            "text/html": [
              "<pre style=\"white-space:pre;overflow-x:auto;line-height:normal;font-family:Menlo,'DejaVu Sans Mono',consolas,'Courier New',monospace\"></pre>\n"
            ]
          },
          "metadata": {}
        },
        {
          "output_type": "display_data",
          "data": {
            "text/plain": [],
            "text/html": [
              "<pre style=\"white-space:pre;overflow-x:auto;line-height:normal;font-family:Menlo,'DejaVu Sans Mono',consolas,'Courier New',monospace\"></pre>\n"
            ]
          },
          "metadata": {}
        },
        {
          "output_type": "display_data",
          "data": {
            "text/plain": [],
            "text/html": [
              "<pre style=\"white-space:pre;overflow-x:auto;line-height:normal;font-family:Menlo,'DejaVu Sans Mono',consolas,'Courier New',monospace\"></pre>\n"
            ]
          },
          "metadata": {}
        },
        {
          "output_type": "display_data",
          "data": {
            "text/plain": [],
            "text/html": [
              "<pre style=\"white-space:pre;overflow-x:auto;line-height:normal;font-family:Menlo,'DejaVu Sans Mono',consolas,'Courier New',monospace\"></pre>\n"
            ]
          },
          "metadata": {}
        },
        {
          "output_type": "display_data",
          "data": {
            "text/plain": [],
            "text/html": [
              "<pre style=\"white-space:pre;overflow-x:auto;line-height:normal;font-family:Menlo,'DejaVu Sans Mono',consolas,'Courier New',monospace\"></pre>\n"
            ]
          },
          "metadata": {}
        },
        {
          "output_type": "display_data",
          "data": {
            "text/plain": [],
            "text/html": [
              "<pre style=\"white-space:pre;overflow-x:auto;line-height:normal;font-family:Menlo,'DejaVu Sans Mono',consolas,'Courier New',monospace\"></pre>\n"
            ]
          },
          "metadata": {}
        },
        {
          "output_type": "display_data",
          "data": {
            "text/plain": [],
            "text/html": [
              "<pre style=\"white-space:pre;overflow-x:auto;line-height:normal;font-family:Menlo,'DejaVu Sans Mono',consolas,'Courier New',monospace\"></pre>\n"
            ]
          },
          "metadata": {}
        },
        {
          "output_type": "display_data",
          "data": {
            "text/plain": [],
            "text/html": [
              "<pre style=\"white-space:pre;overflow-x:auto;line-height:normal;font-family:Menlo,'DejaVu Sans Mono',consolas,'Courier New',monospace\"></pre>\n"
            ]
          },
          "metadata": {}
        },
        {
          "output_type": "display_data",
          "data": {
            "text/plain": [],
            "text/html": [
              "<pre style=\"white-space:pre;overflow-x:auto;line-height:normal;font-family:Menlo,'DejaVu Sans Mono',consolas,'Courier New',monospace\"></pre>\n"
            ]
          },
          "metadata": {}
        },
        {
          "output_type": "display_data",
          "data": {
            "text/plain": [],
            "text/html": [
              "<pre style=\"white-space:pre;overflow-x:auto;line-height:normal;font-family:Menlo,'DejaVu Sans Mono',consolas,'Courier New',monospace\"></pre>\n"
            ]
          },
          "metadata": {}
        },
        {
          "output_type": "display_data",
          "data": {
            "text/plain": [],
            "text/html": [
              "<pre style=\"white-space:pre;overflow-x:auto;line-height:normal;font-family:Menlo,'DejaVu Sans Mono',consolas,'Courier New',monospace\"></pre>\n"
            ]
          },
          "metadata": {}
        },
        {
          "output_type": "display_data",
          "data": {
            "text/plain": [],
            "text/html": [
              "<pre style=\"white-space:pre;overflow-x:auto;line-height:normal;font-family:Menlo,'DejaVu Sans Mono',consolas,'Courier New',monospace\"></pre>\n"
            ]
          },
          "metadata": {}
        },
        {
          "output_type": "display_data",
          "data": {
            "text/plain": [],
            "text/html": [
              "<pre style=\"white-space:pre;overflow-x:auto;line-height:normal;font-family:Menlo,'DejaVu Sans Mono',consolas,'Courier New',monospace\"></pre>\n"
            ]
          },
          "metadata": {}
        },
        {
          "output_type": "display_data",
          "data": {
            "text/plain": [],
            "text/html": [
              "<pre style=\"white-space:pre;overflow-x:auto;line-height:normal;font-family:Menlo,'DejaVu Sans Mono',consolas,'Courier New',monospace\"></pre>\n"
            ]
          },
          "metadata": {}
        },
        {
          "output_type": "display_data",
          "data": {
            "text/plain": [],
            "text/html": [
              "<pre style=\"white-space:pre;overflow-x:auto;line-height:normal;font-family:Menlo,'DejaVu Sans Mono',consolas,'Courier New',monospace\"></pre>\n"
            ]
          },
          "metadata": {}
        },
        {
          "output_type": "display_data",
          "data": {
            "text/plain": [],
            "text/html": [
              "<pre style=\"white-space:pre;overflow-x:auto;line-height:normal;font-family:Menlo,'DejaVu Sans Mono',consolas,'Courier New',monospace\"></pre>\n"
            ]
          },
          "metadata": {}
        },
        {
          "output_type": "display_data",
          "data": {
            "text/plain": [],
            "text/html": [
              "<pre style=\"white-space:pre;overflow-x:auto;line-height:normal;font-family:Menlo,'DejaVu Sans Mono',consolas,'Courier New',monospace\"></pre>\n"
            ]
          },
          "metadata": {}
        },
        {
          "output_type": "display_data",
          "data": {
            "text/plain": [],
            "text/html": [
              "<pre style=\"white-space:pre;overflow-x:auto;line-height:normal;font-family:Menlo,'DejaVu Sans Mono',consolas,'Courier New',monospace\"></pre>\n"
            ]
          },
          "metadata": {}
        },
        {
          "output_type": "display_data",
          "data": {
            "text/plain": [],
            "text/html": [
              "<pre style=\"white-space:pre;overflow-x:auto;line-height:normal;font-family:Menlo,'DejaVu Sans Mono',consolas,'Courier New',monospace\"></pre>\n"
            ]
          },
          "metadata": {}
        },
        {
          "output_type": "display_data",
          "data": {
            "text/plain": [],
            "text/html": [
              "<pre style=\"white-space:pre;overflow-x:auto;line-height:normal;font-family:Menlo,'DejaVu Sans Mono',consolas,'Courier New',monospace\"></pre>\n"
            ]
          },
          "metadata": {}
        },
        {
          "output_type": "display_data",
          "data": {
            "text/plain": [],
            "text/html": [
              "<pre style=\"white-space:pre;overflow-x:auto;line-height:normal;font-family:Menlo,'DejaVu Sans Mono',consolas,'Courier New',monospace\"></pre>\n"
            ]
          },
          "metadata": {}
        },
        {
          "output_type": "display_data",
          "data": {
            "text/plain": [],
            "text/html": [
              "<pre style=\"white-space:pre;overflow-x:auto;line-height:normal;font-family:Menlo,'DejaVu Sans Mono',consolas,'Courier New',monospace\"></pre>\n"
            ]
          },
          "metadata": {}
        },
        {
          "output_type": "display_data",
          "data": {
            "text/plain": [],
            "text/html": [
              "<pre style=\"white-space:pre;overflow-x:auto;line-height:normal;font-family:Menlo,'DejaVu Sans Mono',consolas,'Courier New',monospace\"></pre>\n"
            ]
          },
          "metadata": {}
        },
        {
          "output_type": "display_data",
          "data": {
            "text/plain": [],
            "text/html": [
              "<pre style=\"white-space:pre;overflow-x:auto;line-height:normal;font-family:Menlo,'DejaVu Sans Mono',consolas,'Courier New',monospace\"></pre>\n"
            ]
          },
          "metadata": {}
        },
        {
          "output_type": "display_data",
          "data": {
            "text/plain": [],
            "text/html": [
              "<pre style=\"white-space:pre;overflow-x:auto;line-height:normal;font-family:Menlo,'DejaVu Sans Mono',consolas,'Courier New',monospace\"></pre>\n"
            ]
          },
          "metadata": {}
        },
        {
          "output_type": "display_data",
          "data": {
            "text/plain": [],
            "text/html": [
              "<pre style=\"white-space:pre;overflow-x:auto;line-height:normal;font-family:Menlo,'DejaVu Sans Mono',consolas,'Courier New',monospace\"></pre>\n"
            ]
          },
          "metadata": {}
        },
        {
          "output_type": "display_data",
          "data": {
            "text/plain": [],
            "text/html": [
              "<pre style=\"white-space:pre;overflow-x:auto;line-height:normal;font-family:Menlo,'DejaVu Sans Mono',consolas,'Courier New',monospace\"></pre>\n"
            ]
          },
          "metadata": {}
        },
        {
          "output_type": "display_data",
          "data": {
            "text/plain": [],
            "text/html": [
              "<pre style=\"white-space:pre;overflow-x:auto;line-height:normal;font-family:Menlo,'DejaVu Sans Mono',consolas,'Courier New',monospace\"></pre>\n"
            ]
          },
          "metadata": {}
        },
        {
          "output_type": "display_data",
          "data": {
            "text/plain": [],
            "text/html": [
              "<pre style=\"white-space:pre;overflow-x:auto;line-height:normal;font-family:Menlo,'DejaVu Sans Mono',consolas,'Courier New',monospace\"></pre>\n"
            ]
          },
          "metadata": {}
        },
        {
          "output_type": "display_data",
          "data": {
            "text/plain": [],
            "text/html": [
              "<pre style=\"white-space:pre;overflow-x:auto;line-height:normal;font-family:Menlo,'DejaVu Sans Mono',consolas,'Courier New',monospace\"></pre>\n"
            ]
          },
          "metadata": {}
        },
        {
          "output_type": "display_data",
          "data": {
            "text/plain": [],
            "text/html": [
              "<pre style=\"white-space:pre;overflow-x:auto;line-height:normal;font-family:Menlo,'DejaVu Sans Mono',consolas,'Courier New',monospace\"></pre>\n"
            ]
          },
          "metadata": {}
        },
        {
          "output_type": "display_data",
          "data": {
            "text/plain": [],
            "text/html": [
              "<pre style=\"white-space:pre;overflow-x:auto;line-height:normal;font-family:Menlo,'DejaVu Sans Mono',consolas,'Courier New',monospace\"></pre>\n"
            ]
          },
          "metadata": {}
        },
        {
          "output_type": "display_data",
          "data": {
            "text/plain": [],
            "text/html": [
              "<pre style=\"white-space:pre;overflow-x:auto;line-height:normal;font-family:Menlo,'DejaVu Sans Mono',consolas,'Courier New',monospace\"></pre>\n"
            ]
          },
          "metadata": {}
        },
        {
          "output_type": "display_data",
          "data": {
            "text/plain": [],
            "text/html": [
              "<pre style=\"white-space:pre;overflow-x:auto;line-height:normal;font-family:Menlo,'DejaVu Sans Mono',consolas,'Courier New',monospace\"></pre>\n"
            ]
          },
          "metadata": {}
        },
        {
          "output_type": "display_data",
          "data": {
            "text/plain": [],
            "text/html": [
              "<pre style=\"white-space:pre;overflow-x:auto;line-height:normal;font-family:Menlo,'DejaVu Sans Mono',consolas,'Courier New',monospace\"></pre>\n"
            ]
          },
          "metadata": {}
        },
        {
          "output_type": "display_data",
          "data": {
            "text/plain": [],
            "text/html": [
              "<pre style=\"white-space:pre;overflow-x:auto;line-height:normal;font-family:Menlo,'DejaVu Sans Mono',consolas,'Courier New',monospace\"></pre>\n"
            ]
          },
          "metadata": {}
        },
        {
          "output_type": "display_data",
          "data": {
            "text/plain": [],
            "text/html": [
              "<pre style=\"white-space:pre;overflow-x:auto;line-height:normal;font-family:Menlo,'DejaVu Sans Mono',consolas,'Courier New',monospace\"></pre>\n"
            ]
          },
          "metadata": {}
        },
        {
          "output_type": "display_data",
          "data": {
            "text/plain": [],
            "text/html": [
              "<pre style=\"white-space:pre;overflow-x:auto;line-height:normal;font-family:Menlo,'DejaVu Sans Mono',consolas,'Courier New',monospace\"></pre>\n"
            ]
          },
          "metadata": {}
        },
        {
          "output_type": "display_data",
          "data": {
            "text/plain": [],
            "text/html": [
              "<pre style=\"white-space:pre;overflow-x:auto;line-height:normal;font-family:Menlo,'DejaVu Sans Mono',consolas,'Courier New',monospace\"></pre>\n"
            ]
          },
          "metadata": {}
        },
        {
          "output_type": "display_data",
          "data": {
            "text/plain": [],
            "text/html": [
              "<pre style=\"white-space:pre;overflow-x:auto;line-height:normal;font-family:Menlo,'DejaVu Sans Mono',consolas,'Courier New',monospace\"></pre>\n"
            ]
          },
          "metadata": {}
        },
        {
          "output_type": "display_data",
          "data": {
            "text/plain": [],
            "text/html": [
              "<pre style=\"white-space:pre;overflow-x:auto;line-height:normal;font-family:Menlo,'DejaVu Sans Mono',consolas,'Courier New',monospace\"></pre>\n"
            ]
          },
          "metadata": {}
        },
        {
          "output_type": "display_data",
          "data": {
            "text/plain": [],
            "text/html": [
              "<pre style=\"white-space:pre;overflow-x:auto;line-height:normal;font-family:Menlo,'DejaVu Sans Mono',consolas,'Courier New',monospace\"></pre>\n"
            ]
          },
          "metadata": {}
        },
        {
          "output_type": "display_data",
          "data": {
            "text/plain": [],
            "text/html": [
              "<pre style=\"white-space:pre;overflow-x:auto;line-height:normal;font-family:Menlo,'DejaVu Sans Mono',consolas,'Courier New',monospace\"></pre>\n"
            ]
          },
          "metadata": {}
        },
        {
          "output_type": "display_data",
          "data": {
            "text/plain": [],
            "text/html": [
              "<pre style=\"white-space:pre;overflow-x:auto;line-height:normal;font-family:Menlo,'DejaVu Sans Mono',consolas,'Courier New',monospace\"></pre>\n"
            ]
          },
          "metadata": {}
        },
        {
          "output_type": "display_data",
          "data": {
            "text/plain": [],
            "text/html": [
              "<pre style=\"white-space:pre;overflow-x:auto;line-height:normal;font-family:Menlo,'DejaVu Sans Mono',consolas,'Courier New',monospace\"></pre>\n"
            ]
          },
          "metadata": {}
        },
        {
          "output_type": "display_data",
          "data": {
            "text/plain": [],
            "text/html": [
              "<pre style=\"white-space:pre;overflow-x:auto;line-height:normal;font-family:Menlo,'DejaVu Sans Mono',consolas,'Courier New',monospace\"></pre>\n"
            ]
          },
          "metadata": {}
        },
        {
          "output_type": "display_data",
          "data": {
            "text/plain": [],
            "text/html": [
              "<pre style=\"white-space:pre;overflow-x:auto;line-height:normal;font-family:Menlo,'DejaVu Sans Mono',consolas,'Courier New',monospace\"></pre>\n"
            ]
          },
          "metadata": {}
        },
        {
          "output_type": "display_data",
          "data": {
            "text/plain": [],
            "text/html": [
              "<pre style=\"white-space:pre;overflow-x:auto;line-height:normal;font-family:Menlo,'DejaVu Sans Mono',consolas,'Courier New',monospace\"></pre>\n"
            ]
          },
          "metadata": {}
        },
        {
          "output_type": "display_data",
          "data": {
            "text/plain": [],
            "text/html": [
              "<pre style=\"white-space:pre;overflow-x:auto;line-height:normal;font-family:Menlo,'DejaVu Sans Mono',consolas,'Courier New',monospace\"></pre>\n"
            ]
          },
          "metadata": {}
        },
        {
          "output_type": "display_data",
          "data": {
            "text/plain": [],
            "text/html": [
              "<pre style=\"white-space:pre;overflow-x:auto;line-height:normal;font-family:Menlo,'DejaVu Sans Mono',consolas,'Courier New',monospace\"></pre>\n"
            ]
          },
          "metadata": {}
        },
        {
          "output_type": "display_data",
          "data": {
            "text/plain": [],
            "text/html": [
              "<pre style=\"white-space:pre;overflow-x:auto;line-height:normal;font-family:Menlo,'DejaVu Sans Mono',consolas,'Courier New',monospace\"></pre>\n"
            ]
          },
          "metadata": {}
        },
        {
          "output_type": "display_data",
          "data": {
            "text/plain": [],
            "text/html": [
              "<pre style=\"white-space:pre;overflow-x:auto;line-height:normal;font-family:Menlo,'DejaVu Sans Mono',consolas,'Courier New',monospace\"></pre>\n"
            ]
          },
          "metadata": {}
        },
        {
          "output_type": "display_data",
          "data": {
            "text/plain": [],
            "text/html": [
              "<pre style=\"white-space:pre;overflow-x:auto;line-height:normal;font-family:Menlo,'DejaVu Sans Mono',consolas,'Courier New',monospace\"></pre>\n"
            ]
          },
          "metadata": {}
        },
        {
          "output_type": "display_data",
          "data": {
            "text/plain": [],
            "text/html": [
              "<pre style=\"white-space:pre;overflow-x:auto;line-height:normal;font-family:Menlo,'DejaVu Sans Mono',consolas,'Courier New',monospace\"></pre>\n"
            ]
          },
          "metadata": {}
        },
        {
          "output_type": "display_data",
          "data": {
            "text/plain": [],
            "text/html": [
              "<pre style=\"white-space:pre;overflow-x:auto;line-height:normal;font-family:Menlo,'DejaVu Sans Mono',consolas,'Courier New',monospace\"></pre>\n"
            ]
          },
          "metadata": {}
        },
        {
          "output_type": "display_data",
          "data": {
            "text/plain": [],
            "text/html": [
              "<pre style=\"white-space:pre;overflow-x:auto;line-height:normal;font-family:Menlo,'DejaVu Sans Mono',consolas,'Courier New',monospace\"></pre>\n"
            ]
          },
          "metadata": {}
        },
        {
          "output_type": "display_data",
          "data": {
            "text/plain": [],
            "text/html": [
              "<pre style=\"white-space:pre;overflow-x:auto;line-height:normal;font-family:Menlo,'DejaVu Sans Mono',consolas,'Courier New',monospace\"></pre>\n"
            ]
          },
          "metadata": {}
        },
        {
          "output_type": "display_data",
          "data": {
            "text/plain": [],
            "text/html": [
              "<pre style=\"white-space:pre;overflow-x:auto;line-height:normal;font-family:Menlo,'DejaVu Sans Mono',consolas,'Courier New',monospace\"></pre>\n"
            ]
          },
          "metadata": {}
        },
        {
          "output_type": "display_data",
          "data": {
            "text/plain": [],
            "text/html": [
              "<pre style=\"white-space:pre;overflow-x:auto;line-height:normal;font-family:Menlo,'DejaVu Sans Mono',consolas,'Courier New',monospace\"></pre>\n"
            ]
          },
          "metadata": {}
        },
        {
          "output_type": "display_data",
          "data": {
            "text/plain": [],
            "text/html": [
              "<pre style=\"white-space:pre;overflow-x:auto;line-height:normal;font-family:Menlo,'DejaVu Sans Mono',consolas,'Courier New',monospace\"></pre>\n"
            ]
          },
          "metadata": {}
        },
        {
          "output_type": "display_data",
          "data": {
            "text/plain": [],
            "text/html": [
              "<pre style=\"white-space:pre;overflow-x:auto;line-height:normal;font-family:Menlo,'DejaVu Sans Mono',consolas,'Courier New',monospace\"></pre>\n"
            ]
          },
          "metadata": {}
        },
        {
          "output_type": "display_data",
          "data": {
            "text/plain": [],
            "text/html": [
              "<pre style=\"white-space:pre;overflow-x:auto;line-height:normal;font-family:Menlo,'DejaVu Sans Mono',consolas,'Courier New',monospace\"></pre>\n"
            ]
          },
          "metadata": {}
        },
        {
          "output_type": "display_data",
          "data": {
            "text/plain": [],
            "text/html": [
              "<pre style=\"white-space:pre;overflow-x:auto;line-height:normal;font-family:Menlo,'DejaVu Sans Mono',consolas,'Courier New',monospace\"></pre>\n"
            ]
          },
          "metadata": {}
        },
        {
          "output_type": "display_data",
          "data": {
            "text/plain": [],
            "text/html": [
              "<pre style=\"white-space:pre;overflow-x:auto;line-height:normal;font-family:Menlo,'DejaVu Sans Mono',consolas,'Courier New',monospace\"></pre>\n"
            ]
          },
          "metadata": {}
        },
        {
          "output_type": "display_data",
          "data": {
            "text/plain": [],
            "text/html": [
              "<pre style=\"white-space:pre;overflow-x:auto;line-height:normal;font-family:Menlo,'DejaVu Sans Mono',consolas,'Courier New',monospace\"></pre>\n"
            ]
          },
          "metadata": {}
        },
        {
          "output_type": "display_data",
          "data": {
            "text/plain": [],
            "text/html": [
              "<pre style=\"white-space:pre;overflow-x:auto;line-height:normal;font-family:Menlo,'DejaVu Sans Mono',consolas,'Courier New',monospace\"></pre>\n"
            ]
          },
          "metadata": {}
        },
        {
          "output_type": "display_data",
          "data": {
            "text/plain": [],
            "text/html": [
              "<pre style=\"white-space:pre;overflow-x:auto;line-height:normal;font-family:Menlo,'DejaVu Sans Mono',consolas,'Courier New',monospace\"></pre>\n"
            ]
          },
          "metadata": {}
        },
        {
          "output_type": "display_data",
          "data": {
            "text/plain": [],
            "text/html": [
              "<pre style=\"white-space:pre;overflow-x:auto;line-height:normal;font-family:Menlo,'DejaVu Sans Mono',consolas,'Courier New',monospace\"></pre>\n"
            ]
          },
          "metadata": {}
        },
        {
          "output_type": "display_data",
          "data": {
            "text/plain": [],
            "text/html": [
              "<pre style=\"white-space:pre;overflow-x:auto;line-height:normal;font-family:Menlo,'DejaVu Sans Mono',consolas,'Courier New',monospace\"></pre>\n"
            ]
          },
          "metadata": {}
        },
        {
          "output_type": "display_data",
          "data": {
            "text/plain": [],
            "text/html": [
              "<pre style=\"white-space:pre;overflow-x:auto;line-height:normal;font-family:Menlo,'DejaVu Sans Mono',consolas,'Courier New',monospace\"></pre>\n"
            ]
          },
          "metadata": {}
        },
        {
          "output_type": "display_data",
          "data": {
            "text/plain": [],
            "text/html": [
              "<pre style=\"white-space:pre;overflow-x:auto;line-height:normal;font-family:Menlo,'DejaVu Sans Mono',consolas,'Courier New',monospace\"></pre>\n"
            ]
          },
          "metadata": {}
        },
        {
          "output_type": "display_data",
          "data": {
            "text/plain": [],
            "text/html": [
              "<pre style=\"white-space:pre;overflow-x:auto;line-height:normal;font-family:Menlo,'DejaVu Sans Mono',consolas,'Courier New',monospace\"></pre>\n"
            ]
          },
          "metadata": {}
        },
        {
          "output_type": "display_data",
          "data": {
            "text/plain": [],
            "text/html": [
              "<pre style=\"white-space:pre;overflow-x:auto;line-height:normal;font-family:Menlo,'DejaVu Sans Mono',consolas,'Courier New',monospace\"></pre>\n"
            ]
          },
          "metadata": {}
        },
        {
          "output_type": "display_data",
          "data": {
            "text/plain": [],
            "text/html": [
              "<pre style=\"white-space:pre;overflow-x:auto;line-height:normal;font-family:Menlo,'DejaVu Sans Mono',consolas,'Courier New',monospace\"></pre>\n"
            ]
          },
          "metadata": {}
        }
      ]
    },
    {
      "cell_type": "code",
      "source": [
        "from sklearn.metrics import accuracy_score, classification_report\n",
        "import matplotlib.pyplot as plt\n",
        "print(f\"Account score for test :{accuracy_score(y_test,y_pred)}\")\n",
        "print(classification_report(y_test,y_pred))"
      ],
      "metadata": {
        "colab": {
          "base_uri": "https://localhost:8080/"
        },
        "id": "iRnvOiBSffpC",
        "outputId": "0a75566e-67ec-45e2-bafc-7571cd55415a"
      },
      "execution_count": null,
      "outputs": [
        {
          "output_type": "stream",
          "name": "stdout",
          "text": [
            "Account score for test :0.8198529411764706\n",
            "              precision    recall  f1-score   support\n",
            "\n",
            "           0       1.00      0.75      0.86        16\n",
            "           1       0.82      0.88      0.85        16\n",
            "           2       0.69      0.69      0.69        16\n",
            "           3       0.94      1.00      0.97        16\n",
            "           4       1.00      0.94      0.97        16\n",
            "           5       0.94      0.94      0.94        16\n",
            "           6       0.72      0.81      0.76        16\n",
            "           7       0.81      0.81      0.81        16\n",
            "           8       0.83      0.62      0.71        16\n",
            "           9       0.76      0.81      0.79        16\n",
            "          10       0.81      0.81      0.81        16\n",
            "          11       0.76      1.00      0.86        16\n",
            "          12       0.50      0.50      0.50        16\n",
            "          13       0.76      0.81      0.79        16\n",
            "          14       1.00      1.00      1.00        16\n",
            "          15       0.80      1.00      0.89        16\n",
            "          16       0.90      0.56      0.69        16\n",
            "\n",
            "    accuracy                           0.82       272\n",
            "   macro avg       0.83      0.82      0.82       272\n",
            "weighted avg       0.83      0.82      0.82       272\n",
            "\n"
          ]
        }
      ]
    },
    {
      "cell_type": "code",
      "source": [
        "!zip -r /content/Log_Mobile.zip /content/log/config1/20240217_200008"
      ],
      "metadata": {
        "id": "uihbEYF5g0lV",
        "colab": {
          "base_uri": "https://localhost:8080/"
        },
        "outputId": "342af030-af3f-4864-d999-3f734e19801e"
      },
      "execution_count": null,
      "outputs": [
        {
          "output_type": "stream",
          "name": "stdout",
          "text": [
            "  adding: content/log/config1/20240217_200008/ (stored 0%)\n",
            "  adding: content/log/config1/20240217_200008/vis_data/ (stored 0%)\n",
            "  adding: content/log/config1/20240217_200008/vis_data/20240217_200008.json (deflated 76%)\n",
            "  adding: content/log/config1/20240217_200008/vis_data/config.py (deflated 74%)\n",
            "  adding: content/log/config1/20240217_200008/vis_data/scalars.json (deflated 76%)\n",
            "  adding: content/log/config1/20240217_200008/20240217_200008.log (deflated 87%)\n"
          ]
        }
      ]
    },
    {
      "cell_type": "code",
      "source": [],
      "metadata": {
        "id": "k8QjRtxcm4K-"
      },
      "execution_count": null,
      "outputs": []
    }
  ],
  "metadata": {
    "accelerator": "GPU",
    "colab": {
      "provenance": [],
      "gpuType": "T4",
      "include_colab_link": true
    },
    "kernelspec": {
      "display_name": "Python 3",
      "name": "python3"
    },
    "language_info": {
      "name": "python"
    },
    "widgets": {
      "application/vnd.jupyter.widget-state+json": {
        "b6b66ffcc72445f9836deca1c3e67573": {
          "model_module": "@jupyter-widgets/output",
          "model_name": "OutputModel",
          "model_module_version": "1.0.0",
          "state": {
            "_dom_classes": [],
            "_model_module": "@jupyter-widgets/output",
            "_model_module_version": "1.0.0",
            "_model_name": "OutputModel",
            "_view_count": null,
            "_view_module": "@jupyter-widgets/output",
            "_view_module_version": "1.0.0",
            "_view_name": "OutputView",
            "layout": "IPY_MODEL_12c6fbb26930412d804f0de2912fdc98",
            "msg_id": "",
            "outputs": [
              {
                "output_type": "display_data",
                "data": {
                  "text/plain": "Inference \u001b[38;5;237m━━━━━━━━━━━━━━━━━━━━━━━━━━━━━━━━━━━━━━━━\u001b[0m \u001b[35m  0%\u001b[0m \u001b[36m-:--:--\u001b[0m\n",
                  "text/html": "<pre style=\"white-space:pre;overflow-x:auto;line-height:normal;font-family:Menlo,'DejaVu Sans Mono',consolas,'Courier New',monospace\">Inference <span style=\"color: #3a3a3a; text-decoration-color: #3a3a3a\">━━━━━━━━━━━━━━━━━━━━━━━━━━━━━━━━━━━━━━━━</span> <span style=\"color: #800080; text-decoration-color: #800080\">  0%</span> <span style=\"color: #008080; text-decoration-color: #008080\">-:--:--</span>\n</pre>\n"
                },
                "metadata": {}
              }
            ]
          }
        },
        "12c6fbb26930412d804f0de2912fdc98": {
          "model_module": "@jupyter-widgets/base",
          "model_name": "LayoutModel",
          "model_module_version": "1.2.0",
          "state": {
            "_model_module": "@jupyter-widgets/base",
            "_model_module_version": "1.2.0",
            "_model_name": "LayoutModel",
            "_view_count": null,
            "_view_module": "@jupyter-widgets/base",
            "_view_module_version": "1.2.0",
            "_view_name": "LayoutView",
            "align_content": null,
            "align_items": null,
            "align_self": null,
            "border": null,
            "bottom": null,
            "display": null,
            "flex": null,
            "flex_flow": null,
            "grid_area": null,
            "grid_auto_columns": null,
            "grid_auto_flow": null,
            "grid_auto_rows": null,
            "grid_column": null,
            "grid_gap": null,
            "grid_row": null,
            "grid_template_areas": null,
            "grid_template_columns": null,
            "grid_template_rows": null,
            "height": null,
            "justify_content": null,
            "justify_items": null,
            "left": null,
            "margin": null,
            "max_height": null,
            "max_width": null,
            "min_height": null,
            "min_width": null,
            "object_fit": null,
            "object_position": null,
            "order": null,
            "overflow": null,
            "overflow_x": null,
            "overflow_y": null,
            "padding": null,
            "right": null,
            "top": null,
            "visibility": null,
            "width": null
          }
        }
      }
    }
  },
  "nbformat": 4,
  "nbformat_minor": 0
}